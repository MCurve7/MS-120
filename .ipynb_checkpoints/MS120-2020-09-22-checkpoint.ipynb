{
 "cells": [
  {
   "cell_type": "markdown",
   "metadata": {},
   "source": [
    "# MS 120 Lecture 2020-09-17"
   ]
  },
  {
   "cell_type": "code",
   "execution_count": 1,
   "metadata": {},
   "outputs": [
    {
     "data": {
      "text/plain": [
       "graph_f_and_derivative"
      ]
     },
     "execution_count": 1,
     "metadata": {},
     "output_type": "execute_result"
    }
   ],
   "source": [
    "include(\"JSUMS120.jl\")"
   ]
  },
  {
   "cell_type": "code",
   "execution_count": 2,
   "metadata": {},
   "outputs": [
    {
     "data": {
      "text/html": [
       "y-intercept: 0<br><img src=\"./figs/scx^2(x - 2).png\" alt=\"drawing\" width=\"400\"/><br>\n",
       "<img src=\"./figs/scpx^2(x - 2).png\" alt=\"drawing\" width=\"400\"/><br>\n",
       "<img src=\"./figs/scppx^2(x - 2).png\" alt=\"drawing\" width=\"400\"/><br>\n",
       "<br>local minimum: (1.333, -1.185)<br>local maximum = (0.000, 0.000)<br>inflection point: (0.667, -0.593)<br>As x → -∞, f(x) → -∞<br>As x → ∞, f(x) → ∞"
      ]
     },
     "metadata": {},
     "output_type": "display_data"
    },
    {
     "data": {
      "text/html": [
       "<table>\n",
       "<caption style=\"text-align:center\">Limit table</caption>\n",
       "<tr>\n",
       "    <th style=\"text-align:center; background-color: lightblue; scope: colgroup\">Left</th>\n",
       "    <th style=\"text-align:center; background-color: lightcoral; scope: colgroup\">Right</th>\n",
       "</tr>\n",
       "<tr>\n",
       "    <td>\n",
       "        <table style=\"text-align:center; background-color: lightblue\">\n",
       "          <tr>\n",
       "            <th scope: col>x</th>\n",
       "            <th scope: col>y</th>\n",
       "          </tr>\n",
       "          <tr>\n",
       "              <td>1.00000000</td>\n",
       "              <td>1.00000000</td>\n",
       "            </tr><tr>\n",
       "              <td>1.50000000</td>\n",
       "              <td>2.25000000</td>\n",
       "            </tr><tr>\n",
       "              <td>1.90000000</td>\n",
       "              <td>3.61000000</td>\n",
       "            </tr>    </table>\n",
       "</td>\n",
       "<td>\n",
       "    <table style=\"text-align:center; background-color: lightcoral\">\n",
       "      <tr>\n",
       "        <th scope: col>x</th>\n",
       "        <th scope: col>y</th>\n",
       "      </tr>\n",
       "  <tr>\n",
       "              <td>3.00000000</td>\n",
       "              <td>9.00000000</td>\n",
       "            </tr><tr>\n",
       "              <td>2.50000000</td>\n",
       "              <td>6.25000000</td>\n",
       "            </tr><tr>\n",
       "              <td>2.10000000</td>\n",
       "              <td>4.41000000</td>\n",
       "            </tr>        </table>\n",
       "    </td>\n",
       "</tr>\n",
       "</table>\n"
      ]
     },
     "metadata": {},
     "output_type": "display_data"
    }
   ],
   "source": [
    "r(x) = (x+1)/(x-3)\n",
    "#r(x) = x^3\n",
    "lf = -3\n",
    "rt = 4\n",
    "s = signchart(r(x), [lf,rt], \"r\", tickfontsize=20);\n",
    "\n",
    "p = functionplot(lf:.1:rt, r(x), lf:rt, \"r(x)\")\n",
    "p;\n",
    "\n",
    "q(x) = (x - 1)*(x - 3)*(x - 5)*(x - 7)\n",
    "plot_function_sign_chart(q(x), (0,9), 0:9, labels = [\"q\", \"q′\", \"q′′\"]);\n",
    "\n",
    "f(x) = x^2*(x-2)\n",
    "summary(f(x), [-3,3], \"(-∞,∞)\", [\"f\", \"f′\", \"f′′\"], 400);\n",
    "\n",
    "f̅(x) = x^2; #f\\overbar + TAB\n",
    "limittable(f̅(x), 2, rows=3);"
   ]
  },
  {
   "cell_type": "markdown",
   "metadata": {},
   "source": [
    "# The above was run to complie the code before class began."
   ]
  },
  {
   "cell_type": "code",
   "execution_count": 4,
   "metadata": {},
   "outputs": [
    {
     "data": {
      "text/latex": [
       "\\begin{equation*}5 x^{4} - 3 x^{2} - 12\\end{equation*}"
      ],
      "text/plain": [
       "   4      2     \n",
       "5*x  - 3*x  - 12"
      ]
     },
     "execution_count": 4,
     "metadata": {},
     "output_type": "execute_result"
    }
   ],
   "source": [
    "simplify(2x*(x^3-4x)+(x^2+3)*(3x^2-4))"
   ]
  },
  {
   "cell_type": "code",
   "execution_count": 6,
   "metadata": {},
   "outputs": [
    {
     "data": {
      "text/latex": [
       "\\begin{equation*}x^{20} + 40 x^{19} + 760 x^{18} + 9120 x^{17} + 77520 x^{16} + 496128 x^{15} + 2480640 x^{14} + 9922560 x^{13} + 32248320 x^{12} + 85995520 x^{11} + 189190144 x^{10} + 343982080 x^{9} + 515973120 x^{8} + 635043840 x^{7} + 635043840 x^{6} + 508035072 x^{5} + 317521920 x^{4} + 149422080 x^{3} + 49807360 x^{2} + 10485760 x + 1048576\\end{equation*}"
      ],
      "text/plain": [
       " 20       19        18         17          16           15            14      \n",
       "x   + 40*x   + 760*x   + 9120*x   + 77520*x   + 496128*x   + 2480640*x   + 992\n",
       "\n",
       "      13             12             11              10              9         \n",
       "2560*x   + 32248320*x   + 85995520*x   + 189190144*x   + 343982080*x  + 515973\n",
       "\n",
       "     8              7              6              5              4            \n",
       "120*x  + 635043840*x  + 635043840*x  + 508035072*x  + 317521920*x  + 149422080\n",
       "\n",
       "  3             2                       \n",
       "*x  + 49807360*x  + 10485760*x + 1048576"
      ]
     },
     "execution_count": 6,
     "metadata": {},
     "output_type": "execute_result"
    }
   ],
   "source": [
    "expand((x+2)^20)"
   ]
  },
  {
   "cell_type": "code",
   "execution_count": null,
   "metadata": {},
   "outputs": [],
   "source": []
  }
 ],
 "metadata": {
  "@webio": {
   "lastCommId": null,
   "lastKernelId": null
  },
  "kernelspec": {
   "display_name": "Julia 1.5.0",
   "language": "julia",
   "name": "julia-1.5"
  },
  "language_info": {
   "file_extension": ".jl",
   "mimetype": "application/julia",
   "name": "julia",
   "version": "1.5.0"
  }
 },
 "nbformat": 4,
 "nbformat_minor": 4
}
