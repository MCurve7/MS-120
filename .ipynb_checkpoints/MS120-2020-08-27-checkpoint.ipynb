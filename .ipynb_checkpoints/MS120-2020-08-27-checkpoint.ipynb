{
 "cells": [
  {
   "cell_type": "markdown",
   "metadata": {},
   "source": [
    "# MS 120 Lecture 2020-08-20"
   ]
  },
  {
   "cell_type": "code",
   "execution_count": 1,
   "metadata": {},
   "outputs": [
    {
     "data": {
      "text/plain": [
       "clean_figs_folder (generic function with 2 methods)"
      ]
     },
     "execution_count": 1,
     "metadata": {},
     "output_type": "execute_result"
    }
   ],
   "source": [
    "include(\"JSUMS120.jl\")"
   ]
  },
  {
   "cell_type": "code",
   "execution_count": 2,
   "metadata": {},
   "outputs": [
    {
     "data": {
      "text/plain": [
       "f̅ (generic function with 1 method)"
      ]
     },
     "execution_count": 2,
     "metadata": {},
     "output_type": "execute_result"
    }
   ],
   "source": [
    "f̅(x) = x^2 #f\\overbar + TAB"
   ]
  },
  {
   "cell_type": "code",
   "execution_count": 3,
   "metadata": {
    "scrolled": false
   },
   "outputs": [
    {
     "data": {
      "text/html": [
       "<table>\n",
       "<caption style=\"text-align:center\">Limit table</caption>\n",
       "<tr>\n",
       "    <th style=\"text-align:center; background-color: lightblue; scope: colgroup\">Left</th>\n",
       "    <th style=\"text-align:center; background-color: lightcoral; scope: colgroup\">Right</th>\n",
       "</tr>\n",
       "<tr>\n",
       "    <td>\n",
       "        <table style=\"text-align:center; background-color: lightblue\">\n",
       "          <tr>\n",
       "            <th scope: col>x</th>\n",
       "            <th scope: col>y</th>\n",
       "          </tr>\n",
       "          <tr>\n",
       "              <td>1.00000000</td>\n",
       "              <td>1.00000000</td>\n",
       "            </tr><tr>\n",
       "              <td>1.50000000</td>\n",
       "              <td>2.25000000</td>\n",
       "            </tr><tr>\n",
       "              <td>1.90000000</td>\n",
       "              <td>3.61000000</td>\n",
       "            </tr><tr>\n",
       "              <td>1.99000000</td>\n",
       "              <td>3.96010000</td>\n",
       "            </tr><tr>\n",
       "              <td>1.99900000</td>\n",
       "              <td>3.99600100</td>\n",
       "            </tr><tr>\n",
       "              <td>1.99990000</td>\n",
       "              <td>3.99960001</td>\n",
       "            </tr><tr>\n",
       "              <td>1.99999000</td>\n",
       "              <td>3.99996000</td>\n",
       "            </tr><tr>\n",
       "              <td>1.99999900</td>\n",
       "              <td>3.99999600</td>\n",
       "            </tr><tr>\n",
       "              <td>1.99999990</td>\n",
       "              <td>3.99999960</td>\n",
       "            </tr><tr>\n",
       "              <td>1.99999999</td>\n",
       "              <td>3.99999996</td>\n",
       "            </tr>    </table>\n",
       "</td>\n",
       "<td>\n",
       "    <table style=\"text-align:center; background-color: lightcoral\">\n",
       "      <tr>\n",
       "        <th scope: col>x</th>\n",
       "        <th scope: col>y</th>\n",
       "      </tr>\n",
       "  <tr>\n",
       "              <td>3.00000000</td>\n",
       "              <td>9.00000000</td>\n",
       "            </tr><tr>\n",
       "              <td>2.50000000</td>\n",
       "              <td>6.25000000</td>\n",
       "            </tr><tr>\n",
       "              <td>2.10000000</td>\n",
       "              <td>4.41000000</td>\n",
       "            </tr><tr>\n",
       "              <td>2.01000000</td>\n",
       "              <td>4.04010000</td>\n",
       "            </tr><tr>\n",
       "              <td>2.00100000</td>\n",
       "              <td>4.00400100</td>\n",
       "            </tr><tr>\n",
       "              <td>2.00010000</td>\n",
       "              <td>4.00040001</td>\n",
       "            </tr><tr>\n",
       "              <td>2.00001000</td>\n",
       "              <td>4.00004000</td>\n",
       "            </tr><tr>\n",
       "              <td>2.00000100</td>\n",
       "              <td>4.00000400</td>\n",
       "            </tr><tr>\n",
       "              <td>2.00000010</td>\n",
       "              <td>4.00000040</td>\n",
       "            </tr><tr>\n",
       "              <td>2.00000001</td>\n",
       "              <td>4.00000004</td>\n",
       "            </tr>        </table>\n",
       "    </td>\n",
       "</tr>\n",
       "</table>\n"
      ]
     },
     "metadata": {},
     "output_type": "display_data"
    }
   ],
   "source": [
    "limittable(f̅(x), 2, rows=10)"
   ]
  },
  {
   "cell_type": "code",
   "execution_count": 4,
   "metadata": {},
   "outputs": [
    {
     "data": {
      "image/svg+xml": [
       "<?xml version=\"1.0\" encoding=\"utf-8\"?>\n",
       "<svg xmlns=\"http://www.w3.org/2000/svg\" xmlns:xlink=\"http://www.w3.org/1999/xlink\" width=\"600\" height=\"200\" viewBox=\"0 0 2400 800\">\n",
       "<defs>\n",
       "  <clipPath id=\"clip710\">\n",
       "    <rect x=\"0\" y=\"0\" width=\"2400\" height=\"800\"/>\n",
       "  </clipPath>\n",
       "</defs>\n",
       "<path clip-path=\"url(#clip710)\" d=\"\n",
       "M0 800 L2400 800 L2400 0 L0 0  Z\n",
       "  \" fill=\"#ffffff\" fill-rule=\"evenodd\" fill-opacity=\"1\"/>\n",
       "<defs>\n",
       "  <clipPath id=\"clip711\">\n",
       "    <rect x=\"480\" y=\"0\" width=\"1681\" height=\"800\"/>\n",
       "  </clipPath>\n",
       "</defs>\n",
       "<path clip-path=\"url(#clip710)\" d=\"\n",
       "M279.856 685.808 L2352.76 685.808 L2352.76 47.2441 L279.856 47.2441  Z\n",
       "  \" fill=\"#ffffff\" fill-rule=\"evenodd\" fill-opacity=\"1\"/>\n",
       "<defs>\n",
       "  <clipPath id=\"clip712\">\n",
       "    <rect x=\"279\" y=\"47\" width=\"2074\" height=\"640\"/>\n",
       "  </clipPath>\n",
       "</defs>\n",
       "<polyline clip-path=\"url(#clip712)\" style=\"stroke:#000000; stroke-width:2; stroke-opacity:0.1; fill:none\" points=\"\n",
       "  913.242,685.808 913.242,47.2441 \n",
       "  \"/>\n",
       "<polyline clip-path=\"url(#clip712)\" style=\"stroke:#000000; stroke-width:2; stroke-opacity:0.1; fill:none\" points=\"\n",
       "  2064.85,685.808 2064.85,47.2441 \n",
       "  \"/>\n",
       "<polyline clip-path=\"url(#clip712)\" style=\"stroke:#000000; stroke-width:2; stroke-opacity:0.1; fill:none\" points=\"\n",
       "  279.856,636.688 2352.76,636.688 \n",
       "  \"/>\n",
       "<polyline clip-path=\"url(#clip712)\" style=\"stroke:#000000; stroke-width:2; stroke-opacity:0.1; fill:none\" points=\"\n",
       "  279.856,538.447 2352.76,538.447 \n",
       "  \"/>\n",
       "<polyline clip-path=\"url(#clip712)\" style=\"stroke:#000000; stroke-width:2; stroke-opacity:0.1; fill:none\" points=\"\n",
       "  279.856,440.206 2352.76,440.206 \n",
       "  \"/>\n",
       "<polyline clip-path=\"url(#clip712)\" style=\"stroke:#000000; stroke-width:2; stroke-opacity:0.1; fill:none\" points=\"\n",
       "  279.856,341.966 2352.76,341.966 \n",
       "  \"/>\n",
       "<polyline clip-path=\"url(#clip712)\" style=\"stroke:#000000; stroke-width:2; stroke-opacity:0.1; fill:none\" points=\"\n",
       "  279.856,243.725 2352.76,243.725 \n",
       "  \"/>\n",
       "<polyline clip-path=\"url(#clip712)\" style=\"stroke:#000000; stroke-width:2; stroke-opacity:0.1; fill:none\" points=\"\n",
       "  279.856,145.485 2352.76,145.485 \n",
       "  \"/>\n",
       "<polyline clip-path=\"url(#clip710)\" style=\"stroke:#000000; stroke-width:4; stroke-opacity:1; fill:none\" points=\"\n",
       "  279.856,636.688 2352.76,636.688 \n",
       "  \"/>\n",
       "<polyline clip-path=\"url(#clip710)\" style=\"stroke:#000000; stroke-width:4; stroke-opacity:1; fill:none\" points=\"\n",
       "  913.242,644.35 913.242,629.025 \n",
       "  \"/>\n",
       "<polyline clip-path=\"url(#clip710)\" style=\"stroke:#000000; stroke-width:4; stroke-opacity:1; fill:none\" points=\"\n",
       "  2064.85,644.35 2064.85,629.025 \n",
       "  \"/>\n",
       "<path clip-path=\"url(#clip710)\" d=\"M 0 0 M865.412 715.157 L896.604 715.157 L896.604 724.648 L865.412 724.648 L865.412 715.157 Z\" fill=\"#000000\" fill-rule=\"evenodd\" fill-opacity=\"1\" /><path clip-path=\"url(#clip710)\" d=\"M 0 0 M911.303 742.53 L930.4 742.53 L930.4 676.616 L909.625 680.782 L909.625 670.134 L930.285 665.968 L941.974 665.968 L941.974 742.53 L961.072 742.53 L961.072 752.368 L911.303 752.368 L911.303 742.53 Z\" fill=\"#000000\" fill-rule=\"evenodd\" fill-opacity=\"1\" /><path clip-path=\"url(#clip710)\" d=\"M 0 0 M2075.47 705.782 Q2083.86 707.576 2088.55 713.247 Q2093.3 718.919 2093.3 727.252 Q2093.3 740.041 2084.5 747.044 Q2075.7 754.046 2059.5 754.046 Q2054.06 754.046 2048.27 752.946 Q2042.54 751.905 2036.41 749.763 L2036.41 738.479 Q2041.27 741.314 2047.06 742.761 Q2052.85 744.208 2059.15 744.208 Q2070.15 744.208 2075.88 739.868 Q2081.66 735.527 2081.66 727.252 Q2081.66 719.613 2076.28 715.331 Q2070.96 710.99 2061.41 710.99 L2051.34 710.99 L2051.34 701.384 L2061.87 701.384 Q2070.5 701.384 2075.07 697.97 Q2079.64 694.498 2079.64 688.016 Q2079.64 681.361 2074.89 677.831 Q2070.21 674.243 2061.41 674.243 Q2056.61 674.243 2051.11 675.285 Q2045.61 676.326 2039.01 678.525 L2039.01 668.109 Q2045.67 666.257 2051.46 665.331 Q2057.3 664.405 2062.45 664.405 Q2075.76 664.405 2083.52 670.481 Q2091.27 676.5 2091.27 686.801 Q2091.27 693.977 2087.16 698.954 Q2083.05 703.872 2075.47 705.782 Z\" fill=\"#000000\" fill-rule=\"evenodd\" fill-opacity=\"1\" /><path clip-path=\"url(#clip710)\" d=\"M 0 0 M34.0707 356.086 Q33.4978 357.073 33.2432 358.251 Q32.9567 359.396 32.9567 360.797 Q32.9567 365.762 36.2032 368.436 Q39.4179 371.077 45.4653 371.077 L64.2442 371.077 L64.2442 376.966 L28.5962 376.966 L28.5962 371.077 L34.1344 371.077 Q30.8879 369.231 29.3283 366.271 Q27.7368 363.311 27.7368 359.078 Q27.7368 358.473 27.8323 357.741 Q27.896 357.009 28.0551 356.118 L34.0707 356.086 Z\" fill=\"#000000\" fill-rule=\"evenodd\" fill-opacity=\"1\" /><polyline clip-path=\"url(#clip712)\" style=\"stroke:#009af9; stroke-width:4; stroke-opacity:1; fill:none\" points=\"\n",
       "  625.339,636.688 1489.05,636.688 2208.8,636.688 \n",
       "  \"/>\n",
       "<polyline clip-path=\"url(#clip712)\" style=\"stroke:#e26f46; stroke-width:4; stroke-opacity:1; fill:none\" stroke-dasharray=\"16, 10\" points=\"\n",
       "  913.242,1324.37 913.242,-591.32 \n",
       "  \"/>\n",
       "<polyline clip-path=\"url(#clip712)\" style=\"stroke:#e26f46; stroke-width:4; stroke-opacity:1; fill:none\" stroke-dasharray=\"16, 10\" points=\"\n",
       "  2064.85,1324.37 2064.85,-591.32 \n",
       "  \"/>\n",
       "<circle clip-path=\"url(#clip712)\" cx=\"913.242\" cy=\"636.688\" r=\"28\" fill=\"#000000\" fill-rule=\"evenodd\" fill-opacity=\"1\" stroke=\"none\"/>\n",
       "<circle clip-path=\"url(#clip712)\" cx=\"2064.85\" cy=\"636.688\" r=\"28\" fill=\"#ffffff\" fill-rule=\"evenodd\" fill-opacity=\"1\" stroke=\"#000000\" stroke-opacity=\"1\" stroke-width=\"1.6\"/>\n",
       "<path clip-path=\"url(#clip710)\" d=\"M 0 0 M632.631 98.8269 L632.631 147.177 L680.981 147.177 L680.981 161.934 L632.631 161.934 L632.631 210.285 L618.048 210.285 L618.048 161.934 L569.697 161.934 L569.697 147.177 L618.048 147.177 L618.048 98.8269 L632.631 98.8269 Z\" fill=\"#000000\" fill-rule=\"evenodd\" fill-opacity=\"1\" /><path clip-path=\"url(#clip710)\" d=\"M 0 0 M1465.65 154.469 L1512.44 154.469 L1512.44 168.705 L1465.65 168.705 L1465.65 154.469 Z\" fill=\"#000000\" fill-rule=\"evenodd\" fill-opacity=\"1\" /><path clip-path=\"url(#clip710)\" d=\"M 0 0 M2216.1 98.8269 L2216.1 147.177 L2264.45 147.177 L2264.45 161.934 L2216.1 161.934 L2216.1 210.285 L2201.51 210.285 L2201.51 161.934 L2153.16 161.934 L2153.16 147.177 L2201.51 147.177 L2201.51 98.8269 L2216.1 98.8269 Z\" fill=\"#000000\" fill-rule=\"evenodd\" fill-opacity=\"1\" /></svg>\n"
      ]
     },
     "execution_count": 4,
     "metadata": {},
     "output_type": "execute_result"
    }
   ],
   "source": [
    "r(x) = (x+1)/(x-3)\n",
    "#r(x) = x^3\n",
    "\n",
    "lf = -3\n",
    "rt = 4\n",
    "s = signchart(r(x), [lf,rt], \"r\", tickfontsize=20)"
   ]
  },
  {
   "cell_type": "code",
   "execution_count": 5,
   "metadata": {},
   "outputs": [
    {
     "data": {
      "image/svg+xml": [
       "<?xml version=\"1.0\" encoding=\"utf-8\"?>\n",
       "<svg xmlns=\"http://www.w3.org/2000/svg\" xmlns:xlink=\"http://www.w3.org/1999/xlink\" width=\"600\" height=\"400\" viewBox=\"0 0 2400 1600\">\n",
       "<defs>\n",
       "  <clipPath id=\"clip750\">\n",
       "    <rect x=\"0\" y=\"0\" width=\"2400\" height=\"1600\"/>\n",
       "  </clipPath>\n",
       "</defs>\n",
       "<path clip-path=\"url(#clip750)\" d=\"\n",
       "M0 1600 L2400 1600 L2400 0 L0 0  Z\n",
       "  \" fill=\"#ffffff\" fill-rule=\"evenodd\" fill-opacity=\"1\"/>\n",
       "<defs>\n",
       "  <clipPath id=\"clip751\">\n",
       "    <rect x=\"480\" y=\"0\" width=\"1681\" height=\"1600\"/>\n",
       "  </clipPath>\n",
       "</defs>\n",
       "<path clip-path=\"url(#clip750)\" d=\"\n",
       "M217.251 1486.45 L2352.76 1486.45 L2352.76 47.2441 L217.251 47.2441  Z\n",
       "  \" fill=\"#ffffff\" fill-rule=\"evenodd\" fill-opacity=\"1\"/>\n",
       "<defs>\n",
       "  <clipPath id=\"clip752\">\n",
       "    <rect x=\"217\" y=\"47\" width=\"2137\" height=\"1440\"/>\n",
       "  </clipPath>\n",
       "</defs>\n",
       "<polyline clip-path=\"url(#clip752)\" style=\"stroke:#000000; stroke-width:2; stroke-opacity:0.1; fill:none\" points=\"\n",
       "  277.689,1486.45 277.689,47.2441 \n",
       "  \"/>\n",
       "<polyline clip-path=\"url(#clip752)\" style=\"stroke:#000000; stroke-width:2; stroke-opacity:0.1; fill:none\" points=\"\n",
       "  565.493,1486.45 565.493,47.2441 \n",
       "  \"/>\n",
       "<polyline clip-path=\"url(#clip752)\" style=\"stroke:#000000; stroke-width:2; stroke-opacity:0.1; fill:none\" points=\"\n",
       "  853.297,1486.45 853.297,47.2441 \n",
       "  \"/>\n",
       "<polyline clip-path=\"url(#clip752)\" style=\"stroke:#000000; stroke-width:2; stroke-opacity:0.1; fill:none\" points=\"\n",
       "  1428.91,1486.45 1428.91,47.2441 \n",
       "  \"/>\n",
       "<polyline clip-path=\"url(#clip752)\" style=\"stroke:#000000; stroke-width:2; stroke-opacity:0.1; fill:none\" points=\"\n",
       "  1716.71,1486.45 1716.71,47.2441 \n",
       "  \"/>\n",
       "<polyline clip-path=\"url(#clip752)\" style=\"stroke:#000000; stroke-width:2; stroke-opacity:0.1; fill:none\" points=\"\n",
       "  2004.51,1486.45 2004.51,47.2441 \n",
       "  \"/>\n",
       "<polyline clip-path=\"url(#clip752)\" style=\"stroke:#000000; stroke-width:2; stroke-opacity:0.1; fill:none\" points=\"\n",
       "  2292.32,1486.45 2292.32,47.2441 \n",
       "  \"/>\n",
       "<polyline clip-path=\"url(#clip752)\" style=\"stroke:#000000; stroke-width:2; stroke-opacity:0.1; fill:none\" points=\"\n",
       "  217.251,1462.69 2352.76,1462.69 \n",
       "  \"/>\n",
       "<polyline clip-path=\"url(#clip752)\" style=\"stroke:#000000; stroke-width:2; stroke-opacity:0.1; fill:none\" points=\"\n",
       "  217.251,1123.25 2352.76,1123.25 \n",
       "  \"/>\n",
       "<polyline clip-path=\"url(#clip752)\" style=\"stroke:#000000; stroke-width:2; stroke-opacity:0.1; fill:none\" points=\"\n",
       "  217.251,444.383 2352.76,444.383 \n",
       "  \"/>\n",
       "<polyline clip-path=\"url(#clip752)\" style=\"stroke:#000000; stroke-width:2; stroke-opacity:0.1; fill:none\" points=\"\n",
       "  217.251,104.948 2352.76,104.948 \n",
       "  \"/>\n",
       "<polyline clip-path=\"url(#clip750)\" style=\"stroke:#000000; stroke-width:4; stroke-opacity:1; fill:none\" points=\"\n",
       "  217.251,783.818 2352.76,783.818 \n",
       "  \"/>\n",
       "<polyline clip-path=\"url(#clip750)\" style=\"stroke:#000000; stroke-width:4; stroke-opacity:1; fill:none\" points=\"\n",
       "  1141.1,1486.45 1141.1,47.2441 \n",
       "  \"/>\n",
       "<polyline clip-path=\"url(#clip750)\" style=\"stroke:#000000; stroke-width:4; stroke-opacity:1; fill:none\" points=\"\n",
       "  277.689,801.088 277.689,766.547 \n",
       "  \"/>\n",
       "<polyline clip-path=\"url(#clip750)\" style=\"stroke:#000000; stroke-width:4; stroke-opacity:1; fill:none\" points=\"\n",
       "  565.493,801.088 565.493,766.547 \n",
       "  \"/>\n",
       "<polyline clip-path=\"url(#clip750)\" style=\"stroke:#000000; stroke-width:4; stroke-opacity:1; fill:none\" points=\"\n",
       "  853.297,801.088 853.297,766.547 \n",
       "  \"/>\n",
       "<polyline clip-path=\"url(#clip750)\" style=\"stroke:#000000; stroke-width:4; stroke-opacity:1; fill:none\" points=\"\n",
       "  1428.91,801.088 1428.91,766.547 \n",
       "  \"/>\n",
       "<polyline clip-path=\"url(#clip750)\" style=\"stroke:#000000; stroke-width:4; stroke-opacity:1; fill:none\" points=\"\n",
       "  1716.71,801.088 1716.71,766.547 \n",
       "  \"/>\n",
       "<polyline clip-path=\"url(#clip750)\" style=\"stroke:#000000; stroke-width:4; stroke-opacity:1; fill:none\" points=\"\n",
       "  2004.51,801.088 2004.51,766.547 \n",
       "  \"/>\n",
       "<polyline clip-path=\"url(#clip750)\" style=\"stroke:#000000; stroke-width:4; stroke-opacity:1; fill:none\" points=\"\n",
       "  2292.32,801.088 2292.32,766.547 \n",
       "  \"/>\n",
       "<polyline clip-path=\"url(#clip750)\" style=\"stroke:#000000; stroke-width:4; stroke-opacity:1; fill:none\" points=\"\n",
       "  1115.48,1462.69 1166.73,1462.69 \n",
       "  \"/>\n",
       "<polyline clip-path=\"url(#clip750)\" style=\"stroke:#000000; stroke-width:4; stroke-opacity:1; fill:none\" points=\"\n",
       "  1115.48,1123.25 1166.73,1123.25 \n",
       "  \"/>\n",
       "<polyline clip-path=\"url(#clip750)\" style=\"stroke:#000000; stroke-width:4; stroke-opacity:1; fill:none\" points=\"\n",
       "  1115.48,444.383 1166.73,444.383 \n",
       "  \"/>\n",
       "<polyline clip-path=\"url(#clip750)\" style=\"stroke:#000000; stroke-width:4; stroke-opacity:1; fill:none\" points=\"\n",
       "  1115.48,104.948 1166.73,104.948 \n",
       "  \"/>\n",
       "<path clip-path=\"url(#clip750)\" d=\"M 0 0 M258.268 822.406 L270.745 822.406 L270.745 826.202 L258.268 826.202 L258.268 822.406 Z\" fill=\"#000000\" fill-rule=\"evenodd\" fill-opacity=\"1\" /><path clip-path=\"url(#clip750)\" d=\"M 0 0 M289.981 818.656 Q293.337 819.373 295.212 821.642 Q297.111 823.91 297.111 827.243 Q297.111 832.359 293.592 835.16 Q290.074 837.961 283.592 837.961 Q281.416 837.961 279.101 837.521 Q276.81 837.105 274.356 836.248 L274.356 831.734 Q276.3 832.868 278.615 833.447 Q280.93 834.026 283.453 834.026 Q287.851 834.026 290.143 832.29 Q292.458 830.554 292.458 827.243 Q292.458 824.188 290.305 822.475 Q288.175 820.739 284.356 820.739 L280.328 820.739 L280.328 816.896 L284.541 816.896 Q287.99 816.896 289.819 815.531 Q291.648 814.142 291.648 811.549 Q291.648 808.887 289.749 807.475 Q287.875 806.04 284.356 806.04 Q282.435 806.04 280.236 806.457 Q278.037 806.873 275.398 807.753 L275.398 803.586 Q278.06 802.845 280.375 802.475 Q282.712 802.105 284.773 802.105 Q290.097 802.105 293.199 804.535 Q296.3 806.943 296.3 811.063 Q296.3 813.933 294.657 815.924 Q293.013 817.892 289.981 818.656 Z\" fill=\"#000000\" fill-rule=\"evenodd\" fill-opacity=\"1\" /><path clip-path=\"url(#clip750)\" d=\"M 0 0 M546.547 822.406 L559.023 822.406 L559.023 826.202 L546.547 826.202 L546.547 822.406 Z\" fill=\"#000000\" fill-rule=\"evenodd\" fill-opacity=\"1\" /><path clip-path=\"url(#clip750)\" d=\"M 0 0 M568.121 833.355 L584.44 833.355 L584.44 837.29 L562.496 837.29 L562.496 833.355 Q565.158 830.6 569.741 825.97 Q574.347 821.318 575.528 819.975 Q577.773 817.452 578.653 815.716 Q579.556 813.957 579.556 812.267 Q579.556 809.512 577.611 807.776 Q575.69 806.04 572.588 806.04 Q570.389 806.04 567.935 806.804 Q565.505 807.568 562.727 809.119 L562.727 804.396 Q565.551 803.262 568.005 802.683 Q570.459 802.105 572.496 802.105 Q577.866 802.105 581.06 804.79 Q584.255 807.475 584.255 811.966 Q584.255 814.095 583.445 816.017 Q582.658 817.915 580.551 820.507 Q579.972 821.179 576.871 824.396 Q573.769 827.591 568.121 833.355 Z\" fill=\"#000000\" fill-rule=\"evenodd\" fill-opacity=\"1\" /><path clip-path=\"url(#clip750)\" d=\"M 0 0 M834.165 822.406 L846.642 822.406 L846.642 826.202 L834.165 826.202 L834.165 822.406 Z\" fill=\"#000000\" fill-rule=\"evenodd\" fill-opacity=\"1\" /><path clip-path=\"url(#clip750)\" d=\"M 0 0 M852.522 833.355 L860.161 833.355 L860.161 806.989 L851.851 808.656 L851.851 804.396 L860.114 802.73 L864.79 802.73 L864.79 833.355 L872.429 833.355 L872.429 837.29 L852.522 837.29 L852.522 833.355 Z\" fill=\"#000000\" fill-rule=\"evenodd\" fill-opacity=\"1\" /><path clip-path=\"url(#clip750)\" d=\"M 0 0 M1419.29 833.355 L1426.93 833.355 L1426.93 806.989 L1418.62 808.656 L1418.62 804.396 L1426.88 802.73 L1431.56 802.73 L1431.56 833.355 L1439.19 833.355 L1439.19 837.29 L1419.29 837.29 L1419.29 833.355 Z\" fill=\"#000000\" fill-rule=\"evenodd\" fill-opacity=\"1\" /><path clip-path=\"url(#clip750)\" d=\"M 0 0 M1711.36 833.355 L1727.68 833.355 L1727.68 837.29 L1705.74 837.29 L1705.74 833.355 Q1708.4 830.6 1712.98 825.97 Q1717.59 821.318 1718.77 819.975 Q1721.01 817.452 1721.89 815.716 Q1722.8 813.957 1722.8 812.267 Q1722.8 809.512 1720.85 807.776 Q1718.93 806.04 1715.83 806.04 Q1713.63 806.04 1711.18 806.804 Q1708.75 807.568 1705.97 809.119 L1705.97 804.396 Q1708.79 803.262 1711.25 802.683 Q1713.7 802.105 1715.74 802.105 Q1721.11 802.105 1724.3 804.79 Q1727.5 807.475 1727.5 811.966 Q1727.5 814.095 1726.69 816.017 Q1725.9 817.915 1723.79 820.507 Q1723.21 821.179 1720.11 824.396 Q1717.01 827.591 1711.36 833.355 Z\" fill=\"#000000\" fill-rule=\"evenodd\" fill-opacity=\"1\" /><path clip-path=\"url(#clip750)\" d=\"M 0 0 M2008.76 818.656 Q2012.12 819.373 2013.99 821.642 Q2015.89 823.91 2015.89 827.243 Q2015.89 832.359 2012.37 835.16 Q2008.85 837.961 2002.37 837.961 Q2000.2 837.961 1997.88 837.521 Q1995.59 837.105 1993.14 836.248 L1993.14 831.734 Q1995.08 832.868 1997.4 833.447 Q1999.71 834.026 2002.23 834.026 Q2006.63 834.026 2008.92 832.29 Q2011.24 830.554 2011.24 827.243 Q2011.24 824.188 2009.08 822.475 Q2006.96 820.739 2003.14 820.739 L1999.11 820.739 L1999.11 816.896 L2003.32 816.896 Q2006.77 816.896 2008.6 815.531 Q2010.43 814.142 2010.43 811.549 Q2010.43 808.887 2008.53 807.475 Q2006.65 806.04 2003.14 806.04 Q2001.21 806.04 1999.02 806.457 Q1996.82 806.873 1994.18 807.753 L1994.18 803.586 Q1996.84 802.845 1999.15 802.475 Q2001.49 802.105 2003.55 802.105 Q2008.88 802.105 2011.98 804.535 Q2015.08 806.943 2015.08 811.063 Q2015.08 813.933 2013.44 815.924 Q2011.79 817.892 2008.76 818.656 Z\" fill=\"#000000\" fill-rule=\"evenodd\" fill-opacity=\"1\" /><path clip-path=\"url(#clip750)\" d=\"M 0 0 M2295.33 806.804 L2283.52 825.253 L2295.33 825.253 L2295.33 806.804 M2294.1 802.73 L2299.98 802.73 L2299.98 825.253 L2304.91 825.253 L2304.91 829.142 L2299.98 829.142 L2299.98 837.29 L2295.33 837.29 L2295.33 829.142 L2279.72 829.142 L2279.72 824.628 L2294.1 802.73 Z\" fill=\"#000000\" fill-rule=\"evenodd\" fill-opacity=\"1\" /><path clip-path=\"url(#clip750)\" d=\"M 0 0 M1050.11 1465.08 L1062.59 1465.08 L1062.59 1468.88 L1050.11 1468.88 L1050.11 1465.08 Z\" fill=\"#000000\" fill-rule=\"evenodd\" fill-opacity=\"1\" /><path clip-path=\"url(#clip750)\" d=\"M 0 0 M1080.5 1449.48 L1068.7 1467.93 L1080.5 1467.93 L1080.5 1449.48 M1079.28 1445.41 L1085.16 1445.41 L1085.16 1467.93 L1090.09 1467.93 L1090.09 1471.82 L1085.16 1471.82 L1085.16 1479.97 L1080.5 1479.97 L1080.5 1471.82 L1064.9 1471.82 L1064.9 1467.31 L1079.28 1445.41 Z\" fill=\"#000000\" fill-rule=\"evenodd\" fill-opacity=\"1\" /><path clip-path=\"url(#clip750)\" d=\"M 0 0 M1105.16 1448.49 Q1101.55 1448.49 1099.72 1452.05 Q1097.91 1455.59 1097.91 1462.72 Q1097.91 1469.83 1099.72 1473.39 Q1101.55 1476.94 1105.16 1476.94 Q1108.79 1476.94 1110.6 1473.39 Q1112.43 1469.83 1112.43 1462.72 Q1112.43 1455.59 1110.6 1452.05 Q1108.79 1448.49 1105.16 1448.49 M1105.16 1444.78 Q1110.97 1444.78 1114.02 1449.39 Q1117.1 1453.97 1117.1 1462.72 Q1117.1 1471.45 1114.02 1476.06 Q1110.97 1480.64 1105.16 1480.64 Q1099.35 1480.64 1096.27 1476.06 Q1093.21 1471.45 1093.21 1462.72 Q1093.21 1453.97 1096.27 1449.39 Q1099.35 1444.78 1105.16 1444.78 Z\" fill=\"#000000\" fill-rule=\"evenodd\" fill-opacity=\"1\" /><path clip-path=\"url(#clip750)\" d=\"M 0 0 M1052.19 1125.65 L1064.67 1125.65 L1064.67 1129.44 L1052.19 1129.44 L1052.19 1125.65 Z\" fill=\"#000000\" fill-rule=\"evenodd\" fill-opacity=\"1\" /><path clip-path=\"url(#clip750)\" d=\"M 0 0 M1073.77 1136.6 L1090.09 1136.6 L1090.09 1140.53 L1068.14 1140.53 L1068.14 1136.6 Q1070.81 1133.84 1075.39 1129.21 Q1079.99 1124.56 1081.18 1123.22 Q1083.42 1120.69 1084.3 1118.96 Q1085.2 1117.2 1085.2 1115.51 Q1085.2 1112.75 1083.26 1111.02 Q1081.34 1109.28 1078.24 1109.28 Q1076.04 1109.28 1073.58 1110.05 Q1071.15 1110.81 1068.37 1112.36 L1068.37 1107.64 Q1071.2 1106.5 1073.65 1105.93 Q1076.11 1105.35 1078.14 1105.35 Q1083.51 1105.35 1086.71 1108.03 Q1089.9 1110.72 1089.9 1115.21 Q1089.9 1117.34 1089.09 1119.26 Q1088.31 1121.16 1086.2 1123.75 Q1085.62 1124.42 1082.52 1127.64 Q1079.42 1130.83 1073.77 1136.6 Z\" fill=\"#000000\" fill-rule=\"evenodd\" fill-opacity=\"1\" /><path clip-path=\"url(#clip750)\" d=\"M 0 0 M1105.16 1109.05 Q1101.55 1109.05 1099.72 1112.62 Q1097.91 1116.16 1097.91 1123.29 Q1097.91 1130.39 1099.72 1133.96 Q1101.55 1137.5 1105.16 1137.5 Q1108.79 1137.5 1110.6 1133.96 Q1112.43 1130.39 1112.43 1123.29 Q1112.43 1116.16 1110.6 1112.62 Q1108.79 1109.05 1105.16 1109.05 M1105.16 1105.35 Q1110.97 1105.35 1114.02 1109.95 Q1117.1 1114.54 1117.1 1123.29 Q1117.1 1132.01 1114.02 1136.62 Q1110.97 1141.2 1105.16 1141.2 Q1099.35 1141.2 1096.27 1136.62 Q1093.21 1132.01 1093.21 1123.29 Q1093.21 1114.54 1096.27 1109.95 Q1099.35 1105.35 1105.16 1105.35 Z\" fill=\"#000000\" fill-rule=\"evenodd\" fill-opacity=\"1\" /><path clip-path=\"url(#clip750)\" d=\"M 0 0 M1073.77 457.728 L1090.09 457.728 L1090.09 461.663 L1068.14 461.663 L1068.14 457.728 Q1070.81 454.973 1075.39 450.343 Q1079.99 445.691 1081.18 444.348 Q1083.42 441.825 1084.3 440.089 Q1085.2 438.33 1085.2 436.64 Q1085.2 433.885 1083.26 432.149 Q1081.34 430.413 1078.24 430.413 Q1076.04 430.413 1073.58 431.177 Q1071.15 431.941 1068.37 433.492 L1068.37 428.77 Q1071.2 427.635 1073.65 427.057 Q1076.11 426.478 1078.14 426.478 Q1083.51 426.478 1086.71 429.163 Q1089.9 431.848 1089.9 436.339 Q1089.9 438.469 1089.09 440.39 Q1088.31 442.288 1086.2 444.881 Q1085.62 445.552 1082.52 448.769 Q1079.42 451.964 1073.77 457.728 Z\" fill=\"#000000\" fill-rule=\"evenodd\" fill-opacity=\"1\" /><path clip-path=\"url(#clip750)\" d=\"M 0 0 M1105.16 430.182 Q1101.55 430.182 1099.72 433.746 Q1097.91 437.288 1097.91 444.418 Q1097.91 451.524 1099.72 455.089 Q1101.55 458.63 1105.16 458.63 Q1108.79 458.63 1110.6 455.089 Q1112.43 451.524 1112.43 444.418 Q1112.43 437.288 1110.6 433.746 Q1108.79 430.182 1105.16 430.182 M1105.16 426.478 Q1110.97 426.478 1114.02 431.084 Q1117.1 435.668 1117.1 444.418 Q1117.1 453.144 1114.02 457.751 Q1110.97 462.334 1105.16 462.334 Q1099.35 462.334 1096.27 457.751 Q1093.21 453.144 1093.21 444.418 Q1093.21 435.668 1096.27 431.084 Q1099.35 426.478 1105.16 426.478 Z\" fill=\"#000000\" fill-rule=\"evenodd\" fill-opacity=\"1\" /><path clip-path=\"url(#clip750)\" d=\"M 0 0 M1080.5 91.7421 L1068.7 110.191 L1080.5 110.191 L1080.5 91.7421 M1079.28 87.668 L1085.16 87.668 L1085.16 110.191 L1090.09 110.191 L1090.09 114.08 L1085.16 114.08 L1085.16 122.228 L1080.5 122.228 L1080.5 114.08 L1064.9 114.08 L1064.9 109.566 L1079.28 87.668 Z\" fill=\"#000000\" fill-rule=\"evenodd\" fill-opacity=\"1\" /><path clip-path=\"url(#clip750)\" d=\"M 0 0 M1105.16 90.7467 Q1101.55 90.7467 1099.72 94.3115 Q1097.91 97.8532 1097.91 104.983 Q1097.91 112.089 1099.72 115.654 Q1101.55 119.196 1105.16 119.196 Q1108.79 119.196 1110.6 115.654 Q1112.43 112.089 1112.43 104.983 Q1112.43 97.8532 1110.6 94.3115 Q1108.79 90.7467 1105.16 90.7467 M1105.16 87.043 Q1110.97 87.043 1114.02 91.6495 Q1117.1 96.2328 1117.1 104.983 Q1117.1 113.71 1114.02 118.316 Q1110.97 122.899 1105.16 122.899 Q1099.35 122.899 1096.27 118.316 Q1093.21 113.71 1093.21 104.983 Q1093.21 96.2328 1096.27 91.6495 Q1099.35 87.043 1105.16 87.043 Z\" fill=\"#000000\" fill-rule=\"evenodd\" fill-opacity=\"1\" /><path clip-path=\"url(#clip750)\" d=\"M 0 0 M57.8307 794.648 Q57.2578 795.635 57.0032 796.813 Q56.7167 797.958 56.7167 799.359 Q56.7167 804.324 59.9632 806.998 Q63.1779 809.639 69.2253 809.639 L88.0042 809.639 L88.0042 815.528 L52.3562 815.528 L52.3562 809.639 L57.8944 809.639 Q54.6479 807.793 53.0883 804.833 Q51.4968 801.873 51.4968 797.64 Q51.4968 797.035 51.5923 796.303 Q51.656 795.571 51.8151 794.68 L57.8307 794.648 Z\" fill=\"#000000\" fill-rule=\"evenodd\" fill-opacity=\"1\" /><path clip-path=\"url(#clip750)\" d=\"M 0 0 M38.5426 774.437 Q45.8632 778.702 53.0246 780.771 Q60.186 782.84 67.5384 782.84 Q74.8908 782.84 82.1159 780.771 Q89.3091 778.67 96.5979 774.437 L96.5979 779.53 Q89.1182 784.304 81.8931 786.691 Q74.668 789.046 67.5384 789.046 Q60.4406 789.046 53.2474 786.691 Q46.0542 784.336 38.5426 779.53 L38.5426 774.437 Z\" fill=\"#000000\" fill-rule=\"evenodd\" fill-opacity=\"1\" /><path clip-path=\"url(#clip750)\" d=\"M 0 0 M52.3562 738.662 L69.7028 751.552 L88.0042 737.993 L88.0042 744.9 L73.9996 755.276 L88.0042 765.652 L88.0042 772.559 L69.3526 758.714 L52.3562 771.382 L52.3562 764.475 L65.0558 755.022 L52.3562 745.569 L52.3562 738.662 Z\" fill=\"#000000\" fill-rule=\"evenodd\" fill-opacity=\"1\" /><path clip-path=\"url(#clip750)\" d=\"M 0 0 M38.5426 732.774 L38.5426 727.681 Q46.0542 722.907 53.2474 720.551 Q60.4406 718.164 67.5384 718.164 Q74.668 718.164 81.8931 720.551 Q89.1182 722.907 96.5979 727.681 L96.5979 732.774 Q89.3091 728.54 82.1159 726.471 Q74.8908 724.371 67.5384 724.371 Q60.186 724.371 53.0246 726.471 Q45.8632 728.54 38.5426 732.774 Z\" fill=\"#000000\" fill-rule=\"evenodd\" fill-opacity=\"1\" /><polyline clip-path=\"url(#clip752)\" style=\"stroke:#009af9; stroke-width:4; stroke-opacity:1; fill:none\" points=\"\n",
       "  277.689,778.16 306.47,778.352 335.25,778.551 364.031,778.756 392.811,778.969 421.591,779.189 450.372,779.418 479.152,779.655 507.933,779.901 536.713,780.157 \n",
       "  565.493,780.423 594.274,780.7 623.054,780.989 651.835,781.29 680.615,781.604 709.395,781.932 738.176,782.275 766.956,782.634 795.736,783.01 824.517,783.404 \n",
       "  853.297,783.818 882.078,784.253 910.858,784.711 939.638,785.194 968.419,785.703 997.199,786.242 1025.98,786.813 1054.76,787.418 1083.54,788.061 1112.32,788.745 \n",
       "  1141.1,789.475 1169.88,790.255 1198.66,791.091 1227.44,791.989 1256.22,792.956 1285,794.001 1313.78,795.132 1342.56,796.362 1371.34,797.704 1400.12,799.173 \n",
       "  1428.91,800.789 1457.69,802.576 1486.47,804.561 1515.25,806.779 1544.03,809.275 1572.81,812.104 1601.59,815.337 1630.37,819.067 1659.15,823.418 1687.93,828.561 \n",
       "  1716.71,834.733 1745.49,842.276 1774.27,851.705 1803.05,863.827 1831.83,879.991 1860.61,902.62 1889.39,936.563 1918.17,993.136 1946.95,1106.28 1975.73,1445.72 \n",
       "  \n",
       "  \"/>\n",
       "<polyline clip-path=\"url(#clip752)\" style=\"stroke:#009af9; stroke-width:4; stroke-opacity:1; fill:none\" points=\"\n",
       "  2033.29,87.9763 2062.07,427.411 2090.85,540.556 2119.63,597.129 2148.42,631.072 2177.2,653.701 2205.98,669.865 2234.76,681.987 2263.54,691.416 2292.32,698.959 \n",
       "  \n",
       "  \"/>\n",
       "<polyline clip-path=\"url(#clip752)\" style=\"stroke:#e26f46; stroke-width:4; stroke-opacity:1; fill:none\" stroke-dasharray=\"16, 10\" points=\"\n",
       "  2004.51,2925.65 2004.51,-1391.96 \n",
       "  \"/>\n",
       "<polyline clip-path=\"url(#clip752)\" style=\"stroke:#3da44d; stroke-width:4; stroke-opacity:1; fill:none\" stroke-dasharray=\"16, 10\" points=\"\n",
       "  -1918.25,766.846 4488.26,766.846 \n",
       "  \"/>\n",
       "</svg>\n"
      ]
     },
     "execution_count": 5,
     "metadata": {},
     "output_type": "execute_result"
    }
   ],
   "source": [
    "p = functionplot(lf:.1:rt, r(x), lf:rt, \"r(x)\")\n",
    "\n",
    "p\n",
    "#plot(p, s, s′, s′′, layout = grid(4,1, heights=[0.85 ,0.05, 0.05, 0.05]), size=(900,800))"
   ]
  },
  {
   "cell_type": "code",
   "execution_count": null,
   "metadata": {},
   "outputs": [],
   "source": [
    "q(x) = (x - 1)*(x - 3)*(x - 5)*(x - 7)\n",
    "plot_function_sign_chart(q(x), (0,9), 0:9, labels = [\"q\", \"q′\", \"q′′\"])"
   ]
  },
  {
   "cell_type": "code",
   "execution_count": null,
   "metadata": {},
   "outputs": [],
   "source": [
    "f(x) = x^2*(x-2)\n",
    "summary(f(x), [-3,3], \"(-∞,∞)\", [\"f\", \"f′\", \"f′′\"], 400)"
   ]
  },
  {
   "cell_type": "markdown",
   "metadata": {},
   "source": [
    "# The above was run to complie the code before class began."
   ]
  },
  {
   "cell_type": "code",
   "execution_count": null,
   "metadata": {},
   "outputs": [],
   "source": []
  }
 ],
 "metadata": {
  "@webio": {
   "lastCommId": null,
   "lastKernelId": null
  },
  "kernelspec": {
   "display_name": "Julia 1.5.0",
   "language": "julia",
   "name": "julia-1.5"
  },
  "language_info": {
   "file_extension": ".jl",
   "mimetype": "application/julia",
   "name": "julia",
   "version": "1.5.0"
  }
 },
 "nbformat": 4,
 "nbformat_minor": 4
}
