{
 "cells": [
  {
   "cell_type": "markdown",
   "metadata": {},
   "source": [
    "# MS 120 Lecture 2020-09-15"
   ]
  },
  {
   "cell_type": "code",
   "execution_count": 1,
   "metadata": {},
   "outputs": [
    {
     "data": {
      "text/plain": [
       "graph_f_and_derivative"
      ]
     },
     "execution_count": 1,
     "metadata": {},
     "output_type": "execute_result"
    }
   ],
   "source": [
    "include(\"JSUMS120.jl\")"
   ]
  },
  {
   "cell_type": "code",
   "execution_count": 2,
   "metadata": {},
   "outputs": [
    {
     "data": {
      "text/markdown": [
       "y-intercept: 0<br><table>\n",
       "<tr>\n",
       "<td><img src=\"./figs/scx^2(x - 2).png\" alt=\"drawing\" width=\"400\"/></td>\n",
       "<td><img src=\"./figs/scpx^2(x - 2).png\" alt=\"drawing\" width=\"400\"/></td>\n",
       "<td><img src=\"./figs/scppx^2(x - 2).png\" alt=\"drawing\" width=\"400\"/></td>\n",
       "</tr>\n",
       "</table>\n",
       "<br>local minimum: (1.333, -1.185)<br>local maximum = (0.000, 0.000)<br>inflection point: (0.667, -0.593)<br>As x → -∞, f(x) → -∞<br>As x → ∞, f(x) → ∞"
      ]
     },
     "metadata": {},
     "output_type": "display_data"
    },
    {
     "data": {
      "text/html": [
       "<table>\n",
       "<caption style=\"text-align:center\">Limit table</caption>\n",
       "<tr>\n",
       "    <th style=\"text-align:center; background-color: lightblue; scope: colgroup\">Left</th>\n",
       "    <th style=\"text-align:center; background-color: lightcoral; scope: colgroup\">Right</th>\n",
       "</tr>\n",
       "<tr>\n",
       "    <td>\n",
       "        <table style=\"text-align:center; background-color: lightblue\">\n",
       "          <tr>\n",
       "            <th scope: col>x</th>\n",
       "            <th scope: col>y</th>\n",
       "          </tr>\n",
       "          <tr>\n",
       "              <td>1.00000000</td>\n",
       "              <td>1.00000000</td>\n",
       "            </tr><tr>\n",
       "              <td>1.50000000</td>\n",
       "              <td>2.25000000</td>\n",
       "            </tr><tr>\n",
       "              <td>1.90000000</td>\n",
       "              <td>3.61000000</td>\n",
       "            </tr>    </table>\n",
       "</td>\n",
       "<td>\n",
       "    <table style=\"text-align:center; background-color: lightcoral\">\n",
       "      <tr>\n",
       "        <th scope: col>x</th>\n",
       "        <th scope: col>y</th>\n",
       "      </tr>\n",
       "  <tr>\n",
       "              <td>3.00000000</td>\n",
       "              <td>9.00000000</td>\n",
       "            </tr><tr>\n",
       "              <td>2.50000000</td>\n",
       "              <td>6.25000000</td>\n",
       "            </tr><tr>\n",
       "              <td>2.10000000</td>\n",
       "              <td>4.41000000</td>\n",
       "            </tr>        </table>\n",
       "    </td>\n",
       "</tr>\n",
       "</table>\n"
      ]
     },
     "metadata": {},
     "output_type": "display_data"
    }
   ],
   "source": [
    "r(x) = (x+1)/(x-3)\n",
    "#r(x) = x^3\n",
    "lf = -3\n",
    "rt = 4\n",
    "s = signchart(r(x), [lf,rt], \"r\", tickfontsize=20);\n",
    "\n",
    "p = functionplot(lf:.1:rt, r(x), lf:rt, \"r(x)\")\n",
    "p;\n",
    "\n",
    "q(x) = (x - 1)*(x - 3)*(x - 5)*(x - 7)\n",
    "plot_function_sign_chart(q(x), (0,9), 0:9, labels = [\"q\", \"q′\", \"q′′\"]);\n",
    "\n",
    "f(x) = x^2*(x-2)\n",
    "summary(f(x), [-3,3], \"(-∞,∞)\", [\"f\", \"f′\", \"f′′\"], 400);\n",
    "\n",
    "f̅(x) = x^2; #f\\overbar + TAB\n",
    "limittable(f̅(x), 2, rows=3);"
   ]
  },
  {
   "cell_type": "markdown",
   "metadata": {},
   "source": [
    "# The above was run to complie the code before class began."
   ]
  },
  {
   "cell_type": "code",
   "execution_count": null,
   "metadata": {},
   "outputs": [],
   "source": []
  }
 ],
 "metadata": {
  "@webio": {
   "lastCommId": null,
   "lastKernelId": null
  },
  "kernelspec": {
   "display_name": "Julia 1.5.0",
   "language": "julia",
   "name": "julia-1.5"
  },
  "language_info": {
   "file_extension": ".jl",
   "mimetype": "application/julia",
   "name": "julia",
   "version": "1.5.0"
  }
 },
 "nbformat": 4,
 "nbformat_minor": 4
}
