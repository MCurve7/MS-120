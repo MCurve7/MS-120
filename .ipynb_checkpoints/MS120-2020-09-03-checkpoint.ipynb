{
 "cells": [
  {
   "cell_type": "markdown",
   "metadata": {},
   "source": [
    "# MS 120 Lecture 2020-09-03"
   ]
  },
  {
   "cell_type": "code",
   "execution_count": 4,
   "metadata": {},
   "outputs": [
    {
     "name": "stderr",
     "output_type": "stream",
     "text": [
      "\u001b[32m\u001b[1m   Updating\u001b[22m\u001b[39m registry at `C:\\Users\\DanielSmith\\.julia\\registries\\General`\n",
      "\u001b[32m\u001b[1m   Updating\u001b[22m\u001b[39m git-repo `https://github.com/JuliaRegistries/General.git`\n"
     ]
    },
    {
     "name": "stdout",
     "output_type": "stream",
     "text": [
      "\u001b[?25l    \u001b[36m\u001b[1mFetching:\u001b[22m\u001b[39m [>                                        ]  0.0 %\r",
      "    \u001b[36m\u001b[1mFetching:\u001b[22m\u001b[39m [=>                                       ]  1.6 %\r",
      "    \u001b[36m\u001b[1mFetching:\u001b[22m\u001b[39m [==>                                      ]  3.1 %\r",
      "    \u001b[36m\u001b[1mFetching:\u001b[22m\u001b[39m [==>                                      ]  4.7 %\r",
      "    \u001b[36m\u001b[1mFetching:\u001b[22m\u001b[39m [===>                                     ]  6.3 %\r",
      "    \u001b[36m\u001b[1mFetching:\u001b[22m\u001b[39m [====>                                    ]  7.8 %\r",
      "    \u001b[36m\u001b[1mFetching:\u001b[22m\u001b[39m [====>                                    ]  9.4 %\r",
      "    \u001b[36m\u001b[1mFetching:\u001b[22m\u001b[39m [=====>                                   ]  10.9 %\r",
      "    \u001b[36m\u001b[1mFetching:\u001b[22m\u001b[39m [=====>                                   ]  12.5 %\r",
      "    \u001b[36m\u001b[1mFetching:\u001b[22m\u001b[39m [======>                                  ]  14.1 %\r",
      "    \u001b[36m\u001b[1mFetching:\u001b[22m\u001b[39m [=======>                                 ]  15.6 %\r",
      "    \u001b[36m\u001b[1mFetching:\u001b[22m\u001b[39m [=======>                                 ]  17.2 %\r",
      "    \u001b[36m\u001b[1mFetching:\u001b[22m\u001b[39m [========>                                ]  18.8 %\r",
      "    \u001b[36m\u001b[1mFetching:\u001b[22m\u001b[39m [=========>                               ]  20.3 %\r",
      "    \u001b[36m\u001b[1mFetching:\u001b[22m\u001b[39m [=========>                               ]  21.9 %\r",
      "    \u001b[36m\u001b[1mFetching:\u001b[22m\u001b[39m [==========>                              ]  23.4 %\r",
      "    \u001b[36m\u001b[1mFetching:\u001b[22m\u001b[39m [==========>                              ]  25.0 %\r",
      "    \u001b[36m\u001b[1mFetching:\u001b[22m\u001b[39m [===========>                             ]  26.6 %\r",
      "    \u001b[36m\u001b[1mFetching:\u001b[22m\u001b[39m [============>                            ]  28.1 %\r",
      "    \u001b[36m\u001b[1mFetching:\u001b[22m\u001b[39m [============>                            ]  29.7 %\r",
      "    \u001b[36m\u001b[1mFetching:\u001b[22m\u001b[39m [=============>                           ]  31.3 %\r",
      "    \u001b[36m\u001b[1mFetching:\u001b[22m\u001b[39m [==============>                          ]  32.8 %\r",
      "    \u001b[36m\u001b[1mFetching:\u001b[22m\u001b[39m [==============>                          ]  34.4 %\r",
      "    \u001b[36m\u001b[1mFetching:\u001b[22m\u001b[39m [===============>                         ]  35.9 %\r",
      "    \u001b[36m\u001b[1mFetching:\u001b[22m\u001b[39m [===============>                         ]  37.5 %\r",
      "    \u001b[36m\u001b[1mFetching:\u001b[22m\u001b[39m [================>                        ]  39.1 %\r",
      "    \u001b[36m\u001b[1mFetching:\u001b[22m\u001b[39m [=================>                       ]  40.6 %\r",
      "    \u001b[36m\u001b[1mFetching:\u001b[22m\u001b[39m [=================>                       ]  42.2 %\r",
      "    \u001b[36m\u001b[1mFetching:\u001b[22m\u001b[39m [==================>                      ]  43.8 %\r",
      "    \u001b[36m\u001b[1mFetching:\u001b[22m\u001b[39m [===================>                     ]  45.3 %\r",
      "    \u001b[36m\u001b[1mFetching:\u001b[22m\u001b[39m [===================>                     ]  46.9 %\r",
      "    \u001b[36m\u001b[1mFetching:\u001b[22m\u001b[39m [====================>                    ]  48.4 %\r",
      "    \u001b[36m\u001b[1mFetching:\u001b[22m\u001b[39m [====================>                    ]  50.0 %\r",
      "    \u001b[36m\u001b[1mFetching:\u001b[22m\u001b[39m [=====================>                   ]  51.6 %\r",
      "    \u001b[36m\u001b[1mFetching:\u001b[22m\u001b[39m [======================>                  ]  53.1 %\r",
      "    \u001b[36m\u001b[1mFetching:\u001b[22m\u001b[39m [======================>                  ]  54.7 %\r",
      "    \u001b[36m\u001b[1mFetching:\u001b[22m\u001b[39m [=======================>                 ]  56.3 %\r",
      "    \u001b[36m\u001b[1mFetching:\u001b[22m\u001b[39m [========================>                ]  57.8 %\r",
      "    \u001b[36m\u001b[1mFetching:\u001b[22m\u001b[39m [========================>                ]  59.4 %\r",
      "    \u001b[36m\u001b[1mFetching:\u001b[22m\u001b[39m [=========================>               ]  60.9 %\r",
      "    \u001b[36m\u001b[1mFetching:\u001b[22m\u001b[39m [=========================>               ]  62.5 %\r",
      "    \u001b[36m\u001b[1mFetching:\u001b[22m\u001b[39m [==========================>              ]  64.1 %\r",
      "    \u001b[36m\u001b[1mFetching:\u001b[22m\u001b[39m [===========================>             ]  65.6 %\r",
      "    \u001b[36m\u001b[1mFetching:\u001b[22m\u001b[39m [===========================>             ]  67.2 %\r",
      "    \u001b[36m\u001b[1mFetching:\u001b[22m\u001b[39m [============================>            ]  68.8 %\r",
      "    \u001b[36m\u001b[1mFetching:\u001b[22m\u001b[39m [=============================>           ]  70.3 %\r",
      "    \u001b[36m\u001b[1mFetching:\u001b[22m\u001b[39m [=============================>           ]  71.9 %\r",
      "    \u001b[36m\u001b[1mFetching:\u001b[22m\u001b[39m [==============================>          ]  73.4 %\r",
      "    \u001b[36m\u001b[1mFetching:\u001b[22m\u001b[39m [==============================>          ]  75.0 %\r",
      "    \u001b[36m\u001b[1mFetching:\u001b[22m\u001b[39m [===============================>         ]  76.6 %\r",
      "    \u001b[36m\u001b[1mFetching:\u001b[22m\u001b[39m [================================>        ]  78.1 %\r",
      "    \u001b[36m\u001b[1mFetching:\u001b[22m\u001b[39m [================================>        ]  79.7 %\r",
      "    \u001b[36m\u001b[1mFetching:\u001b[22m\u001b[39m [=================================>       ]  81.3 %\r",
      "    \u001b[36m\u001b[1mFetching:\u001b[22m\u001b[39m [==================================>      ]  82.8 %\r",
      "    \u001b[36m\u001b[1mFetching:\u001b[22m\u001b[39m [==================================>      ]  84.4 %\r",
      "    \u001b[36m\u001b[1mFetching:\u001b[22m\u001b[39m [===================================>     ]  85.9 %\r",
      "    \u001b[36m\u001b[1mFetching:\u001b[22m\u001b[39m [===================================>     ]  87.5 %\r",
      "    \u001b[36m\u001b[1mFetching:\u001b[22m\u001b[39m [====================================>    ]  89.1 %\r",
      "    \u001b[36m\u001b[1mFetching:\u001b[22m\u001b[39m [=====================================>   ]  90.6 %\r",
      "    \u001b[36m\u001b[1mFetching:\u001b[22m\u001b[39m [=====================================>   ]  92.2 %\r",
      "    \u001b[36m\u001b[1mFetching:\u001b[22m\u001b[39m [======================================>  ]  93.8 %\r",
      "    \u001b[36m\u001b[1mFetching:\u001b[22m\u001b[39m [=======================================> ]  95.3 %\r",
      "    \u001b[36m\u001b[1mFetching:\u001b[22m\u001b[39m [=======================================> ]  96.9 %\r",
      "    \u001b[36m\u001b[1mFetching:\u001b[22m\u001b[39m [========================================>]  98.4 %\r",
      "    \u001b[36m\u001b[1mFetching:\u001b[22m\u001b[39m [========================================>]  100.0 %\r",
      "\u001b[2K\u001b[?25h"
     ]
    },
    {
     "name": "stderr",
     "output_type": "stream",
     "text": [
      "\u001b[32m\u001b[1m  Resolving\u001b[22m\u001b[39m package versions...\n",
      "\u001b[32m\u001b[1mUpdating\u001b[22m\u001b[39m `C:\\Users\\DanielSmith\\.julia\\environments\\v1.5\\Project.toml`\n",
      " \u001b[90m [276daf66] \u001b[39m\u001b[92m+ SpecialFunctions v0.10.3\u001b[39m\n",
      "\u001b[32m\u001b[1mUpdating\u001b[22m\u001b[39m `C:\\Users\\DanielSmith\\.julia\\environments\\v1.5\\Manifest.toml`\n",
      " \u001b[90m [6e34b625] \u001b[39m\u001b[93m↑ Bzip2_jll v1.0.6+3 ⇒ v1.0.6+4\u001b[39m\n",
      " \u001b[90m [b22a6f82] \u001b[39m\u001b[93m↑ FFMPEG_jll v4.3.1+1 ⇒ v4.3.1+2\u001b[39m\n",
      " \u001b[90m [d7e528f0] \u001b[39m\u001b[93m↑ FreeType2_jll v2.10.1+3 ⇒ v2.10.1+4\u001b[39m\n",
      " \u001b[90m [559328eb] \u001b[39m\u001b[93m↑ FriBidi_jll v1.0.5+4 ⇒ v1.0.5+5\u001b[39m\n",
      " \u001b[90m [83775a58] \u001b[39m\u001b[93m↑ Zlib_jll v1.2.11+15 ⇒ v1.2.11+16\u001b[39m\n"
     ]
    }
   ],
   "source": [
    "using Pkg\n",
    "Pkg.add(\"SpecialFunctions\")"
   ]
  },
  {
   "cell_type": "code",
   "execution_count": 5,
   "metadata": {},
   "outputs": [
    {
     "name": "stderr",
     "output_type": "stream",
     "text": [
      "┌ Info: Precompiling Plots [91a5bcdd-55d7-5caf-9e0b-520d859cae80]\n",
      "└ @ Base loading.jl:1278\n"
     ]
    },
    {
     "data": {
      "text/plain": [
       "graph_f_and_derivative (generic function with 2 methods)"
      ]
     },
     "execution_count": 5,
     "metadata": {},
     "output_type": "execute_result"
    }
   ],
   "source": [
    "include(\"JSUMS120.jl\")"
   ]
  },
  {
   "cell_type": "code",
   "execution_count": 6,
   "metadata": {},
   "outputs": [
    {
     "data": {
      "text/markdown": [
       "y-intercept: 0<br><table>\n",
       "<tr>\n",
       "<td><img src=\"./figs/scx^2(x - 2).png\" alt=\"drawing\" width=\"400\"/></td>\n",
       "<td><img src=\"./figs/scpx^2(x - 2).png\" alt=\"drawing\" width=\"400\"/></td>\n",
       "<td><img src=\"./figs/scppx^2(x - 2).png\" alt=\"drawing\" width=\"400\"/></td>\n",
       "</tr>\n",
       "</table>\n",
       "<br>local minimum: (1.333, -1.185)<br>local maximum = (0.000, 0.000)<br>inflection point: (0.667, -0.593)<br>As x → -∞, f(x) → -∞<br>As x → ∞, f(x) → ∞"
      ]
     },
     "metadata": {},
     "output_type": "display_data"
    },
    {
     "data": {
      "text/html": [
       "<table>\n",
       "<caption style=\"text-align:center\">Limit table</caption>\n",
       "<tr>\n",
       "    <th style=\"text-align:center; background-color: lightblue; scope: colgroup\">Left</th>\n",
       "    <th style=\"text-align:center; background-color: lightcoral; scope: colgroup\">Right</th>\n",
       "</tr>\n",
       "<tr>\n",
       "    <td>\n",
       "        <table style=\"text-align:center; background-color: lightblue\">\n",
       "          <tr>\n",
       "            <th scope: col>x</th>\n",
       "            <th scope: col>y</th>\n",
       "          </tr>\n",
       "          <tr>\n",
       "              <td>1.00000000</td>\n",
       "              <td>1.00000000</td>\n",
       "            </tr><tr>\n",
       "              <td>1.50000000</td>\n",
       "              <td>2.25000000</td>\n",
       "            </tr><tr>\n",
       "              <td>1.90000000</td>\n",
       "              <td>3.61000000</td>\n",
       "            </tr>    </table>\n",
       "</td>\n",
       "<td>\n",
       "    <table style=\"text-align:center; background-color: lightcoral\">\n",
       "      <tr>\n",
       "        <th scope: col>x</th>\n",
       "        <th scope: col>y</th>\n",
       "      </tr>\n",
       "  <tr>\n",
       "              <td>3.00000000</td>\n",
       "              <td>9.00000000</td>\n",
       "            </tr><tr>\n",
       "              <td>2.50000000</td>\n",
       "              <td>6.25000000</td>\n",
       "            </tr><tr>\n",
       "              <td>2.10000000</td>\n",
       "              <td>4.41000000</td>\n",
       "            </tr>        </table>\n",
       "    </td>\n",
       "</tr>\n",
       "</table>\n"
      ]
     },
     "metadata": {},
     "output_type": "display_data"
    }
   ],
   "source": [
    "r(x) = (x+1)/(x-3)\n",
    "#r(x) = x^3\n",
    "lf = -3\n",
    "rt = 4\n",
    "s = signchart(r(x), [lf,rt], \"r\", tickfontsize=20);\n",
    "\n",
    "p = functionplot(lf:.1:rt, r(x), lf:rt, \"r(x)\")\n",
    "p;\n",
    "\n",
    "q(x) = (x - 1)*(x - 3)*(x - 5)*(x - 7)\n",
    "plot_function_sign_chart(q(x), (0,9), 0:9, labels = [\"q\", \"q′\", \"q′′\"]);\n",
    "\n",
    "f(x) = x^2*(x-2)\n",
    "summary(f(x), [-3,3], \"(-∞,∞)\", [\"f\", \"f′\", \"f′′\"], 400);\n",
    "\n",
    "f̅(x) = x^2; #f\\overbar + TAB\n",
    "limittable(f̅(x), 2, rows=3);"
   ]
  },
  {
   "cell_type": "markdown",
   "metadata": {},
   "source": [
    "# The above was run to complie the code before class began."
   ]
  },
  {
   "cell_type": "code",
   "execution_count": 7,
   "metadata": {},
   "outputs": [
    {
     "data": {
      "text/html": [
       "<table>\n",
       "<caption style=\"text-align:center\">Limit table</caption>\n",
       "<tr>\n",
       "    <th style=\"text-align:center; background-color: lightblue; scope: colgroup\">Left</th>\n",
       "    <th style=\"text-align:center; background-color: lightcoral; scope: colgroup\">Right</th>\n",
       "</tr>\n",
       "<tr>\n",
       "    <td>\n",
       "        <table style=\"text-align:center; background-color: lightblue\">\n",
       "          <tr>\n",
       "            <th scope: col>x</th>\n",
       "            <th scope: col>y</th>\n",
       "          </tr>\n",
       "          <tr>\n",
       "              <td>-1.00000000</td>\n",
       "              <td>45.00000000</td>\n",
       "            </tr><tr>\n",
       "              <td>-0.50000000</td>\n",
       "              <td>180.00000000</td>\n",
       "            </tr><tr>\n",
       "              <td>-0.10000000</td>\n",
       "              <td>4500.00000000</td>\n",
       "            </tr><tr>\n",
       "              <td>-0.01000000</td>\n",
       "              <td>450000.00000000</td>\n",
       "            </tr><tr>\n",
       "              <td>-0.00100000</td>\n",
       "              <td>45000000.00000000</td>\n",
       "            </tr><tr>\n",
       "              <td>-0.00010000</td>\n",
       "              <td>4499999999.99999905</td>\n",
       "            </tr><tr>\n",
       "              <td>-0.00001000</td>\n",
       "              <td>450000000000.00006104</td>\n",
       "            </tr>    </table>\n",
       "</td>\n",
       "<td>\n",
       "    <table style=\"text-align:center; background-color: lightcoral\">\n",
       "      <tr>\n",
       "        <th scope: col>x</th>\n",
       "        <th scope: col>y</th>\n",
       "      </tr>\n",
       "  <tr>\n",
       "              <td>1.00000000</td>\n",
       "              <td>45.00000000</td>\n",
       "            </tr><tr>\n",
       "              <td>0.50000000</td>\n",
       "              <td>180.00000000</td>\n",
       "            </tr><tr>\n",
       "              <td>0.10000000</td>\n",
       "              <td>4500.00000000</td>\n",
       "            </tr><tr>\n",
       "              <td>0.01000000</td>\n",
       "              <td>450000.00000000</td>\n",
       "            </tr><tr>\n",
       "              <td>0.00100000</td>\n",
       "              <td>45000000.00000000</td>\n",
       "            </tr><tr>\n",
       "              <td>0.00010000</td>\n",
       "              <td>4499999999.99999905</td>\n",
       "            </tr><tr>\n",
       "              <td>0.00001000</td>\n",
       "              <td>450000000000.00006104</td>\n",
       "            </tr>        </table>\n",
       "    </td>\n",
       "</tr>\n",
       "</table>\n"
      ]
     },
     "metadata": {},
     "output_type": "display_data"
    }
   ],
   "source": [
    "limittable(45/x^2, 0, rows=7)"
   ]
  },
  {
   "cell_type": "code",
   "execution_count": 8,
   "metadata": {},
   "outputs": [
    {
     "data": {
      "text/html": [
       "<table>\n",
       "<caption style=\"text-align:center\">Limit table</caption>\n",
       "<tr>\n",
       "    <th style=\"text-align:center; background-color: lightblue; scope: colgroup\">Left</th>\n",
       "    <th style=\"text-align:center; background-color: lightcoral; scope: colgroup\">Right</th>\n",
       "</tr>\n",
       "<tr>\n",
       "    <td>\n",
       "        <table style=\"text-align:center; background-color: lightblue\">\n",
       "          <tr>\n",
       "            <th scope: col>x</th>\n",
       "            <th scope: col>y</th>\n",
       "          </tr>\n",
       "          <tr>\n",
       "              <td>-1.00000000</td>\n",
       "              <td>-45.00000000</td>\n",
       "            </tr><tr>\n",
       "              <td>-0.50000000</td>\n",
       "              <td>-90.00000000</td>\n",
       "            </tr><tr>\n",
       "              <td>-0.10000000</td>\n",
       "              <td>-450.00000000</td>\n",
       "            </tr><tr>\n",
       "              <td>-0.01000000</td>\n",
       "              <td>-4500.00000000</td>\n",
       "            </tr><tr>\n",
       "              <td>-0.00100000</td>\n",
       "              <td>-45000.00000000</td>\n",
       "            </tr><tr>\n",
       "              <td>-0.00010000</td>\n",
       "              <td>-450000.00000000</td>\n",
       "            </tr><tr>\n",
       "              <td>-0.00001000</td>\n",
       "              <td>-4500000.00000000</td>\n",
       "            </tr>    </table>\n",
       "</td>\n",
       "<td>\n",
       "    <table style=\"text-align:center; background-color: lightcoral\">\n",
       "      <tr>\n",
       "        <th scope: col>x</th>\n",
       "        <th scope: col>y</th>\n",
       "      </tr>\n",
       "  <tr>\n",
       "              <td>1.00000000</td>\n",
       "              <td>45.00000000</td>\n",
       "            </tr><tr>\n",
       "              <td>0.50000000</td>\n",
       "              <td>90.00000000</td>\n",
       "            </tr><tr>\n",
       "              <td>0.10000000</td>\n",
       "              <td>450.00000000</td>\n",
       "            </tr><tr>\n",
       "              <td>0.01000000</td>\n",
       "              <td>4500.00000000</td>\n",
       "            </tr><tr>\n",
       "              <td>0.00100000</td>\n",
       "              <td>45000.00000000</td>\n",
       "            </tr><tr>\n",
       "              <td>0.00010000</td>\n",
       "              <td>450000.00000000</td>\n",
       "            </tr><tr>\n",
       "              <td>0.00001000</td>\n",
       "              <td>4500000.00000000</td>\n",
       "            </tr>        </table>\n",
       "    </td>\n",
       "</tr>\n",
       "</table>\n"
      ]
     },
     "metadata": {},
     "output_type": "display_data"
    }
   ],
   "source": [
    "limittable(45/x, 0, rows=7)"
   ]
  },
  {
   "cell_type": "code",
   "execution_count": 9,
   "metadata": {},
   "outputs": [
    {
     "data": {
      "text/html": [
       "<table style=\"text-align:center; background-color: lightcoral\">\n",
       "<caption style=\"text-align:center\">Limit table: x approaching &#8734;</caption>\n",
       "    <tr>\n",
       "        <th scope: col>x</th>\n",
       "        <th scope: col>y</th>\n",
       "    </tr><tr>\n",
       "              <td>100.00000000</td>\n",
       "              <td>10000.00000000</td>\n",
       "            </tr><tr>\n",
       "              <td>1000.00000000</td>\n",
       "              <td>1000000.00000000</td>\n",
       "            </tr><tr>\n",
       "              <td>10000.00000000</td>\n",
       "              <td>100000000.00000000</td>\n",
       "            </tr><tr>\n",
       "              <td>100000.00000000</td>\n",
       "              <td>10000000000.00000000</td>\n",
       "            </tr><tr>\n",
       "              <td>1000000.00000000</td>\n",
       "              <td>1000000000000.00000000</td>\n",
       "            </tr><tr>\n",
       "              <td>10000000.00000000</td>\n",
       "              <td>100000000000000.00000000</td>\n",
       "            </tr><tr>\n",
       "              <td>100000000.00000000</td>\n",
       "              <td>10000000000000000.00000000</td>\n",
       "            </tr></table>"
      ]
     },
     "metadata": {},
     "output_type": "display_data"
    }
   ],
   "source": [
    "limittable(x^2, oo, rows=7)"
   ]
  },
  {
   "cell_type": "code",
   "execution_count": 10,
   "metadata": {},
   "outputs": [
    {
     "data": {
      "text/html": [
       "<table style=\"text-align:center; background-color: lightblue\">\n",
       "<caption style=\"text-align:center\">Limit table: x approaching -&#8734;</caption>\n",
       "    <tr>\n",
       "        <th scope: col>x</th>\n",
       "        <th scope: col>y</th>\n",
       "    </tr><tr>\n",
       "              <td>-100.00000000</td>\n",
       "              <td>10000.00000000</td>\n",
       "            </tr><tr>\n",
       "              <td>-1000.00000000</td>\n",
       "              <td>1000000.00000000</td>\n",
       "            </tr><tr>\n",
       "              <td>-10000.00000000</td>\n",
       "              <td>100000000.00000000</td>\n",
       "            </tr><tr>\n",
       "              <td>-100000.00000000</td>\n",
       "              <td>10000000000.00000000</td>\n",
       "            </tr><tr>\n",
       "              <td>-1000000.00000000</td>\n",
       "              <td>1000000000000.00000000</td>\n",
       "            </tr><tr>\n",
       "              <td>-10000000.00000000</td>\n",
       "              <td>100000000000000.00000000</td>\n",
       "            </tr><tr>\n",
       "              <td>-100000000.00000000</td>\n",
       "              <td>10000000000000000.00000000</td>\n",
       "            </tr></table>"
      ]
     },
     "metadata": {},
     "output_type": "display_data"
    }
   ],
   "source": [
    "limittable(x^2, -oo, rows=7)"
   ]
  },
  {
   "cell_type": "code",
   "execution_count": 11,
   "metadata": {},
   "outputs": [
    {
     "data": {
      "text/html": [
       "<table style=\"text-align:center; background-color: lightcoral\">\n",
       "<caption style=\"text-align:center\">Limit table: x approaching &#8734;</caption>\n",
       "    <tr>\n",
       "        <th scope: col>x</th>\n",
       "        <th scope: col>y</th>\n",
       "    </tr><tr>\n",
       "              <td>100.00000000</td>\n",
       "              <td>100.00000000</td>\n",
       "            </tr><tr>\n",
       "              <td>1000.00000000</td>\n",
       "              <td>1000.00000000</td>\n",
       "            </tr><tr>\n",
       "              <td>10000.00000000</td>\n",
       "              <td>10000.00000000</td>\n",
       "            </tr><tr>\n",
       "              <td>100000.00000000</td>\n",
       "              <td>100000.00000000</td>\n",
       "            </tr><tr>\n",
       "              <td>1000000.00000000</td>\n",
       "              <td>1000000.00000000</td>\n",
       "            </tr><tr>\n",
       "              <td>10000000.00000000</td>\n",
       "              <td>10000000.00000000</td>\n",
       "            </tr><tr>\n",
       "              <td>100000000.00000000</td>\n",
       "              <td>100000000.00000000</td>\n",
       "            </tr></table>"
      ]
     },
     "metadata": {},
     "output_type": "display_data"
    }
   ],
   "source": [
    "limittable(x, oo, rows=7)"
   ]
  },
  {
   "cell_type": "code",
   "execution_count": 12,
   "metadata": {},
   "outputs": [
    {
     "data": {
      "text/html": [
       "<table style=\"text-align:center; background-color: lightcoral\">\n",
       "<caption style=\"text-align:center\">Limit table: x approaching &#8734;</caption>\n",
       "    <tr>\n",
       "        <th scope: col>x</th>\n",
       "        <th scope: col>y</th>\n",
       "    </tr><tr>\n",
       "              <td>100.00000000</td>\n",
       "              <td>10000.00000000</td>\n",
       "            </tr><tr>\n",
       "              <td>1000.00000000</td>\n",
       "              <td>1000000.00000000</td>\n",
       "            </tr><tr>\n",
       "              <td>10000.00000000</td>\n",
       "              <td>100000000.00000000</td>\n",
       "            </tr><tr>\n",
       "              <td>100000.00000000</td>\n",
       "              <td>10000000000.00000000</td>\n",
       "            </tr><tr>\n",
       "              <td>1000000.00000000</td>\n",
       "              <td>1000000000000.00000000</td>\n",
       "            </tr><tr>\n",
       "              <td>10000000.00000000</td>\n",
       "              <td>100000000000000.00000000</td>\n",
       "            </tr><tr>\n",
       "              <td>100000000.00000000</td>\n",
       "              <td>10000000000000000.00000000</td>\n",
       "            </tr></table>"
      ]
     },
     "metadata": {},
     "output_type": "display_data"
    }
   ],
   "source": [
    "limittable(x^2, oo, rows=7)"
   ]
  },
  {
   "cell_type": "code",
   "execution_count": 13,
   "metadata": {},
   "outputs": [
    {
     "data": {
      "text/html": [
       "<table style=\"text-align:center; background-color: lightcoral\">\n",
       "<caption style=\"text-align:center\">Limit table: x approaching &#8734;</caption>\n",
       "    <tr>\n",
       "        <th scope: col>x</th>\n",
       "        <th scope: col>y</th>\n",
       "    </tr><tr>\n",
       "              <td>100.00000000</td>\n",
       "              <td>1000000.00000000</td>\n",
       "            </tr><tr>\n",
       "              <td>1000.00000000</td>\n",
       "              <td>1000000000.00000000</td>\n",
       "            </tr><tr>\n",
       "              <td>10000.00000000</td>\n",
       "              <td>1000000000000.00000000</td>\n",
       "            </tr><tr>\n",
       "              <td>100000.00000000</td>\n",
       "              <td>1000000000000000.00000000</td>\n",
       "            </tr><tr>\n",
       "              <td>1000000.00000000</td>\n",
       "              <td>1000000000000000000.00000000</td>\n",
       "            </tr><tr>\n",
       "              <td>10000000.00000000</td>\n",
       "              <td>1000000000000000000000.00000000</td>\n",
       "            </tr><tr>\n",
       "              <td>100000000.00000000</td>\n",
       "              <td>999999999999999983222784.00000000</td>\n",
       "            </tr></table>"
      ]
     },
     "metadata": {},
     "output_type": "display_data"
    }
   ],
   "source": [
    "limittable(x^3, oo, rows=7)"
   ]
  },
  {
   "cell_type": "code",
   "execution_count": 17,
   "metadata": {},
   "outputs": [
    {
     "data": {
      "text/html": [
       "<table style=\"text-align:center; background-color: lightblue\">\n",
       "<caption style=\"text-align:center\">Limit table: x approaching -&#8734;</caption>\n",
       "    <tr>\n",
       "        <th scope: col>x</th>\n",
       "        <th scope: col>y</th>\n",
       "    </tr><tr>\n",
       "              <td>-100.00000000</td>\n",
       "              <td>4.032515926535897932384626433832795028841971693993751058209749445923078164062871e+10</td>\n",
       "            </tr><tr>\n",
       "              <td>-1000.00000000</td>\n",
       "              <td>4.003152592653589793238462643383279502884197169399375105820974944592307816406293e+15</td>\n",
       "            </tr><tr>\n",
       "              <td>-10000.00000000</td>\n",
       "              <td>4.000314269265359184123846264338327950288419716939937510582097494459230781640609e+20</td>\n",
       "            </tr><tr>\n",
       "              <td>-100000.00000000</td>\n",
       "              <td>4.000031417026536655374535026433832795028841971693993751058209749445923078164032e+25</td>\n",
       "            </tr><tr>\n",
       "              <td>-1000000.00000000</td>\n",
       "              <td>4.000003141603653711421537546568849990366327169893427124097560176046990401401001e+30</td>\n",
       "            </tr></table>"
      ]
     },
     "metadata": {},
     "output_type": "display_data"
    }
   ],
   "source": [
    "limittable(-4x^5+π*x^4-11x^3+10^100, -oo)"
   ]
  },
  {
   "cell_type": "markdown",
   "metadata": {},
   "source": [
    "May or may not need the below."
   ]
  },
  {
   "cell_type": "code",
   "execution_count": 20,
   "metadata": {},
   "outputs": [
    {
     "data": {
      "text/plain": [
       "f (generic function with 1 method)"
      ]
     },
     "execution_count": 20,
     "metadata": {},
     "output_type": "execute_result"
    }
   ],
   "source": [
    "lf = -2\n",
    "rt = 2\n",
    "\n",
    "#f(x) = x^2-1\n",
    "#f(x) = (x+1)*(x-1)*(x-3)\n",
    "#f(x) = exp(x)\n",
    "\n",
    "lf = 0\n",
    "f(x) = sqrt(x)\n",
    "\n",
    "#f(x) = 1/(1+exp(-x))\n",
    "#f(x) = atan(x)\n",
    "#f(x) = erf(x)"
   ]
  },
  {
   "cell_type": "code",
   "execution_count": 21,
   "metadata": {},
   "outputs": [
    {
     "data": {
      "image/svg+xml": [
       "<?xml version=\"1.0\" encoding=\"utf-8\"?>\n",
       "<svg xmlns=\"http://www.w3.org/2000/svg\" xmlns:xlink=\"http://www.w3.org/1999/xlink\" width=\"600\" height=\"400\" viewBox=\"0 0 2400 1600\">\n",
       "<defs>\n",
       "  <clipPath id=\"clip320\">\n",
       "    <rect x=\"0\" y=\"0\" width=\"2400\" height=\"1600\"/>\n",
       "  </clipPath>\n",
       "</defs>\n",
       "<path clip-path=\"url(#clip320)\" d=\"\n",
       "M0 1600 L2400 1600 L2400 0 L0 0  Z\n",
       "  \" fill=\"#ffffff\" fill-rule=\"evenodd\" fill-opacity=\"1\"/>\n",
       "<defs>\n",
       "  <clipPath id=\"clip321\">\n",
       "    <rect x=\"480\" y=\"0\" width=\"1681\" height=\"1600\"/>\n",
       "  </clipPath>\n",
       "</defs>\n",
       "<path clip-path=\"url(#clip320)\" d=\"\n",
       "M147.848 1486.45 L2352.76 1486.45 L2352.76 47.2441 L147.848 47.2441  Z\n",
       "  \" fill=\"#ffffff\" fill-rule=\"evenodd\" fill-opacity=\"1\"/>\n",
       "<defs>\n",
       "  <clipPath id=\"clip322\">\n",
       "    <rect x=\"147\" y=\"47\" width=\"2206\" height=\"1440\"/>\n",
       "  </clipPath>\n",
       "</defs>\n",
       "<polyline clip-path=\"url(#clip322)\" style=\"stroke:#000000; stroke-width:2; stroke-opacity:0.1; fill:none\" points=\"\n",
       "  1250.3,1486.45 1250.3,47.2441 \n",
       "  \"/>\n",
       "<polyline clip-path=\"url(#clip322)\" style=\"stroke:#000000; stroke-width:2; stroke-opacity:0.1; fill:none\" points=\"\n",
       "  2290.35,1486.45 2290.35,47.2441 \n",
       "  \"/>\n",
       "<polyline clip-path=\"url(#clip322)\" style=\"stroke:#000000; stroke-width:2; stroke-opacity:0.1; fill:none\" points=\"\n",
       "  147.848,1016.36 2352.76,1016.36 \n",
       "  \"/>\n",
       "<polyline clip-path=\"url(#clip322)\" style=\"stroke:#000000; stroke-width:2; stroke-opacity:0.1; fill:none\" points=\"\n",
       "  147.848,587.006 2352.76,587.006 \n",
       "  \"/>\n",
       "<polyline clip-path=\"url(#clip322)\" style=\"stroke:#000000; stroke-width:2; stroke-opacity:0.1; fill:none\" points=\"\n",
       "  147.848,157.651 2352.76,157.651 \n",
       "  \"/>\n",
       "<polyline clip-path=\"url(#clip320)\" style=\"stroke:#000000; stroke-width:4; stroke-opacity:1; fill:none\" points=\"\n",
       "  147.848,1445.72 2352.76,1445.72 \n",
       "  \"/>\n",
       "<polyline clip-path=\"url(#clip320)\" style=\"stroke:#000000; stroke-width:4; stroke-opacity:1; fill:none\" points=\"\n",
       "  210.251,1486.45 210.251,47.2441 \n",
       "  \"/>\n",
       "<polyline clip-path=\"url(#clip320)\" style=\"stroke:#000000; stroke-width:4; stroke-opacity:1; fill:none\" points=\"\n",
       "  1250.3,1462.99 1250.3,1428.45 \n",
       "  \"/>\n",
       "<polyline clip-path=\"url(#clip320)\" style=\"stroke:#000000; stroke-width:4; stroke-opacity:1; fill:none\" points=\"\n",
       "  2290.35,1462.99 2290.35,1428.45 \n",
       "  \"/>\n",
       "<polyline clip-path=\"url(#clip320)\" style=\"stroke:#000000; stroke-width:4; stroke-opacity:1; fill:none\" points=\"\n",
       "  183.792,1016.36 236.71,1016.36 \n",
       "  \"/>\n",
       "<polyline clip-path=\"url(#clip320)\" style=\"stroke:#000000; stroke-width:4; stroke-opacity:1; fill:none\" points=\"\n",
       "  183.792,587.006 236.71,587.006 \n",
       "  \"/>\n",
       "<polyline clip-path=\"url(#clip320)\" style=\"stroke:#000000; stroke-width:4; stroke-opacity:1; fill:none\" points=\"\n",
       "  183.792,157.651 236.71,157.651 \n",
       "  \"/>\n",
       "<path clip-path=\"url(#clip320)\" d=\"M 0 0 M1240.68 1495.25 L1248.32 1495.25 L1248.32 1468.89 L1240.01 1470.55 L1240.01 1466.29 L1248.28 1464.63 L1252.95 1464.63 L1252.95 1495.25 L1260.59 1495.25 L1260.59 1499.19 L1240.68 1499.19 L1240.68 1495.25 Z\" fill=\"#000000\" fill-rule=\"evenodd\" fill-opacity=\"1\" /><path clip-path=\"url(#clip320)\" d=\"M 0 0 M2285.01 1495.25 L2301.33 1495.25 L2301.33 1499.19 L2279.38 1499.19 L2279.38 1495.25 Q2282.04 1492.5 2286.63 1487.87 Q2291.23 1483.22 2292.41 1481.87 Q2294.66 1479.35 2295.54 1477.61 Q2296.44 1475.85 2296.44 1474.16 Q2296.44 1471.41 2294.5 1469.67 Q2292.58 1467.94 2289.47 1467.94 Q2287.27 1467.94 2284.82 1468.7 Q2282.39 1469.47 2279.61 1471.02 L2279.61 1466.29 Q2282.44 1465.16 2284.89 1464.58 Q2287.34 1464 2289.38 1464 Q2294.75 1464 2297.95 1466.69 Q2301.14 1469.37 2301.14 1473.86 Q2301.14 1475.99 2300.33 1477.91 Q2299.54 1479.81 2297.44 1482.41 Q2296.86 1483.08 2293.76 1486.29 Q2290.65 1489.49 2285.01 1495.25 Z\" fill=\"#000000\" fill-rule=\"evenodd\" fill-opacity=\"1\" /><path clip-path=\"url(#clip320)\" d=\"M 0 0 M138.335 1002.16 Q134.724 1002.16 132.895 1005.72 Q131.09 1009.27 131.09 1016.4 Q131.09 1023.5 132.895 1027.07 Q134.724 1030.61 138.335 1030.61 Q141.969 1030.61 143.775 1027.07 Q145.603 1023.5 145.603 1016.4 Q145.603 1009.27 143.775 1005.72 Q141.969 1002.16 138.335 1002.16 M138.335 998.456 Q144.145 998.456 147.201 1003.06 Q150.279 1007.65 150.279 1016.4 Q150.279 1025.12 147.201 1029.73 Q144.145 1034.31 138.335 1034.31 Q132.525 1034.31 129.446 1029.73 Q126.391 1025.12 126.391 1016.4 Q126.391 1007.65 129.446 1003.06 Q132.525 998.456 138.335 998.456 Z\" fill=\"#000000\" fill-rule=\"evenodd\" fill-opacity=\"1\" /><path clip-path=\"url(#clip320)\" d=\"M 0 0 M155.349 1027.76 L160.233 1027.76 L160.233 1033.64 L155.349 1033.64 L155.349 1027.76 Z\" fill=\"#000000\" fill-rule=\"evenodd\" fill-opacity=\"1\" /><path clip-path=\"url(#clip320)\" d=\"M 0 0 M165.349 999.081 L183.705 999.081 L183.705 1003.02 L169.631 1003.02 L169.631 1011.49 Q170.65 1011.14 171.668 1010.98 Q172.687 1010.79 173.705 1010.79 Q179.492 1010.79 182.872 1013.96 Q186.251 1017.14 186.251 1022.55 Q186.251 1028.13 182.779 1031.23 Q179.307 1034.31 172.988 1034.31 Q170.812 1034.31 168.543 1033.94 Q166.298 1033.57 163.89 1032.83 L163.89 1028.13 Q165.974 1029.27 168.196 1029.82 Q170.418 1030.38 172.895 1030.38 Q176.9 1030.38 179.237 1028.27 Q181.575 1026.16 181.575 1022.55 Q181.575 1018.94 179.237 1016.84 Q176.9 1014.73 172.895 1014.73 Q171.02 1014.73 169.145 1015.15 Q167.293 1015.56 165.349 1016.44 L165.349 999.081 Z\" fill=\"#000000\" fill-rule=\"evenodd\" fill-opacity=\"1\" /><path clip-path=\"url(#clip320)\" d=\"M 0 0 M129.377 600.351 L137.015 600.351 L137.015 573.985 L128.705 575.652 L128.705 571.393 L136.969 569.726 L141.645 569.726 L141.645 600.351 L149.284 600.351 L149.284 604.286 L129.377 604.286 L129.377 600.351 Z\" fill=\"#000000\" fill-rule=\"evenodd\" fill-opacity=\"1\" /><path clip-path=\"url(#clip320)\" d=\"M 0 0 M154.353 598.406 L159.238 598.406 L159.238 604.286 L154.353 604.286 L154.353 598.406 Z\" fill=\"#000000\" fill-rule=\"evenodd\" fill-opacity=\"1\" /><path clip-path=\"url(#clip320)\" d=\"M 0 0 M174.307 572.805 Q170.696 572.805 168.867 576.369 Q167.062 579.911 167.062 587.041 Q167.062 594.147 168.867 597.712 Q170.696 601.253 174.307 601.253 Q177.941 601.253 179.747 597.712 Q181.575 594.147 181.575 587.041 Q181.575 579.911 179.747 576.369 Q177.941 572.805 174.307 572.805 M174.307 569.101 Q180.117 569.101 183.173 573.707 Q186.251 578.291 186.251 587.041 Q186.251 595.767 183.173 600.374 Q180.117 604.957 174.307 604.957 Q168.497 604.957 165.418 600.374 Q162.363 595.767 162.363 587.041 Q162.363 578.291 165.418 573.707 Q168.497 569.101 174.307 569.101 Z\" fill=\"#000000\" fill-rule=\"evenodd\" fill-opacity=\"1\" /><path clip-path=\"url(#clip320)\" d=\"M 0 0 M130.372 170.996 L138.011 170.996 L138.011 144.63 L129.701 146.297 L129.701 142.038 L137.965 140.371 L142.64 140.371 L142.64 170.996 L150.279 170.996 L150.279 174.931 L130.372 174.931 L130.372 170.996 Z\" fill=\"#000000\" fill-rule=\"evenodd\" fill-opacity=\"1\" /><path clip-path=\"url(#clip320)\" d=\"M 0 0 M155.349 169.051 L160.233 169.051 L160.233 174.931 L155.349 174.931 L155.349 169.051 Z\" fill=\"#000000\" fill-rule=\"evenodd\" fill-opacity=\"1\" /><path clip-path=\"url(#clip320)\" d=\"M 0 0 M165.349 140.371 L183.705 140.371 L183.705 144.306 L169.631 144.306 L169.631 152.778 Q170.65 152.431 171.668 152.269 Q172.687 152.084 173.705 152.084 Q179.492 152.084 182.872 155.255 Q186.251 158.426 186.251 163.843 Q186.251 169.422 182.779 172.524 Q179.307 175.602 172.988 175.602 Q170.812 175.602 168.543 175.232 Q166.298 174.862 163.89 174.121 L163.89 169.422 Q165.974 170.556 168.196 171.112 Q170.418 171.667 172.895 171.667 Q176.9 171.667 179.237 169.561 Q181.575 167.454 181.575 163.843 Q181.575 160.232 179.237 158.126 Q176.9 156.019 172.895 156.019 Q171.02 156.019 169.145 156.436 Q167.293 156.852 165.349 157.732 L165.349 140.371 Z\" fill=\"#000000\" fill-rule=\"evenodd\" fill-opacity=\"1\" /><polyline clip-path=\"url(#clip322)\" style=\"stroke:#000000; stroke-width:4; stroke-opacity:1; fill:none\" points=\"\n",
       "  210.251,1445.72 314.256,1174.17 418.261,1061.69 522.267,975.381 626.272,902.62 730.277,838.516 834.282,780.562 938.287,727.268 1042.29,677.662 1146.3,631.072 \n",
       "  1250.3,587.006 1354.31,545.093 1458.31,505.046 1562.32,466.636 1666.32,429.677 1770.33,394.015 1874.33,359.524 1978.34,326.095 2082.34,293.636 2186.35,262.066 \n",
       "  2290.35,231.317 \n",
       "  \"/>\n",
       "<polyline clip-path=\"url(#clip322)\" style=\"stroke:#e26f46; stroke-width:4; stroke-opacity:1; fill:none\" stroke-dasharray=\"16, 10\" points=\"\n",
       "  314.256,87.9763 418.261,485.649 522.267,661.824 626.272,766.846 730.277,838.516 834.282,891.421 938.287,932.538 1042.29,965.682 1146.3,993.136 1250.3,1016.36 \n",
       "  1354.31,1036.34 1458.31,1053.77 1562.32,1069.15 1666.32,1082.84 1770.33,1095.15 1874.33,1106.28 1978.34,1116.42 2082.34,1125.69 2186.35,1134.23 2290.35,1142.12 \n",
       "  \n",
       "  \"/>\n",
       "</svg>\n"
      ]
     },
     "execution_count": 21,
     "metadata": {},
     "output_type": "execute_result"
    }
   ],
   "source": [
    "graph_f_and_derivative(lf:.001:rt, f(x), lf:rt)"
   ]
  },
  {
   "cell_type": "code",
   "execution_count": 9,
   "metadata": {},
   "outputs": [
    {
     "data": {
      "text/latex": [
       "\\begin{equation*}1\\end{equation*}"
      ],
      "text/plain": [
       "1"
      ]
     },
     "execution_count": 9,
     "metadata": {},
     "output_type": "execute_result"
    }
   ],
   "source": []
  },
  {
   "cell_type": "code",
   "execution_count": null,
   "metadata": {},
   "outputs": [],
   "source": []
  }
 ],
 "metadata": {
  "@webio": {
   "lastCommId": null,
   "lastKernelId": null
  },
  "kernelspec": {
   "display_name": "Julia 1.5.0",
   "language": "julia",
   "name": "julia-1.5"
  },
  "language_info": {
   "file_extension": ".jl",
   "mimetype": "application/julia",
   "name": "julia",
   "version": "1.5.0"
  }
 },
 "nbformat": 4,
 "nbformat_minor": 4
}
