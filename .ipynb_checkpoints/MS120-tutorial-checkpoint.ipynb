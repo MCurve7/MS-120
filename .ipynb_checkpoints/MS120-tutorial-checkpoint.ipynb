{
 "cells": [
  {
   "cell_type": "markdown",
   "metadata": {},
   "source": [
    "# MS 120 Tutorial"
   ]
  },
  {
   "cell_type": "markdown",
   "metadata": {},
   "source": [
    "## Setup\n",
    "\n",
    "You may need to import some packages to run the commands below \n",
    "(you will certainly need to if you have made a fresh install of Julia).\n",
    "One of the packages that we will use is Python's SymPy package.\n",
    "Packages only need to be added once \n",
    "and can be added using the code:<br>\n",
    "`using Pkg`<br>\n",
    "`Pkg.add(\"SymPy\")`<br>\n",
    "\n",
    "To import this packages we use the command:<br>\n",
    "`using SymPy`\n",
    "\n",
    "but I have loaded all necessary packages as discussed below on the lab computers.\n",
    "At home you will need to install all of these packages.\n",
    "\n",
    "If any of the packges listed below have not been installed you will have to install them.\n",
    "You should be able to copy and paste the code below to install the packages:<br>\n",
    "`using Pkg`<br>\n",
    "`Pkg.add(\"PrettyTables\")`<br>\n",
    "`Pkg.add(\"SpecialFunctions\")`<br>\n",
    "`Pkg.add(\"Formatting\")`<br>\n",
    "`Pkg.add(\"Statistics\")`<br>\n",
    "`Pkg.add(\"DataFrames\")`<br>\n",
    "`Pkg.add(\"Plots\")`<br>\n",
    "`Pkg.add(\"Printf\")`<br>\n",
    "`Pkg.add(\"SymPy\")`<br>\n",
    "`Pkg.add(\"PyCall\")`<br>\n",
    "\n",
    "I have only predefined two variables, `x` and `h`.\n",
    "If you wish to use other variables you will have to run the following command:<br>\n",
    "`y = Sym(\"y\")`\n",
    "\n",
    "References:\n",
    "* Main: used [Symbolic math with julia](http://mth229.github.io/symbolic.html)"
   ]
  },
  {
   "cell_type": "markdown",
   "metadata": {},
   "source": [
    "## Basics\n",
    "The file `JSUMS120.jl` must be placed in the folder where you want to save your Notebook in\n",
    "and you must run the `include(\"JSUMS120.jl\")` command in your Notebook \n",
    "before you can use the functions described in this document.\n",
    "In addition to defining some of the functions we will use,\n",
    "it also imports the needed packages as discussed above.\n",
    "\n",
    "The commands we will use, \n",
    "where they are defined, \n",
    "and a very short description \n",
    "can be found in the table below.\n",
    "Note that the command names are linked to where I have introduced \n",
    "and show examples for that command.\n",
    "\n",
    "|command|where|description|\n",
    "|:-------|:-----|:-----------|\n",
    "|<a href='#simplify_cell'>simplify</a>|SymPy|simplifies expressions|\n",
    "|<a href='#factor_cell'>factor</a>|SymPy|factors expression|\n",
    "|<a href='#expand_cell'>expand</a>|SymPy|expands expression|\n",
    "|<a href='#N_cell'>N</a>|SymPy|convert to numerical|\n",
    "|<a href='#roots_cell'>roots</a>|SymPy|returns the roots and their multiplicity|\n",
    "|<a href='#solve_cell'>solve</a>|SymPy|solves an equation set =0|\n",
    "|<a href='#nsolve_cell'>nsolve</a>|SymPy|solve numerically|\n",
    "|<a href='#diff_cell'>diff</a>|SymPy|takes the derivative||\n",
    "|<a href='#integrate_cell'>integrate</a>|SymPy|integrates a function, both indefinite and definite|\n",
    "|<a href='#limittable_cell'>limittable</a>|JSUMS120|make nice table of values when taking a limit|\n",
    "|<a href='#lim_cell'>lim</a>|JSUMS120|same as SymPy limit except returns `missing` if left and right limits don't agree|\n",
    "|<a href='#signchart_cell'>signchart</a>|JSUMS120|genrate a sign chart for a function|\n",
    "|<a href='#functionplot_cell'>functionplot</a>|JSUMS120|plot a given function|\n",
    "|<a href='#plot_function_sign_chart_cell'>plot_function_sign_chart</a>|JSUMS120|plot a given function and its sign charts|\n",
    "|<a href='#summary_cell'>summary</a>|JSUMS120|returns information about a function necessary for graphing|\n",
    "|<a href='#clean_figs_folder_cell'>clean_figs_folder</a>|JSUMS120|needed when you change inputs for summary with the same function|\n",
    "|<a href='#graph_f_and_derivative_cell'>graph_f_and_derivative</a>|JSUMS120|plots a function and it's derivative|"
   ]
  },
  {
   "cell_type": "code",
   "execution_count": 8,
   "metadata": {},
   "outputs": [
    {
     "data": {
      "text/plain": [
       "graph_f_and_derivative"
      ]
     },
     "execution_count": 8,
     "metadata": {},
     "output_type": "execute_result"
    }
   ],
   "source": [
    "#include(\"JSUMS120/JSUMS120.jl\")\n",
    "include(\"JSUMS120-test.jl\")"
   ]
  },
  {
   "cell_type": "markdown",
   "metadata": {},
   "source": [
    "We can define a Julia function `f(x)`.\n",
    "The `fex` assignment allows us to \"evaluate\" the expression at the value as seen below."
   ]
  },
  {
   "cell_type": "code",
   "execution_count": 9,
   "metadata": {},
   "outputs": [
    {
     "data": {
      "text/latex": [
       "\\begin{equation*}e^{x^{2}}\\end{equation*}"
      ],
      "text/plain": [
       " / 2\\\n",
       " \\x /\n",
       "e    "
      ]
     },
     "execution_count": 9,
     "metadata": {},
     "output_type": "execute_result"
    }
   ],
   "source": [
    "f(x) = exp(x^2)\n",
    "fex = exp(x^2)\n",
    "f(x)"
   ]
  },
  {
   "cell_type": "markdown",
   "metadata": {},
   "source": [
    "If we evaluate `f(x)` at 2 Julia returns the numerical value."
   ]
  },
  {
   "cell_type": "code",
   "execution_count": 10,
   "metadata": {},
   "outputs": [
    {
     "data": {
      "text/plain": [
       "54.598150033144236"
      ]
     },
     "execution_count": 10,
     "metadata": {},
     "output_type": "execute_result"
    }
   ],
   "source": [
    "f(2)"
   ]
  },
  {
   "cell_type": "markdown",
   "metadata": {},
   "source": [
    "The subs function evaluates the function `f(x)` symbolically."
   ]
  },
  {
   "cell_type": "code",
   "execution_count": 11,
   "metadata": {},
   "outputs": [
    {
     "data": {
      "text/latex": [
       "\\begin{equation*}e^{4}\\end{equation*}"
      ],
      "text/plain": [
       " 4\n",
       "e "
      ]
     },
     "execution_count": 11,
     "metadata": {},
     "output_type": "execute_result"
    }
   ],
   "source": [
    "subs(f(x),  x, 2)"
   ]
  },
  {
   "cell_type": "markdown",
   "metadata": {},
   "source": [
    "Which we can also do using the variable `fex`:"
   ]
  },
  {
   "cell_type": "code",
   "execution_count": 12,
   "metadata": {},
   "outputs": [
    {
     "data": {
      "text/latex": [
       "\\begin{equation*}e^{4}\\end{equation*}"
      ],
      "text/plain": [
       " 4\n",
       "e "
      ]
     },
     "execution_count": 12,
     "metadata": {},
     "output_type": "execute_result"
    }
   ],
   "source": [
    "fex(2)"
   ]
  },
  {
   "cell_type": "markdown",
   "metadata": {},
   "source": [
    "Which can be evaluated numerically using the `N` function:"
   ]
  },
  {
   "cell_type": "code",
   "execution_count": 13,
   "metadata": {},
   "outputs": [
    {
     "data": {
      "text/plain": [
       "54.598150033144236"
      ]
     },
     "execution_count": 13,
     "metadata": {},
     "output_type": "execute_result"
    }
   ],
   "source": [
    "N(fex(2))"
   ]
  },
  {
   "cell_type": "markdown",
   "metadata": {},
   "source": [
    "***\n",
    "\n",
    "Help can be found using the `?` command."
   ]
  },
  {
   "cell_type": "markdown",
   "metadata": {},
   "source": [
    "***\n",
    "\n",
    "## Algebra Stuff"
   ]
  },
  {
   "cell_type": "markdown",
   "metadata": {},
   "source": [
    "`SymPy` can do algebra.\n",
    "For example it will simplify expressions."
   ]
  },
  {
   "cell_type": "code",
   "execution_count": 14,
   "metadata": {},
   "outputs": [
    {
     "data": {
      "text/latex": [
       "\\begin{equation*}3 x^{2} - 2 x - 11\\end{equation*}"
      ],
      "text/plain": [
       "   2           \n",
       "3*x  - 2*x - 11"
      ]
     },
     "execution_count": 14,
     "metadata": {},
     "output_type": "execute_result"
    }
   ],
   "source": [
    "x^2 + 5x +2x^2 -7x -11"
   ]
  },
  {
   "cell_type": "markdown",
   "metadata": {},
   "source": [
    "There are some things that it will not automatically simplify:"
   ]
  },
  {
   "cell_type": "code",
   "execution_count": 15,
   "metadata": {},
   "outputs": [
    {
     "data": {
      "text/latex": [
       "\\begin{equation*}x^{2} - 4 x - \\left(x - 2\\right)^{2} + 4\\end{equation*}"
      ],
      "text/plain": [
       " 2                2    \n",
       "x  - 4*x - (x - 2)  + 4"
      ]
     },
     "execution_count": 15,
     "metadata": {},
     "output_type": "execute_result"
    }
   ],
   "source": [
    "x^2-4x+4 - (x-2)^2"
   ]
  },
  {
   "cell_type": "markdown",
   "metadata": {},
   "source": [
    "<a id='simplify_cell'></a>\n",
    "But it can sometimes be coerced to go further using `simplify`:"
   ]
  },
  {
   "cell_type": "code",
   "execution_count": 16,
   "metadata": {},
   "outputs": [
    {
     "data": {
      "text/latex": [
       "\\begin{equation*}0\\end{equation*}"
      ],
      "text/plain": [
       "0"
      ]
     },
     "execution_count": 16,
     "metadata": {},
     "output_type": "execute_result"
    }
   ],
   "source": [
    "simplify(x^2-4x+4 - (x-2)^2)"
   ]
  },
  {
   "cell_type": "markdown",
   "metadata": {},
   "source": [
    "<a id='factor_cell'></a>\n",
    "It can also factor using the (shockingly named) `factor` function:"
   ]
  },
  {
   "cell_type": "code",
   "execution_count": 17,
   "metadata": {},
   "outputs": [
    {
     "data": {
      "text/latex": [
       "\\begin{equation*}\\left(x + 2\\right) \\left(x + 3\\right)\\end{equation*}"
      ],
      "text/plain": [
       "(x + 2)*(x + 3)"
      ]
     },
     "execution_count": 17,
     "metadata": {},
     "output_type": "execute_result"
    }
   ],
   "source": [
    "factor(x^2 + 5x + 6)"
   ]
  },
  {
   "cell_type": "code",
   "execution_count": 18,
   "metadata": {},
   "outputs": [
    {
     "data": {
      "text/latex": [
       "\\begin{equation*}\\left(x - 3\\right)^{2}\\end{equation*}"
      ],
      "text/plain": [
       "       2\n",
       "(x - 3) "
      ]
     },
     "execution_count": 18,
     "metadata": {},
     "output_type": "execute_result"
    }
   ],
   "source": [
    "factor(x^2 - 6x + 9)"
   ]
  },
  {
   "cell_type": "markdown",
   "metadata": {},
   "source": [
    "If we evaluate a factored form:"
   ]
  },
  {
   "cell_type": "code",
   "execution_count": 19,
   "metadata": {},
   "outputs": [
    {
     "data": {
      "text/latex": [
       "\\begin{equation*}\\left(x + 1\\right) \\left(x + 2\\right) \\left(x + 3\\right)\\end{equation*}"
      ],
      "text/plain": [
       "(x + 1)*(x + 2)*(x + 3)"
      ]
     },
     "execution_count": 19,
     "metadata": {},
     "output_type": "execute_result"
    }
   ],
   "source": [
    "p = (x + 1)*(x + 2)*(x + 3)"
   ]
  },
  {
   "cell_type": "markdown",
   "metadata": {},
   "source": [
    "<a id='expand_cell'></a>\n",
    "It remains factored,\n",
    "but can be forced to expand using `expand`:"
   ]
  },
  {
   "cell_type": "code",
   "execution_count": 20,
   "metadata": {},
   "outputs": [
    {
     "data": {
      "text/latex": [
       "\\begin{equation*}x^{3} + 6 x^{2} + 11 x + 6\\end{equation*}"
      ],
      "text/plain": [
       " 3      2           \n",
       "x  + 6*x  + 11*x + 6"
      ]
     },
     "execution_count": 20,
     "metadata": {},
     "output_type": "execute_result"
    }
   ],
   "source": [
    "p = expand(p)"
   ]
  },
  {
   "cell_type": "markdown",
   "metadata": {},
   "source": [
    "Note that if we left the Asterisk off in the above expression then it does something weird.\n",
    "Also if your spelling is as bad as mine you might spell it as Asterix but he is different from the symbol\n",
    "\n",
    "![](asterix-s.png)\n",
    "\n",
    "Anyway I don't know what is going on yet with the missing asterisks as can be seen below:"
   ]
  },
  {
   "cell_type": "code",
   "execution_count": 21,
   "metadata": {},
   "outputs": [
    {
     "data": {
      "text/latex": [
       "\\begin{equation*}x + 6\\end{equation*}"
      ],
      "text/plain": [
       "x + 6"
      ]
     },
     "execution_count": 21,
     "metadata": {},
     "output_type": "execute_result"
    }
   ],
   "source": [
    "(x + 1)(x + 2)(x + 3)"
   ]
  },
  {
   "cell_type": "markdown",
   "metadata": {},
   "source": [
    "We can factor our expression with `factor`:"
   ]
  },
  {
   "cell_type": "code",
   "execution_count": 22,
   "metadata": {},
   "outputs": [
    {
     "data": {
      "text/latex": [
       "\\begin{equation*}\\left(x + 1\\right) \\left(x + 2\\right) \\left(x + 3\\right)\\end{equation*}"
      ],
      "text/plain": [
       "(x + 1)*(x + 2)*(x + 3)"
      ]
     },
     "execution_count": 22,
     "metadata": {},
     "output_type": "execute_result"
    }
   ],
   "source": [
    "factor(p)"
   ]
  },
  {
   "cell_type": "markdown",
   "metadata": {},
   "source": [
    "<a id='roots_cell'></a>\n",
    "And find the roots with `roots`:"
   ]
  },
  {
   "cell_type": "code",
   "execution_count": 23,
   "metadata": {},
   "outputs": [
    {
     "data": {
      "text/plain": [
       "Dict{Any,Any} with 3 entries:\n",
       "  -3 => 1\n",
       "  -1 => 1\n",
       "  -2 => 1"
      ]
     },
     "execution_count": 23,
     "metadata": {},
     "output_type": "execute_result"
    }
   ],
   "source": [
    "roots(p)"
   ]
  },
  {
   "cell_type": "markdown",
   "metadata": {},
   "source": [
    "The reason for using a dictonary is that it also supplies the multiplicity."
   ]
  },
  {
   "cell_type": "code",
   "execution_count": 24,
   "metadata": {},
   "outputs": [
    {
     "data": {
      "text/plain": [
       "Dict{Any,Any} with 3 entries:\n",
       "  1 => 3\n",
       "  3 => 2\n",
       "  2 => 1"
      ]
     },
     "execution_count": 24,
     "metadata": {},
     "output_type": "execute_result"
    }
   ],
   "source": [
    "roots((x-1)^3*(x-2)*(x-3)^2)"
   ]
  },
  {
   "cell_type": "markdown",
   "metadata": {},
   "source": [
    "<a id='solve_cell'></a>\n",
    "Solve stuff here! `solve`."
   ]
  },
  {
   "cell_type": "code",
   "execution_count": 25,
   "metadata": {},
   "outputs": [
    {
     "data": {
      "text/latex": [
       "\\[ \\left[ \\begin{array}{r}\\frac{1}{2} - \\frac{\\sqrt{5}}{2}\\\\\\frac{1}{2} + \\frac{\\sqrt{5}}{2}\\end{array} \\right] \\]"
      ],
      "text/plain": [
       "2-element Array{Sym,1}:\n",
       " 1/2 - sqrt(5)/2\n",
       " 1/2 + sqrt(5)/2"
      ]
     },
     "execution_count": 25,
     "metadata": {},
     "output_type": "execute_result"
    }
   ],
   "source": [
    "vals = solve(x^2 - x - 1)"
   ]
  },
  {
   "cell_type": "markdown",
   "metadata": {},
   "source": [
    "<a id='N_cell'></a>\n",
    "To get the numerical values we use the notation `N.()`.\n",
    "Note the `.` between the `N` and the `()`.\n",
    "(This is called broadcasting and I don't think we need it anywhere else)."
   ]
  },
  {
   "cell_type": "code",
   "execution_count": 26,
   "metadata": {},
   "outputs": [
    {
     "data": {
      "text/plain": [
       "2-element Array{BigFloat,1}:\n",
       " -0.6180339887498948482045868343656381177203091798057628621354486227052604628189011\n",
       "  1.618033988749894848204586834365638117720309179805762862135448622705260462818892"
      ]
     },
     "execution_count": 26,
     "metadata": {},
     "output_type": "execute_result"
    }
   ],
   "source": [
    "N.(vals)"
   ]
  },
  {
   "cell_type": "markdown",
   "metadata": {},
   "source": [
    "<a id='nsolve_cell'></a>\n",
    "We can solve numerically with `nsolve`.\n",
    "In general it requires three arguments `nsolve(f, var, x0)` where:\n",
    "* `f` is the expression to be solved.\n",
    "* `var` is the variable in the expression (it can be omitted it there is only one variable).\n",
    "* `x0` is the initial guess.\n",
    "It only returns a single solution."
   ]
  },
  {
   "cell_type": "code",
   "execution_count": 27,
   "metadata": {},
   "outputs": [
    {
     "data": {
      "text/latex": [
       "\\begin{equation*}-0.6180339887498948482045868343656381177203091798057628621354486227052604628189\\end{equation*}"
      ],
      "text/plain": [
       "-0.618033988749894848204586834365638117720309179805762862135448622705260462818\n",
       "9"
      ]
     },
     "execution_count": 27,
     "metadata": {},
     "output_type": "execute_result"
    }
   ],
   "source": [
    "nsolve(x^2 - x - 1, x, 0)\n",
    "nsolve(x^2 - x - 1, 0)"
   ]
  },
  {
   "cell_type": "code",
   "execution_count": 28,
   "metadata": {},
   "outputs": [
    {
     "data": {
      "text/latex": [
       "\\begin{equation*}1.618033988749894848204586834365638117720309179805762862135448622705260462819\\end{equation*}"
      ],
      "text/plain": [
       "1.618033988749894848204586834365638117720309179805762862135448622705260462819"
      ]
     },
     "execution_count": 28,
     "metadata": {},
     "output_type": "execute_result"
    }
   ],
   "source": [
    "nsolve(x^2 - x - 1, 2)"
   ]
  },
  {
   "cell_type": "markdown",
   "metadata": {},
   "source": [
    "***\n",
    "\n",
    "## Calculus"
   ]
  },
  {
   "cell_type": "markdown",
   "metadata": {},
   "source": [
    "### Average Rates of Change\n",
    "\n",
    "**This section is totally experimental**\n",
    "\n",
    "The average rate of change for the function $f(x)$ from $a$ to $x$ is given by the formula\n",
    "$$v_{\\mbox{avg}} = \\frac{f(x)-f(a)}{x-a}=\\frac{f(a+h)-f(x)}{h}$$\n",
    "where $h = x-a$."
   ]
  },
  {
   "cell_type": "code",
   "execution_count": 29,
   "metadata": {},
   "outputs": [
    {
     "data": {
      "text/plain": [
       "v_avg (generic function with 1 method)"
      ]
     },
     "execution_count": 29,
     "metadata": {},
     "output_type": "execute_result"
    }
   ],
   "source": [
    "v_avg(f, a) = (f(x) - f(a))/(x-a)"
   ]
  },
  {
   "cell_type": "code",
   "execution_count": 30,
   "metadata": {},
   "outputs": [
    {
     "data": {
      "text/plain": [
       "f̅ (generic function with 1 method)"
      ]
     },
     "execution_count": 30,
     "metadata": {},
     "output_type": "execute_result"
    }
   ],
   "source": [
    "f̅(x) = x^2 #f\\overbar + TAB"
   ]
  },
  {
   "cell_type": "code",
   "execution_count": 31,
   "metadata": {},
   "outputs": [
    {
     "data": {
      "text/latex": [
       "\\begin{equation*}\\frac{x^{2} - 4}{x - 2}\\end{equation*}"
      ],
      "text/plain": [
       " 2    \n",
       "x  - 4\n",
       "------\n",
       "x - 2 "
      ]
     },
     "execution_count": 31,
     "metadata": {},
     "output_type": "execute_result"
    }
   ],
   "source": [
    "f̅avg = v_avg(f̅(x), 2)"
   ]
  },
  {
   "cell_type": "code",
   "execution_count": 32,
   "metadata": {},
   "outputs": [
    {
     "data": {
      "text/latex": [
       "\\begin{equation*}x + 2\\end{equation*}"
      ],
      "text/plain": [
       "x + 2"
      ]
     },
     "execution_count": 32,
     "metadata": {},
     "output_type": "execute_result"
    }
   ],
   "source": [
    "simplify(f̅avg)"
   ]
  },
  {
   "cell_type": "markdown",
   "metadata": {},
   "source": [
    "### Limits\n",
    "<a id='limittable_cell'></a>\n",
    "We can use the `limittable` command to make a table for evaluating limits.\n",
    "\n",
    "So below we have \n",
    "$$\\lim_{x \\to 2}f̅(x).$$"
   ]
  },
  {
   "cell_type": "code",
   "execution_count": 33,
   "metadata": {},
   "outputs": [
    {
     "data": {
      "text/html": [
       "<table>\n",
       "<caption style=\"text-align:center\">Limit table</caption>\n",
       "<tr>\n",
       "    <th style=\"text-align:center; background-color: lightblue; scope: colgroup\">Left</th>\n",
       "    <th style=\"text-align:center; background-color: lightcoral; scope: colgroup\">Right</th>\n",
       "</tr>\n",
       "<tr>\n",
       "    <td>\n",
       "        <table style=\"text-align:center; background-color: lightblue\">\n",
       "          <tr>\n",
       "            <th scope: col>x</th>\n",
       "            <th scope: col>y</th>\n",
       "          </tr>\n",
       "          <tr>\n",
       "              <td>1.00000000</td>\n",
       "              <td>1.00000000</td>\n",
       "            </tr><tr>\n",
       "              <td>1.50000000</td>\n",
       "              <td>2.25000000</td>\n",
       "            </tr><tr>\n",
       "              <td>1.90000000</td>\n",
       "              <td>3.61000000</td>\n",
       "            </tr><tr>\n",
       "              <td>1.99000000</td>\n",
       "              <td>3.96010000</td>\n",
       "            </tr><tr>\n",
       "              <td>1.99900000</td>\n",
       "              <td>3.99600100</td>\n",
       "            </tr>    </table>\n",
       "</td>\n",
       "<td>\n",
       "    <table style=\"text-align:center; background-color: lightcoral\">\n",
       "      <tr>\n",
       "        <th scope: col>x</th>\n",
       "        <th scope: col>y</th>\n",
       "      </tr>\n",
       "  <tr>\n",
       "              <td>3.00000000</td>\n",
       "              <td>9.00000000</td>\n",
       "            </tr><tr>\n",
       "              <td>2.50000000</td>\n",
       "              <td>6.25000000</td>\n",
       "            </tr><tr>\n",
       "              <td>2.10000000</td>\n",
       "              <td>4.41000000</td>\n",
       "            </tr><tr>\n",
       "              <td>2.01000000</td>\n",
       "              <td>4.04010000</td>\n",
       "            </tr><tr>\n",
       "              <td>2.00100000</td>\n",
       "              <td>4.00400100</td>\n",
       "            </tr>        </table>\n",
       "    </td>\n",
       "</tr>\n",
       "</table>\n"
      ]
     },
     "metadata": {},
     "output_type": "display_data"
    }
   ],
   "source": [
    "limittable(f̅(x), 2)"
   ]
  },
  {
   "cell_type": "markdown",
   "metadata": {},
   "source": [
    "I set the default number of rows to $5$, \n",
    "but this can be changed with the `rows` argument:"
   ]
  },
  {
   "cell_type": "code",
   "execution_count": 34,
   "metadata": {},
   "outputs": [
    {
     "data": {
      "text/html": [
       "<table>\n",
       "<caption style=\"text-align:center\">Limit table</caption>\n",
       "<tr>\n",
       "    <th style=\"text-align:center; background-color: lightblue; scope: colgroup\">Left</th>\n",
       "    <th style=\"text-align:center; background-color: lightcoral; scope: colgroup\">Right</th>\n",
       "</tr>\n",
       "<tr>\n",
       "    <td>\n",
       "        <table style=\"text-align:center; background-color: lightblue\">\n",
       "          <tr>\n",
       "            <th scope: col>x</th>\n",
       "            <th scope: col>y</th>\n",
       "          </tr>\n",
       "          <tr>\n",
       "              <td>1.00000000</td>\n",
       "              <td>1.00000000</td>\n",
       "            </tr><tr>\n",
       "              <td>1.50000000</td>\n",
       "              <td>2.25000000</td>\n",
       "            </tr><tr>\n",
       "              <td>1.90000000</td>\n",
       "              <td>3.61000000</td>\n",
       "            </tr><tr>\n",
       "              <td>1.99000000</td>\n",
       "              <td>3.96010000</td>\n",
       "            </tr><tr>\n",
       "              <td>1.99900000</td>\n",
       "              <td>3.99600100</td>\n",
       "            </tr><tr>\n",
       "              <td>1.99990000</td>\n",
       "              <td>3.99960001</td>\n",
       "            </tr><tr>\n",
       "              <td>1.99999000</td>\n",
       "              <td>3.99996000</td>\n",
       "            </tr><tr>\n",
       "              <td>1.99999900</td>\n",
       "              <td>3.99999600</td>\n",
       "            </tr><tr>\n",
       "              <td>1.99999990</td>\n",
       "              <td>3.99999960</td>\n",
       "            </tr><tr>\n",
       "              <td>1.99999999</td>\n",
       "              <td>3.99999996</td>\n",
       "            </tr>    </table>\n",
       "</td>\n",
       "<td>\n",
       "    <table style=\"text-align:center; background-color: lightcoral\">\n",
       "      <tr>\n",
       "        <th scope: col>x</th>\n",
       "        <th scope: col>y</th>\n",
       "      </tr>\n",
       "  <tr>\n",
       "              <td>3.00000000</td>\n",
       "              <td>9.00000000</td>\n",
       "            </tr><tr>\n",
       "              <td>2.50000000</td>\n",
       "              <td>6.25000000</td>\n",
       "            </tr><tr>\n",
       "              <td>2.10000000</td>\n",
       "              <td>4.41000000</td>\n",
       "            </tr><tr>\n",
       "              <td>2.01000000</td>\n",
       "              <td>4.04010000</td>\n",
       "            </tr><tr>\n",
       "              <td>2.00100000</td>\n",
       "              <td>4.00400100</td>\n",
       "            </tr><tr>\n",
       "              <td>2.00010000</td>\n",
       "              <td>4.00040001</td>\n",
       "            </tr><tr>\n",
       "              <td>2.00001000</td>\n",
       "              <td>4.00004000</td>\n",
       "            </tr><tr>\n",
       "              <td>2.00000100</td>\n",
       "              <td>4.00000400</td>\n",
       "            </tr><tr>\n",
       "              <td>2.00000010</td>\n",
       "              <td>4.00000040</td>\n",
       "            </tr><tr>\n",
       "              <td>2.00000001</td>\n",
       "              <td>4.00000004</td>\n",
       "            </tr>        </table>\n",
       "    </td>\n",
       "</tr>\n",
       "</table>\n"
      ]
     },
     "metadata": {},
     "output_type": "display_data"
    }
   ],
   "source": [
    "limittable(f̅(x), 2, rows=10)"
   ]
  },
  {
   "cell_type": "markdown",
   "metadata": {},
   "source": [
    "We can change the format of the numbers using c-style printf codes http://www.cplusplus.com/reference/cstdio/printf/"
   ]
  },
  {
   "cell_type": "code",
   "execution_count": 35,
   "metadata": {},
   "outputs": [
    {
     "data": {
      "text/html": [
       "<table>\n",
       "<caption style=\"text-align:center\">Limit table</caption>\n",
       "<tr>\n",
       "    <th style=\"text-align:center; background-color: lightblue; scope: colgroup\">Left</th>\n",
       "    <th style=\"text-align:center; background-color: lightcoral; scope: colgroup\">Right</th>\n",
       "</tr>\n",
       "<tr>\n",
       "    <td>\n",
       "        <table style=\"text-align:center; background-color: lightblue\">\n",
       "          <tr>\n",
       "            <th scope: col>x</th>\n",
       "            <th scope: col>y</th>\n",
       "          </tr>\n",
       "          <tr>\n",
       "              <td>1.00000000000000</td>\n",
       "              <td>1.00000000000000</td>\n",
       "            </tr><tr>\n",
       "              <td>1.50000000000000</td>\n",
       "              <td>2.25000000000000</td>\n",
       "            </tr><tr>\n",
       "              <td>1.90000000000000</td>\n",
       "              <td>3.61000000000000</td>\n",
       "            </tr><tr>\n",
       "              <td>1.99000000000000</td>\n",
       "              <td>3.96010000000000</td>\n",
       "            </tr><tr>\n",
       "              <td>1.99900000000000</td>\n",
       "              <td>3.99600100000000</td>\n",
       "            </tr><tr>\n",
       "              <td>1.99990000000000</td>\n",
       "              <td>3.99960001000000</td>\n",
       "            </tr><tr>\n",
       "              <td>1.99999000000000</td>\n",
       "              <td>3.99996000010000</td>\n",
       "            </tr><tr>\n",
       "              <td>1.99999900000000</td>\n",
       "              <td>3.99999600000100</td>\n",
       "            </tr><tr>\n",
       "              <td>1.99999990000000</td>\n",
       "              <td>3.99999960000001</td>\n",
       "            </tr><tr>\n",
       "              <td>1.99999999000000</td>\n",
       "              <td>3.99999996000000</td>\n",
       "            </tr>    </table>\n",
       "</td>\n",
       "<td>\n",
       "    <table style=\"text-align:center; background-color: lightcoral\">\n",
       "      <tr>\n",
       "        <th scope: col>x</th>\n",
       "        <th scope: col>y</th>\n",
       "      </tr>\n",
       "  <tr>\n",
       "              <td>3.00000000000000</td>\n",
       "              <td>9.00000000000000</td>\n",
       "            </tr><tr>\n",
       "              <td>2.50000000000000</td>\n",
       "              <td>6.25000000000000</td>\n",
       "            </tr><tr>\n",
       "              <td>2.10000000000000</td>\n",
       "              <td>4.41000000000000</td>\n",
       "            </tr><tr>\n",
       "              <td>2.01000000000000</td>\n",
       "              <td>4.04010000000000</td>\n",
       "            </tr><tr>\n",
       "              <td>2.00100000000000</td>\n",
       "              <td>4.00400100000000</td>\n",
       "            </tr><tr>\n",
       "              <td>2.00010000000000</td>\n",
       "              <td>4.00040001000000</td>\n",
       "            </tr><tr>\n",
       "              <td>2.00001000000000</td>\n",
       "              <td>4.00004000010000</td>\n",
       "            </tr><tr>\n",
       "              <td>2.00000100000000</td>\n",
       "              <td>4.00000400000100</td>\n",
       "            </tr><tr>\n",
       "              <td>2.00000010000000</td>\n",
       "              <td>4.00000040000001</td>\n",
       "            </tr><tr>\n",
       "              <td>2.00000001000000</td>\n",
       "              <td>4.00000004000000</td>\n",
       "            </tr>        </table>\n",
       "    </td>\n",
       "</tr>\n",
       "</table>\n"
      ]
     },
     "metadata": {},
     "output_type": "display_data"
    }
   ],
   "source": [
    "limittable(f̅(x), 2, rows=10, format=\"%15.14f\")"
   ]
  },
  {
   "cell_type": "markdown",
   "metadata": {},
   "source": [
    "We can also take left and right hand limits.\n",
    "$$\\lim_{x \\to 2^-}f̅(x).$$"
   ]
  },
  {
   "cell_type": "code",
   "execution_count": 36,
   "metadata": {},
   "outputs": [
    {
     "data": {
      "text/html": [
       "<table style=\"text-align:center; background-color: lightblue\">\n",
       "<caption style=\"text-align:center\">Limit table: approach from the left</caption>\n",
       "    <tr>\n",
       "        <th scope: col>x</th>\n",
       "        <th scope: col>y</th>\n",
       "    </tr><tr>\n",
       "              <td>1.00000000</td>\n",
       "              <td>1.00000000</td>\n",
       "            </tr><tr>\n",
       "              <td>1.50000000</td>\n",
       "              <td>2.25000000</td>\n",
       "            </tr><tr>\n",
       "              <td>1.90000000</td>\n",
       "              <td>3.61000000</td>\n",
       "            </tr><tr>\n",
       "              <td>1.99000000</td>\n",
       "              <td>3.96010000</td>\n",
       "            </tr><tr>\n",
       "              <td>1.99900000</td>\n",
       "              <td>3.99600100</td>\n",
       "            </tr></table>"
      ]
     },
     "metadata": {},
     "output_type": "display_data"
    }
   ],
   "source": [
    "limittable(f̅(x), 2, dir=\"-\")"
   ]
  },
  {
   "cell_type": "markdown",
   "metadata": {},
   "source": [
    "$$\\lim_{x \\to 2^+}f̅(x).$$"
   ]
  },
  {
   "cell_type": "markdown",
   "metadata": {},
   "source": [
    "We can also take the limit as $x$ approaches $\\infty$s.\n",
    "Note that $\\infty$ is denoted by two lower case \"oh\"s:\n",
    "$$\\lim_{x \\to \\infty}f̅(x)$$"
   ]
  },
  {
   "cell_type": "code",
   "execution_count": 38,
   "metadata": {},
   "outputs": [
    {
     "data": {
      "text/html": [
       "<table style=\"text-align:center; background-color: lightcoral\">\n",
       "<caption style=\"text-align:center\">Limit table: x approaching &#8734;</caption>\n",
       "    <tr>\n",
       "        <th scope: col>x</th>\n",
       "        <th scope: col>y</th>\n",
       "    </tr><tr>\n",
       "              <td>    100.00</td>\n",
       "              <td>  10000.00</td>\n",
       "            </tr><tr>\n",
       "              <td>   1000.00</td>\n",
       "              <td>1000000.00</td>\n",
       "            </tr><tr>\n",
       "              <td>  10000.00</td>\n",
       "              <td>100000000.00</td>\n",
       "            </tr><tr>\n",
       "              <td> 100000.00</td>\n",
       "              <td>10000000000.00</td>\n",
       "            </tr><tr>\n",
       "              <td>1000000.00</td>\n",
       "              <td>1000000000000.00</td>\n",
       "            </tr></table>"
      ]
     },
     "metadata": {},
     "output_type": "display_data"
    }
   ],
   "source": [
    "limittable(f̅(x), ∞)"
   ]
  },
  {
   "cell_type": "code",
   "execution_count": 39,
   "metadata": {},
   "outputs": [
    {
     "data": {
      "text/html": [
       "<table style=\"text-align:center; background-color: lightcoral\">\n",
       "<caption style=\"text-align:center\">Limit table: approach from the right</caption>\n",
       "    <tr>\n",
       "        <th scope: col>x</th>\n",
       "        <th scope: col>y</th>\n",
       "    </tr><tr>\n",
       "              <td>3.00000000</td>\n",
       "              <td>9.00000000</td>\n",
       "            </tr><tr>\n",
       "              <td>2.50000000</td>\n",
       "              <td>6.25000000</td>\n",
       "            </tr><tr>\n",
       "              <td>2.10000000</td>\n",
       "              <td>4.41000000</td>\n",
       "            </tr><tr>\n",
       "              <td>2.01000000</td>\n",
       "              <td>4.04010000</td>\n",
       "            </tr><tr>\n",
       "              <td>2.00100000</td>\n",
       "              <td>4.00400100</td>\n",
       "            </tr></table>"
      ]
     },
     "metadata": {},
     "output_type": "display_data"
    }
   ],
   "source": [
    "limittable(f̅(x), 2, dir=\"+\")"
   ]
  },
  {
   "cell_type": "code",
   "execution_count": 40,
   "metadata": {},
   "outputs": [
    {
     "data": {
      "text/html": [
       "<!DOCTYPE html>\n",
       "<html>\n",
       "<meta charset=\"UTF-8\">\n",
       "<style>\n",
       "table, td, th {\n",
       "    border-collapse: collapse;\n",
       "    font-family: sans-serif;\n",
       "}\n",
       "\n",
       "td, th {\n",
       "    border-bottom: 0;\n",
       "    padding: 4px\n",
       "}\n",
       "\n",
       "tr:nth-child(odd) {\n",
       "    background: #eee;\n",
       "}\n",
       "\n",
       "tr:nth-child(even) {\n",
       "    background: #fff;\n",
       "}\n",
       "\n",
       "tr.header {\n",
       "    background: navy !important;\n",
       "    color: white;\n",
       "    font-weight: bold;\n",
       "}\n",
       "\n",
       "tr.subheader {\n",
       "    background: lightgray !important;\n",
       "    color: black;\n",
       "}\n",
       "\n",
       "tr.headerLastRow {\n",
       "    border-bottom: 2px solid black;\n",
       "}\n",
       "\n",
       "th.rowNumber, td.rowNumber {\n",
       "    text-align: right;\n",
       "}\n",
       "\n",
       "</style>\n",
       "<body>\n",
       "<table>\n",
       "<tr class = \"header headerLastRow\">\n",
       "<th style = \"text-align: right; \">x</th>\n",
       "<th style = \"text-align: right; \">y</th>\n",
       "</tr>\n",
       "<tr>\n",
       "<td style = \"text-align: right; \">3.00000000</td>\n",
       "<td style = \"text-align: right; \">9.00000000</td>\n",
       "</tr>\n",
       "<tr>\n",
       "<td style = \"color: red; text-align: right; \">2.50000000</td>\n",
       "<td style = \"color: red; text-align: right; \">6.25000000</td>\n",
       "</tr>\n",
       "<tr>\n",
       "<td style = \"text-align: right; \">2.10000000</td>\n",
       "<td style = \"text-align: right; \">4.41000000</td>\n",
       "</tr>\n",
       "<tr>\n",
       "<td style = \"color: red; text-align: right; \">2.01000000</td>\n",
       "<td style = \"color: red; text-align: right; \">4.04010000</td>\n",
       "</tr>\n",
       "<tr>\n",
       "<td style = \"text-align: right; \">2.00100000</td>\n",
       "<td style = \"text-align: right; \">4.00400100</td>\n",
       "</tr>\n",
       "</table>\n",
       "</body>\n",
       "</html>\n"
      ]
     },
     "metadata": {},
     "output_type": "display_data"
    }
   ],
   "source": [
    "limittable_pt(f̅(x), 2, dir=\"+\")"
   ]
  },
  {
   "cell_type": "markdown",
   "metadata": {},
   "source": [
    "or\n",
    "$$\\lim_{x \\to -\\infty}f̅(x)$$"
   ]
  },
  {
   "cell_type": "code",
   "execution_count": 41,
   "metadata": {},
   "outputs": [
    {
     "data": {
      "text/html": [
       "<table style=\"text-align:center; background-color: lightblue\">\n",
       "<caption style=\"text-align:center\">Limit table: x approaching -&#8734;</caption>\n",
       "    <tr>\n",
       "        <th scope: col>x</th>\n",
       "        <th scope: col>y</th>\n",
       "    </tr><tr>\n",
       "              <td>   -100.00</td>\n",
       "              <td>  10000.00</td>\n",
       "            </tr><tr>\n",
       "              <td>  -1000.00</td>\n",
       "              <td>1000000.00</td>\n",
       "            </tr><tr>\n",
       "              <td> -10000.00</td>\n",
       "              <td>100000000.00</td>\n",
       "            </tr><tr>\n",
       "              <td>-100000.00</td>\n",
       "              <td>10000000000.00</td>\n",
       "            </tr><tr>\n",
       "              <td>-1000000.00</td>\n",
       "              <td>1000000000000.00</td>\n",
       "            </tr></table>"
      ]
     },
     "metadata": {},
     "output_type": "display_data"
    }
   ],
   "source": [
    "limittable(f̅(x), -∞)"
   ]
  },
  {
   "cell_type": "markdown",
   "metadata": {},
   "source": [
    "Understanding limits is very important.\n",
    "It is used in CS when discussing asymptotic anaylsis of algorithms,\n",
    "e.g. how fast is an algorithm.\n",
    "\n",
    "If the limit of the function $f(x)$ \n",
    "as $x$ approches the value $a$ \n",
    "($x \\to a$)\n",
    "is the value $L$,\n",
    "then we write\n",
    "$$\\lim_{x \\to a} f(x) = L.$$\n",
    "\n",
    "<a id='lim_cell'></a>\n",
    "This can be found using the `lim` function.\n",
    "So let us find \n",
    "$$\\lim_{x \\to 3} x^2.$$"
   ]
  },
  {
   "cell_type": "code",
   "execution_count": 42,
   "metadata": {},
   "outputs": [
    {
     "data": {
      "text/latex": [
       "\\begin{equation*}9\\end{equation*}"
      ],
      "text/plain": [
       "9"
      ]
     },
     "execution_count": 42,
     "metadata": {},
     "output_type": "execute_result"
    }
   ],
   "source": [
    "lim(x^2, x, 3)"
   ]
  },
  {
   "cell_type": "markdown",
   "metadata": {},
   "source": [
    "So we can see that\n",
    "$$\\lim_{x \\to 3} x^2 = 9.$$\n",
    "\n",
    "Now recalling that we defined $f(x) = e^{x^2}$\n",
    "we can find the limit of it as $x$ approaches $1$."
   ]
  },
  {
   "cell_type": "code",
   "execution_count": 43,
   "metadata": {},
   "outputs": [
    {
     "data": {
      "text/latex": [
       "\\begin{equation*}e\\end{equation*}"
      ],
      "text/plain": [
       "E"
      ]
     },
     "execution_count": 43,
     "metadata": {},
     "output_type": "execute_result"
    }
   ],
   "source": [
    "lim(f(x), x, 1)"
   ]
  },
  {
   "cell_type": "code",
   "execution_count": 44,
   "metadata": {},
   "outputs": [
    {
     "data": {
      "text/plain": [
       "ℯ = 2.7182818284590..."
      ]
     },
     "execution_count": 44,
     "metadata": {},
     "output_type": "execute_result"
    }
   ],
   "source": [
    "N(lim(f(x), x, 1))"
   ]
  },
  {
   "cell_type": "markdown",
   "metadata": {},
   "source": [
    "Sometimes we need to know what the limit of a function is at $\\infty$.\n",
    "Infinity is symbolized by `oo` (two lower case o's) in SymPy.\n",
    "Since \n",
    "$$\\lim_{x \\to \\infty} \\frac{1}{x} = 0$$\n",
    "we see:"
   ]
  },
  {
   "cell_type": "code",
   "execution_count": 46,
   "metadata": {},
   "outputs": [
    {
     "data": {
      "text/latex": [
       "\\begin{equation*}0\\end{equation*}"
      ],
      "text/plain": [
       "0"
      ]
     },
     "execution_count": 46,
     "metadata": {},
     "output_type": "execute_result"
    }
   ],
   "source": [
    "lim(1/x, x, oo)"
   ]
  },
  {
   "cell_type": "markdown",
   "metadata": {},
   "source": [
    "But I have defined the symbol $\\infty$ (entered by typing the following and hitting TAB  \\infty\\TAB)\n",
    "to be `oo`.\n"
   ]
  },
  {
   "cell_type": "code",
   "execution_count": 47,
   "metadata": {},
   "outputs": [
    {
     "data": {
      "text/latex": [
       "\\begin{equation*}0\\end{equation*}"
      ],
      "text/plain": [
       "0"
      ]
     },
     "execution_count": 47,
     "metadata": {},
     "output_type": "execute_result"
    }
   ],
   "source": [
    "lim(1/x, x, ∞)"
   ]
  },
  {
   "cell_type": "markdown",
   "metadata": {},
   "source": [
    "And \n",
    "$$\\lim_{x \\to \\infty} x^2 = \\infty$$"
   ]
  },
  {
   "cell_type": "code",
   "execution_count": 49,
   "metadata": {},
   "outputs": [
    {
     "data": {
      "text/latex": [
       "\\begin{equation*}\\infty\\end{equation*}"
      ],
      "text/plain": [
       "oo"
      ]
     },
     "execution_count": 49,
     "metadata": {},
     "output_type": "execute_result"
    }
   ],
   "source": [
    "lim(x^2, x, ∞)"
   ]
  },
  {
   "cell_type": "markdown",
   "metadata": {},
   "source": [
    "And \n",
    "$$\\lim_{x \\to -\\infty} x^3 = -\\infty$$"
   ]
  },
  {
   "cell_type": "code",
   "execution_count": 50,
   "metadata": {},
   "outputs": [
    {
     "data": {
      "text/latex": [
       "\\begin{equation*}-\\infty\\end{equation*}"
      ],
      "text/plain": [
       "-oo"
      ]
     },
     "execution_count": 50,
     "metadata": {},
     "output_type": "execute_result"
    }
   ],
   "source": [
    "lim(x^3, x, -∞)"
   ]
  },
  {
   "cell_type": "markdown",
   "metadata": {},
   "source": [
    "We can take one sided limits.\n",
    "This can be necessary for several reasons.\n",
    "When we try to take the following limit\n",
    "$$\\lim_{x \\to 0} \\dfrac{1}{x}$$\n",
    "we get the result `missing` indicating that the limit does not exist."
   ]
  },
  {
   "cell_type": "code",
   "execution_count": 51,
   "metadata": {},
   "outputs": [
    {
     "data": {
      "text/plain": [
       "missing"
      ]
     },
     "execution_count": 51,
     "metadata": {},
     "output_type": "execute_result"
    }
   ],
   "source": [
    "lim(1/x, x, 0)"
   ]
  },
  {
   "cell_type": "markdown",
   "metadata": {},
   "source": [
    "Why? See table of limits:"
   ]
  },
  {
   "cell_type": "code",
   "execution_count": 52,
   "metadata": {},
   "outputs": [
    {
     "data": {
      "text/html": [
       "<table>\n",
       "<caption style=\"text-align:center\">Limit table</caption>\n",
       "<tr>\n",
       "    <th style=\"text-align:center; background-color: lightblue; scope: colgroup\">Left</th>\n",
       "    <th style=\"text-align:center; background-color: lightcoral; scope: colgroup\">Right</th>\n",
       "</tr>\n",
       "<tr>\n",
       "    <td>\n",
       "        <table style=\"text-align:center; background-color: lightblue\">\n",
       "          <tr>\n",
       "            <th scope: col>x</th>\n",
       "            <th scope: col>y</th>\n",
       "          </tr>\n",
       "          <tr>\n",
       "              <td>-1.00000000</td>\n",
       "              <td>-1.00000000</td>\n",
       "            </tr><tr>\n",
       "              <td>-0.50000000</td>\n",
       "              <td>-2.00000000</td>\n",
       "            </tr><tr>\n",
       "              <td>-0.10000000</td>\n",
       "              <td>-10.00000000</td>\n",
       "            </tr><tr>\n",
       "              <td>-0.01000000</td>\n",
       "              <td>-100.00000000</td>\n",
       "            </tr><tr>\n",
       "              <td>-0.00100000</td>\n",
       "              <td>-1000.00000000</td>\n",
       "            </tr>    </table>\n",
       "</td>\n",
       "<td>\n",
       "    <table style=\"text-align:center; background-color: lightcoral\">\n",
       "      <tr>\n",
       "        <th scope: col>x</th>\n",
       "        <th scope: col>y</th>\n",
       "      </tr>\n",
       "  <tr>\n",
       "              <td>1.00000000</td>\n",
       "              <td>1.00000000</td>\n",
       "            </tr><tr>\n",
       "              <td>0.50000000</td>\n",
       "              <td>2.00000000</td>\n",
       "            </tr><tr>\n",
       "              <td>0.10000000</td>\n",
       "              <td>10.00000000</td>\n",
       "            </tr><tr>\n",
       "              <td>0.01000000</td>\n",
       "              <td>100.00000000</td>\n",
       "            </tr><tr>\n",
       "              <td>0.00100000</td>\n",
       "              <td>1000.00000000</td>\n",
       "            </tr>        </table>\n",
       "    </td>\n",
       "</tr>\n",
       "</table>\n"
      ]
     },
     "metadata": {},
     "output_type": "display_data"
    }
   ],
   "source": [
    "limittable(1/x, 0)"
   ]
  },
  {
   "cell_type": "markdown",
   "metadata": {},
   "source": [
    "$$\\lim_{x \\to 0^-} \\dfrac{1}{x} = -\\infty \\mbox{ and } \\lim_{x \\to 0^+} \\dfrac{1}{x} = \\infty$$"
   ]
  },
  {
   "cell_type": "code",
   "execution_count": 53,
   "metadata": {},
   "outputs": [
    {
     "data": {
      "text/latex": [
       "\\begin{equation*}\\infty\\end{equation*}"
      ],
      "text/plain": [
       "oo"
      ]
     },
     "execution_count": 53,
     "metadata": {},
     "output_type": "execute_result"
    }
   ],
   "source": [
    "limit(1/x, x, 0, dir=\"+\")"
   ]
  },
  {
   "cell_type": "code",
   "execution_count": 54,
   "metadata": {},
   "outputs": [
    {
     "data": {
      "text/latex": [
       "\\begin{equation*}-\\infty\\end{equation*}"
      ],
      "text/plain": [
       "-oo"
      ]
     },
     "execution_count": 54,
     "metadata": {},
     "output_type": "execute_result"
    }
   ],
   "source": [
    "limit(1/x, x, 0, dir=\"-\")"
   ]
  },
  {
   "cell_type": "markdown",
   "metadata": {},
   "source": [
    "### Derivatives\n",
    "\n",
    "<a id='diff_cell'></a>\n",
    "SymPy also knows how to take derivatives symbolically using the `diff` command."
   ]
  },
  {
   "cell_type": "code",
   "execution_count": 45,
   "metadata": {},
   "outputs": [
    {
     "data": {
      "text/latex": [
       "\\begin{equation*}2 x\\end{equation*}"
      ],
      "text/plain": [
       "2*x"
      ]
     },
     "execution_count": 45,
     "metadata": {},
     "output_type": "execute_result"
    }
   ],
   "source": [
    "diff(x^2)"
   ]
  },
  {
   "cell_type": "code",
   "execution_count": 46,
   "metadata": {},
   "outputs": [
    {
     "data": {
      "text/latex": [
       "\\begin{equation*}5 x^{4}\\end{equation*}"
      ],
      "text/plain": [
       "   4\n",
       "5*x "
      ]
     },
     "execution_count": 46,
     "metadata": {},
     "output_type": "execute_result"
    }
   ],
   "source": [
    "diff(x^2*x^3)"
   ]
  },
  {
   "cell_type": "code",
   "execution_count": 47,
   "metadata": {},
   "outputs": [
    {
     "data": {
      "text/latex": [
       "\\begin{equation*}e^{x}\\end{equation*}"
      ],
      "text/plain": [
       " x\n",
       "e "
      ]
     },
     "execution_count": 47,
     "metadata": {},
     "output_type": "execute_result"
    }
   ],
   "source": [
    "diff(exp(x))"
   ]
  },
  {
   "cell_type": "code",
   "execution_count": 48,
   "metadata": {},
   "outputs": [
    {
     "data": {
      "text/latex": [
       "\\begin{equation*}\\frac{1}{x}\\end{equation*}"
      ],
      "text/plain": [
       "1\n",
       "-\n",
       "x"
      ]
     },
     "execution_count": 48,
     "metadata": {},
     "output_type": "execute_result"
    }
   ],
   "source": [
    "diff(ln(x))"
   ]
  },
  {
   "cell_type": "markdown",
   "metadata": {},
   "source": [
    "**Sum rule:** $D_x (f(x) + g(x)) = D_x f(x) + D_x g(x)$"
   ]
  },
  {
   "cell_type": "code",
   "execution_count": 49,
   "metadata": {},
   "outputs": [
    {
     "data": {
      "text/latex": [
       "\\begin{equation*}5 x^{4} + 6 x\\end{equation*}"
      ],
      "text/plain": [
       "   4      \n",
       "5*x  + 6*x"
      ]
     },
     "execution_count": 49,
     "metadata": {},
     "output_type": "execute_result"
    }
   ],
   "source": [
    "diff(x^5 + 3x^2)"
   ]
  },
  {
   "cell_type": "markdown",
   "metadata": {},
   "source": [
    "**Difference rule:** $D_x(f(x)-g(x)) = D_x f(x) - D_x g(x)$"
   ]
  },
  {
   "cell_type": "code",
   "execution_count": 50,
   "metadata": {},
   "outputs": [
    {
     "data": {
      "text/latex": [
       "\\begin{equation*}5 x^{4} - 6 x\\end{equation*}"
      ],
      "text/plain": [
       "   4      \n",
       "5*x  - 6*x"
      ]
     },
     "execution_count": 50,
     "metadata": {},
     "output_type": "execute_result"
    }
   ],
   "source": [
    "diff(x^5 - 3x^2)"
   ]
  },
  {
   "cell_type": "markdown",
   "metadata": {},
   "source": [
    "**Product rule:** $D_x(f(x)g(x)) = f(x)g'(x) + g(x)f'(x)$"
   ]
  },
  {
   "cell_type": "code",
   "execution_count": 51,
   "metadata": {},
   "outputs": [
    {
     "data": {
      "text/latex": [
       "\\begin{equation*}x e^{x} + e^{x}\\end{equation*}"
      ],
      "text/plain": [
       "   x    x\n",
       "x*e  + e "
      ]
     },
     "execution_count": 51,
     "metadata": {},
     "output_type": "execute_result"
    }
   ],
   "source": [
    "diff(x*exp(x))"
   ]
  },
  {
   "cell_type": "markdown",
   "metadata": {},
   "source": [
    "**Quotient rule:** $D_x \\dfrac{f(x)}{g(x)} = \\dfrac{g(x)f'(x) - f(x)g'(x)}{[g(x)]^2}$"
   ]
  },
  {
   "cell_type": "code",
   "execution_count": 52,
   "metadata": {},
   "outputs": [
    {
     "data": {
      "text/latex": [
       "\\begin{equation*}\\frac{e^{x}}{x} - \\frac{e^{x}}{x^{2}}\\end{equation*}"
      ],
      "text/plain": [
       " x    x\n",
       "e    e \n",
       "-- - --\n",
       "x     2\n",
       "     x "
      ]
     },
     "execution_count": 52,
     "metadata": {},
     "output_type": "execute_result"
    }
   ],
   "source": [
    "d = diff(exp(x)/x)"
   ]
  },
  {
   "cell_type": "code",
   "execution_count": 53,
   "metadata": {},
   "outputs": [
    {
     "data": {
      "text/latex": [
       "\\begin{equation*}\\frac{\\left(x - 1\\right) e^{x}}{x^{2}}\\end{equation*}"
      ],
      "text/plain": [
       "         x\n",
       "(x - 1)*e \n",
       "----------\n",
       "     2    \n",
       "    x     "
      ]
     },
     "execution_count": 53,
     "metadata": {},
     "output_type": "execute_result"
    }
   ],
   "source": [
    "simplify(d)"
   ]
  },
  {
   "cell_type": "markdown",
   "metadata": {},
   "source": [
    "**Chain rule:** $D_x f(g(x)) = f'(g(x))g'(x)$"
   ]
  },
  {
   "cell_type": "code",
   "execution_count": 54,
   "metadata": {},
   "outputs": [
    {
     "data": {
      "text/latex": [
       "\\begin{equation*}2 x e^{x^{2}}\\end{equation*}"
      ],
      "text/plain": [
       "     / 2\\\n",
       "     \\x /\n",
       "2*x*e    "
      ]
     },
     "execution_count": 54,
     "metadata": {},
     "output_type": "execute_result"
    }
   ],
   "source": [
    "diff(f(x))"
   ]
  },
  {
   "cell_type": "code",
   "execution_count": 55,
   "metadata": {},
   "outputs": [
    {
     "data": {
      "text/plain": [
       "g (generic function with 1 method)"
      ]
     },
     "execution_count": 55,
     "metadata": {},
     "output_type": "execute_result"
    }
   ],
   "source": [
    "g(x) = √x #To get a sqrt symbol type the following followed by the TAB key: \\sqrt + TAB"
   ]
  },
  {
   "cell_type": "code",
   "execution_count": 56,
   "metadata": {},
   "outputs": [
    {
     "data": {
      "text/latex": [
       "\\begin{equation*}\\frac{1}{2 \\sqrt{x}}\\end{equation*}"
      ],
      "text/plain": [
       "   1   \n",
       "-------\n",
       "    ___\n",
       "2*\\/ x "
      ]
     },
     "execution_count": 56,
     "metadata": {},
     "output_type": "execute_result"
    }
   ],
   "source": [
    "diff(g(x))"
   ]
  },
  {
   "cell_type": "code",
   "execution_count": 57,
   "metadata": {},
   "outputs": [
    {
     "data": {
      "text/latex": [
       "\\begin{equation*}\\sqrt{e^{x^{2}}}\\end{equation*}"
      ],
      "text/plain": [
       "    _______\n",
       "   /  / 2\\ \n",
       "  /   \\x / \n",
       "\\/   e     "
      ]
     },
     "execution_count": 57,
     "metadata": {},
     "output_type": "execute_result"
    }
   ],
   "source": [
    "g(f(x))"
   ]
  },
  {
   "cell_type": "code",
   "execution_count": 58,
   "metadata": {},
   "outputs": [
    {
     "data": {
      "text/latex": [
       "\\begin{equation*}x \\sqrt{e^{x^{2}}}\\end{equation*}"
      ],
      "text/plain": [
       "      _______\n",
       "     /  / 2\\ \n",
       "    /   \\x / \n",
       "x*\\/   e     "
      ]
     },
     "execution_count": 58,
     "metadata": {},
     "output_type": "execute_result"
    }
   ],
   "source": [
    "diff(g(f(x)))"
   ]
  },
  {
   "cell_type": "code",
   "execution_count": 59,
   "metadata": {},
   "outputs": [
    {
     "data": {
      "text/latex": [
       "\\begin{equation*}\\sqrt[3]{x}\\end{equation*}"
      ],
      "text/plain": [
       "3 ___\n",
       "\\/ x "
      ]
     },
     "execution_count": 59,
     "metadata": {},
     "output_type": "execute_result"
    }
   ],
   "source": [
    "∛x #\\cbrt + TAB"
   ]
  },
  {
   "cell_type": "code",
   "execution_count": 60,
   "metadata": {},
   "outputs": [
    {
     "data": {
      "text/latex": [
       "\\begin{equation*}- \\frac{1}{4 x^{\\frac{3}{2}}}\\end{equation*}"
      ],
      "text/plain": [
       " -1   \n",
       "------\n",
       "   3/2\n",
       "4*x   "
      ]
     },
     "execution_count": 60,
     "metadata": {},
     "output_type": "execute_result"
    }
   ],
   "source": [
    "diff(diff(g(x)))"
   ]
  },
  {
   "cell_type": "code",
   "execution_count": 61,
   "metadata": {},
   "outputs": [
    {
     "data": {
      "text/plain": [
       "h1 (generic function with 1 method)"
      ]
     },
     "execution_count": 61,
     "metadata": {},
     "output_type": "execute_result"
    }
   ],
   "source": [
    "h1(x) = ln(x)"
   ]
  },
  {
   "cell_type": "code",
   "execution_count": 62,
   "metadata": {},
   "outputs": [
    {
     "data": {
      "text/plain": [
       "h1′ (generic function with 1 method)"
      ]
     },
     "execution_count": 62,
     "metadata": {},
     "output_type": "execute_result"
    }
   ],
   "source": [
    "h1′(x) = diff(h1(x)) #h\\prime + TAB"
   ]
  },
  {
   "cell_type": "code",
   "execution_count": 63,
   "metadata": {},
   "outputs": [
    {
     "data": {
      "text/latex": [
       "\\begin{equation*}\\frac{1}{x}\\end{equation*}"
      ],
      "text/plain": [
       "1\n",
       "-\n",
       "x"
      ]
     },
     "execution_count": 63,
     "metadata": {},
     "output_type": "execute_result"
    }
   ],
   "source": [
    "h1′(x)"
   ]
  },
  {
   "cell_type": "code",
   "execution_count": 64,
   "metadata": {},
   "outputs": [
    {
     "data": {
      "text/plain": [
       "h1′′ (generic function with 1 method)"
      ]
     },
     "execution_count": 64,
     "metadata": {},
     "output_type": "execute_result"
    }
   ],
   "source": [
    "h1′′(x) = diff(h1′(x))"
   ]
  },
  {
   "cell_type": "code",
   "execution_count": 65,
   "metadata": {},
   "outputs": [
    {
     "data": {
      "text/latex": [
       "\\begin{equation*}- \\frac{1}{x^{2}}\\end{equation*}"
      ],
      "text/plain": [
       "-1 \n",
       "---\n",
       "  2\n",
       " x "
      ]
     },
     "execution_count": 65,
     "metadata": {},
     "output_type": "execute_result"
    }
   ],
   "source": [
    "h1′′(x)"
   ]
  },
  {
   "cell_type": "markdown",
   "metadata": {},
   "source": [
    "Another way to take a second derivative is to add an argument to the `diff` function,\n",
    "but you must also specify the variable when you do this:"
   ]
  },
  {
   "cell_type": "code",
   "execution_count": 66,
   "metadata": {},
   "outputs": [
    {
     "data": {
      "text/latex": [
       "\\begin{equation*}- \\frac{1}{x^{2}}\\end{equation*}"
      ],
      "text/plain": [
       "-1 \n",
       "---\n",
       "  2\n",
       " x "
      ]
     },
     "execution_count": 66,
     "metadata": {},
     "output_type": "execute_result"
    }
   ],
   "source": [
    "diff(ln(x), x, 2)"
   ]
  },
  {
   "cell_type": "markdown",
   "metadata": {},
   "source": [
    "### A Look at Graphing\n",
    "\n",
    "Let see how we can use derivatives to help us understand graphs.\n",
    "Note that the first time you graph in a Julia section it takes a loooong time.\n",
    "This issue is being worked on\n",
    "and reducing the time to graph for a session is a major goal \n",
    "(from what I have read).\n",
    "So be patient for that first graph.\n",
    "\n",
    "<a id='signchart_cell'></a>\n",
    "First we can make use of the `signchart` command to make a signchart for our function:"
   ]
  },
  {
   "cell_type": "code",
   "execution_count": 67,
   "metadata": {},
   "outputs": [
    {
     "data": {
      "image/svg+xml": [
       "<?xml version=\"1.0\" encoding=\"utf-8\"?>\n",
       "<svg xmlns=\"http://www.w3.org/2000/svg\" xmlns:xlink=\"http://www.w3.org/1999/xlink\" width=\"500\" height=\"200\" viewBox=\"0 0 2000 800\">\n",
       "<defs>\n",
       "  <clipPath id=\"clip420\">\n",
       "    <rect x=\"0\" y=\"0\" width=\"2000\" height=\"800\"/>\n",
       "  </clipPath>\n",
       "</defs>\n",
       "<path clip-path=\"url(#clip420)\" d=\"\n",
       "M0 800 L2000 800 L2000 0 L0 0  Z\n",
       "  \" fill=\"#ffffff\" fill-rule=\"evenodd\" fill-opacity=\"1\"/>\n",
       "<defs>\n",
       "  <clipPath id=\"clip421\">\n",
       "    <rect x=\"400\" y=\"0\" width=\"1401\" height=\"800\"/>\n",
       "  </clipPath>\n",
       "</defs>\n",
       "<path clip-path=\"url(#clip420)\" d=\"\n",
       "M127.252 677.168 L1952.76 677.168 L1952.76 47.2441 L127.252 47.2441  Z\n",
       "  \" fill=\"#ffffff\" fill-rule=\"evenodd\" fill-opacity=\"1\"/>\n",
       "<defs>\n",
       "  <clipPath id=\"clip422\">\n",
       "    <rect x=\"127\" y=\"47\" width=\"1827\" height=\"631\"/>\n",
       "  </clipPath>\n",
       "</defs>\n",
       "<polyline clip-path=\"url(#clip422)\" style=\"stroke:#000000; stroke-width:2; stroke-opacity:0.1; fill:none\" points=\"\n",
       "  685.045,677.168 685.045,47.2441 \n",
       "  \"/>\n",
       "<polyline clip-path=\"url(#clip422)\" style=\"stroke:#000000; stroke-width:2; stroke-opacity:0.1; fill:none\" points=\"\n",
       "  1699.21,677.168 1699.21,47.2441 \n",
       "  \"/>\n",
       "<polyline clip-path=\"url(#clip420)\" style=\"stroke:#000000; stroke-width:4; stroke-opacity:0; fill:none\" points=\"\n",
       "  685.045,677.168 685.045,669.609 \n",
       "  \"/>\n",
       "<polyline clip-path=\"url(#clip420)\" style=\"stroke:#000000; stroke-width:4; stroke-opacity:0; fill:none\" points=\"\n",
       "  1699.21,677.168 1699.21,669.609 \n",
       "  \"/>\n",
       "<path clip-path=\"url(#clip420)\" d=\"M 0 0 M557.239 759.637 L588.431 759.637 L588.431 769.128 L557.239 769.128 L557.239 759.637 Z\" fill=\"#000000\" fill-rule=\"evenodd\" fill-opacity=\"1\" /><path clip-path=\"url(#clip420)\" d=\"M 0 0 M603.13 787.01 L622.227 787.01 L622.227 721.096 L601.452 725.263 L601.452 714.615 L622.111 710.448 L633.801 710.448 L633.801 787.01 L652.898 787.01 L652.898 796.848 L603.13 796.848 L603.13 787.01 Z\" fill=\"#000000\" fill-rule=\"evenodd\" fill-opacity=\"1\" /><path clip-path=\"url(#clip420)\" d=\"M 0 0 M665.572 782.149 L677.782 782.149 L677.782 796.848 L665.572 796.848 L665.572 782.149 Z\" fill=\"#000000\" fill-rule=\"evenodd\" fill-opacity=\"1\" /><path clip-path=\"url(#clip420)\" d=\"M 0 0 M715.456 718.145 Q706.428 718.145 701.856 727.057 Q697.342 735.911 697.342 753.735 Q697.342 771.501 701.856 780.413 Q706.428 789.267 715.456 789.267 Q724.541 789.267 729.055 780.413 Q733.627 771.501 733.627 753.735 Q733.627 735.911 729.055 727.057 Q724.541 718.145 715.456 718.145 M715.456 708.885 Q729.981 708.885 737.62 720.402 Q745.317 731.86 745.317 753.735 Q745.317 775.552 737.62 787.068 Q729.981 798.526 715.456 798.526 Q700.93 798.526 693.234 787.068 Q685.595 775.552 685.595 753.735 Q685.595 731.86 693.234 720.402 Q700.93 708.885 715.456 708.885 Z\" fill=\"#000000\" fill-rule=\"evenodd\" fill-opacity=\"1\" /><path clip-path=\"url(#clip420)\" d=\"M 0 0 M782.99 718.145 Q773.962 718.145 769.391 727.057 Q764.877 735.911 764.877 753.735 Q764.877 771.501 769.391 780.413 Q773.962 789.267 782.99 789.267 Q792.076 789.267 796.59 780.413 Q801.161 771.501 801.161 753.735 Q801.161 735.911 796.59 727.057 Q792.076 718.145 782.99 718.145 M782.99 708.885 Q797.515 708.885 805.154 720.402 Q812.851 731.86 812.851 753.735 Q812.851 775.552 805.154 787.068 Q797.515 798.526 782.99 798.526 Q768.465 798.526 760.768 787.068 Q753.129 775.552 753.129 753.735 Q753.129 731.86 760.768 720.402 Q768.465 708.885 782.99 708.885 Z\" fill=\"#000000\" fill-rule=\"evenodd\" fill-opacity=\"1\" /><path clip-path=\"url(#clip420)\" d=\"M 0 0 M1629.86 750.262 Q1638.25 752.056 1642.94 757.728 Q1647.68 763.399 1647.68 771.732 Q1647.68 784.522 1638.88 791.524 Q1630.09 798.526 1613.88 798.526 Q1608.44 798.526 1602.66 797.427 Q1596.93 796.385 1590.79 794.244 L1590.79 782.959 Q1595.66 785.795 1601.44 787.241 Q1607.23 788.688 1613.54 788.688 Q1624.53 788.688 1630.26 784.348 Q1636.05 780.008 1636.05 771.732 Q1636.05 764.093 1630.67 759.811 Q1625.34 755.471 1615.79 755.471 L1605.72 755.471 L1605.72 745.864 L1616.26 745.864 Q1624.88 745.864 1629.45 742.45 Q1634.02 738.978 1634.02 732.496 Q1634.02 725.841 1629.28 722.311 Q1624.59 718.723 1615.79 718.723 Q1610.99 718.723 1605.49 719.765 Q1600 720.807 1593.4 723.006 L1593.4 712.589 Q1600.05 710.737 1605.84 709.811 Q1611.69 708.885 1616.84 708.885 Q1630.15 708.885 1637.9 714.962 Q1645.65 720.98 1645.65 731.281 Q1645.65 738.457 1641.55 743.434 Q1637.44 748.353 1629.86 750.262 Z\" fill=\"#000000\" fill-rule=\"evenodd\" fill-opacity=\"1\" /><path clip-path=\"url(#clip420)\" d=\"M 0 0 M1660.35 782.149 L1672.56 782.149 L1672.56 796.848 L1660.35 796.848 L1660.35 782.149 Z\" fill=\"#000000\" fill-rule=\"evenodd\" fill-opacity=\"1\" /><path clip-path=\"url(#clip420)\" d=\"M 0 0 M1710.24 718.145 Q1701.21 718.145 1696.64 727.057 Q1692.12 735.911 1692.12 753.735 Q1692.12 771.501 1696.64 780.413 Q1701.21 789.267 1710.24 789.267 Q1719.32 789.267 1723.84 780.413 Q1728.41 771.501 1728.41 753.735 Q1728.41 735.911 1723.84 727.057 Q1719.32 718.145 1710.24 718.145 M1710.24 708.885 Q1724.76 708.885 1732.4 720.402 Q1740.1 731.86 1740.1 753.735 Q1740.1 775.552 1732.4 787.068 Q1724.76 798.526 1710.24 798.526 Q1695.71 798.526 1688.02 787.068 Q1680.38 775.552 1680.38 753.735 Q1680.38 731.86 1688.02 720.402 Q1695.71 708.885 1710.24 708.885 Z\" fill=\"#000000\" fill-rule=\"evenodd\" fill-opacity=\"1\" /><path clip-path=\"url(#clip420)\" d=\"M 0 0 M1777.77 718.145 Q1768.74 718.145 1764.17 727.057 Q1759.66 735.911 1759.66 753.735 Q1759.66 771.501 1764.17 780.413 Q1768.74 789.267 1777.77 789.267 Q1786.86 789.267 1791.37 780.413 Q1795.94 771.501 1795.94 753.735 Q1795.94 735.911 1791.37 727.057 Q1786.86 718.145 1777.77 718.145 M1777.77 708.885 Q1792.3 708.885 1799.94 720.402 Q1807.63 731.86 1807.63 753.735 Q1807.63 775.552 1799.94 787.068 Q1792.3 798.526 1777.77 798.526 Q1763.25 798.526 1755.55 787.068 Q1747.91 775.552 1747.91 753.735 Q1747.91 731.86 1755.55 720.402 Q1763.25 708.885 1777.77 708.885 Z\" fill=\"#000000\" fill-rule=\"evenodd\" fill-opacity=\"1\" /><polyline clip-path=\"url(#clip422)\" style=\"stroke:#000000; stroke-width:2; stroke-opacity:0.1; fill:none\" points=\"\n",
       "  127.252,628.712 1952.76,628.712 \n",
       "  \"/>\n",
       "<path clip-path=\"url(#clip420)\" d=\"M 0 0 M42.8227 351.766 Q42.2498 352.753 41.9952 353.931 Q41.7087 355.076 41.7087 356.477 Q41.7087 361.442 44.9552 364.116 Q48.1699 366.757 54.2173 366.757 L72.9962 366.757 L72.9962 372.646 L37.3482 372.646 L37.3482 366.757 L42.8864 366.757 Q39.6399 364.911 38.0803 361.951 Q36.4888 358.991 36.4888 354.758 Q36.4888 354.153 36.5843 353.421 Q36.648 352.689 36.8071 351.798 L42.8227 351.766 Z\" fill=\"#000000\" fill-rule=\"evenodd\" fill-opacity=\"1\" /><polyline clip-path=\"url(#clip422)\" style=\"stroke:#009af9; stroke-width:4; stroke-opacity:1; fill:none\" points=\"\n",
       "  431.503,628.712 1192.13,628.712 1825.98,628.712 \n",
       "  \"/>\n",
       "<polyline clip-path=\"url(#clip422)\" style=\"stroke:#000000; stroke-width:4; stroke-opacity:1; fill:none\" points=\"\n",
       "  -1698.25,628.712 3778.26,628.712 \n",
       "  \"/>\n",
       "<polyline clip-path=\"url(#clip422)\" style=\"stroke:#ff0000; stroke-width:4; stroke-opacity:1; fill:none\" stroke-dasharray=\"16, 10\" points=\"\n",
       "  685.045,1307.09 685.045,-582.68 \n",
       "  \"/>\n",
       "<polyline clip-path=\"url(#clip422)\" style=\"stroke:#ff0000; stroke-width:4; stroke-opacity:1; fill:none\" stroke-dasharray=\"16, 10\" points=\"\n",
       "  1699.21,1307.09 1699.21,-582.68 \n",
       "  \"/>\n",
       "<circle clip-path=\"url(#clip422)\" cx=\"685.045\" cy=\"628.712\" r=\"28\" fill=\"#000000\" fill-rule=\"evenodd\" fill-opacity=\"1\" stroke=\"none\"/>\n",
       "<circle clip-path=\"url(#clip422)\" cx=\"1699.21\" cy=\"628.712\" r=\"28\" fill=\"#ffffff\" fill-rule=\"evenodd\" fill-opacity=\"1\" stroke=\"#000000\" stroke-opacity=\"1\" stroke-width=\"1.6\"/>\n",
       "<path clip-path=\"url(#clip420)\" d=\"M 0 0 M438.794 97.4977 L438.794 145.848 L487.145 145.848 L487.145 160.605 L438.794 160.605 L438.794 208.955 L424.211 208.955 L424.211 160.605 L375.861 160.605 L375.861 145.848 L424.211 145.848 L424.211 97.4977 L438.794 97.4977 Z\" fill=\"#000000\" fill-rule=\"evenodd\" fill-opacity=\"1\" /><path clip-path=\"url(#clip420)\" d=\"M 0 0 M1168.74 153.14 L1215.52 153.14 L1215.52 167.376 L1168.74 167.376 L1168.74 153.14 Z\" fill=\"#000000\" fill-rule=\"evenodd\" fill-opacity=\"1\" /><path clip-path=\"url(#clip420)\" d=\"M 0 0 M1833.28 97.4977 L1833.28 145.848 L1881.63 145.848 L1881.63 160.605 L1833.28 160.605 L1833.28 208.955 L1818.69 208.955 L1818.69 160.605 L1770.34 160.605 L1770.34 145.848 L1818.69 145.848 L1818.69 97.4977 L1833.28 97.4977 Z\" fill=\"#000000\" fill-rule=\"evenodd\" fill-opacity=\"1\" /></svg>\n"
      ]
     },
     "execution_count": 67,
     "metadata": {},
     "output_type": "execute_result"
    }
   ],
   "source": [
    "r(x) = (x+1)/(x-3)\n",
    "#r(x) = x^3\n",
    "\n",
    "lf = -3\n",
    "rt = 4\n",
    "s = signchart(r(x), [lf,rt], \"r\", tickfontsize=20)"
   ]
  },
  {
   "cell_type": "code",
   "execution_count": 68,
   "metadata": {},
   "outputs": [
    {
     "data": {
      "image/svg+xml": [
       "<?xml version=\"1.0\" encoding=\"utf-8\"?>\n",
       "<svg xmlns=\"http://www.w3.org/2000/svg\" xmlns:xlink=\"http://www.w3.org/1999/xlink\" width=\"500\" height=\"200\" viewBox=\"0 0 2000 800\">\n",
       "<defs>\n",
       "  <clipPath id=\"clip460\">\n",
       "    <rect x=\"0\" y=\"0\" width=\"2000\" height=\"800\"/>\n",
       "  </clipPath>\n",
       "</defs>\n",
       "<path clip-path=\"url(#clip460)\" d=\"\n",
       "M0 800 L2000 800 L2000 0 L0 0  Z\n",
       "  \" fill=\"#ffffff\" fill-rule=\"evenodd\" fill-opacity=\"1\"/>\n",
       "<defs>\n",
       "  <clipPath id=\"clip461\">\n",
       "    <rect x=\"400\" y=\"0\" width=\"1401\" height=\"800\"/>\n",
       "  </clipPath>\n",
       "</defs>\n",
       "<path clip-path=\"url(#clip460)\" d=\"\n",
       "M127.252 677.168 L1952.76 677.168 L1952.76 47.2441 L127.252 47.2441  Z\n",
       "  \" fill=\"#ffffff\" fill-rule=\"evenodd\" fill-opacity=\"1\"/>\n",
       "<defs>\n",
       "  <clipPath id=\"clip462\">\n",
       "    <rect x=\"127\" y=\"47\" width=\"1827\" height=\"631\"/>\n",
       "  </clipPath>\n",
       "</defs>\n",
       "<polyline clip-path=\"url(#clip462)\" style=\"stroke:#000000; stroke-width:2; stroke-opacity:0.1; fill:none\" points=\"\n",
       "  1699.21,677.168 1699.21,47.2441 \n",
       "  \"/>\n",
       "<polyline clip-path=\"url(#clip460)\" style=\"stroke:#000000; stroke-width:4; stroke-opacity:0; fill:none\" points=\"\n",
       "  1699.21,677.168 1699.21,669.609 \n",
       "  \"/>\n",
       "<path clip-path=\"url(#clip460)\" d=\"M 0 0 M1629.86 750.262 Q1638.25 752.056 1642.94 757.728 Q1647.68 763.399 1647.68 771.732 Q1647.68 784.522 1638.88 791.524 Q1630.09 798.526 1613.88 798.526 Q1608.44 798.526 1602.66 797.427 Q1596.93 796.385 1590.79 794.244 L1590.79 782.959 Q1595.66 785.795 1601.44 787.241 Q1607.23 788.688 1613.54 788.688 Q1624.53 788.688 1630.26 784.348 Q1636.05 780.008 1636.05 771.732 Q1636.05 764.093 1630.67 759.811 Q1625.34 755.471 1615.79 755.471 L1605.72 755.471 L1605.72 745.864 L1616.26 745.864 Q1624.88 745.864 1629.45 742.45 Q1634.02 738.978 1634.02 732.496 Q1634.02 725.841 1629.28 722.311 Q1624.59 718.723 1615.79 718.723 Q1610.99 718.723 1605.49 719.765 Q1600 720.807 1593.4 723.006 L1593.4 712.589 Q1600.05 710.737 1605.84 709.811 Q1611.69 708.885 1616.84 708.885 Q1630.15 708.885 1637.9 714.962 Q1645.65 720.98 1645.65 731.281 Q1645.65 738.457 1641.55 743.434 Q1637.44 748.353 1629.86 750.262 Z\" fill=\"#000000\" fill-rule=\"evenodd\" fill-opacity=\"1\" /><path clip-path=\"url(#clip460)\" d=\"M 0 0 M1660.35 782.149 L1672.56 782.149 L1672.56 796.848 L1660.35 796.848 L1660.35 782.149 Z\" fill=\"#000000\" fill-rule=\"evenodd\" fill-opacity=\"1\" /><path clip-path=\"url(#clip460)\" d=\"M 0 0 M1710.24 718.145 Q1701.21 718.145 1696.64 727.057 Q1692.12 735.911 1692.12 753.735 Q1692.12 771.501 1696.64 780.413 Q1701.21 789.267 1710.24 789.267 Q1719.32 789.267 1723.84 780.413 Q1728.41 771.501 1728.41 753.735 Q1728.41 735.911 1723.84 727.057 Q1719.32 718.145 1710.24 718.145 M1710.24 708.885 Q1724.76 708.885 1732.4 720.402 Q1740.1 731.86 1740.1 753.735 Q1740.1 775.552 1732.4 787.068 Q1724.76 798.526 1710.24 798.526 Q1695.71 798.526 1688.02 787.068 Q1680.38 775.552 1680.38 753.735 Q1680.38 731.86 1688.02 720.402 Q1695.71 708.885 1710.24 708.885 Z\" fill=\"#000000\" fill-rule=\"evenodd\" fill-opacity=\"1\" /><path clip-path=\"url(#clip460)\" d=\"M 0 0 M1777.77 718.145 Q1768.74 718.145 1764.17 727.057 Q1759.66 735.911 1759.66 753.735 Q1759.66 771.501 1764.17 780.413 Q1768.74 789.267 1777.77 789.267 Q1786.86 789.267 1791.37 780.413 Q1795.94 771.501 1795.94 753.735 Q1795.94 735.911 1791.37 727.057 Q1786.86 718.145 1777.77 718.145 M1777.77 708.885 Q1792.3 708.885 1799.94 720.402 Q1807.63 731.86 1807.63 753.735 Q1807.63 775.552 1799.94 787.068 Q1792.3 798.526 1777.77 798.526 Q1763.25 798.526 1755.55 787.068 Q1747.91 775.552 1747.91 753.735 Q1747.91 731.86 1755.55 720.402 Q1763.25 708.885 1777.77 708.885 Z\" fill=\"#000000\" fill-rule=\"evenodd\" fill-opacity=\"1\" /><polyline clip-path=\"url(#clip462)\" style=\"stroke:#000000; stroke-width:2; stroke-opacity:0.1; fill:none\" points=\"\n",
       "  127.252,628.712 1952.76,628.712 \n",
       "  \"/>\n",
       "<path clip-path=\"url(#clip460)\" d=\"M 0 0 M42.8227 358.387 Q42.2498 359.373 41.9952 360.551 Q41.7087 361.697 41.7087 363.097 Q41.7087 368.062 44.9552 370.736 Q48.1699 373.378 54.2173 373.378 L72.9962 373.378 L72.9962 379.266 L37.3482 379.266 L37.3482 373.378 L42.8864 373.378 Q39.6399 371.532 38.0803 368.572 Q36.4888 365.612 36.4888 361.378 Q36.4888 360.774 36.5843 360.042 Q36.648 359.31 36.8071 358.418 L42.8227 358.387 Z\" fill=\"#000000\" fill-rule=\"evenodd\" fill-opacity=\"1\" /><path clip-path=\"url(#clip460)\" d=\"M 0 0 M37.3482 357.113 L25.4762 351.607 L25.4762 345.146 L37.3482 354.344 L37.3482 357.113 Z\" fill=\"#000000\" fill-rule=\"evenodd\" fill-opacity=\"1\" /><polyline clip-path=\"url(#clip462)\" style=\"stroke:#009af9; stroke-width:4; stroke-opacity:1; fill:none\" points=\"\n",
       "  938.587,628.712 1825.98,628.712 \n",
       "  \"/>\n",
       "<polyline clip-path=\"url(#clip462)\" style=\"stroke:#000000; stroke-width:4; stroke-opacity:1; fill:none\" points=\"\n",
       "  -1698.25,628.712 3778.26,628.712 \n",
       "  \"/>\n",
       "<polyline clip-path=\"url(#clip462)\" style=\"stroke:#ff0000; stroke-width:4; stroke-opacity:1; fill:none\" stroke-dasharray=\"16, 10\" points=\"\n",
       "  1699.21,1307.09 1699.21,-582.68 \n",
       "  \"/>\n",
       "<circle clip-path=\"url(#clip462)\" cx=\"1699.21\" cy=\"628.712\" r=\"28\" fill=\"#ffffff\" fill-rule=\"evenodd\" fill-opacity=\"1\" stroke=\"#000000\" stroke-opacity=\"1\" stroke-width=\"1.6\"/>\n",
       "<path clip-path=\"url(#clip460)\" d=\"M 0 0 M915.193 153.14 L961.981 153.14 L961.981 167.376 L915.193 167.376 L915.193 153.14 Z\" fill=\"#000000\" fill-rule=\"evenodd\" fill-opacity=\"1\" /><path clip-path=\"url(#clip460)\" d=\"M 0 0 M1802.59 153.14 L1849.38 153.14 L1849.38 167.376 L1802.59 167.376 L1802.59 153.14 Z\" fill=\"#000000\" fill-rule=\"evenodd\" fill-opacity=\"1\" /></svg>\n"
      ]
     },
     "execution_count": 68,
     "metadata": {},
     "output_type": "execute_result"
    }
   ],
   "source": [
    "r′(x) = diff(r(x))\n",
    "s′ = signchart(r′(x), [lf,rt], \"r′\")"
   ]
  },
  {
   "cell_type": "code",
   "execution_count": 69,
   "metadata": {},
   "outputs": [
    {
     "data": {
      "image/svg+xml": [
       "<?xml version=\"1.0\" encoding=\"utf-8\"?>\n",
       "<svg xmlns=\"http://www.w3.org/2000/svg\" xmlns:xlink=\"http://www.w3.org/1999/xlink\" width=\"500\" height=\"200\" viewBox=\"0 0 2000 800\">\n",
       "<defs>\n",
       "  <clipPath id=\"clip500\">\n",
       "    <rect x=\"0\" y=\"0\" width=\"2000\" height=\"800\"/>\n",
       "  </clipPath>\n",
       "</defs>\n",
       "<path clip-path=\"url(#clip500)\" d=\"\n",
       "M0 800 L2000 800 L2000 0 L0 0  Z\n",
       "  \" fill=\"#ffffff\" fill-rule=\"evenodd\" fill-opacity=\"1\"/>\n",
       "<defs>\n",
       "  <clipPath id=\"clip501\">\n",
       "    <rect x=\"400\" y=\"0\" width=\"1401\" height=\"800\"/>\n",
       "  </clipPath>\n",
       "</defs>\n",
       "<path clip-path=\"url(#clip500)\" d=\"\n",
       "M127.252 677.168 L1952.76 677.168 L1952.76 47.2441 L127.252 47.2441  Z\n",
       "  \" fill=\"#ffffff\" fill-rule=\"evenodd\" fill-opacity=\"1\"/>\n",
       "<defs>\n",
       "  <clipPath id=\"clip502\">\n",
       "    <rect x=\"127\" y=\"47\" width=\"1827\" height=\"631\"/>\n",
       "  </clipPath>\n",
       "</defs>\n",
       "<polyline clip-path=\"url(#clip502)\" style=\"stroke:#000000; stroke-width:2; stroke-opacity:0.1; fill:none\" points=\"\n",
       "  1699.21,677.168 1699.21,47.2441 \n",
       "  \"/>\n",
       "<polyline clip-path=\"url(#clip500)\" style=\"stroke:#000000; stroke-width:4; stroke-opacity:0; fill:none\" points=\"\n",
       "  1699.21,677.168 1699.21,669.609 \n",
       "  \"/>\n",
       "<path clip-path=\"url(#clip500)\" d=\"M 0 0 M1629.86 750.262 Q1638.25 752.056 1642.94 757.728 Q1647.68 763.399 1647.68 771.732 Q1647.68 784.522 1638.88 791.524 Q1630.09 798.526 1613.88 798.526 Q1608.44 798.526 1602.66 797.427 Q1596.93 796.385 1590.79 794.244 L1590.79 782.959 Q1595.66 785.795 1601.44 787.241 Q1607.23 788.688 1613.54 788.688 Q1624.53 788.688 1630.26 784.348 Q1636.05 780.008 1636.05 771.732 Q1636.05 764.093 1630.67 759.811 Q1625.34 755.471 1615.79 755.471 L1605.72 755.471 L1605.72 745.864 L1616.26 745.864 Q1624.88 745.864 1629.45 742.45 Q1634.02 738.978 1634.02 732.496 Q1634.02 725.841 1629.28 722.311 Q1624.59 718.723 1615.79 718.723 Q1610.99 718.723 1605.49 719.765 Q1600 720.807 1593.4 723.006 L1593.4 712.589 Q1600.05 710.737 1605.84 709.811 Q1611.69 708.885 1616.84 708.885 Q1630.15 708.885 1637.9 714.962 Q1645.65 720.98 1645.65 731.281 Q1645.65 738.457 1641.55 743.434 Q1637.44 748.353 1629.86 750.262 Z\" fill=\"#000000\" fill-rule=\"evenodd\" fill-opacity=\"1\" /><path clip-path=\"url(#clip500)\" d=\"M 0 0 M1660.35 782.149 L1672.56 782.149 L1672.56 796.848 L1660.35 796.848 L1660.35 782.149 Z\" fill=\"#000000\" fill-rule=\"evenodd\" fill-opacity=\"1\" /><path clip-path=\"url(#clip500)\" d=\"M 0 0 M1710.24 718.145 Q1701.21 718.145 1696.64 727.057 Q1692.12 735.911 1692.12 753.735 Q1692.12 771.501 1696.64 780.413 Q1701.21 789.267 1710.24 789.267 Q1719.32 789.267 1723.84 780.413 Q1728.41 771.501 1728.41 753.735 Q1728.41 735.911 1723.84 727.057 Q1719.32 718.145 1710.24 718.145 M1710.24 708.885 Q1724.76 708.885 1732.4 720.402 Q1740.1 731.86 1740.1 753.735 Q1740.1 775.552 1732.4 787.068 Q1724.76 798.526 1710.24 798.526 Q1695.71 798.526 1688.02 787.068 Q1680.38 775.552 1680.38 753.735 Q1680.38 731.86 1688.02 720.402 Q1695.71 708.885 1710.24 708.885 Z\" fill=\"#000000\" fill-rule=\"evenodd\" fill-opacity=\"1\" /><path clip-path=\"url(#clip500)\" d=\"M 0 0 M1777.77 718.145 Q1768.74 718.145 1764.17 727.057 Q1759.66 735.911 1759.66 753.735 Q1759.66 771.501 1764.17 780.413 Q1768.74 789.267 1777.77 789.267 Q1786.86 789.267 1791.37 780.413 Q1795.94 771.501 1795.94 753.735 Q1795.94 735.911 1791.37 727.057 Q1786.86 718.145 1777.77 718.145 M1777.77 708.885 Q1792.3 708.885 1799.94 720.402 Q1807.63 731.86 1807.63 753.735 Q1807.63 775.552 1799.94 787.068 Q1792.3 798.526 1777.77 798.526 Q1763.25 798.526 1755.55 787.068 Q1747.91 775.552 1747.91 753.735 Q1747.91 731.86 1755.55 720.402 Q1763.25 708.885 1777.77 708.885 Z\" fill=\"#000000\" fill-rule=\"evenodd\" fill-opacity=\"1\" /><polyline clip-path=\"url(#clip502)\" style=\"stroke:#000000; stroke-width:2; stroke-opacity:0.1; fill:none\" points=\"\n",
       "  127.252,628.712 1952.76,628.712 \n",
       "  \"/>\n",
       "<path clip-path=\"url(#clip500)\" d=\"M 0 0 M42.8227 365.007 Q42.2498 365.994 41.9952 367.171 Q41.7087 368.317 41.7087 369.718 Q41.7087 374.683 44.9552 377.356 Q48.1699 379.998 54.2173 379.998 L72.9962 379.998 L72.9962 385.886 L37.3482 385.886 L37.3482 379.998 L42.8864 379.998 Q39.6399 378.152 38.0803 375.192 Q36.4888 372.232 36.4888 367.999 Q36.4888 367.394 36.5843 366.662 Q36.648 365.93 36.8071 365.039 L42.8227 365.007 Z\" fill=\"#000000\" fill-rule=\"evenodd\" fill-opacity=\"1\" /><path clip-path=\"url(#clip500)\" d=\"M 0 0 M37.3482 363.734 L25.4762 358.227 L25.4762 351.766 L37.3482 360.965 L37.3482 363.734 Z\" fill=\"#000000\" fill-rule=\"evenodd\" fill-opacity=\"1\" /><path clip-path=\"url(#clip500)\" d=\"M 0 0 M37.3482 350.493 L25.4762 344.987 L25.4762 338.526 L37.3482 347.724 L37.3482 350.493 Z\" fill=\"#000000\" fill-rule=\"evenodd\" fill-opacity=\"1\" /><polyline clip-path=\"url(#clip502)\" style=\"stroke:#009af9; stroke-width:4; stroke-opacity:1; fill:none\" points=\"\n",
       "  938.587,628.712 1825.98,628.712 \n",
       "  \"/>\n",
       "<polyline clip-path=\"url(#clip502)\" style=\"stroke:#000000; stroke-width:4; stroke-opacity:1; fill:none\" points=\"\n",
       "  -1698.25,628.712 3778.26,628.712 \n",
       "  \"/>\n",
       "<polyline clip-path=\"url(#clip502)\" style=\"stroke:#ff0000; stroke-width:4; stroke-opacity:1; fill:none\" stroke-dasharray=\"16, 10\" points=\"\n",
       "  1699.21,1307.09 1699.21,-582.68 \n",
       "  \"/>\n",
       "<circle clip-path=\"url(#clip502)\" cx=\"1699.21\" cy=\"628.712\" r=\"28\" fill=\"#ffffff\" fill-rule=\"evenodd\" fill-opacity=\"1\" stroke=\"#000000\" stroke-opacity=\"1\" stroke-width=\"1.6\"/>\n",
       "<path clip-path=\"url(#clip500)\" d=\"M 0 0 M915.193 153.14 L961.981 153.14 L961.981 167.376 L915.193 167.376 L915.193 153.14 Z\" fill=\"#000000\" fill-rule=\"evenodd\" fill-opacity=\"1\" /><path clip-path=\"url(#clip500)\" d=\"M 0 0 M1833.28 97.4977 L1833.28 145.848 L1881.63 145.848 L1881.63 160.605 L1833.28 160.605 L1833.28 208.955 L1818.69 208.955 L1818.69 160.605 L1770.34 160.605 L1770.34 145.848 L1818.69 145.848 L1818.69 97.4977 L1833.28 97.4977 Z\" fill=\"#000000\" fill-rule=\"evenodd\" fill-opacity=\"1\" /></svg>\n"
      ]
     },
     "execution_count": 69,
     "metadata": {},
     "output_type": "execute_result"
    }
   ],
   "source": [
    "r′′(x) = diff(r′(x))\n",
    "s′′ = signchart(r′′(x), [lf,rt], \"r′′\")"
   ]
  },
  {
   "cell_type": "markdown",
   "metadata": {},
   "source": [
    "<a id='functionplot_cell'></a>\n",
    "We can also graph our function using the `functionplot` command:"
   ]
  },
  {
   "cell_type": "code",
   "execution_count": 70,
   "metadata": {},
   "outputs": [
    {
     "data": {
      "image/svg+xml": [
       "<?xml version=\"1.0\" encoding=\"utf-8\"?>\n",
       "<svg xmlns=\"http://www.w3.org/2000/svg\" xmlns:xlink=\"http://www.w3.org/1999/xlink\" width=\"600\" height=\"400\" viewBox=\"0 0 2400 1600\">\n",
       "<defs>\n",
       "  <clipPath id=\"clip540\">\n",
       "    <rect x=\"0\" y=\"0\" width=\"2400\" height=\"1600\"/>\n",
       "  </clipPath>\n",
       "</defs>\n",
       "<path clip-path=\"url(#clip540)\" d=\"\n",
       "M0 1600 L2400 1600 L2400 0 L0 0  Z\n",
       "  \" fill=\"#ffffff\" fill-rule=\"evenodd\" fill-opacity=\"1\"/>\n",
       "<defs>\n",
       "  <clipPath id=\"clip541\">\n",
       "    <rect x=\"480\" y=\"0\" width=\"1681\" height=\"1600\"/>\n",
       "  </clipPath>\n",
       "</defs>\n",
       "<path clip-path=\"url(#clip540)\" d=\"\n",
       "M234.45 1486.45 L2352.76 1486.45 L2352.76 47.2441 L234.45 47.2441  Z\n",
       "  \" fill=\"#ffffff\" fill-rule=\"evenodd\" fill-opacity=\"1\"/>\n",
       "<defs>\n",
       "  <clipPath id=\"clip542\">\n",
       "    <rect x=\"234\" y=\"47\" width=\"2119\" height=\"1440\"/>\n",
       "  </clipPath>\n",
       "</defs>\n",
       "<polyline clip-path=\"url(#clip542)\" style=\"stroke:#000000; stroke-width:2; stroke-opacity:0.1; fill:none\" points=\"\n",
       "  294.402,1486.45 294.402,47.2441 \n",
       "  \"/>\n",
       "<polyline clip-path=\"url(#clip542)\" style=\"stroke:#000000; stroke-width:2; stroke-opacity:0.1; fill:none\" points=\"\n",
       "  579.888,1486.45 579.888,47.2441 \n",
       "  \"/>\n",
       "<polyline clip-path=\"url(#clip542)\" style=\"stroke:#000000; stroke-width:2; stroke-opacity:0.1; fill:none\" points=\"\n",
       "  865.374,1486.45 865.374,47.2441 \n",
       "  \"/>\n",
       "<polyline clip-path=\"url(#clip542)\" style=\"stroke:#000000; stroke-width:2; stroke-opacity:0.1; fill:none\" points=\"\n",
       "  1436.35,1486.45 1436.35,47.2441 \n",
       "  \"/>\n",
       "<polyline clip-path=\"url(#clip542)\" style=\"stroke:#000000; stroke-width:2; stroke-opacity:0.1; fill:none\" points=\"\n",
       "  1721.83,1486.45 1721.83,47.2441 \n",
       "  \"/>\n",
       "<polyline clip-path=\"url(#clip542)\" style=\"stroke:#000000; stroke-width:2; stroke-opacity:0.1; fill:none\" points=\"\n",
       "  2007.32,1486.45 2007.32,47.2441 \n",
       "  \"/>\n",
       "<polyline clip-path=\"url(#clip542)\" style=\"stroke:#000000; stroke-width:2; stroke-opacity:0.1; fill:none\" points=\"\n",
       "  2292.8,1486.45 2292.8,47.2441 \n",
       "  \"/>\n",
       "<polyline clip-path=\"url(#clip540)\" style=\"stroke:#000000; stroke-width:4; stroke-opacity:1; fill:none\" points=\"\n",
       "  234.45,783.818 2352.76,783.818 \n",
       "  \"/>\n",
       "<polyline clip-path=\"url(#clip540)\" style=\"stroke:#000000; stroke-width:4; stroke-opacity:1; fill:none\" points=\"\n",
       "  294.402,801.088 294.402,766.547 \n",
       "  \"/>\n",
       "<polyline clip-path=\"url(#clip540)\" style=\"stroke:#000000; stroke-width:4; stroke-opacity:1; fill:none\" points=\"\n",
       "  579.888,801.088 579.888,766.547 \n",
       "  \"/>\n",
       "<polyline clip-path=\"url(#clip540)\" style=\"stroke:#000000; stroke-width:4; stroke-opacity:1; fill:none\" points=\"\n",
       "  865.374,801.088 865.374,766.547 \n",
       "  \"/>\n",
       "<polyline clip-path=\"url(#clip540)\" style=\"stroke:#000000; stroke-width:4; stroke-opacity:1; fill:none\" points=\"\n",
       "  1436.35,801.088 1436.35,766.547 \n",
       "  \"/>\n",
       "<polyline clip-path=\"url(#clip540)\" style=\"stroke:#000000; stroke-width:4; stroke-opacity:1; fill:none\" points=\"\n",
       "  1721.83,801.088 1721.83,766.547 \n",
       "  \"/>\n",
       "<polyline clip-path=\"url(#clip540)\" style=\"stroke:#000000; stroke-width:4; stroke-opacity:1; fill:none\" points=\"\n",
       "  2007.32,801.088 2007.32,766.547 \n",
       "  \"/>\n",
       "<polyline clip-path=\"url(#clip540)\" style=\"stroke:#000000; stroke-width:4; stroke-opacity:1; fill:none\" points=\"\n",
       "  2292.8,801.088 2292.8,766.547 \n",
       "  \"/>\n",
       "<path clip-path=\"url(#clip540)\" d=\"M 0 0 M266.381 827.661 L296.057 827.661 L296.057 831.596 L266.381 831.596 L266.381 827.661 Z\" fill=\"#000000\" fill-rule=\"evenodd\" fill-opacity=\"1\" /><path clip-path=\"url(#clip540)\" d=\"M 0 0 M315.293 825.856 Q318.649 826.573 320.524 828.842 Q322.422 831.11 322.422 834.443 Q322.422 839.559 318.904 842.36 Q315.385 845.161 308.904 845.161 Q306.728 845.161 304.413 844.721 Q302.121 844.305 299.668 843.448 L299.668 838.934 Q301.612 840.068 303.927 840.647 Q306.242 841.226 308.765 841.226 Q313.163 841.226 315.455 839.49 Q317.77 837.754 317.77 834.443 Q317.77 831.388 315.617 829.675 Q313.487 827.939 309.668 827.939 L305.64 827.939 L305.64 824.096 L309.853 824.096 Q313.302 824.096 315.131 822.731 Q316.959 821.342 316.959 818.749 Q316.959 816.087 315.061 814.675 Q313.186 813.24 309.668 813.24 Q307.746 813.24 305.547 813.657 Q303.348 814.073 300.709 814.953 L300.709 810.786 Q303.371 810.045 305.686 809.675 Q308.024 809.305 310.084 809.305 Q315.408 809.305 318.51 811.735 Q321.612 814.143 321.612 818.263 Q321.612 821.133 319.969 823.124 Q318.325 825.092 315.293 825.856 Z\" fill=\"#000000\" fill-rule=\"evenodd\" fill-opacity=\"1\" /><path clip-path=\"url(#clip540)\" d=\"M 0 0 M552.341 827.661 L582.017 827.661 L582.017 831.596 L552.341 831.596 L552.341 827.661 Z\" fill=\"#000000\" fill-rule=\"evenodd\" fill-opacity=\"1\" /><path clip-path=\"url(#clip540)\" d=\"M 0 0 M591.114 840.555 L607.434 840.555 L607.434 844.49 L585.489 844.49 L585.489 840.555 Q588.151 837.8 592.735 833.17 Q597.341 828.518 598.522 827.175 Q600.767 824.652 601.647 822.916 Q602.55 821.157 602.55 819.467 Q602.55 816.712 600.605 814.976 Q598.684 813.24 595.582 813.24 Q593.383 813.24 590.929 814.004 Q588.499 814.768 585.721 816.319 L585.721 811.596 Q588.545 810.462 590.999 809.883 Q593.452 809.305 595.489 809.305 Q600.86 809.305 604.054 811.99 Q607.249 814.675 607.249 819.166 Q607.249 821.295 606.438 823.217 Q605.651 825.115 603.545 827.707 Q602.966 828.379 599.864 831.596 Q596.763 834.791 591.114 840.555 Z\" fill=\"#000000\" fill-rule=\"evenodd\" fill-opacity=\"1\" /><path clip-path=\"url(#clip540)\" d=\"M 0 0 M837.642 827.661 L867.318 827.661 L867.318 831.596 L837.642 831.596 L837.642 827.661 Z\" fill=\"#000000\" fill-rule=\"evenodd\" fill-opacity=\"1\" /><path clip-path=\"url(#clip540)\" d=\"M 0 0 M873.198 840.555 L880.837 840.555 L880.837 814.189 L872.526 815.856 L872.526 811.596 L880.79 809.93 L885.466 809.93 L885.466 840.555 L893.105 840.555 L893.105 844.49 L873.198 844.49 L873.198 840.555 Z\" fill=\"#000000\" fill-rule=\"evenodd\" fill-opacity=\"1\" /><path clip-path=\"url(#clip540)\" d=\"M 0 0 M1426.73 840.555 L1434.37 840.555 L1434.37 814.189 L1426.06 815.856 L1426.06 811.596 L1434.32 809.93 L1439 809.93 L1439 840.555 L1446.64 840.555 L1446.64 844.49 L1426.73 844.49 L1426.73 840.555 Z\" fill=\"#000000\" fill-rule=\"evenodd\" fill-opacity=\"1\" /><path clip-path=\"url(#clip540)\" d=\"M 0 0 M1716.48 840.555 L1732.8 840.555 L1732.8 844.49 L1710.86 844.49 L1710.86 840.555 Q1713.52 837.8 1718.1 833.17 Q1722.71 828.518 1723.89 827.175 Q1726.14 824.652 1727.02 822.916 Q1727.92 821.157 1727.92 819.467 Q1727.92 816.712 1725.98 814.976 Q1724.05 813.24 1720.95 813.24 Q1718.75 813.24 1716.3 814.004 Q1713.87 814.768 1711.09 816.319 L1711.09 811.596 Q1713.92 810.462 1716.37 809.883 Q1718.82 809.305 1720.86 809.305 Q1726.23 809.305 1729.42 811.99 Q1732.62 814.675 1732.62 819.166 Q1732.62 821.295 1731.81 823.217 Q1731.02 825.115 1728.92 827.707 Q1728.34 828.379 1725.23 831.596 Q1722.13 834.791 1716.48 840.555 Z\" fill=\"#000000\" fill-rule=\"evenodd\" fill-opacity=\"1\" /><path clip-path=\"url(#clip540)\" d=\"M 0 0 M2011.57 825.856 Q2014.92 826.573 2016.8 828.842 Q2018.7 831.11 2018.7 834.443 Q2018.7 839.559 2015.18 842.36 Q2011.66 845.161 2005.18 845.161 Q2003 845.161 2000.69 844.721 Q1998.39 844.305 1995.94 843.448 L1995.94 838.934 Q1997.88 840.068 2000.2 840.647 Q2002.51 841.226 2005.04 841.226 Q2009.44 841.226 2011.73 839.49 Q2014.04 837.754 2014.04 834.443 Q2014.04 831.388 2011.89 829.675 Q2009.76 827.939 2005.94 827.939 L2001.91 827.939 L2001.91 824.096 L2006.13 824.096 Q2009.57 824.096 2011.4 822.731 Q2013.23 821.342 2013.23 818.749 Q2013.23 816.087 2011.33 814.675 Q2009.46 813.24 2005.94 813.24 Q2004.02 813.24 2001.82 813.657 Q1999.62 814.073 1996.98 814.953 L1996.98 810.786 Q1999.64 810.045 2001.96 809.675 Q2004.3 809.305 2006.36 809.305 Q2011.68 809.305 2014.78 811.735 Q2017.88 814.143 2017.88 818.263 Q2017.88 821.133 2016.24 823.124 Q2014.6 825.092 2011.57 825.856 Z\" fill=\"#000000\" fill-rule=\"evenodd\" fill-opacity=\"1\" /><path clip-path=\"url(#clip540)\" d=\"M 0 0 M2295.81 814.004 L2284.01 832.453 L2295.81 832.453 L2295.81 814.004 M2294.59 809.93 L2300.47 809.93 L2300.47 832.453 L2305.4 832.453 L2305.4 836.342 L2300.47 836.342 L2300.47 844.49 L2295.81 844.49 L2295.81 836.342 L2280.21 836.342 L2280.21 831.828 L2294.59 809.93 Z\" fill=\"#000000\" fill-rule=\"evenodd\" fill-opacity=\"1\" /><polyline clip-path=\"url(#clip542)\" style=\"stroke:#000000; stroke-width:2; stroke-opacity:0.1; fill:none\" points=\"\n",
       "  234.45,1462.69 2352.76,1462.69 \n",
       "  \"/>\n",
       "<polyline clip-path=\"url(#clip542)\" style=\"stroke:#000000; stroke-width:2; stroke-opacity:0.1; fill:none\" points=\"\n",
       "  234.45,1123.25 2352.76,1123.25 \n",
       "  \"/>\n",
       "<polyline clip-path=\"url(#clip542)\" style=\"stroke:#000000; stroke-width:2; stroke-opacity:0.1; fill:none\" points=\"\n",
       "  234.45,444.383 2352.76,444.383 \n",
       "  \"/>\n",
       "<polyline clip-path=\"url(#clip542)\" style=\"stroke:#000000; stroke-width:2; stroke-opacity:0.1; fill:none\" points=\"\n",
       "  234.45,104.948 2352.76,104.948 \n",
       "  \"/>\n",
       "<polyline clip-path=\"url(#clip540)\" style=\"stroke:#000000; stroke-width:4; stroke-opacity:1; fill:none\" points=\"\n",
       "  1150.86,1486.45 1150.86,47.2441 \n",
       "  \"/>\n",
       "<polyline clip-path=\"url(#clip540)\" style=\"stroke:#000000; stroke-width:4; stroke-opacity:1; fill:none\" points=\"\n",
       "  1125.44,1462.69 1176.28,1462.69 \n",
       "  \"/>\n",
       "<polyline clip-path=\"url(#clip540)\" style=\"stroke:#000000; stroke-width:4; stroke-opacity:1; fill:none\" points=\"\n",
       "  1125.44,1123.25 1176.28,1123.25 \n",
       "  \"/>\n",
       "<polyline clip-path=\"url(#clip540)\" style=\"stroke:#000000; stroke-width:4; stroke-opacity:1; fill:none\" points=\"\n",
       "  1125.44,444.383 1176.28,444.383 \n",
       "  \"/>\n",
       "<polyline clip-path=\"url(#clip540)\" style=\"stroke:#000000; stroke-width:4; stroke-opacity:1; fill:none\" points=\"\n",
       "  1125.44,104.948 1176.28,104.948 \n",
       "  \"/>\n",
       "<path clip-path=\"url(#clip540)\" d=\"M 0 0 M1030.67 1463.14 L1060.35 1463.14 L1060.35 1467.07 L1030.67 1467.07 L1030.67 1463.14 Z\" fill=\"#000000\" fill-rule=\"evenodd\" fill-opacity=\"1\" /><path clip-path=\"url(#clip540)\" d=\"M 0 0 M1078.26 1449.48 L1066.46 1467.93 L1078.26 1467.93 L1078.26 1449.48 M1077.04 1445.41 L1082.92 1445.41 L1082.92 1467.93 L1087.85 1467.93 L1087.85 1471.82 L1082.92 1471.82 L1082.92 1479.97 L1078.26 1479.97 L1078.26 1471.82 L1062.66 1471.82 L1062.66 1467.31 L1077.04 1445.41 Z\" fill=\"#000000\" fill-rule=\"evenodd\" fill-opacity=\"1\" /><path clip-path=\"url(#clip540)\" d=\"M 0 0 M1102.92 1448.49 Q1099.3 1448.49 1097.48 1452.05 Q1095.67 1455.59 1095.67 1462.72 Q1095.67 1469.83 1097.48 1473.39 Q1099.3 1476.94 1102.92 1476.94 Q1106.55 1476.94 1108.36 1473.39 Q1110.18 1469.83 1110.18 1462.72 Q1110.18 1455.59 1108.36 1452.05 Q1106.55 1448.49 1102.92 1448.49 M1102.92 1444.78 Q1108.73 1444.78 1111.78 1449.39 Q1114.86 1453.97 1114.86 1462.72 Q1114.86 1471.45 1111.78 1476.06 Q1108.73 1480.64 1102.92 1480.64 Q1097.11 1480.64 1094.03 1476.06 Q1090.97 1471.45 1090.97 1462.72 Q1090.97 1453.97 1094.03 1449.39 Q1097.11 1444.78 1102.92 1444.78 Z\" fill=\"#000000\" fill-rule=\"evenodd\" fill-opacity=\"1\" /><path clip-path=\"url(#clip540)\" d=\"M 0 0 M1032.75 1123.7 L1062.43 1123.7 L1062.43 1127.64 L1032.75 1127.64 L1032.75 1123.7 Z\" fill=\"#000000\" fill-rule=\"evenodd\" fill-opacity=\"1\" /><path clip-path=\"url(#clip540)\" d=\"M 0 0 M1071.53 1136.6 L1087.85 1136.6 L1087.85 1140.53 L1065.9 1140.53 L1065.9 1136.6 Q1068.56 1133.84 1073.15 1129.21 Q1077.75 1124.56 1078.93 1123.22 Q1081.18 1120.69 1082.06 1118.96 Q1082.96 1117.2 1082.96 1115.51 Q1082.96 1112.75 1081.02 1111.02 Q1079.1 1109.28 1075.99 1109.28 Q1073.8 1109.28 1071.34 1110.05 Q1068.91 1110.81 1066.13 1112.36 L1066.13 1107.64 Q1068.96 1106.5 1071.41 1105.93 Q1073.86 1105.35 1075.9 1105.35 Q1081.27 1105.35 1084.47 1108.03 Q1087.66 1110.72 1087.66 1115.21 Q1087.66 1117.34 1086.85 1119.26 Q1086.06 1121.16 1083.96 1123.75 Q1083.38 1124.42 1080.28 1127.64 Q1077.17 1130.83 1071.53 1136.6 Z\" fill=\"#000000\" fill-rule=\"evenodd\" fill-opacity=\"1\" /><path clip-path=\"url(#clip540)\" d=\"M 0 0 M1102.92 1109.05 Q1099.3 1109.05 1097.48 1112.62 Q1095.67 1116.16 1095.67 1123.29 Q1095.67 1130.39 1097.48 1133.96 Q1099.3 1137.5 1102.92 1137.5 Q1106.55 1137.5 1108.36 1133.96 Q1110.18 1130.39 1110.18 1123.29 Q1110.18 1116.16 1108.36 1112.62 Q1106.55 1109.05 1102.92 1109.05 M1102.92 1105.35 Q1108.73 1105.35 1111.78 1109.95 Q1114.86 1114.54 1114.86 1123.29 Q1114.86 1132.01 1111.78 1136.62 Q1108.73 1141.2 1102.92 1141.2 Q1097.11 1141.2 1094.03 1136.62 Q1090.97 1132.01 1090.97 1123.29 Q1090.97 1114.54 1094.03 1109.95 Q1097.11 1105.35 1102.92 1105.35 Z\" fill=\"#000000\" fill-rule=\"evenodd\" fill-opacity=\"1\" /><path clip-path=\"url(#clip540)\" d=\"M 0 0 M1071.53 457.728 L1087.85 457.728 L1087.85 461.663 L1065.9 461.663 L1065.9 457.728 Q1068.56 454.973 1073.15 450.343 Q1077.75 445.691 1078.93 444.348 Q1081.18 441.825 1082.06 440.089 Q1082.96 438.33 1082.96 436.64 Q1082.96 433.885 1081.02 432.149 Q1079.1 430.413 1075.99 430.413 Q1073.8 430.413 1071.34 431.177 Q1068.91 431.941 1066.13 433.492 L1066.13 428.77 Q1068.96 427.635 1071.41 427.057 Q1073.86 426.478 1075.9 426.478 Q1081.27 426.478 1084.47 429.163 Q1087.66 431.848 1087.66 436.339 Q1087.66 438.469 1086.85 440.39 Q1086.06 442.288 1083.96 444.881 Q1083.38 445.552 1080.28 448.769 Q1077.17 451.964 1071.53 457.728 Z\" fill=\"#000000\" fill-rule=\"evenodd\" fill-opacity=\"1\" /><path clip-path=\"url(#clip540)\" d=\"M 0 0 M1102.92 430.182 Q1099.3 430.182 1097.48 433.746 Q1095.67 437.288 1095.67 444.418 Q1095.67 451.524 1097.48 455.089 Q1099.3 458.63 1102.92 458.63 Q1106.55 458.63 1108.36 455.089 Q1110.18 451.524 1110.18 444.418 Q1110.18 437.288 1108.36 433.746 Q1106.55 430.182 1102.92 430.182 M1102.92 426.478 Q1108.73 426.478 1111.78 431.084 Q1114.86 435.668 1114.86 444.418 Q1114.86 453.144 1111.78 457.751 Q1108.73 462.334 1102.92 462.334 Q1097.11 462.334 1094.03 457.751 Q1090.97 453.144 1090.97 444.418 Q1090.97 435.668 1094.03 431.084 Q1097.11 426.478 1102.92 426.478 Z\" fill=\"#000000\" fill-rule=\"evenodd\" fill-opacity=\"1\" /><path clip-path=\"url(#clip540)\" d=\"M 0 0 M1078.26 91.7421 L1066.46 110.191 L1078.26 110.191 L1078.26 91.7421 M1077.04 87.668 L1082.92 87.668 L1082.92 110.191 L1087.85 110.191 L1087.85 114.08 L1082.92 114.08 L1082.92 122.228 L1078.26 122.228 L1078.26 114.08 L1062.66 114.08 L1062.66 109.566 L1077.04 87.668 Z\" fill=\"#000000\" fill-rule=\"evenodd\" fill-opacity=\"1\" /><path clip-path=\"url(#clip540)\" d=\"M 0 0 M1102.92 90.7467 Q1099.3 90.7467 1097.48 94.3115 Q1095.67 97.8532 1095.67 104.983 Q1095.67 112.089 1097.48 115.654 Q1099.3 119.196 1102.92 119.196 Q1106.55 119.196 1108.36 115.654 Q1110.18 112.089 1110.18 104.983 Q1110.18 97.8532 1108.36 94.3115 Q1106.55 90.7467 1102.92 90.7467 M1102.92 87.043 Q1108.73 87.043 1111.78 91.6495 Q1114.86 96.2328 1114.86 104.983 Q1114.86 113.71 1111.78 118.316 Q1108.73 122.899 1102.92 122.899 Q1097.11 122.899 1094.03 118.316 Q1090.97 113.71 1090.97 104.983 Q1090.97 96.2328 1094.03 91.6495 Q1097.11 87.043 1102.92 87.043 Z\" fill=\"#000000\" fill-rule=\"evenodd\" fill-opacity=\"1\" /><path clip-path=\"url(#clip540)\" d=\"M 0 0 M57.8307 794.648 Q57.2578 795.635 57.0032 796.813 Q56.7167 797.958 56.7167 799.359 Q56.7167 804.324 59.9632 806.998 Q63.1779 809.639 69.2253 809.639 L88.0042 809.639 L88.0042 815.528 L52.3562 815.528 L52.3562 809.639 L57.8944 809.639 Q54.6479 807.793 53.0883 804.833 Q51.4968 801.873 51.4968 797.64 Q51.4968 797.035 51.5923 796.303 Q51.656 795.571 51.8151 794.68 L57.8307 794.648 Z\" fill=\"#000000\" fill-rule=\"evenodd\" fill-opacity=\"1\" /><path clip-path=\"url(#clip540)\" d=\"M 0 0 M38.5426 774.437 Q45.8632 778.702 53.0246 780.771 Q60.186 782.84 67.5384 782.84 Q74.8908 782.84 82.1159 780.771 Q89.3091 778.67 96.5979 774.437 L96.5979 779.53 Q89.1182 784.304 81.8931 786.691 Q74.668 789.046 67.5384 789.046 Q60.4406 789.046 53.2474 786.691 Q46.0542 784.336 38.5426 779.53 L38.5426 774.437 Z\" fill=\"#000000\" fill-rule=\"evenodd\" fill-opacity=\"1\" /><path clip-path=\"url(#clip540)\" d=\"M 0 0 M52.3562 738.662 L69.7028 751.552 L88.0042 737.993 L88.0042 744.9 L73.9996 755.276 L88.0042 765.652 L88.0042 772.559 L69.3526 758.714 L52.3562 771.382 L52.3562 764.475 L65.0558 755.022 L52.3562 745.569 L52.3562 738.662 Z\" fill=\"#000000\" fill-rule=\"evenodd\" fill-opacity=\"1\" /><path clip-path=\"url(#clip540)\" d=\"M 0 0 M38.5426 732.774 L38.5426 727.681 Q46.0542 722.907 53.2474 720.551 Q60.4406 718.164 67.5384 718.164 Q74.668 718.164 81.8931 720.551 Q89.1182 722.907 96.5979 727.681 L96.5979 732.774 Q89.3091 728.54 82.1159 726.471 Q74.8908 724.371 67.5384 724.371 Q60.186 724.371 53.0246 726.471 Q45.8632 728.54 38.5426 732.774 Z\" fill=\"#000000\" fill-rule=\"evenodd\" fill-opacity=\"1\" /><polyline clip-path=\"url(#clip542)\" style=\"stroke:#009af9; stroke-width:4; stroke-opacity:1; fill:none\" points=\"\n",
       "  294.402,778.16 322.95,778.352 351.499,778.551 380.047,778.756 408.596,778.969 437.145,779.189 465.693,779.418 494.242,779.655 522.79,779.901 551.339,780.157 \n",
       "  579.888,780.423 608.436,780.7 636.985,780.989 665.533,781.29 694.082,781.604 722.631,781.932 751.179,782.275 779.728,782.634 808.276,783.01 836.825,783.404 \n",
       "  865.374,783.818 893.922,784.253 922.471,784.711 951.019,785.194 979.568,785.703 1008.12,786.242 1036.67,786.813 1065.21,787.418 1093.76,788.061 1122.31,788.745 \n",
       "  1150.86,789.475 1179.41,790.255 1207.96,791.091 1236.51,791.989 1265.05,792.956 1293.6,794.001 1322.15,795.132 1350.7,796.362 1379.25,797.704 1407.8,799.173 \n",
       "  1436.35,800.789 1464.89,802.576 1493.44,804.561 1521.99,806.779 1550.54,809.275 1579.09,812.104 1607.64,815.337 1636.19,819.067 1664.73,823.418 1693.28,828.561 \n",
       "  1721.83,834.733 1750.38,842.276 1778.93,851.705 1807.48,863.827 1836.03,879.991 1864.57,902.62 1893.12,936.563 1921.67,993.136 1950.22,1106.28 1978.77,1445.72 \n",
       "  \n",
       "  \"/>\n",
       "<polyline clip-path=\"url(#clip542)\" style=\"stroke:#009af9; stroke-width:4; stroke-opacity:1; fill:none\" points=\"\n",
       "  2035.87,87.9763 2064.42,427.411 2092.96,540.556 2121.51,597.129 2150.06,631.072 2178.61,653.701 2207.16,669.865 2235.71,681.987 2264.26,691.416 2292.8,698.959 \n",
       "  \n",
       "  \"/>\n",
       "<polyline clip-path=\"url(#clip542)\" style=\"stroke:#e26f46; stroke-width:4; stroke-opacity:1; fill:none\" stroke-dasharray=\"16, 10\" points=\"\n",
       "  2007.32,2925.65 2007.32,-1391.96 \n",
       "  \"/>\n",
       "<polyline clip-path=\"url(#clip542)\" style=\"stroke:#3da44d; stroke-width:4; stroke-opacity:1; fill:none\" stroke-dasharray=\"16, 10\" points=\"\n",
       "  -1883.86,766.846 4471.06,766.846 \n",
       "  \"/>\n",
       "</svg>\n"
      ]
     },
     "execution_count": 70,
     "metadata": {},
     "output_type": "execute_result"
    }
   ],
   "source": [
    "p = functionplot(lf:.1:rt, r(x), lf:rt, \"r(x)\")"
   ]
  },
  {
   "cell_type": "code",
   "execution_count": 71,
   "metadata": {},
   "outputs": [
    {
     "data": {
      "image/svg+xml": [
       "<?xml version=\"1.0\" encoding=\"utf-8\"?>\n",
       "<svg xmlns=\"http://www.w3.org/2000/svg\" xmlns:xlink=\"http://www.w3.org/1999/xlink\" width=\"600\" height=\"400\" viewBox=\"0 0 2400 1600\">\n",
       "<defs>\n",
       "  <clipPath id=\"clip580\">\n",
       "    <rect x=\"0\" y=\"0\" width=\"2400\" height=\"1600\"/>\n",
       "  </clipPath>\n",
       "</defs>\n",
       "<path clip-path=\"url(#clip580)\" d=\"\n",
       "M0 1600 L2400 1600 L2400 0 L0 0  Z\n",
       "  \" fill=\"#ffffff\" fill-rule=\"evenodd\" fill-opacity=\"1\"/>\n",
       "<defs>\n",
       "  <clipPath id=\"clip581\">\n",
       "    <rect x=\"480\" y=\"0\" width=\"1681\" height=\"1600\"/>\n",
       "  </clipPath>\n",
       "</defs>\n",
       "<path clip-path=\"url(#clip580)\" d=\"\n",
       "M227.042 1486.45 L2352.76 1486.45 L2352.76 47.2441 L227.042 47.2441  Z\n",
       "  \" fill=\"#ffffff\" fill-rule=\"evenodd\" fill-opacity=\"1\"/>\n",
       "<defs>\n",
       "  <clipPath id=\"clip582\">\n",
       "    <rect x=\"227\" y=\"47\" width=\"2127\" height=\"1440\"/>\n",
       "  </clipPath>\n",
       "</defs>\n",
       "<polyline clip-path=\"url(#clip582)\" style=\"stroke:#000000; stroke-width:2; stroke-opacity:0.1; fill:none\" points=\"\n",
       "  510.025,1486.45 510.025,47.2441 \n",
       "  \"/>\n",
       "<polyline clip-path=\"url(#clip582)\" style=\"stroke:#000000; stroke-width:2; stroke-opacity:0.1; fill:none\" points=\"\n",
       "  732.846,1486.45 732.846,47.2441 \n",
       "  \"/>\n",
       "<polyline clip-path=\"url(#clip582)\" style=\"stroke:#000000; stroke-width:2; stroke-opacity:0.1; fill:none\" points=\"\n",
       "  955.667,1486.45 955.667,47.2441 \n",
       "  \"/>\n",
       "<polyline clip-path=\"url(#clip582)\" style=\"stroke:#000000; stroke-width:2; stroke-opacity:0.1; fill:none\" points=\"\n",
       "  1178.49,1486.45 1178.49,47.2441 \n",
       "  \"/>\n",
       "<polyline clip-path=\"url(#clip582)\" style=\"stroke:#000000; stroke-width:2; stroke-opacity:0.1; fill:none\" points=\"\n",
       "  1401.31,1486.45 1401.31,47.2441 \n",
       "  \"/>\n",
       "<polyline clip-path=\"url(#clip582)\" style=\"stroke:#000000; stroke-width:2; stroke-opacity:0.1; fill:none\" points=\"\n",
       "  1624.13,1486.45 1624.13,47.2441 \n",
       "  \"/>\n",
       "<polyline clip-path=\"url(#clip582)\" style=\"stroke:#000000; stroke-width:2; stroke-opacity:0.1; fill:none\" points=\"\n",
       "  1846.95,1486.45 1846.95,47.2441 \n",
       "  \"/>\n",
       "<polyline clip-path=\"url(#clip582)\" style=\"stroke:#000000; stroke-width:2; stroke-opacity:0.1; fill:none\" points=\"\n",
       "  2069.77,1486.45 2069.77,47.2441 \n",
       "  \"/>\n",
       "<polyline clip-path=\"url(#clip582)\" style=\"stroke:#000000; stroke-width:2; stroke-opacity:0.1; fill:none\" points=\"\n",
       "  2292.59,1486.45 2292.59,47.2441 \n",
       "  \"/>\n",
       "<polyline clip-path=\"url(#clip580)\" style=\"stroke:#000000; stroke-width:4; stroke-opacity:1; fill:none\" points=\"\n",
       "  227.042,1391.49 2352.76,1391.49 \n",
       "  \"/>\n",
       "<polyline clip-path=\"url(#clip580)\" style=\"stroke:#000000; stroke-width:4; stroke-opacity:1; fill:none\" points=\"\n",
       "  510.025,1408.76 510.025,1374.22 \n",
       "  \"/>\n",
       "<polyline clip-path=\"url(#clip580)\" style=\"stroke:#000000; stroke-width:4; stroke-opacity:1; fill:none\" points=\"\n",
       "  732.846,1408.76 732.846,1374.22 \n",
       "  \"/>\n",
       "<polyline clip-path=\"url(#clip580)\" style=\"stroke:#000000; stroke-width:4; stroke-opacity:1; fill:none\" points=\"\n",
       "  955.667,1408.76 955.667,1374.22 \n",
       "  \"/>\n",
       "<polyline clip-path=\"url(#clip580)\" style=\"stroke:#000000; stroke-width:4; stroke-opacity:1; fill:none\" points=\"\n",
       "  1178.49,1408.76 1178.49,1374.22 \n",
       "  \"/>\n",
       "<polyline clip-path=\"url(#clip580)\" style=\"stroke:#000000; stroke-width:4; stroke-opacity:1; fill:none\" points=\"\n",
       "  1401.31,1408.76 1401.31,1374.22 \n",
       "  \"/>\n",
       "<polyline clip-path=\"url(#clip580)\" style=\"stroke:#000000; stroke-width:4; stroke-opacity:1; fill:none\" points=\"\n",
       "  1624.13,1408.76 1624.13,1374.22 \n",
       "  \"/>\n",
       "<polyline clip-path=\"url(#clip580)\" style=\"stroke:#000000; stroke-width:4; stroke-opacity:1; fill:none\" points=\"\n",
       "  1846.95,1408.76 1846.95,1374.22 \n",
       "  \"/>\n",
       "<polyline clip-path=\"url(#clip580)\" style=\"stroke:#000000; stroke-width:4; stroke-opacity:1; fill:none\" points=\"\n",
       "  2069.77,1408.76 2069.77,1374.22 \n",
       "  \"/>\n",
       "<polyline clip-path=\"url(#clip580)\" style=\"stroke:#000000; stroke-width:4; stroke-opacity:1; fill:none\" points=\"\n",
       "  2292.59,1408.76 2292.59,1374.22 \n",
       "  \"/>\n",
       "<path clip-path=\"url(#clip580)\" d=\"M 0 0 M500.407 1448.23 L508.046 1448.23 L508.046 1421.86 L499.736 1423.53 L499.736 1419.27 L508 1417.6 L512.675 1417.6 L512.675 1448.23 L520.314 1448.23 L520.314 1452.16 L500.407 1452.16 L500.407 1448.23 Z\" fill=\"#000000\" fill-rule=\"evenodd\" fill-opacity=\"1\" /><path clip-path=\"url(#clip580)\" d=\"M 0 0 M727.499 1448.23 L743.818 1448.23 L743.818 1452.16 L721.874 1452.16 L721.874 1448.23 Q724.536 1445.47 729.119 1440.84 Q733.726 1436.19 734.906 1434.85 Q737.152 1432.32 738.031 1430.59 Q738.934 1428.83 738.934 1427.14 Q738.934 1424.38 736.99 1422.65 Q735.068 1420.91 731.967 1420.91 Q729.767 1420.91 727.314 1421.68 Q724.883 1422.44 722.105 1423.99 L722.105 1419.27 Q724.93 1418.13 727.383 1417.56 Q729.837 1416.98 731.874 1416.98 Q737.244 1416.98 740.439 1419.66 Q743.633 1422.35 743.633 1426.84 Q743.633 1428.97 742.823 1430.89 Q742.036 1432.79 739.929 1435.38 Q739.351 1436.05 736.249 1439.27 Q733.147 1442.46 727.499 1448.23 Z\" fill=\"#000000\" fill-rule=\"evenodd\" fill-opacity=\"1\" /><path clip-path=\"url(#clip580)\" d=\"M 0 0 M959.915 1433.53 Q963.271 1434.24 965.146 1436.51 Q967.045 1438.78 967.045 1442.12 Q967.045 1447.23 963.526 1450.03 Q960.008 1452.83 953.526 1452.83 Q951.35 1452.83 949.035 1452.39 Q946.744 1451.98 944.29 1451.12 L944.29 1446.61 Q946.234 1447.74 948.549 1448.32 Q950.864 1448.9 953.387 1448.9 Q957.785 1448.9 960.077 1447.16 Q962.392 1445.43 962.392 1442.12 Q962.392 1439.06 960.239 1437.35 Q958.109 1435.61 954.29 1435.61 L950.262 1435.61 L950.262 1431.77 L954.475 1431.77 Q957.924 1431.77 959.753 1430.4 Q961.582 1429.01 961.582 1426.42 Q961.582 1423.76 959.683 1422.35 Q957.808 1420.91 954.29 1420.91 Q952.369 1420.91 950.17 1421.33 Q947.971 1421.75 945.332 1422.62 L945.332 1418.46 Q947.994 1417.72 950.309 1417.35 Q952.646 1416.98 954.707 1416.98 Q960.031 1416.98 963.133 1419.41 Q966.234 1421.81 966.234 1425.93 Q966.234 1428.81 964.591 1430.8 Q962.947 1432.76 959.915 1433.53 Z\" fill=\"#000000\" fill-rule=\"evenodd\" fill-opacity=\"1\" /><path clip-path=\"url(#clip580)\" d=\"M 0 0 M1181.5 1421.68 L1169.69 1440.12 L1181.5 1440.12 L1181.5 1421.68 M1180.27 1417.6 L1186.15 1417.6 L1186.15 1440.12 L1191.08 1440.12 L1191.08 1444.01 L1186.15 1444.01 L1186.15 1452.16 L1181.5 1452.16 L1181.5 1444.01 L1165.9 1444.01 L1165.9 1439.5 L1180.27 1417.6 Z\" fill=\"#000000\" fill-rule=\"evenodd\" fill-opacity=\"1\" /><path clip-path=\"url(#clip580)\" d=\"M 0 0 M1391.59 1417.6 L1409.94 1417.6 L1409.94 1421.54 L1395.87 1421.54 L1395.87 1430.01 Q1396.89 1429.66 1397.91 1429.5 Q1398.93 1429.31 1399.94 1429.31 Q1405.73 1429.31 1409.11 1432.49 Q1412.49 1435.66 1412.49 1441.07 Q1412.49 1446.65 1409.02 1449.75 Q1405.55 1452.83 1399.23 1452.83 Q1397.05 1452.83 1394.78 1452.46 Q1392.54 1452.09 1390.13 1451.35 L1390.13 1446.65 Q1392.21 1447.79 1394.43 1448.34 Q1396.66 1448.9 1399.13 1448.9 Q1403.14 1448.9 1405.48 1446.79 Q1407.81 1444.68 1407.81 1441.07 Q1407.81 1437.46 1405.48 1435.36 Q1403.14 1433.25 1399.13 1433.25 Q1397.26 1433.25 1395.38 1433.67 Q1393.53 1434.08 1391.59 1434.96 L1391.59 1417.6 Z\" fill=\"#000000\" fill-rule=\"evenodd\" fill-opacity=\"1\" /><path clip-path=\"url(#clip580)\" d=\"M 0 0 M1624.54 1433.02 Q1621.39 1433.02 1619.54 1435.17 Q1617.71 1437.32 1617.71 1441.07 Q1617.71 1444.8 1619.54 1446.98 Q1621.39 1449.13 1624.54 1449.13 Q1627.68 1449.13 1629.51 1446.98 Q1631.36 1444.8 1631.36 1441.07 Q1631.36 1437.32 1629.51 1435.17 Q1627.68 1433.02 1624.54 1433.02 M1633.82 1418.37 L1633.82 1422.62 Q1632.06 1421.79 1630.25 1421.35 Q1628.47 1420.91 1626.71 1420.91 Q1622.08 1420.91 1619.63 1424.04 Q1617.2 1427.16 1616.85 1433.48 Q1618.22 1431.47 1620.28 1430.4 Q1622.34 1429.31 1624.81 1429.31 Q1630.02 1429.31 1633.03 1432.49 Q1636.06 1435.63 1636.06 1441.07 Q1636.06 1446.4 1632.92 1449.62 Q1629.77 1452.83 1624.54 1452.83 Q1618.54 1452.83 1615.37 1448.25 Q1612.2 1443.64 1612.2 1434.92 Q1612.2 1426.72 1616.09 1421.86 Q1619.98 1416.98 1626.53 1416.98 Q1628.29 1416.98 1630.07 1417.32 Q1631.87 1417.67 1633.82 1418.37 Z\" fill=\"#000000\" fill-rule=\"evenodd\" fill-opacity=\"1\" /><path clip-path=\"url(#clip580)\" d=\"M 0 0 M1835.84 1417.6 L1858.06 1417.6 L1858.06 1419.59 L1845.52 1452.16 L1840.63 1452.16 L1852.44 1421.54 L1835.84 1421.54 L1835.84 1417.6 Z\" fill=\"#000000\" fill-rule=\"evenodd\" fill-opacity=\"1\" /><path clip-path=\"url(#clip580)\" d=\"M 0 0 M2069.77 1435.75 Q2066.44 1435.75 2064.52 1437.53 Q2062.62 1439.31 2062.62 1442.44 Q2062.62 1445.56 2064.52 1447.35 Q2066.44 1449.13 2069.77 1449.13 Q2073.11 1449.13 2075.03 1447.35 Q2076.95 1445.54 2076.95 1442.44 Q2076.95 1439.31 2075.03 1437.53 Q2073.13 1435.75 2069.77 1435.75 M2065.1 1433.76 Q2062.09 1433.02 2060.4 1430.96 Q2058.73 1428.9 2058.73 1425.93 Q2058.73 1421.79 2061.67 1419.38 Q2064.63 1416.98 2069.77 1416.98 Q2074.94 1416.98 2077.87 1419.38 Q2080.81 1421.79 2080.81 1425.93 Q2080.81 1428.9 2079.12 1430.96 Q2077.46 1433.02 2074.47 1433.76 Q2077.85 1434.55 2079.73 1436.84 Q2081.62 1439.13 2081.62 1442.44 Q2081.62 1447.46 2078.55 1450.15 Q2075.49 1452.83 2069.77 1452.83 Q2064.06 1452.83 2060.98 1450.15 Q2057.92 1447.46 2057.92 1442.44 Q2057.92 1439.13 2059.82 1436.84 Q2061.72 1434.55 2065.1 1433.76 M2063.38 1426.37 Q2063.38 1429.06 2065.05 1430.56 Q2066.74 1432.07 2069.77 1432.07 Q2072.78 1432.07 2074.47 1430.56 Q2076.19 1429.06 2076.19 1426.37 Q2076.19 1423.69 2074.47 1422.18 Q2072.78 1420.68 2069.77 1420.68 Q2066.74 1420.68 2065.05 1422.18 Q2063.38 1423.69 2063.38 1426.37 Z\" fill=\"#000000\" fill-rule=\"evenodd\" fill-opacity=\"1\" /><path clip-path=\"url(#clip580)\" d=\"M 0 0 M2282.9 1451.44 L2282.9 1447.18 Q2284.65 1448.02 2286.46 1448.46 Q2288.27 1448.9 2290 1448.9 Q2294.63 1448.9 2297.06 1445.8 Q2299.52 1442.67 2299.86 1436.33 Q2298.52 1438.32 2296.46 1439.38 Q2294.4 1440.45 2291.9 1440.45 Q2286.71 1440.45 2283.68 1437.32 Q2280.67 1434.18 2280.67 1428.74 Q2280.67 1423.41 2283.82 1420.19 Q2286.97 1416.98 2292.2 1416.98 Q2298.2 1416.98 2301.34 1421.58 Q2304.52 1426.17 2304.52 1434.92 Q2304.52 1443.09 2300.63 1447.97 Q2296.76 1452.83 2290.21 1452.83 Q2288.45 1452.83 2286.65 1452.49 Q2284.84 1452.14 2282.9 1451.44 M2292.2 1436.79 Q2295.35 1436.79 2297.18 1434.64 Q2299.03 1432.49 2299.03 1428.74 Q2299.03 1425.01 2297.18 1422.86 Q2295.35 1420.68 2292.2 1420.68 Q2289.05 1420.68 2287.2 1422.86 Q2285.37 1425.01 2285.37 1428.74 Q2285.37 1432.49 2287.2 1434.64 Q2289.05 1436.79 2292.2 1436.79 Z\" fill=\"#000000\" fill-rule=\"evenodd\" fill-opacity=\"1\" /><polyline clip-path=\"url(#clip582)\" style=\"stroke:#000000; stroke-width:2; stroke-opacity:0.1; fill:none\" points=\"\n",
       "  227.042,1052.03 2352.76,1052.03 \n",
       "  \"/>\n",
       "<polyline clip-path=\"url(#clip582)\" style=\"stroke:#000000; stroke-width:2; stroke-opacity:0.1; fill:none\" points=\"\n",
       "  227.042,712.576 2352.76,712.576 \n",
       "  \"/>\n",
       "<polyline clip-path=\"url(#clip582)\" style=\"stroke:#000000; stroke-width:2; stroke-opacity:0.1; fill:none\" points=\"\n",
       "  227.042,373.12 2352.76,373.12 \n",
       "  \"/>\n",
       "<polyline clip-path=\"url(#clip580)\" style=\"stroke:#000000; stroke-width:4; stroke-opacity:1; fill:none\" points=\"\n",
       "  287.204,1486.45 287.204,47.2441 \n",
       "  \"/>\n",
       "<polyline clip-path=\"url(#clip580)\" style=\"stroke:#000000; stroke-width:4; stroke-opacity:1; fill:none\" points=\"\n",
       "  261.695,1052.03 312.712,1052.03 \n",
       "  \"/>\n",
       "<polyline clip-path=\"url(#clip580)\" style=\"stroke:#000000; stroke-width:4; stroke-opacity:1; fill:none\" points=\"\n",
       "  261.695,712.576 312.712,712.576 \n",
       "  \"/>\n",
       "<polyline clip-path=\"url(#clip580)\" style=\"stroke:#000000; stroke-width:4; stroke-opacity:1; fill:none\" points=\"\n",
       "  261.695,373.12 312.712,373.12 \n",
       "  \"/>\n",
       "<path clip-path=\"url(#clip580)\" d=\"M 0 0 M177.269 1065.38 L184.908 1065.38 L184.908 1039.01 L176.598 1040.68 L176.598 1036.42 L184.862 1034.75 L189.538 1034.75 L189.538 1065.38 L197.176 1065.38 L197.176 1069.31 L177.269 1069.31 L177.269 1065.38 Z\" fill=\"#000000\" fill-rule=\"evenodd\" fill-opacity=\"1\" /><path clip-path=\"url(#clip580)\" d=\"M 0 0 M212.246 1037.83 Q208.635 1037.83 206.806 1041.4 Q205 1044.94 205 1052.07 Q205 1059.17 206.806 1062.74 Q208.635 1066.28 212.246 1066.28 Q215.88 1066.28 217.686 1062.74 Q219.514 1059.17 219.514 1052.07 Q219.514 1044.94 217.686 1041.4 Q215.88 1037.83 212.246 1037.83 M212.246 1034.13 Q218.056 1034.13 221.111 1038.73 Q224.19 1043.32 224.19 1052.07 Q224.19 1060.79 221.111 1065.4 Q218.056 1069.98 212.246 1069.98 Q206.436 1069.98 203.357 1065.4 Q200.301 1060.79 200.301 1052.07 Q200.301 1043.32 203.357 1038.73 Q206.436 1034.13 212.246 1034.13 Z\" fill=\"#000000\" fill-rule=\"evenodd\" fill-opacity=\"1\" /><path clip-path=\"url(#clip580)\" d=\"M 0 0 M239.259 1037.83 Q235.648 1037.83 233.82 1041.4 Q232.014 1044.94 232.014 1052.07 Q232.014 1059.17 233.82 1062.74 Q235.648 1066.28 239.259 1066.28 Q242.894 1066.28 244.699 1062.74 Q246.528 1059.17 246.528 1052.07 Q246.528 1044.94 244.699 1041.4 Q242.894 1037.83 239.259 1037.83 M239.259 1034.13 Q245.07 1034.13 248.125 1038.73 Q251.204 1043.32 251.204 1052.07 Q251.204 1060.79 248.125 1065.4 Q245.07 1069.98 239.259 1069.98 Q233.449 1069.98 230.371 1065.4 Q227.315 1060.79 227.315 1052.07 Q227.315 1043.32 230.371 1038.73 Q233.449 1034.13 239.259 1034.13 Z\" fill=\"#000000\" fill-rule=\"evenodd\" fill-opacity=\"1\" /><path clip-path=\"url(#clip580)\" d=\"M 0 0 M180.857 725.921 L197.176 725.921 L197.176 729.856 L175.232 729.856 L175.232 725.921 Q177.894 723.167 182.477 718.537 Q187.084 713.884 188.264 712.542 Q190.51 710.019 191.389 708.282 Q192.292 706.523 192.292 704.833 Q192.292 702.079 190.348 700.343 Q188.426 698.607 185.325 698.607 Q183.126 698.607 180.672 699.37 Q178.241 700.134 175.464 701.685 L175.464 696.963 Q178.288 695.829 180.741 695.25 Q183.195 694.671 185.232 694.671 Q190.602 694.671 193.797 697.357 Q196.991 700.042 196.991 704.532 Q196.991 706.662 196.181 708.583 Q195.394 710.481 193.288 713.074 Q192.709 713.745 189.607 716.963 Q186.505 720.157 180.857 725.921 Z\" fill=\"#000000\" fill-rule=\"evenodd\" fill-opacity=\"1\" /><path clip-path=\"url(#clip580)\" d=\"M 0 0 M212.246 698.375 Q208.635 698.375 206.806 701.94 Q205 705.482 205 712.611 Q205 719.718 206.806 723.282 Q208.635 726.824 212.246 726.824 Q215.88 726.824 217.686 723.282 Q219.514 719.718 219.514 712.611 Q219.514 705.482 217.686 701.94 Q215.88 698.375 212.246 698.375 M212.246 694.671 Q218.056 694.671 221.111 699.278 Q224.19 703.861 224.19 712.611 Q224.19 721.338 221.111 725.944 Q218.056 730.528 212.246 730.528 Q206.436 730.528 203.357 725.944 Q200.301 721.338 200.301 712.611 Q200.301 703.861 203.357 699.278 Q206.436 694.671 212.246 694.671 Z\" fill=\"#000000\" fill-rule=\"evenodd\" fill-opacity=\"1\" /><path clip-path=\"url(#clip580)\" d=\"M 0 0 M239.259 698.375 Q235.648 698.375 233.82 701.94 Q232.014 705.482 232.014 712.611 Q232.014 719.718 233.82 723.282 Q235.648 726.824 239.259 726.824 Q242.894 726.824 244.699 723.282 Q246.528 719.718 246.528 712.611 Q246.528 705.482 244.699 701.94 Q242.894 698.375 239.259 698.375 M239.259 694.671 Q245.07 694.671 248.125 699.278 Q251.204 703.861 251.204 712.611 Q251.204 721.338 248.125 725.944 Q245.07 730.528 239.259 730.528 Q233.449 730.528 230.371 725.944 Q227.315 721.338 227.315 712.611 Q227.315 703.861 230.371 699.278 Q233.449 694.671 239.259 694.671 Z\" fill=\"#000000\" fill-rule=\"evenodd\" fill-opacity=\"1\" /><path clip-path=\"url(#clip580)\" d=\"M 0 0 M190.047 371.766 Q193.403 372.483 195.278 374.752 Q197.176 377.02 197.176 380.354 Q197.176 385.469 193.658 388.27 Q190.139 391.071 183.658 391.071 Q181.482 391.071 179.167 390.631 Q176.876 390.215 174.422 389.358 L174.422 384.844 Q176.366 385.979 178.681 386.557 Q180.996 387.136 183.519 387.136 Q187.917 387.136 190.209 385.4 Q192.524 383.664 192.524 380.354 Q192.524 377.298 190.371 375.585 Q188.241 373.849 184.422 373.849 L180.394 373.849 L180.394 370.006 L184.607 370.006 Q188.056 370.006 189.885 368.641 Q191.713 367.252 191.713 364.659 Q191.713 361.997 189.815 360.585 Q187.94 359.15 184.422 359.15 Q182.501 359.15 180.301 359.567 Q178.102 359.983 175.464 360.863 L175.464 356.696 Q178.126 355.956 180.44 355.585 Q182.778 355.215 184.838 355.215 Q190.163 355.215 193.264 357.645 Q196.366 360.053 196.366 364.173 Q196.366 367.043 194.723 369.034 Q193.079 371.002 190.047 371.766 Z\" fill=\"#000000\" fill-rule=\"evenodd\" fill-opacity=\"1\" /><path clip-path=\"url(#clip580)\" d=\"M 0 0 M212.246 358.918 Q208.635 358.918 206.806 362.483 Q205 366.025 205 373.155 Q205 380.261 206.806 383.826 Q208.635 387.367 212.246 387.367 Q215.88 387.367 217.686 383.826 Q219.514 380.261 219.514 373.155 Q219.514 366.025 217.686 362.483 Q215.88 358.918 212.246 358.918 M212.246 355.215 Q218.056 355.215 221.111 359.821 Q224.19 364.405 224.19 373.155 Q224.19 381.881 221.111 386.488 Q218.056 391.071 212.246 391.071 Q206.436 391.071 203.357 386.488 Q200.301 381.881 200.301 373.155 Q200.301 364.405 203.357 359.821 Q206.436 355.215 212.246 355.215 Z\" fill=\"#000000\" fill-rule=\"evenodd\" fill-opacity=\"1\" /><path clip-path=\"url(#clip580)\" d=\"M 0 0 M239.259 358.918 Q235.648 358.918 233.82 362.483 Q232.014 366.025 232.014 373.155 Q232.014 380.261 233.82 383.826 Q235.648 387.367 239.259 387.367 Q242.894 387.367 244.699 383.826 Q246.528 380.261 246.528 373.155 Q246.528 366.025 244.699 362.483 Q242.894 358.918 239.259 358.918 M239.259 355.215 Q245.07 355.215 248.125 359.821 Q251.204 364.405 251.204 373.155 Q251.204 381.881 248.125 386.488 Q245.07 391.071 239.259 391.071 Q233.449 391.071 230.371 386.488 Q227.315 381.881 227.315 373.155 Q227.315 364.405 230.371 359.821 Q233.449 355.215 239.259 355.215 Z\" fill=\"#000000\" fill-rule=\"evenodd\" fill-opacity=\"1\" /><path clip-path=\"url(#clip580)\" d=\"M 0 0 M70.212 814.971 Q76.6732 814.971 80.3653 812.329 Q84.0256 809.655 84.0256 805.008 Q84.0256 800.361 80.3653 797.688 Q76.6732 795.014 70.212 795.014 Q63.7508 795.014 60.0905 797.688 Q56.3984 800.361 56.3984 805.008 Q56.3984 809.655 60.0905 812.329 Q63.7508 814.971 70.212 814.971 M82.657 795.014 Q85.8398 796.86 87.3994 799.693 Q88.9272 802.494 88.9272 806.441 Q88.9272 812.902 83.771 816.976 Q78.6147 821.018 70.212 821.018 Q61.8093 821.018 56.6531 816.976 Q51.4968 812.902 51.4968 806.441 Q51.4968 802.494 53.0564 799.693 Q54.5842 796.86 57.7671 795.014 L52.3562 795.014 L52.3562 789.158 L101.563 789.158 L101.563 795.014 L82.657 795.014 Z\" fill=\"#000000\" fill-rule=\"evenodd\" fill-opacity=\"1\" /><path clip-path=\"url(#clip580)\" d=\"M 0 0 M38.5426 768.947 Q45.8632 773.212 53.0246 775.281 Q60.186 777.349 67.5384 777.349 Q74.8908 777.349 82.1159 775.281 Q89.3091 773.18 96.5979 768.947 L96.5979 774.039 Q89.1182 778.814 81.8931 781.201 Q74.668 783.556 67.5384 783.556 Q60.4406 783.556 53.2474 781.201 Q46.0542 778.845 38.5426 774.039 L38.5426 768.947 Z\" fill=\"#000000\" fill-rule=\"evenodd\" fill-opacity=\"1\" /><path clip-path=\"url(#clip580)\" d=\"M 0 0 M52.3562 733.171 L69.7028 746.062 L88.0042 732.503 L88.0042 739.41 L73.9996 749.786 L88.0042 760.162 L88.0042 767.069 L69.3526 753.223 L52.3562 765.891 L52.3562 758.984 L65.0558 749.531 L52.3562 740.078 L52.3562 733.171 Z\" fill=\"#000000\" fill-rule=\"evenodd\" fill-opacity=\"1\" /><path clip-path=\"url(#clip580)\" d=\"M 0 0 M38.5426 727.283 L38.5426 722.191 Q46.0542 717.416 53.2474 715.061 Q60.4406 712.674 67.5384 712.674 Q74.668 712.674 81.8931 715.061 Q89.1182 717.416 96.5979 722.191 L96.5979 727.283 Q89.3091 723.05 82.1159 720.981 Q74.8908 718.88 67.5384 718.88 Q60.186 718.88 53.0246 720.981 Q45.8632 723.05 38.5426 727.283 Z\" fill=\"#000000\" fill-rule=\"evenodd\" fill-opacity=\"1\" /><polyline clip-path=\"url(#clip582)\" style=\"stroke:#009af9; stroke-width:4; stroke-opacity:1; fill:none\" points=\"\n",
       "  287.204,1035.06 309.486,1091.94 331.768,1143.3 354.05,1189.46 376.332,1230.72 398.614,1267.38 420.897,1299.72 443.179,1328.04 465.461,1352.6 487.743,1373.66 \n",
       "  510.025,1391.49 532.307,1406.33 554.589,1418.42 576.871,1428 599.153,1435.29 621.436,1440.5 643.718,1443.84 666,1445.52 688.282,1445.72 710.564,1444.62 \n",
       "  732.846,1442.41 755.128,1439.24 777.41,1435.29 799.693,1430.69 821.975,1425.59 844.257,1420.13 866.539,1414.43 888.821,1408.61 911.103,1402.78 933.385,1397.04 \n",
       "  955.667,1391.49 977.949,1386.21 1000.23,1381.27 1022.51,1376.76 1044.8,1372.72 1067.08,1369.21 1089.36,1366.28 1111.64,1363.97 1133.92,1362.29 1156.21,1361.28 \n",
       "  1178.49,1360.94 1200.77,1361.28 1223.05,1362.29 1245.33,1363.97 1267.62,1366.28 1289.9,1369.21 1312.18,1372.72 1334.46,1376.76 1356.75,1381.27 1379.03,1386.21 \n",
       "  1401.31,1391.49 1423.59,1397.04 1445.87,1402.78 1468.16,1408.61 1490.44,1414.43 1512.72,1420.13 1535,1425.59 1557.28,1430.69 1579.57,1435.29 1601.85,1439.24 \n",
       "  1624.13,1442.41 1646.41,1444.62 1668.69,1445.72 1690.98,1445.52 1713.26,1443.84 1735.54,1440.5 1757.82,1435.29 1780.11,1428 1802.39,1418.42 1824.67,1406.33 \n",
       "  1846.95,1391.49 1869.23,1373.66 1891.52,1352.6 1913.8,1328.04 1936.08,1299.72 1958.36,1267.38 1980.64,1230.72 2002.93,1189.46 2025.21,1143.3 2047.49,1091.94 \n",
       "  2069.77,1035.06 2092.06,972.342 2114.34,903.454 2136.62,828.059 2158.9,745.811 2181.18,656.354 2203.47,559.327 2225.75,454.358 2248.03,341.07 2270.31,219.074 \n",
       "  2292.59,87.9763 \n",
       "  \"/>\n",
       "</svg>\n"
      ]
     },
     "execution_count": 71,
     "metadata": {},
     "output_type": "execute_result"
    }
   ],
   "source": [
    "q(x) = (x - 1)*(x - 3)*(x - 5)*(x - 7)\n",
    "p = functionplot(0:.1:9, q(x), 1:9, \"q(x)\")"
   ]
  },
  {
   "cell_type": "markdown",
   "metadata": {},
   "source": [
    "<a id='plot_function_sign_chart_cell'></a>\n",
    "We can plot the function and its three associated signcharts with the `plot_function_sign_chart` command:"
   ]
  },
  {
   "cell_type": "code",
   "execution_count": 72,
   "metadata": {},
   "outputs": [
    {
     "data": {
      "image/svg+xml": [
       "<?xml version=\"1.0\" encoding=\"utf-8\"?>\n",
       "<svg xmlns=\"http://www.w3.org/2000/svg\" xmlns:xlink=\"http://www.w3.org/1999/xlink\" width=\"500\" height=\"800\" viewBox=\"0 0 2000 3200\">\n",
       "<defs>\n",
       "  <clipPath id=\"clip620\">\n",
       "    <rect x=\"0\" y=\"0\" width=\"2000\" height=\"3200\"/>\n",
       "  </clipPath>\n",
       "</defs>\n",
       "<path clip-path=\"url(#clip620)\" d=\"\n",
       "M0 3200 L2000 3200 L2000 0 L0 0  Z\n",
       "  \" fill=\"#ffffff\" fill-rule=\"evenodd\" fill-opacity=\"1\"/>\n",
       "<defs>\n",
       "  <clipPath id=\"clip621\">\n",
       "    <rect x=\"640\" y=\"320\" width=\"2000\" height=\"2241\"/>\n",
       "  </clipPath>\n",
       "</defs>\n",
       "<path clip-path=\"url(#clip620)\" d=\"\n",
       "M218.009 1909.1 L1952.76 1909.1 L1952.76 47.2441 L218.009 47.2441  Z\n",
       "  \" fill=\"#ffffff\" fill-rule=\"evenodd\" fill-opacity=\"1\"/>\n",
       "<defs>\n",
       "  <clipPath id=\"clip622\">\n",
       "    <rect x=\"218\" y=\"47\" width=\"1736\" height=\"1863\"/>\n",
       "  </clipPath>\n",
       "</defs>\n",
       "<polyline clip-path=\"url(#clip622)\" style=\"stroke:#000000; stroke-width:2; stroke-opacity:0.1; fill:none\" points=\"\n",
       "  448.945,1909.1 448.945,47.2441 \n",
       "  \"/>\n",
       "<polyline clip-path=\"url(#clip622)\" style=\"stroke:#000000; stroke-width:2; stroke-opacity:0.1; fill:none\" points=\"\n",
       "  630.784,1909.1 630.784,47.2441 \n",
       "  \"/>\n",
       "<polyline clip-path=\"url(#clip622)\" style=\"stroke:#000000; stroke-width:2; stroke-opacity:0.1; fill:none\" points=\"\n",
       "  812.623,1909.1 812.623,47.2441 \n",
       "  \"/>\n",
       "<polyline clip-path=\"url(#clip622)\" style=\"stroke:#000000; stroke-width:2; stroke-opacity:0.1; fill:none\" points=\"\n",
       "  994.463,1909.1 994.463,47.2441 \n",
       "  \"/>\n",
       "<polyline clip-path=\"url(#clip622)\" style=\"stroke:#000000; stroke-width:2; stroke-opacity:0.1; fill:none\" points=\"\n",
       "  1176.3,1909.1 1176.3,47.2441 \n",
       "  \"/>\n",
       "<polyline clip-path=\"url(#clip622)\" style=\"stroke:#000000; stroke-width:2; stroke-opacity:0.1; fill:none\" points=\"\n",
       "  1358.14,1909.1 1358.14,47.2441 \n",
       "  \"/>\n",
       "<polyline clip-path=\"url(#clip622)\" style=\"stroke:#000000; stroke-width:2; stroke-opacity:0.1; fill:none\" points=\"\n",
       "  1539.98,1909.1 1539.98,47.2441 \n",
       "  \"/>\n",
       "<polyline clip-path=\"url(#clip622)\" style=\"stroke:#000000; stroke-width:2; stroke-opacity:0.1; fill:none\" points=\"\n",
       "  1721.82,1909.1 1721.82,47.2441 \n",
       "  \"/>\n",
       "<polyline clip-path=\"url(#clip622)\" style=\"stroke:#000000; stroke-width:2; stroke-opacity:0.1; fill:none\" points=\"\n",
       "  1903.66,1909.1 1903.66,47.2441 \n",
       "  \"/>\n",
       "<polyline clip-path=\"url(#clip620)\" style=\"stroke:#000000; stroke-width:4; stroke-opacity:1; fill:none\" points=\"\n",
       "  218.009,1786.25 1952.76,1786.25 \n",
       "  \"/>\n",
       "<polyline clip-path=\"url(#clip620)\" style=\"stroke:#000000; stroke-width:4; stroke-opacity:1; fill:none\" points=\"\n",
       "  448.945,1808.59 448.945,1763.91 \n",
       "  \"/>\n",
       "<polyline clip-path=\"url(#clip620)\" style=\"stroke:#000000; stroke-width:4; stroke-opacity:1; fill:none\" points=\"\n",
       "  630.784,1808.59 630.784,1763.91 \n",
       "  \"/>\n",
       "<polyline clip-path=\"url(#clip620)\" style=\"stroke:#000000; stroke-width:4; stroke-opacity:1; fill:none\" points=\"\n",
       "  812.623,1808.59 812.623,1763.91 \n",
       "  \"/>\n",
       "<polyline clip-path=\"url(#clip620)\" style=\"stroke:#000000; stroke-width:4; stroke-opacity:1; fill:none\" points=\"\n",
       "  994.463,1808.59 994.463,1763.91 \n",
       "  \"/>\n",
       "<polyline clip-path=\"url(#clip620)\" style=\"stroke:#000000; stroke-width:4; stroke-opacity:1; fill:none\" points=\"\n",
       "  1176.3,1808.59 1176.3,1763.91 \n",
       "  \"/>\n",
       "<polyline clip-path=\"url(#clip620)\" style=\"stroke:#000000; stroke-width:4; stroke-opacity:1; fill:none\" points=\"\n",
       "  1358.14,1808.59 1358.14,1763.91 \n",
       "  \"/>\n",
       "<polyline clip-path=\"url(#clip620)\" style=\"stroke:#000000; stroke-width:4; stroke-opacity:1; fill:none\" points=\"\n",
       "  1539.98,1808.59 1539.98,1763.91 \n",
       "  \"/>\n",
       "<polyline clip-path=\"url(#clip620)\" style=\"stroke:#000000; stroke-width:4; stroke-opacity:1; fill:none\" points=\"\n",
       "  1721.82,1808.59 1721.82,1763.91 \n",
       "  \"/>\n",
       "<polyline clip-path=\"url(#clip620)\" style=\"stroke:#000000; stroke-width:4; stroke-opacity:1; fill:none\" points=\"\n",
       "  1903.66,1808.59 1903.66,1763.91 \n",
       "  \"/>\n",
       "<path clip-path=\"url(#clip620)\" d=\"M 0 0 M439.327 1849.39 L446.966 1849.39 L446.966 1823.02 L438.656 1824.69 L438.656 1820.43 L446.919 1818.76 L451.595 1818.76 L451.595 1849.39 L459.234 1849.39 L459.234 1853.32 L439.327 1853.32 L439.327 1849.39 Z\" fill=\"#000000\" fill-rule=\"evenodd\" fill-opacity=\"1\" /><path clip-path=\"url(#clip620)\" d=\"M 0 0 M625.437 1849.39 L641.756 1849.39 L641.756 1853.32 L619.812 1853.32 L619.812 1849.39 Q622.474 1846.63 627.057 1842 Q631.664 1837.35 632.844 1836.01 Q635.09 1833.49 635.969 1831.75 Q636.872 1829.99 636.872 1828.3 Q636.872 1825.55 634.928 1823.81 Q633.006 1822.07 629.905 1822.07 Q627.705 1822.07 625.252 1822.84 Q622.821 1823.6 620.043 1825.15 L620.043 1820.43 Q622.868 1819.3 625.321 1818.72 Q627.775 1818.14 629.812 1818.14 Q635.182 1818.14 638.377 1820.82 Q641.571 1823.51 641.571 1828 Q641.571 1830.13 640.761 1832.05 Q639.974 1833.95 637.867 1836.54 Q637.289 1837.21 634.187 1840.43 Q631.085 1843.63 625.437 1849.39 Z\" fill=\"#000000\" fill-rule=\"evenodd\" fill-opacity=\"1\" /><path clip-path=\"url(#clip620)\" d=\"M 0 0 M816.871 1834.69 Q820.228 1835.41 822.103 1837.68 Q824.001 1839.94 824.001 1843.28 Q824.001 1848.39 820.482 1851.19 Q816.964 1854 810.482 1854 Q808.306 1854 805.992 1853.56 Q803.7 1853.14 801.246 1852.28 L801.246 1847.77 Q803.191 1848.9 805.505 1849.48 Q807.82 1850.06 810.343 1850.06 Q814.741 1850.06 817.033 1848.32 Q819.348 1846.59 819.348 1843.28 Q819.348 1840.22 817.195 1838.51 Q815.066 1836.77 811.246 1836.77 L807.218 1836.77 L807.218 1832.93 L811.431 1832.93 Q814.88 1832.93 816.709 1831.57 Q818.538 1830.18 818.538 1827.58 Q818.538 1824.92 816.64 1823.51 Q814.765 1822.07 811.246 1822.07 Q809.325 1822.07 807.126 1822.49 Q804.927 1822.91 802.288 1823.79 L802.288 1819.62 Q804.95 1818.88 807.265 1818.51 Q809.603 1818.14 811.663 1818.14 Q816.987 1818.14 820.089 1820.57 Q823.191 1822.98 823.191 1827.1 Q823.191 1829.97 821.547 1831.96 Q819.903 1833.93 816.871 1834.69 Z\" fill=\"#000000\" fill-rule=\"evenodd\" fill-opacity=\"1\" /><path clip-path=\"url(#clip620)\" d=\"M 0 0 M997.472 1822.84 L985.667 1841.29 L997.472 1841.29 L997.472 1822.84 M996.245 1818.76 L1002.12 1818.76 L1002.12 1841.29 L1007.06 1841.29 L1007.06 1845.18 L1002.12 1845.18 L1002.12 1853.32 L997.472 1853.32 L997.472 1845.18 L981.87 1845.18 L981.87 1840.66 L996.245 1818.76 Z\" fill=\"#000000\" fill-rule=\"evenodd\" fill-opacity=\"1\" /><path clip-path=\"url(#clip620)\" d=\"M 0 0 M1166.58 1818.76 L1184.94 1818.76 L1184.94 1822.7 L1170.86 1822.7 L1170.86 1831.17 Q1171.88 1830.82 1172.9 1830.66 Q1173.92 1830.48 1174.94 1830.48 Q1180.72 1830.48 1184.1 1833.65 Q1187.48 1836.82 1187.48 1842.24 Q1187.48 1847.82 1184.01 1850.92 Q1180.54 1854 1174.22 1854 Q1172.04 1854 1169.77 1853.63 Q1167.53 1853.25 1165.12 1852.51 L1165.12 1847.82 Q1167.2 1848.95 1169.43 1849.5 Q1171.65 1850.06 1174.13 1850.06 Q1178.13 1850.06 1180.47 1847.95 Q1182.81 1845.85 1182.81 1842.24 Q1182.81 1838.63 1180.47 1836.52 Q1178.13 1834.41 1174.13 1834.41 Q1172.25 1834.41 1170.38 1834.83 Q1168.52 1835.25 1166.58 1836.13 L1166.58 1818.76 Z\" fill=\"#000000\" fill-rule=\"evenodd\" fill-opacity=\"1\" /><path clip-path=\"url(#clip620)\" d=\"M 0 0 M1358.55 1834.18 Q1355.4 1834.18 1353.55 1836.33 Q1351.72 1838.49 1351.72 1842.24 Q1351.72 1845.96 1353.55 1848.14 Q1355.4 1850.29 1358.55 1850.29 Q1361.69 1850.29 1363.52 1848.14 Q1365.38 1845.96 1365.38 1842.24 Q1365.38 1838.49 1363.52 1836.33 Q1361.69 1834.18 1358.55 1834.18 M1367.83 1819.53 L1367.83 1823.79 Q1366.07 1822.95 1364.26 1822.51 Q1362.48 1822.07 1360.72 1822.07 Q1356.09 1822.07 1353.64 1825.2 Q1351.21 1828.32 1350.86 1834.64 Q1352.23 1832.63 1354.29 1831.57 Q1356.35 1830.48 1358.82 1830.48 Q1364.03 1830.48 1367.04 1833.65 Q1370.07 1836.8 1370.07 1842.24 Q1370.07 1847.56 1366.93 1850.78 Q1363.78 1854 1358.55 1854 Q1352.55 1854 1349.38 1849.41 Q1346.21 1844.81 1346.21 1836.08 Q1346.21 1827.88 1350.1 1823.02 Q1353.99 1818.14 1360.54 1818.14 Q1362.3 1818.14 1364.08 1818.49 Q1365.88 1818.83 1367.83 1819.53 Z\" fill=\"#000000\" fill-rule=\"evenodd\" fill-opacity=\"1\" /><path clip-path=\"url(#clip620)\" d=\"M 0 0 M1528.87 1818.76 L1551.09 1818.76 L1551.09 1820.76 L1538.55 1853.32 L1533.66 1853.32 L1545.47 1822.7 L1528.87 1822.7 L1528.87 1818.76 Z\" fill=\"#000000\" fill-rule=\"evenodd\" fill-opacity=\"1\" /><path clip-path=\"url(#clip620)\" d=\"M 0 0 M1721.82 1836.91 Q1718.49 1836.91 1716.57 1838.69 Q1714.67 1840.48 1714.67 1843.6 Q1714.67 1846.73 1716.57 1848.51 Q1718.49 1850.29 1721.82 1850.29 Q1725.15 1850.29 1727.07 1848.51 Q1729 1846.7 1729 1843.6 Q1729 1840.48 1727.07 1838.69 Q1725.18 1836.91 1721.82 1836.91 M1717.14 1834.92 Q1714.13 1834.18 1712.45 1832.12 Q1710.78 1830.06 1710.78 1827.1 Q1710.78 1822.95 1713.72 1820.55 Q1716.68 1818.14 1721.82 1818.14 Q1726.98 1818.14 1729.92 1820.55 Q1732.86 1822.95 1732.86 1827.1 Q1732.86 1830.06 1731.17 1832.12 Q1729.51 1834.18 1726.52 1834.92 Q1729.9 1835.71 1731.77 1838 Q1733.67 1840.29 1733.67 1843.6 Q1733.67 1848.63 1730.59 1851.31 Q1727.54 1854 1721.82 1854 Q1716.1 1854 1713.02 1851.31 Q1709.97 1848.63 1709.97 1843.6 Q1709.97 1840.29 1711.87 1838 Q1713.76 1835.71 1717.14 1834.92 M1715.43 1827.54 Q1715.43 1830.22 1717.1 1831.73 Q1718.79 1833.23 1721.82 1833.23 Q1724.83 1833.23 1726.52 1831.73 Q1728.23 1830.22 1728.23 1827.54 Q1728.23 1824.85 1726.52 1823.35 Q1724.83 1821.84 1721.82 1821.84 Q1718.79 1821.84 1717.1 1823.35 Q1715.43 1824.85 1715.43 1827.54 Z\" fill=\"#000000\" fill-rule=\"evenodd\" fill-opacity=\"1\" /><path clip-path=\"url(#clip620)\" d=\"M 0 0 M1893.96 1852.61 L1893.96 1848.35 Q1895.72 1849.18 1897.53 1849.62 Q1899.33 1850.06 1901.07 1850.06 Q1905.7 1850.06 1908.13 1846.96 Q1910.58 1843.83 1910.93 1837.49 Q1909.59 1839.48 1907.53 1840.55 Q1905.46 1841.61 1902.96 1841.61 Q1897.78 1841.61 1894.75 1838.49 Q1891.74 1835.34 1891.74 1829.9 Q1891.74 1824.57 1894.89 1821.36 Q1898.03 1818.14 1903.27 1818.14 Q1909.26 1818.14 1912.41 1822.75 Q1915.58 1827.33 1915.58 1836.08 Q1915.58 1844.25 1911.69 1849.13 Q1907.83 1854 1901.28 1854 Q1899.52 1854 1897.71 1853.65 Q1895.9 1853.3 1893.96 1852.61 M1903.27 1837.95 Q1906.41 1837.95 1908.24 1835.8 Q1910.09 1833.65 1910.09 1829.9 Q1910.09 1826.17 1908.24 1824.02 Q1906.41 1821.84 1903.27 1821.84 Q1900.12 1821.84 1898.27 1824.02 Q1896.44 1826.17 1896.44 1829.9 Q1896.44 1833.65 1898.27 1835.8 Q1900.12 1837.95 1903.27 1837.95 Z\" fill=\"#000000\" fill-rule=\"evenodd\" fill-opacity=\"1\" /><polyline clip-path=\"url(#clip622)\" style=\"stroke:#000000; stroke-width:2; stroke-opacity:0.1; fill:none\" points=\"\n",
       "  218.009,1347.11 1952.76,1347.11 \n",
       "  \"/>\n",
       "<polyline clip-path=\"url(#clip622)\" style=\"stroke:#000000; stroke-width:2; stroke-opacity:0.1; fill:none\" points=\"\n",
       "  218.009,907.964 1952.76,907.964 \n",
       "  \"/>\n",
       "<polyline clip-path=\"url(#clip622)\" style=\"stroke:#000000; stroke-width:2; stroke-opacity:0.1; fill:none\" points=\"\n",
       "  218.009,468.819 1952.76,468.819 \n",
       "  \"/>\n",
       "<polyline clip-path=\"url(#clip620)\" style=\"stroke:#000000; stroke-width:4; stroke-opacity:1; fill:none\" points=\"\n",
       "  267.106,1909.1 267.106,47.2441 \n",
       "  \"/>\n",
       "<polyline clip-path=\"url(#clip620)\" style=\"stroke:#000000; stroke-width:4; stroke-opacity:1; fill:none\" points=\"\n",
       "  246.289,1347.11 287.922,1347.11 \n",
       "  \"/>\n",
       "<polyline clip-path=\"url(#clip620)\" style=\"stroke:#000000; stroke-width:4; stroke-opacity:1; fill:none\" points=\"\n",
       "  246.289,907.964 287.922,907.964 \n",
       "  \"/>\n",
       "<polyline clip-path=\"url(#clip620)\" style=\"stroke:#000000; stroke-width:4; stroke-opacity:1; fill:none\" points=\"\n",
       "  246.289,468.819 287.922,468.819 \n",
       "  \"/>\n",
       "<path clip-path=\"url(#clip620)\" d=\"M 0 0 M145.171 1360.45 L152.81 1360.45 L152.81 1334.09 L144.499 1335.75 L144.499 1331.49 L152.763 1329.83 L157.439 1329.83 L157.439 1360.45 L165.078 1360.45 L165.078 1364.39 L145.171 1364.39 L145.171 1360.45 Z\" fill=\"#000000\" fill-rule=\"evenodd\" fill-opacity=\"1\" /><path clip-path=\"url(#clip620)\" d=\"M 0 0 M180.147 1332.91 Q176.536 1332.91 174.708 1336.47 Q172.902 1340.01 172.902 1347.14 Q172.902 1354.25 174.708 1357.81 Q176.536 1361.36 180.147 1361.36 Q183.782 1361.36 185.587 1357.81 Q187.416 1354.25 187.416 1347.14 Q187.416 1340.01 185.587 1336.47 Q183.782 1332.91 180.147 1332.91 M180.147 1329.2 Q185.958 1329.2 189.013 1333.81 Q192.092 1338.39 192.092 1347.14 Q192.092 1355.87 189.013 1360.48 Q185.958 1365.06 180.147 1365.06 Q174.337 1365.06 171.259 1360.48 Q168.203 1355.87 168.203 1347.14 Q168.203 1338.39 171.259 1333.81 Q174.337 1329.2 180.147 1329.2 Z\" fill=\"#000000\" fill-rule=\"evenodd\" fill-opacity=\"1\" /><path clip-path=\"url(#clip620)\" d=\"M 0 0 M207.161 1332.91 Q203.55 1332.91 201.721 1336.47 Q199.916 1340.01 199.916 1347.14 Q199.916 1354.25 201.721 1357.81 Q203.55 1361.36 207.161 1361.36 Q210.795 1361.36 212.601 1357.81 Q214.43 1354.25 214.43 1347.14 Q214.43 1340.01 212.601 1336.47 Q210.795 1332.91 207.161 1332.91 M207.161 1329.2 Q212.971 1329.2 216.027 1333.81 Q219.106 1338.39 219.106 1347.14 Q219.106 1355.87 216.027 1360.48 Q212.971 1365.06 207.161 1365.06 Q201.351 1365.06 198.272 1360.48 Q195.217 1355.87 195.217 1347.14 Q195.217 1338.39 198.272 1333.81 Q201.351 1329.2 207.161 1329.2 Z\" fill=\"#000000\" fill-rule=\"evenodd\" fill-opacity=\"1\" /><path clip-path=\"url(#clip620)\" d=\"M 0 0 M148.759 921.308 L165.078 921.308 L165.078 925.244 L143.134 925.244 L143.134 921.308 Q145.796 918.554 150.379 913.924 Q154.985 909.271 156.166 907.929 Q158.411 905.406 159.291 903.67 Q160.194 901.91 160.194 900.221 Q160.194 897.466 158.249 895.73 Q156.328 893.994 153.226 893.994 Q151.027 893.994 148.573 894.758 Q146.143 895.522 143.365 897.072 L143.365 892.35 Q146.189 891.216 148.643 890.637 Q151.097 890.059 153.134 890.059 Q158.504 890.059 161.698 892.744 Q164.893 895.429 164.893 899.92 Q164.893 902.049 164.083 903.971 Q163.296 905.869 161.189 908.461 Q160.61 909.133 157.509 912.35 Q154.407 915.545 148.759 921.308 Z\" fill=\"#000000\" fill-rule=\"evenodd\" fill-opacity=\"1\" /><path clip-path=\"url(#clip620)\" d=\"M 0 0 M180.147 893.762 Q176.536 893.762 174.708 897.327 Q172.902 900.869 172.902 907.998 Q172.902 915.105 174.708 918.67 Q176.536 922.211 180.147 922.211 Q183.782 922.211 185.587 918.67 Q187.416 915.105 187.416 907.998 Q187.416 900.869 185.587 897.327 Q183.782 893.762 180.147 893.762 M180.147 890.059 Q185.958 890.059 189.013 894.665 Q192.092 899.248 192.092 907.998 Q192.092 916.725 189.013 921.332 Q185.958 925.915 180.147 925.915 Q174.337 925.915 171.259 921.332 Q168.203 916.725 168.203 907.998 Q168.203 899.248 171.259 894.665 Q174.337 890.059 180.147 890.059 Z\" fill=\"#000000\" fill-rule=\"evenodd\" fill-opacity=\"1\" /><path clip-path=\"url(#clip620)\" d=\"M 0 0 M207.161 893.762 Q203.55 893.762 201.721 897.327 Q199.916 900.869 199.916 907.998 Q199.916 915.105 201.721 918.67 Q203.55 922.211 207.161 922.211 Q210.795 922.211 212.601 918.67 Q214.43 915.105 214.43 907.998 Q214.43 900.869 212.601 897.327 Q210.795 893.762 207.161 893.762 M207.161 890.059 Q212.971 890.059 216.027 894.665 Q219.106 899.248 219.106 907.998 Q219.106 916.725 216.027 921.332 Q212.971 925.915 207.161 925.915 Q201.351 925.915 198.272 921.332 Q195.217 916.725 195.217 907.998 Q195.217 899.248 198.272 894.665 Q201.351 890.059 207.161 890.059 Z\" fill=\"#000000\" fill-rule=\"evenodd\" fill-opacity=\"1\" /><path clip-path=\"url(#clip620)\" d=\"M 0 0 M157.948 467.465 Q161.305 468.183 163.18 470.451 Q165.078 472.72 165.078 476.053 Q165.078 481.169 161.56 483.97 Q158.041 486.771 151.56 486.771 Q149.384 486.771 147.069 486.331 Q144.777 485.914 142.324 485.058 L142.324 480.544 Q144.268 481.678 146.583 482.257 Q148.898 482.835 151.421 482.835 Q155.819 482.835 158.11 481.099 Q160.425 479.363 160.425 476.053 Q160.425 472.998 158.273 471.285 Q156.143 469.548 152.323 469.548 L148.296 469.548 L148.296 465.706 L152.509 465.706 Q155.958 465.706 157.786 464.34 Q159.615 462.951 159.615 460.359 Q159.615 457.697 157.717 456.285 Q155.842 454.849 152.323 454.849 Q150.402 454.849 148.203 455.266 Q146.004 455.683 143.365 456.562 L143.365 452.396 Q146.027 451.655 148.342 451.285 Q150.68 450.914 152.74 450.914 Q158.064 450.914 161.166 453.345 Q164.268 455.752 164.268 459.873 Q164.268 462.743 162.624 464.734 Q160.981 466.701 157.948 467.465 Z\" fill=\"#000000\" fill-rule=\"evenodd\" fill-opacity=\"1\" /><path clip-path=\"url(#clip620)\" d=\"M 0 0 M180.147 454.618 Q176.536 454.618 174.708 458.183 Q172.902 461.724 172.902 468.854 Q172.902 475.96 174.708 479.525 Q176.536 483.067 180.147 483.067 Q183.782 483.067 185.587 479.525 Q187.416 475.96 187.416 468.854 Q187.416 461.724 185.587 458.183 Q183.782 454.618 180.147 454.618 M180.147 450.914 Q185.958 450.914 189.013 455.521 Q192.092 460.104 192.092 468.854 Q192.092 477.581 189.013 482.187 Q185.958 486.771 180.147 486.771 Q174.337 486.771 171.259 482.187 Q168.203 477.581 168.203 468.854 Q168.203 460.104 171.259 455.521 Q174.337 450.914 180.147 450.914 Z\" fill=\"#000000\" fill-rule=\"evenodd\" fill-opacity=\"1\" /><path clip-path=\"url(#clip620)\" d=\"M 0 0 M207.161 454.618 Q203.55 454.618 201.721 458.183 Q199.916 461.724 199.916 468.854 Q199.916 475.96 201.721 479.525 Q203.55 483.067 207.161 483.067 Q210.795 483.067 212.601 479.525 Q214.43 475.96 214.43 468.854 Q214.43 461.724 212.601 458.183 Q210.795 454.618 207.161 454.618 M207.161 450.914 Q212.971 450.914 216.027 455.521 Q219.106 460.104 219.106 468.854 Q219.106 477.581 216.027 482.187 Q212.971 486.771 207.161 486.771 Q201.351 486.771 198.272 482.187 Q195.217 477.581 195.217 468.854 Q195.217 460.104 198.272 455.521 Q201.351 450.914 207.161 450.914 Z\" fill=\"#000000\" fill-rule=\"evenodd\" fill-opacity=\"1\" /><path clip-path=\"url(#clip620)\" d=\"M 0 0 M45.1788 988.053 Q51.64 988.053 55.3321 985.412 Q58.9923 982.738 58.9923 978.091 Q58.9923 973.444 55.3321 970.77 Q51.64 968.097 45.1788 968.097 Q38.7176 968.097 35.0573 970.77 Q31.3652 973.444 31.3652 978.091 Q31.3652 982.738 35.0573 985.412 Q38.7176 988.053 45.1788 988.053 M57.6237 968.097 Q60.8066 969.943 62.3662 972.776 Q63.8939 975.576 63.8939 979.523 Q63.8939 985.984 58.7377 990.058 Q53.5815 994.101 45.1788 994.101 Q36.776 994.101 31.6198 990.058 Q26.4636 985.984 26.4636 979.523 Q26.4636 975.576 28.0232 972.776 Q29.5509 969.943 32.7338 968.097 L27.323 968.097 L27.323 962.24 L76.5299 962.24 L76.5299 968.097 L57.6237 968.097 Z\" fill=\"#000000\" fill-rule=\"evenodd\" fill-opacity=\"1\" /><polyline clip-path=\"url(#clip622)\" style=\"stroke:#009af9; stroke-width:4; stroke-opacity:1; fill:none\" points=\"\n",
       "  267.106,1325.15 285.289,1398.73 303.473,1465.18 321.657,1524.89 339.841,1578.27 358.025,1625.69 376.209,1667.54 394.393,1704.17 412.577,1735.94 430.761,1763.19 \n",
       "  448.945,1786.25 467.129,1805.45 485.313,1821.1 503.497,1833.49 521.681,1842.91 539.864,1849.65 558.048,1853.98 576.232,1856.15 594.416,1856.4 612.6,1854.99 \n",
       "  630.784,1852.12 648.968,1848.03 667.152,1842.91 685.336,1836.96 703.52,1830.37 721.704,1823.31 739.888,1815.93 758.072,1808.4 776.256,1800.86 794.44,1793.44 \n",
       "  812.623,1786.25 830.807,1779.42 848.991,1773.04 867.175,1767.19 885.359,1761.97 903.543,1757.43 921.727,1753.64 939.911,1750.65 958.095,1748.48 976.279,1747.17 \n",
       "  994.463,1746.73 1012.65,1747.17 1030.83,1748.48 1049.01,1750.65 1067.2,1753.64 1085.38,1757.43 1103.57,1761.97 1121.75,1767.19 1139.93,1773.04 1158.12,1779.42 \n",
       "  1176.3,1786.25 1194.49,1793.44 1212.67,1800.86 1230.85,1808.4 1249.04,1815.93 1267.22,1823.31 1285.41,1830.37 1303.59,1836.96 1321.77,1842.91 1339.96,1848.03 \n",
       "  1358.14,1852.12 1376.33,1854.99 1394.51,1856.4 1412.69,1856.15 1430.88,1853.98 1449.06,1849.65 1467.24,1842.91 1485.43,1833.49 1503.61,1821.1 1521.8,1805.45 \n",
       "  1539.98,1786.25 1558.16,1763.19 1576.35,1735.94 1594.53,1704.17 1612.72,1667.54 1630.9,1625.69 1649.08,1578.27 1667.27,1524.89 1685.45,1465.18 1703.64,1398.73 \n",
       "  1721.82,1325.15 1740,1244.01 1758.19,1154.9 1776.37,1057.36 1794.56,950.958 1812.74,835.23 1830.92,709.709 1849.11,573.915 1867.29,427.357 1885.48,269.535 \n",
       "  1903.66,99.938 \n",
       "  \"/>\n",
       "<path clip-path=\"url(#clip620)\" d=\"\n",
       "M218.009 2212.69 L1952.76 2212.69 L1952.76 2103.17 L218.009 2103.17  Z\n",
       "  \" fill=\"#ffffff\" fill-rule=\"evenodd\" fill-opacity=\"1\"/>\n",
       "<defs>\n",
       "  <clipPath id=\"clip623\">\n",
       "    <rect x=\"218\" y=\"2103\" width=\"1736\" height=\"111\"/>\n",
       "  </clipPath>\n",
       "</defs>\n",
       "<polyline clip-path=\"url(#clip623)\" style=\"stroke:#000000; stroke-width:2; stroke-opacity:0.1; fill:none\" points=\"\n",
       "  444.28,2212.69 444.28,2103.17 \n",
       "  \"/>\n",
       "<polyline clip-path=\"url(#clip623)\" style=\"stroke:#000000; stroke-width:2; stroke-opacity:0.1; fill:none\" points=\"\n",
       "  821.399,2212.69 821.399,2103.17 \n",
       "  \"/>\n",
       "<polyline clip-path=\"url(#clip623)\" style=\"stroke:#000000; stroke-width:2; stroke-opacity:0.1; fill:none\" points=\"\n",
       "  1198.52,2212.69 1198.52,2103.17 \n",
       "  \"/>\n",
       "<polyline clip-path=\"url(#clip623)\" style=\"stroke:#000000; stroke-width:2; stroke-opacity:0.1; fill:none\" points=\"\n",
       "  1575.64,2212.69 1575.64,2103.17 \n",
       "  \"/>\n",
       "<polyline clip-path=\"url(#clip620)\" style=\"stroke:#000000; stroke-width:4; stroke-opacity:0; fill:none\" points=\"\n",
       "  444.28,2212.69 444.28,2211.38 \n",
       "  \"/>\n",
       "<polyline clip-path=\"url(#clip620)\" style=\"stroke:#000000; stroke-width:4; stroke-opacity:0; fill:none\" points=\"\n",
       "  821.399,2212.69 821.399,2211.38 \n",
       "  \"/>\n",
       "<polyline clip-path=\"url(#clip620)\" style=\"stroke:#000000; stroke-width:4; stroke-opacity:0; fill:none\" points=\"\n",
       "  1198.52,2212.69 1198.52,2211.38 \n",
       "  \"/>\n",
       "<polyline clip-path=\"url(#clip620)\" style=\"stroke:#000000; stroke-width:4; stroke-opacity:0; fill:none\" points=\"\n",
       "  1575.64,2212.69 1575.64,2211.38 \n",
       "  \"/>\n",
       "<path clip-path=\"url(#clip620)\" d=\"M 0 0 M340.259 2332.14 L359.356 2332.14 L359.356 2266.22 L338.581 2270.39 L338.581 2259.74 L359.24 2255.57 L370.93 2255.57 L370.93 2332.14 L390.027 2332.14 L390.027 2341.97 L340.259 2341.97 L340.259 2332.14 Z\" fill=\"#000000\" fill-rule=\"evenodd\" fill-opacity=\"1\" /><path clip-path=\"url(#clip620)\" d=\"M 0 0 M402.701 2327.27 L414.911 2327.27 L414.911 2341.97 L402.701 2341.97 L402.701 2327.27 Z\" fill=\"#000000\" fill-rule=\"evenodd\" fill-opacity=\"1\" /><path clip-path=\"url(#clip620)\" d=\"M 0 0 M452.585 2263.27 Q443.557 2263.27 438.985 2272.18 Q434.471 2281.04 434.471 2298.86 Q434.471 2316.63 438.985 2325.54 Q443.557 2334.39 452.585 2334.39 Q461.67 2334.39 466.184 2325.54 Q470.756 2316.63 470.756 2298.86 Q470.756 2281.04 466.184 2272.18 Q461.67 2263.27 452.585 2263.27 M452.585 2254.01 Q467.11 2254.01 474.749 2265.53 Q482.446 2276.99 482.446 2298.86 Q482.446 2320.68 474.749 2332.19 Q467.11 2343.65 452.585 2343.65 Q438.059 2343.65 430.363 2332.19 Q422.724 2320.68 422.724 2298.86 Q422.724 2276.99 430.363 2265.53 Q438.059 2254.01 452.585 2254.01 Z\" fill=\"#000000\" fill-rule=\"evenodd\" fill-opacity=\"1\" /><path clip-path=\"url(#clip620)\" d=\"M 0 0 M520.119 2263.27 Q511.091 2263.27 506.52 2272.18 Q502.006 2281.04 502.006 2298.86 Q502.006 2316.63 506.52 2325.54 Q511.091 2334.39 520.119 2334.39 Q529.205 2334.39 533.718 2325.54 Q538.29 2316.63 538.29 2298.86 Q538.29 2281.04 533.718 2272.18 Q529.205 2263.27 520.119 2263.27 M520.119 2254.01 Q534.644 2254.01 542.283 2265.53 Q549.98 2276.99 549.98 2298.86 Q549.98 2320.68 542.283 2332.19 Q534.644 2343.65 520.119 2343.65 Q505.594 2343.65 497.897 2332.19 Q490.258 2320.68 490.258 2298.86 Q490.258 2276.99 497.897 2265.53 Q505.594 2254.01 520.119 2254.01 Z\" fill=\"#000000\" fill-rule=\"evenodd\" fill-opacity=\"1\" /><path clip-path=\"url(#clip620)\" d=\"M 0 0 M752.042 2295.39 Q760.433 2297.18 765.121 2302.85 Q769.866 2308.53 769.866 2316.86 Q769.866 2329.65 761.07 2336.65 Q752.273 2343.65 736.07 2343.65 Q730.63 2343.65 724.843 2342.55 Q719.114 2341.51 712.98 2339.37 L712.98 2328.09 Q717.841 2330.92 723.628 2332.37 Q729.415 2333.81 735.723 2333.81 Q746.718 2333.81 752.447 2329.47 Q758.234 2325.13 758.234 2316.86 Q758.234 2309.22 752.852 2304.94 Q747.528 2300.6 737.979 2300.6 L727.91 2300.6 L727.91 2290.99 L738.442 2290.99 Q747.065 2290.99 751.637 2287.58 Q756.209 2284.1 756.209 2277.62 Q756.209 2270.97 751.463 2267.44 Q746.776 2263.85 737.979 2263.85 Q733.176 2263.85 727.679 2264.89 Q722.181 2265.93 715.584 2268.13 L715.584 2257.72 Q722.239 2255.86 728.026 2254.94 Q733.871 2254.01 739.021 2254.01 Q752.331 2254.01 760.086 2260.09 Q767.84 2266.11 767.84 2276.41 Q767.84 2283.58 763.732 2288.56 Q759.623 2293.48 752.042 2295.39 Z\" fill=\"#000000\" fill-rule=\"evenodd\" fill-opacity=\"1\" /><path clip-path=\"url(#clip620)\" d=\"M 0 0 M782.539 2327.27 L794.75 2327.27 L794.75 2341.97 L782.539 2341.97 L782.539 2327.27 Z\" fill=\"#000000\" fill-rule=\"evenodd\" fill-opacity=\"1\" /><path clip-path=\"url(#clip620)\" d=\"M 0 0 M832.423 2263.27 Q823.396 2263.27 818.824 2272.18 Q814.31 2281.04 814.31 2298.86 Q814.31 2316.63 818.824 2325.54 Q823.396 2334.39 832.423 2334.39 Q841.509 2334.39 846.023 2325.54 Q850.595 2316.63 850.595 2298.86 Q850.595 2281.04 846.023 2272.18 Q841.509 2263.27 832.423 2263.27 M832.423 2254.01 Q846.949 2254.01 854.588 2265.53 Q862.284 2276.99 862.284 2298.86 Q862.284 2320.68 854.588 2332.19 Q846.949 2343.65 832.423 2343.65 Q817.898 2343.65 810.201 2332.19 Q802.562 2320.68 802.562 2298.86 Q802.562 2276.99 810.201 2265.53 Q817.898 2254.01 832.423 2254.01 Z\" fill=\"#000000\" fill-rule=\"evenodd\" fill-opacity=\"1\" /><path clip-path=\"url(#clip620)\" d=\"M 0 0 M899.958 2263.27 Q890.93 2263.27 886.358 2272.18 Q881.844 2281.04 881.844 2298.86 Q881.844 2316.63 886.358 2325.54 Q890.93 2334.39 899.958 2334.39 Q909.043 2334.39 913.557 2325.54 Q918.129 2316.63 918.129 2298.86 Q918.129 2281.04 913.557 2272.18 Q909.043 2263.27 899.958 2263.27 M899.958 2254.01 Q914.483 2254.01 922.122 2265.53 Q929.819 2276.99 929.819 2298.86 Q929.819 2320.68 922.122 2332.19 Q914.483 2343.65 899.958 2343.65 Q885.432 2343.65 877.736 2332.19 Q870.097 2320.68 870.097 2298.86 Q870.097 2276.99 877.736 2265.53 Q885.432 2254.01 899.958 2254.01 Z\" fill=\"#000000\" fill-rule=\"evenodd\" fill-opacity=\"1\" /><path clip-path=\"url(#clip620)\" d=\"M 0 0 M1094.24 2255.57 L1140.13 2255.57 L1140.13 2265.41 L1104.94 2265.41 L1104.94 2286.59 Q1107.49 2285.72 1110.03 2285.32 Q1112.58 2284.86 1115.13 2284.86 Q1129.59 2284.86 1138.04 2292.78 Q1146.49 2300.71 1146.49 2314.25 Q1146.49 2328.2 1137.81 2335.96 Q1129.13 2343.65 1113.33 2343.65 Q1107.89 2343.65 1102.22 2342.73 Q1096.61 2341.8 1090.59 2339.95 L1090.59 2328.2 Q1095.8 2331.04 1101.35 2332.43 Q1106.91 2333.81 1113.1 2333.81 Q1123.11 2333.81 1128.96 2328.55 Q1134.8 2323.28 1134.8 2314.25 Q1134.8 2305.23 1128.96 2299.96 Q1123.11 2294.69 1113.1 2294.69 Q1108.41 2294.69 1103.73 2295.74 Q1099.1 2296.78 1094.24 2298.98 L1094.24 2255.57 Z\" fill=\"#000000\" fill-rule=\"evenodd\" fill-opacity=\"1\" /><path clip-path=\"url(#clip620)\" d=\"M 0 0 M1159.17 2327.27 L1171.38 2327.27 L1171.38 2341.97 L1159.17 2341.97 L1159.17 2327.27 Z\" fill=\"#000000\" fill-rule=\"evenodd\" fill-opacity=\"1\" /><path clip-path=\"url(#clip620)\" d=\"M 0 0 M1209.05 2263.27 Q1200.02 2263.27 1195.45 2272.18 Q1190.94 2281.04 1190.94 2298.86 Q1190.94 2316.63 1195.45 2325.54 Q1200.02 2334.39 1209.05 2334.39 Q1218.14 2334.39 1222.65 2325.54 Q1227.22 2316.63 1227.22 2298.86 Q1227.22 2281.04 1222.65 2272.18 Q1218.14 2263.27 1209.05 2263.27 M1209.05 2254.01 Q1223.58 2254.01 1231.21 2265.53 Q1238.91 2276.99 1238.91 2298.86 Q1238.91 2320.68 1231.21 2332.19 Q1223.58 2343.65 1209.05 2343.65 Q1194.53 2343.65 1186.83 2332.19 Q1179.19 2320.68 1179.19 2298.86 Q1179.19 2276.99 1186.83 2265.53 Q1194.53 2254.01 1209.05 2254.01 Z\" fill=\"#000000\" fill-rule=\"evenodd\" fill-opacity=\"1\" /><path clip-path=\"url(#clip620)\" d=\"M 0 0 M1276.58 2263.27 Q1267.56 2263.27 1262.99 2272.18 Q1258.47 2281.04 1258.47 2298.86 Q1258.47 2316.63 1262.99 2325.54 Q1267.56 2334.39 1276.58 2334.39 Q1285.67 2334.39 1290.18 2325.54 Q1294.76 2316.63 1294.76 2298.86 Q1294.76 2281.04 1290.18 2272.18 Q1285.67 2263.27 1276.58 2263.27 M1276.58 2254.01 Q1291.11 2254.01 1298.75 2265.53 Q1306.45 2276.99 1306.45 2298.86 Q1306.45 2320.68 1298.75 2332.19 Q1291.11 2343.65 1276.58 2343.65 Q1262.06 2343.65 1254.36 2332.19 Q1246.72 2320.68 1246.72 2298.86 Q1246.72 2276.99 1254.36 2265.53 Q1262.06 2254.01 1276.58 2254.01 Z\" fill=\"#000000\" fill-rule=\"evenodd\" fill-opacity=\"1\" /><path clip-path=\"url(#clip620)\" d=\"M 0 0 M1467.88 2255.57 L1523.44 2255.57 L1523.44 2260.55 L1492.07 2341.97 L1479.86 2341.97 L1509.38 2265.41 L1467.88 2265.41 L1467.88 2255.57 Z\" fill=\"#000000\" fill-rule=\"evenodd\" fill-opacity=\"1\" /><path clip-path=\"url(#clip620)\" d=\"M 0 0 M1536.11 2327.27 L1548.32 2327.27 L1548.32 2341.97 L1536.11 2341.97 L1536.11 2327.27 Z\" fill=\"#000000\" fill-rule=\"evenodd\" fill-opacity=\"1\" /><path clip-path=\"url(#clip620)\" d=\"M 0 0 M1586 2263.27 Q1576.97 2263.27 1572.4 2272.18 Q1567.88 2281.04 1567.88 2298.86 Q1567.88 2316.63 1572.4 2325.54 Q1576.97 2334.39 1586 2334.39 Q1595.08 2334.39 1599.6 2325.54 Q1604.17 2316.63 1604.17 2298.86 Q1604.17 2281.04 1599.6 2272.18 Q1595.08 2263.27 1586 2263.27 M1586 2254.01 Q1600.52 2254.01 1608.16 2265.53 Q1615.86 2276.99 1615.86 2298.86 Q1615.86 2320.68 1608.16 2332.19 Q1600.52 2343.65 1586 2343.65 Q1571.47 2343.65 1563.77 2332.19 Q1556.13 2320.68 1556.13 2298.86 Q1556.13 2276.99 1563.77 2265.53 Q1571.47 2254.01 1586 2254.01 Z\" fill=\"#000000\" fill-rule=\"evenodd\" fill-opacity=\"1\" /><path clip-path=\"url(#clip620)\" d=\"M 0 0 M1653.53 2263.27 Q1644.5 2263.27 1639.93 2272.18 Q1635.42 2281.04 1635.42 2298.86 Q1635.42 2316.63 1639.93 2325.54 Q1644.5 2334.39 1653.53 2334.39 Q1662.62 2334.39 1667.13 2325.54 Q1671.7 2316.63 1671.7 2298.86 Q1671.7 2281.04 1667.13 2272.18 Q1662.62 2263.27 1653.53 2263.27 M1653.53 2254.01 Q1668.06 2254.01 1675.69 2265.53 Q1683.39 2276.99 1683.39 2298.86 Q1683.39 2320.68 1675.69 2332.19 Q1668.06 2343.65 1653.53 2343.65 Q1639 2343.65 1631.31 2332.19 Q1623.67 2320.68 1623.67 2298.86 Q1623.67 2276.99 1631.31 2265.53 Q1639 2254.01 1653.53 2254.01 Z\" fill=\"#000000\" fill-rule=\"evenodd\" fill-opacity=\"1\" /><polyline clip-path=\"url(#clip623)\" style=\"stroke:#000000; stroke-width:2; stroke-opacity:0.1; fill:none\" points=\"\n",
       "  218.009,2204.27 1952.76,2204.27 \n",
       "  \"/>\n",
       "<path clip-path=\"url(#clip620)\" d=\"M 0 0 M121.961 2167.82 Q128.422 2167.82 132.114 2165.17 Q135.774 2162.5 135.774 2157.85 Q135.774 2153.21 132.114 2150.53 Q128.422 2147.86 121.961 2147.86 Q115.5 2147.86 111.839 2150.53 Q108.147 2153.21 108.147 2157.85 Q108.147 2162.5 111.839 2165.17 Q115.5 2167.82 121.961 2167.82 M134.406 2147.86 Q137.589 2149.71 139.148 2152.54 Q140.676 2155.34 140.676 2159.29 Q140.676 2165.75 135.52 2169.82 Q130.363 2173.86 121.961 2173.86 Q113.558 2173.86 108.402 2169.82 Q103.246 2165.75 103.246 2159.29 Q103.246 2155.34 104.805 2152.54 Q106.333 2149.71 109.516 2147.86 L104.105 2147.86 L104.105 2142 L153.312 2142 L153.312 2147.86 L134.406 2147.86 Z\" fill=\"#000000\" fill-rule=\"evenodd\" fill-opacity=\"1\" /><polyline clip-path=\"url(#clip623)\" style=\"stroke:#009af9; stroke-width:4; stroke-opacity:1; fill:none\" points=\"\n",
       "  350.001,2204.27 632.84,2204.27 1009.96,2204.27 1387.08,2204.27 1764.2,2204.27 \n",
       "  \"/>\n",
       "<polyline clip-path=\"url(#clip623)\" style=\"stroke:#000000; stroke-width:4; stroke-opacity:1; fill:none\" points=\"\n",
       "  -1516.74,2204.27 3687.5,2204.27 \n",
       "  \"/>\n",
       "<polyline clip-path=\"url(#clip623)\" style=\"stroke:#ff0000; stroke-width:4; stroke-opacity:1; fill:none\" stroke-dasharray=\"16, 10\" points=\"\n",
       "  444.28,2322.21 444.28,1993.65 \n",
       "  \"/>\n",
       "<polyline clip-path=\"url(#clip623)\" style=\"stroke:#ff0000; stroke-width:4; stroke-opacity:1; fill:none\" stroke-dasharray=\"16, 10\" points=\"\n",
       "  821.399,2322.21 821.399,1993.65 \n",
       "  \"/>\n",
       "<polyline clip-path=\"url(#clip623)\" style=\"stroke:#ff0000; stroke-width:4; stroke-opacity:1; fill:none\" stroke-dasharray=\"16, 10\" points=\"\n",
       "  1198.52,2322.21 1198.52,1993.65 \n",
       "  \"/>\n",
       "<polyline clip-path=\"url(#clip623)\" style=\"stroke:#ff0000; stroke-width:4; stroke-opacity:1; fill:none\" stroke-dasharray=\"16, 10\" points=\"\n",
       "  1575.64,2322.21 1575.64,1993.65 \n",
       "  \"/>\n",
       "<circle clip-path=\"url(#clip623)\" cx=\"444.28\" cy=\"2204.27\" r=\"28\" fill=\"#000000\" fill-rule=\"evenodd\" fill-opacity=\"1\" stroke=\"none\"/>\n",
       "<circle clip-path=\"url(#clip623)\" cx=\"821.399\" cy=\"2204.27\" r=\"28\" fill=\"#000000\" fill-rule=\"evenodd\" fill-opacity=\"1\" stroke=\"none\"/>\n",
       "<circle clip-path=\"url(#clip623)\" cx=\"1198.52\" cy=\"2204.27\" r=\"28\" fill=\"#000000\" fill-rule=\"evenodd\" fill-opacity=\"1\" stroke=\"none\"/>\n",
       "<circle clip-path=\"url(#clip623)\" cx=\"1575.64\" cy=\"2204.27\" r=\"28\" fill=\"#000000\" fill-rule=\"evenodd\" fill-opacity=\"1\" stroke=\"none\"/>\n",
       "<path clip-path=\"url(#clip620)\" d=\"M 0 0 M357.292 2073.36 L357.292 2121.72 L405.643 2121.72 L405.643 2136.47 L357.292 2136.47 L357.292 2184.82 L342.709 2184.82 L342.709 2136.47 L294.358 2136.47 L294.358 2121.72 L342.709 2121.72 L342.709 2073.36 L357.292 2073.36 Z\" fill=\"#000000\" fill-rule=\"evenodd\" fill-opacity=\"1\" /><path clip-path=\"url(#clip620)\" d=\"M 0 0 M609.446 2129.01 L656.234 2129.01 L656.234 2143.24 L609.446 2143.24 L609.446 2129.01 Z\" fill=\"#000000\" fill-rule=\"evenodd\" fill-opacity=\"1\" /><path clip-path=\"url(#clip620)\" d=\"M 0 0 M1017.25 2073.36 L1017.25 2121.72 L1065.6 2121.72 L1065.6 2136.47 L1017.25 2136.47 L1017.25 2184.82 L1002.67 2184.82 L1002.67 2136.47 L954.317 2136.47 L954.317 2121.72 L1002.67 2121.72 L1002.67 2073.36 L1017.25 2073.36 Z\" fill=\"#000000\" fill-rule=\"evenodd\" fill-opacity=\"1\" /><path clip-path=\"url(#clip620)\" d=\"M 0 0 M1363.68 2129.01 L1410.47 2129.01 L1410.47 2143.24 L1363.68 2143.24 L1363.68 2129.01 Z\" fill=\"#000000\" fill-rule=\"evenodd\" fill-opacity=\"1\" /><path clip-path=\"url(#clip620)\" d=\"M 0 0 M1771.49 2073.36 L1771.49 2121.72 L1819.84 2121.72 L1819.84 2136.47 L1771.49 2136.47 L1771.49 2184.82 L1756.9 2184.82 L1756.9 2136.47 L1708.55 2136.47 L1708.55 2121.72 L1756.9 2121.72 L1756.9 2073.36 L1771.49 2073.36 Z\" fill=\"#000000\" fill-rule=\"evenodd\" fill-opacity=\"1\" /><path clip-path=\"url(#clip620)\" d=\"\n",
       "M218.009 2594.05 L1952.76 2594.05 L1952.76 2484.53 L218.009 2484.53  Z\n",
       "  \" fill=\"#ffffff\" fill-rule=\"evenodd\" fill-opacity=\"1\"/>\n",
       "<defs>\n",
       "  <clipPath id=\"clip624\">\n",
       "    <rect x=\"218\" y=\"2484\" width=\"1736\" height=\"111\"/>\n",
       "  </clipPath>\n",
       "</defs>\n",
       "<polyline clip-path=\"url(#clip624)\" style=\"stroke:#000000; stroke-width:2; stroke-opacity:0.1; fill:none\" points=\"\n",
       "  588.327,2594.05 588.327,2484.53 \n",
       "  \"/>\n",
       "<polyline clip-path=\"url(#clip624)\" style=\"stroke:#000000; stroke-width:2; stroke-opacity:0.1; fill:none\" points=\"\n",
       "  1009.96,2594.05 1009.96,2484.53 \n",
       "  \"/>\n",
       "<polyline clip-path=\"url(#clip624)\" style=\"stroke:#000000; stroke-width:2; stroke-opacity:0.1; fill:none\" points=\"\n",
       "  1431.59,2594.05 1431.59,2484.53 \n",
       "  \"/>\n",
       "<polyline clip-path=\"url(#clip620)\" style=\"stroke:#000000; stroke-width:4; stroke-opacity:0; fill:none\" points=\"\n",
       "  588.327,2594.05 588.327,2592.74 \n",
       "  \"/>\n",
       "<polyline clip-path=\"url(#clip620)\" style=\"stroke:#000000; stroke-width:4; stroke-opacity:0; fill:none\" points=\"\n",
       "  1009.96,2594.05 1009.96,2592.74 \n",
       "  \"/>\n",
       "<polyline clip-path=\"url(#clip620)\" style=\"stroke:#000000; stroke-width:4; stroke-opacity:0; fill:none\" points=\"\n",
       "  1431.59,2594.05 1431.59,2592.74 \n",
       "  \"/>\n",
       "<path clip-path=\"url(#clip620)\" d=\"M 0 0 M485.231 2713.49 L504.328 2713.49 L504.328 2647.58 L483.553 2651.75 L483.553 2641.1 L504.213 2636.93 L515.902 2636.93 L515.902 2713.49 L535 2713.49 L535 2723.33 L485.231 2723.33 L485.231 2713.49 Z\" fill=\"#000000\" fill-rule=\"evenodd\" fill-opacity=\"1\" /><path clip-path=\"url(#clip620)\" d=\"M 0 0 M547.673 2708.63 L559.884 2708.63 L559.884 2723.33 L547.673 2723.33 L547.673 2708.63 Z\" fill=\"#000000\" fill-rule=\"evenodd\" fill-opacity=\"1\" /><path clip-path=\"url(#clip620)\" d=\"M 0 0 M569.606 2636.93 L625.161 2636.93 L625.161 2641.91 L593.796 2723.33 L581.585 2723.33 L611.099 2646.77 L569.606 2646.77 L569.606 2636.93 Z\" fill=\"#000000\" fill-rule=\"evenodd\" fill-opacity=\"1\" /><path clip-path=\"url(#clip620)\" d=\"M 0 0 M664.281 2675.47 Q656.411 2675.47 651.781 2680.85 Q647.21 2686.24 647.21 2695.61 Q647.21 2704.93 651.781 2710.37 Q656.411 2715.75 664.281 2715.75 Q672.152 2715.75 676.723 2710.37 Q681.353 2704.93 681.353 2695.61 Q681.353 2686.24 676.723 2680.85 Q672.152 2675.47 664.281 2675.47 M687.487 2638.84 L687.487 2649.49 Q683.089 2647.41 678.575 2646.31 Q674.119 2645.21 669.721 2645.21 Q658.147 2645.21 652.013 2653.02 Q645.937 2660.83 645.068 2676.63 Q648.483 2671.6 653.633 2668.93 Q658.784 2666.21 664.976 2666.21 Q677.997 2666.21 685.52 2674.14 Q693.101 2682.01 693.101 2695.61 Q693.101 2708.92 685.23 2716.97 Q677.36 2725.01 664.281 2725.01 Q649.293 2725.01 641.365 2713.55 Q633.437 2702.03 633.437 2680.22 Q633.437 2659.73 643.159 2647.58 Q652.881 2635.37 669.258 2635.37 Q673.656 2635.37 678.112 2636.24 Q682.626 2637.1 687.487 2638.84 Z\" fill=\"#000000\" fill-rule=\"evenodd\" fill-opacity=\"1\" /><path clip-path=\"url(#clip620)\" d=\"M 0 0 M937.505 2647.12 L907.992 2693.24 L937.505 2693.24 L937.505 2647.12 M934.438 2636.93 L949.137 2636.93 L949.137 2693.24 L961.464 2693.24 L961.464 2702.96 L949.137 2702.96 L949.137 2723.33 L937.505 2723.33 L937.505 2702.96 L898.501 2702.96 L898.501 2691.68 L934.438 2636.93 Z\" fill=\"#000000\" fill-rule=\"evenodd\" fill-opacity=\"1\" /><path clip-path=\"url(#clip620)\" d=\"M 0 0 M974.137 2708.63 L986.348 2708.63 L986.348 2723.33 L974.137 2723.33 L974.137 2708.63 Z\" fill=\"#000000\" fill-rule=\"evenodd\" fill-opacity=\"1\" /><path clip-path=\"url(#clip620)\" d=\"M 0 0 M1024.02 2644.63 Q1014.99 2644.63 1010.42 2653.54 Q1005.91 2662.39 1005.91 2680.22 Q1005.91 2697.98 1010.42 2706.9 Q1014.99 2715.75 1024.02 2715.75 Q1033.11 2715.75 1037.62 2706.9 Q1042.19 2697.98 1042.19 2680.22 Q1042.19 2662.39 1037.62 2653.54 Q1033.11 2644.63 1024.02 2644.63 M1024.02 2635.37 Q1038.55 2635.37 1046.19 2646.88 Q1053.88 2658.34 1053.88 2680.22 Q1053.88 2702.03 1046.19 2713.55 Q1038.55 2725.01 1024.02 2725.01 Q1009.5 2725.01 1001.8 2713.55 Q994.16 2702.03 994.16 2680.22 Q994.16 2658.34 1001.8 2646.88 Q1009.5 2635.37 1024.02 2635.37 Z\" fill=\"#000000\" fill-rule=\"evenodd\" fill-opacity=\"1\" /><path clip-path=\"url(#clip620)\" d=\"M 0 0 M1091.56 2644.63 Q1082.53 2644.63 1077.96 2653.54 Q1073.44 2662.39 1073.44 2680.22 Q1073.44 2697.98 1077.96 2706.9 Q1082.53 2715.75 1091.56 2715.75 Q1100.64 2715.75 1105.15 2706.9 Q1109.73 2697.98 1109.73 2680.22 Q1109.73 2662.39 1105.15 2653.54 Q1100.64 2644.63 1091.56 2644.63 M1091.56 2635.37 Q1106.08 2635.37 1113.72 2646.88 Q1121.42 2658.34 1121.42 2680.22 Q1121.42 2702.03 1113.72 2713.55 Q1106.08 2725.01 1091.56 2725.01 Q1077.03 2725.01 1069.33 2713.55 Q1061.69 2702.03 1061.69 2680.22 Q1061.69 2658.34 1069.33 2646.88 Q1077.03 2635.37 1091.56 2635.37 Z\" fill=\"#000000\" fill-rule=\"evenodd\" fill-opacity=\"1\" /><path clip-path=\"url(#clip620)\" d=\"M 0 0 M1354.02 2675.47 Q1346.15 2675.47 1341.52 2680.85 Q1336.94 2686.24 1336.94 2695.61 Q1336.94 2704.93 1341.52 2710.37 Q1346.15 2715.75 1354.02 2715.75 Q1361.89 2715.75 1366.46 2710.37 Q1371.09 2704.93 1371.09 2695.61 Q1371.09 2686.24 1366.46 2680.85 Q1361.89 2675.47 1354.02 2675.47 M1377.22 2638.84 L1377.22 2649.49 Q1372.82 2647.41 1368.31 2646.31 Q1363.85 2645.21 1359.46 2645.21 Q1347.88 2645.21 1341.75 2653.02 Q1335.67 2660.83 1334.8 2676.63 Q1338.22 2671.6 1343.37 2668.93 Q1348.52 2666.21 1354.71 2666.21 Q1367.73 2666.21 1375.25 2674.14 Q1382.83 2682.01 1382.83 2695.61 Q1382.83 2708.92 1374.96 2716.97 Q1367.09 2725.01 1354.02 2725.01 Q1339.03 2725.01 1331.1 2713.55 Q1323.17 2702.03 1323.17 2680.22 Q1323.17 2659.73 1332.89 2647.58 Q1342.62 2635.37 1358.99 2635.37 Q1363.39 2635.37 1367.85 2636.24 Q1372.36 2637.1 1377.22 2638.84 Z\" fill=\"#000000\" fill-rule=\"evenodd\" fill-opacity=\"1\" /><path clip-path=\"url(#clip620)\" d=\"M 0 0 M1395.51 2708.63 L1407.72 2708.63 L1407.72 2723.33 L1395.51 2723.33 L1395.51 2708.63 Z\" fill=\"#000000\" fill-rule=\"evenodd\" fill-opacity=\"1\" /><path clip-path=\"url(#clip620)\" d=\"M 0 0 M1430.46 2713.49 L1471.26 2713.49 L1471.26 2723.33 L1416.4 2723.33 L1416.4 2713.49 Q1423.05 2706.61 1434.51 2695.03 Q1446.03 2683.4 1448.98 2680.04 Q1454.59 2673.74 1456.79 2669.4 Q1459.05 2665 1459.05 2660.77 Q1459.05 2653.89 1454.19 2649.55 Q1449.39 2645.21 1441.63 2645.21 Q1436.13 2645.21 1430 2647.12 Q1423.92 2649.03 1416.98 2652.9 L1416.98 2641.1 Q1424.04 2638.26 1430.17 2636.82 Q1436.31 2635.37 1441.4 2635.37 Q1454.83 2635.37 1462.81 2642.08 Q1470.8 2648.79 1470.8 2660.02 Q1470.8 2665.35 1468.77 2670.15 Q1466.8 2674.89 1461.54 2681.38 Q1460.09 2683.05 1452.34 2691.1 Q1444.58 2699.08 1430.46 2713.49 Z\" fill=\"#000000\" fill-rule=\"evenodd\" fill-opacity=\"1\" /><path clip-path=\"url(#clip620)\" d=\"M 0 0 M1516.05 2647.12 L1486.54 2693.24 L1516.05 2693.24 L1516.05 2647.12 M1512.98 2636.93 L1527.68 2636.93 L1527.68 2693.24 L1540.01 2693.24 L1540.01 2702.96 L1527.68 2702.96 L1527.68 2723.33 L1516.05 2723.33 L1516.05 2702.96 L1477.05 2702.96 L1477.05 2691.68 L1512.98 2636.93 Z\" fill=\"#000000\" fill-rule=\"evenodd\" fill-opacity=\"1\" /><polyline clip-path=\"url(#clip624)\" style=\"stroke:#000000; stroke-width:2; stroke-opacity:0.1; fill:none\" points=\"\n",
       "  218.009,2585.63 1952.76,2585.63 \n",
       "  \"/>\n",
       "<path clip-path=\"url(#clip620)\" d=\"M 0 0 M121.961 2555.79 Q128.422 2555.79 132.114 2553.15 Q135.774 2550.48 135.774 2545.83 Q135.774 2541.18 132.114 2538.51 Q128.422 2535.84 121.961 2535.84 Q115.5 2535.84 111.839 2538.51 Q108.147 2541.18 108.147 2545.83 Q108.147 2550.48 111.839 2553.15 Q115.5 2555.79 121.961 2555.79 M134.406 2535.84 Q137.589 2537.68 139.148 2540.52 Q140.676 2543.32 140.676 2547.26 Q140.676 2553.72 135.52 2557.8 Q130.363 2561.84 121.961 2561.84 Q113.558 2561.84 108.402 2557.8 Q103.246 2553.72 103.246 2547.26 Q103.246 2543.32 104.805 2540.52 Q106.333 2537.68 109.516 2535.84 L104.105 2535.84 L104.105 2529.98 L153.312 2529.98 L153.312 2535.84 L134.406 2535.84 Z\" fill=\"#000000\" fill-rule=\"evenodd\" fill-opacity=\"1\" /><path clip-path=\"url(#clip620)\" d=\"M 0 0 M104.105 2528.71 L92.2329 2523.2 L92.2329 2516.74 L104.105 2525.94 L104.105 2528.71 Z\" fill=\"#000000\" fill-rule=\"evenodd\" fill-opacity=\"1\" /><polyline clip-path=\"url(#clip624)\" style=\"stroke:#009af9; stroke-width:4; stroke-opacity:1; fill:none\" points=\"\n",
       "  422.024,2585.63 799.143,2585.63 1220.77,2585.63 1692.17,2585.63 \n",
       "  \"/>\n",
       "<polyline clip-path=\"url(#clip624)\" style=\"stroke:#000000; stroke-width:4; stroke-opacity:1; fill:none\" points=\"\n",
       "  -1516.74,2585.63 3687.5,2585.63 \n",
       "  \"/>\n",
       "<polyline clip-path=\"url(#clip624)\" style=\"stroke:#ff0000; stroke-width:4; stroke-opacity:1; fill:none\" stroke-dasharray=\"16, 10\" points=\"\n",
       "  588.327,2703.57 588.327,2375.01 \n",
       "  \"/>\n",
       "<polyline clip-path=\"url(#clip624)\" style=\"stroke:#ff0000; stroke-width:4; stroke-opacity:1; fill:none\" stroke-dasharray=\"16, 10\" points=\"\n",
       "  1009.96,2703.57 1009.96,2375.01 \n",
       "  \"/>\n",
       "<polyline clip-path=\"url(#clip624)\" style=\"stroke:#ff0000; stroke-width:4; stroke-opacity:1; fill:none\" stroke-dasharray=\"16, 10\" points=\"\n",
       "  1431.59,2703.57 1431.59,2375.01 \n",
       "  \"/>\n",
       "<circle clip-path=\"url(#clip624)\" cx=\"588.327\" cy=\"2585.63\" r=\"28\" fill=\"#000000\" fill-rule=\"evenodd\" fill-opacity=\"1\" stroke=\"none\"/>\n",
       "<circle clip-path=\"url(#clip624)\" cx=\"1009.96\" cy=\"2585.63\" r=\"28\" fill=\"#000000\" fill-rule=\"evenodd\" fill-opacity=\"1\" stroke=\"none\"/>\n",
       "<circle clip-path=\"url(#clip624)\" cx=\"1431.59\" cy=\"2585.63\" r=\"28\" fill=\"#000000\" fill-rule=\"evenodd\" fill-opacity=\"1\" stroke=\"none\"/>\n",
       "<path clip-path=\"url(#clip620)\" d=\"M 0 0 M398.63 2510.36 L445.418 2510.36 L445.418 2524.6 L398.63 2524.6 L398.63 2510.36 Z\" fill=\"#000000\" fill-rule=\"evenodd\" fill-opacity=\"1\" /><path clip-path=\"url(#clip620)\" d=\"M 0 0 M806.434 2454.72 L806.434 2503.07 L854.785 2503.07 L854.785 2517.83 L806.434 2517.83 L806.434 2566.18 L791.851 2566.18 L791.851 2517.83 L743.501 2517.83 L743.501 2503.07 L791.851 2503.07 L791.851 2454.72 L806.434 2454.72 Z\" fill=\"#000000\" fill-rule=\"evenodd\" fill-opacity=\"1\" /><path clip-path=\"url(#clip620)\" d=\"M 0 0 M1197.38 2510.36 L1244.17 2510.36 L1244.17 2524.6 L1197.38 2524.6 L1197.38 2510.36 Z\" fill=\"#000000\" fill-rule=\"evenodd\" fill-opacity=\"1\" /><path clip-path=\"url(#clip620)\" d=\"M 0 0 M1699.46 2454.72 L1699.46 2503.07 L1747.82 2503.07 L1747.82 2517.83 L1699.46 2517.83 L1699.46 2566.18 L1684.88 2566.18 L1684.88 2517.83 L1636.53 2517.83 L1636.53 2503.07 L1684.88 2503.07 L1684.88 2454.72 L1699.46 2454.72 Z\" fill=\"#000000\" fill-rule=\"evenodd\" fill-opacity=\"1\" /><path clip-path=\"url(#clip620)\" d=\"\n",
       "M218.009 2975.41 L1952.76 2975.41 L1952.76 2865.89 L218.009 2865.89  Z\n",
       "  \" fill=\"#ffffff\" fill-rule=\"evenodd\" fill-opacity=\"1\"/>\n",
       "<defs>\n",
       "  <clipPath id=\"clip625\">\n",
       "    <rect x=\"218\" y=\"2865\" width=\"1736\" height=\"111\"/>\n",
       "  </clipPath>\n",
       "</defs>\n",
       "<polyline clip-path=\"url(#clip625)\" style=\"stroke:#000000; stroke-width:2; stroke-opacity:0.1; fill:none\" points=\"\n",
       "  766.529,2975.41 766.529,2865.89 \n",
       "  \"/>\n",
       "<polyline clip-path=\"url(#clip625)\" style=\"stroke:#000000; stroke-width:2; stroke-opacity:0.1; fill:none\" points=\"\n",
       "  1253.39,2975.41 1253.39,2865.89 \n",
       "  \"/>\n",
       "<polyline clip-path=\"url(#clip620)\" style=\"stroke:#000000; stroke-width:4; stroke-opacity:0; fill:none\" points=\"\n",
       "  766.529,2975.41 766.529,2974.09 \n",
       "  \"/>\n",
       "<polyline clip-path=\"url(#clip620)\" style=\"stroke:#000000; stroke-width:4; stroke-opacity:0; fill:none\" points=\"\n",
       "  1253.39,2975.41 1253.39,2974.09 \n",
       "  \"/>\n",
       "<path clip-path=\"url(#clip620)\" d=\"M 0 0 M675.847 3094.85 L716.645 3094.85 L716.645 3104.69 L661.785 3104.69 L661.785 3094.85 Q668.44 3087.96 679.898 3076.39 Q691.414 3064.76 694.365 3061.4 Q699.979 3055.09 702.178 3050.75 Q704.435 3046.35 704.435 3042.13 Q704.435 3035.24 699.574 3030.9 Q694.771 3026.56 687.016 3026.56 Q681.518 3026.56 675.384 3028.47 Q669.308 3030.38 662.363 3034.26 L662.363 3022.45 Q669.423 3019.62 675.558 3018.17 Q681.692 3016.73 686.784 3016.73 Q700.21 3016.73 708.196 3023.44 Q716.182 3030.15 716.182 3041.38 Q716.182 3046.7 714.157 3051.51 Q712.189 3056.25 706.923 3062.73 Q705.476 3064.41 697.722 3072.45 Q689.967 3080.44 675.847 3094.85 Z\" fill=\"#000000\" fill-rule=\"evenodd\" fill-opacity=\"1\" /><path clip-path=\"url(#clip620)\" d=\"M 0 0 M729.319 3089.99 L741.53 3089.99 L741.53 3104.69 L729.319 3104.69 L729.319 3089.99 Z\" fill=\"#000000\" fill-rule=\"evenodd\" fill-opacity=\"1\" /><path clip-path=\"url(#clip620)\" d=\"M 0 0 M751.252 3018.29 L806.807 3018.29 L806.807 3023.26 L775.441 3104.69 L763.231 3104.69 L792.745 3028.13 L751.252 3028.13 L751.252 3018.29 Z\" fill=\"#000000\" fill-rule=\"evenodd\" fill-opacity=\"1\" /><path clip-path=\"url(#clip620)\" d=\"M 0 0 M821.506 3094.85 L840.603 3094.85 L840.603 3028.94 L819.828 3033.1 L819.828 3022.45 L840.487 3018.29 L852.177 3018.29 L852.177 3094.85 L871.274 3094.85 L871.274 3104.69 L821.506 3104.69 L821.506 3094.85 Z\" fill=\"#000000\" fill-rule=\"evenodd\" fill-opacity=\"1\" /><path clip-path=\"url(#clip620)\" d=\"M 0 0 M1151.33 3018.29 L1197.22 3018.29 L1197.22 3028.13 L1162.04 3028.13 L1162.04 3049.31 Q1164.59 3048.44 1167.13 3048.03 Q1169.68 3047.57 1172.23 3047.57 Q1186.69 3047.57 1195.14 3055.5 Q1203.59 3063.43 1203.59 3076.97 Q1203.59 3090.91 1194.91 3098.67 Q1186.23 3106.37 1170.43 3106.37 Q1164.99 3106.37 1159.32 3105.44 Q1153.71 3104.51 1147.69 3102.66 L1147.69 3090.91 Q1152.9 3093.75 1158.45 3095.14 Q1164.01 3096.53 1170.2 3096.53 Q1180.21 3096.53 1186.06 3091.26 Q1191.9 3086 1191.9 3076.97 Q1191.9 3067.94 1186.06 3062.67 Q1180.21 3057.41 1170.2 3057.41 Q1165.51 3057.41 1160.82 3058.45 Q1156.2 3059.49 1151.33 3061.69 L1151.33 3018.29 Z\" fill=\"#000000\" fill-rule=\"evenodd\" fill-opacity=\"1\" /><path clip-path=\"url(#clip620)\" d=\"M 0 0 M1216.26 3089.99 L1228.47 3089.99 L1228.47 3104.69 L1216.26 3104.69 L1216.26 3089.99 Z\" fill=\"#000000\" fill-rule=\"evenodd\" fill-opacity=\"1\" /><path clip-path=\"url(#clip620)\" d=\"M 0 0 M1251.22 3094.85 L1292.02 3094.85 L1292.02 3104.69 L1237.16 3104.69 L1237.16 3094.85 Q1243.81 3087.96 1255.27 3076.39 Q1266.78 3064.76 1269.74 3061.4 Q1275.35 3055.09 1277.55 3050.75 Q1279.81 3046.35 1279.81 3042.13 Q1279.81 3035.24 1274.94 3030.9 Q1270.14 3026.56 1262.39 3026.56 Q1256.89 3026.56 1250.75 3028.47 Q1244.68 3030.38 1237.73 3034.26 L1237.73 3022.45 Q1244.79 3019.62 1250.93 3018.17 Q1257.06 3016.73 1262.16 3016.73 Q1275.58 3016.73 1283.57 3023.44 Q1291.55 3030.15 1291.55 3041.38 Q1291.55 3046.7 1289.53 3051.51 Q1287.56 3056.25 1282.29 3062.73 Q1280.85 3064.41 1273.09 3072.45 Q1265.34 3080.44 1251.22 3094.85 Z\" fill=\"#000000\" fill-rule=\"evenodd\" fill-opacity=\"1\" /><path clip-path=\"url(#clip620)\" d=\"M 0 0 M1305.04 3102.89 L1305.04 3092.25 Q1309.43 3094.33 1313.95 3095.43 Q1318.46 3096.53 1322.8 3096.53 Q1334.38 3096.53 1340.45 3088.77 Q1346.59 3080.96 1347.46 3065.1 Q1344.1 3070.08 1338.95 3072.74 Q1333.8 3075.41 1327.55 3075.41 Q1314.59 3075.41 1307 3067.59 Q1299.48 3059.72 1299.48 3046.12 Q1299.48 3032.81 1307.35 3024.77 Q1315.22 3016.73 1328.3 3016.73 Q1343.29 3016.73 1351.16 3028.24 Q1359.09 3039.7 1359.09 3061.57 Q1359.09 3082 1349.37 3094.21 Q1339.7 3106.37 1323.32 3106.37 Q1318.93 3106.37 1314.41 3105.5 Q1309.9 3104.63 1305.04 3102.89 M1328.3 3066.26 Q1336.17 3066.26 1340.74 3060.88 Q1345.37 3055.5 1345.37 3046.12 Q1345.37 3036.81 1340.74 3031.42 Q1336.17 3025.98 1328.3 3025.98 Q1320.43 3025.98 1315.8 3031.42 Q1311.23 3036.81 1311.23 3046.12 Q1311.23 3055.5 1315.8 3060.88 Q1320.43 3066.26 1328.3 3066.26 Z\" fill=\"#000000\" fill-rule=\"evenodd\" fill-opacity=\"1\" /><polyline clip-path=\"url(#clip625)\" style=\"stroke:#000000; stroke-width:2; stroke-opacity:0.1; fill:none\" points=\"\n",
       "  218.009,2966.98 1952.76,2966.98 \n",
       "  \"/>\n",
       "<path clip-path=\"url(#clip620)\" d=\"M 0 0 M121.961 2943.77 Q128.422 2943.77 132.114 2941.13 Q135.774 2938.46 135.774 2933.81 Q135.774 2929.16 132.114 2926.49 Q128.422 2923.81 121.961 2923.81 Q115.5 2923.81 111.839 2926.49 Q108.147 2929.16 108.147 2933.81 Q108.147 2938.46 111.839 2941.13 Q115.5 2943.77 121.961 2943.77 M134.406 2923.81 Q137.589 2925.66 139.148 2928.49 Q140.676 2931.29 140.676 2935.24 Q140.676 2941.7 135.52 2945.78 Q130.363 2949.82 121.961 2949.82 Q113.558 2949.82 108.402 2945.78 Q103.246 2941.7 103.246 2935.24 Q103.246 2931.29 104.805 2928.49 Q106.333 2925.66 109.516 2923.81 L104.105 2923.81 L104.105 2917.96 L153.312 2917.96 L153.312 2923.81 L134.406 2923.81 Z\" fill=\"#000000\" fill-rule=\"evenodd\" fill-opacity=\"1\" /><path clip-path=\"url(#clip620)\" d=\"M 0 0 M104.105 2916.68 L92.2329 2911.18 L92.2329 2904.72 L104.105 2913.92 L104.105 2916.68 Z\" fill=\"#000000\" fill-rule=\"evenodd\" fill-opacity=\"1\" /><path clip-path=\"url(#clip620)\" d=\"M 0 0 M104.105 2903.44 L92.2329 2897.94 L92.2329 2891.48 L104.105 2900.68 L104.105 2903.44 Z\" fill=\"#000000\" fill-rule=\"evenodd\" fill-opacity=\"1\" /><polyline clip-path=\"url(#clip625)\" style=\"stroke:#009af9; stroke-width:4; stroke-opacity:1; fill:none\" points=\"\n",
       "  511.125,2966.98 1009.96,2966.98 1603.07,2966.98 \n",
       "  \"/>\n",
       "<polyline clip-path=\"url(#clip625)\" style=\"stroke:#000000; stroke-width:4; stroke-opacity:1; fill:none\" points=\"\n",
       "  -1516.74,2966.98 3687.5,2966.98 \n",
       "  \"/>\n",
       "<polyline clip-path=\"url(#clip625)\" style=\"stroke:#ff0000; stroke-width:4; stroke-opacity:1; fill:none\" stroke-dasharray=\"16, 10\" points=\"\n",
       "  766.529,3084.93 766.529,2756.37 \n",
       "  \"/>\n",
       "<polyline clip-path=\"url(#clip625)\" style=\"stroke:#ff0000; stroke-width:4; stroke-opacity:1; fill:none\" stroke-dasharray=\"16, 10\" points=\"\n",
       "  1253.39,3084.93 1253.39,2756.37 \n",
       "  \"/>\n",
       "<circle clip-path=\"url(#clip625)\" cx=\"766.529\" cy=\"2966.98\" r=\"28\" fill=\"#000000\" fill-rule=\"evenodd\" fill-opacity=\"1\" stroke=\"none\"/>\n",
       "<circle clip-path=\"url(#clip625)\" cx=\"1253.39\" cy=\"2966.98\" r=\"28\" fill=\"#000000\" fill-rule=\"evenodd\" fill-opacity=\"1\" stroke=\"none\"/>\n",
       "<path clip-path=\"url(#clip620)\" d=\"M 0 0 M518.417 2836.08 L518.417 2884.43 L566.767 2884.43 L566.767 2899.19 L518.417 2899.19 L518.417 2947.54 L503.833 2947.54 L503.833 2899.19 L455.483 2899.19 L455.483 2884.43 L503.833 2884.43 L503.833 2836.08 L518.417 2836.08 Z\" fill=\"#000000\" fill-rule=\"evenodd\" fill-opacity=\"1\" /><path clip-path=\"url(#clip620)\" d=\"M 0 0 M986.565 2891.72 L1033.35 2891.72 L1033.35 2905.96 L986.565 2905.96 L986.565 2891.72 Z\" fill=\"#000000\" fill-rule=\"evenodd\" fill-opacity=\"1\" /><path clip-path=\"url(#clip620)\" d=\"M 0 0 M1610.36 2836.08 L1610.36 2884.43 L1658.71 2884.43 L1658.71 2899.19 L1610.36 2899.19 L1610.36 2947.54 L1595.78 2947.54 L1595.78 2899.19 L1547.43 2899.19 L1547.43 2884.43 L1595.78 2884.43 L1595.78 2836.08 L1610.36 2836.08 Z\" fill=\"#000000\" fill-rule=\"evenodd\" fill-opacity=\"1\" /></svg>\n"
      ]
     },
     "execution_count": 72,
     "metadata": {},
     "output_type": "execute_result"
    }
   ],
   "source": [
    "q(x) = (x - 1)*(x - 3)*(x - 5)*(x - 7)\n",
    "plot_function_sign_chart(q(x), (0,9), 0:9, labels = [\"q\", \"q′\", \"q′′\"])"
   ]
  },
  {
   "cell_type": "markdown",
   "metadata": {},
   "source": [
    "<a id='summary_cell'></a>\n",
    "Examples of using the `summary` function:"
   ]
  },
  {
   "cell_type": "code",
   "execution_count": 73,
   "metadata": {},
   "outputs": [
    {
     "data": {
      "text/markdown": [
       "y-intercept: 0.00<br><table>\n",
       "<tr>\n",
       "<td><img src=\"./figs/scx^2(x - 2).png\" alt=\"drawing\" width=\"400\"/></td>\n",
       "<td><img src=\"./figs/scpx^2(x - 2).png\" alt=\"drawing\" width=\"400\"/></td>\n",
       "<td><img src=\"./figs/scppx^2(x - 2).png\" alt=\"drawing\" width=\"400\"/></td>\n",
       "</tr>\n",
       "</table>\n",
       "<br>local minimum: (1.333, -1.185)<br>local maximum = (0.000, 0.000)<br>inflection point: (0.667, -0.593)<br>As x → -∞, f(x) → -∞<br>As x → ∞, f(x) → ∞"
      ]
     },
     "metadata": {},
     "output_type": "display_data"
    }
   ],
   "source": [
    "f(x) = x^2*(x-2)\n",
    "summary(f(x), [-3,3], \"(-∞,∞)\", [\"f\", \"f′\", \"f′′\"], 400)"
   ]
  },
  {
   "cell_type": "code",
   "execution_count": 74,
   "metadata": {},
   "outputs": [
    {
     "data": {
      "text/markdown": [
       "y-intercept: 105.00<br><table>\n",
       "<tr>\n",
       "<td><img src=\"./figs/sc(x - 7)(x - 5)(x - 3)(x - 1).png\" alt=\"drawing\" width=\"400\"/></td>\n",
       "<td><img src=\"./figs/scp(x - 7)(x - 5)(x - 3)(x - 1).png\" alt=\"drawing\" width=\"400\"/></td>\n",
       "<td><img src=\"./figs/scpp(x - 7)(x - 5)(x - 3)(x - 1).png\" alt=\"drawing\" width=\"400\"/></td>\n",
       "</tr>\n",
       "</table>\n",
       "<br>local minimum: (1.764, -16.000), (6.236, -16.000)<br>local maximum = (4.000, 9.000)<br>inflection point: (2.709, -4.889), (5.291, -4.889)<br>As x → -∞, f(x) → ∞<br>As x → ∞, f(x) → ∞"
      ]
     },
     "metadata": {},
     "output_type": "display_data"
    }
   ],
   "source": [
    "summary(q(x), [0,9], \"(-∞,∞)\", [\"q\", \"q′\", \"q′′\"], 400, marksize=15, tickfontsize=30)"
   ]
  },
  {
   "cell_type": "code",
   "execution_count": 75,
   "metadata": {},
   "outputs": [
    {
     "data": {
      "text/markdown": [
       "y-intercept: 105.00<br><table>\n",
       "<tr>\n",
       "<td><img src=\"./figs/sc(x - 7)(x - 5)(x - 3)(x - 1).png\" alt=\"drawing\" width=\"400\"/></td>\n",
       "<td><img src=\"./figs/scp(x - 7)(x - 5)(x - 3)(x - 1).png\" alt=\"drawing\" width=\"400\"/></td>\n",
       "<td><img src=\"./figs/scpp(x - 7)(x - 5)(x - 3)(x - 1).png\" alt=\"drawing\" width=\"400\"/></td>\n",
       "</tr>\n",
       "</table>\n",
       "<br>local minimum: (1.764, -16.000), (6.236, -16.000)<br>local maximum = (-1.000, 384.000), (4.000, 9.000)<br>inflection point: (2.709, -4.889), (5.291, -4.889)<br>At left endpoint x = -1.0, f(-1.0) = 384.000000000000<br>As x → ∞, f(x) → ∞"
      ]
     },
     "metadata": {},
     "output_type": "display_data"
    }
   ],
   "source": [
    "summary(q(x), [0,9], \"[-1,∞)\", [\"q\", \"q′\", \"q′′\"], 400, marksize=15)"
   ]
  },
  {
   "cell_type": "code",
   "execution_count": 76,
   "metadata": {},
   "outputs": [
    {
     "data": {
      "text/markdown": [
       "y-intercept: 105.00<br><table>\n",
       "<tr>\n",
       "<td><img src=\"./figs/sc(x - 7)(x - 5)(x - 3)(x - 1).png\" alt=\"drawing\" width=\"400\"/></td>\n",
       "<td><img src=\"./figs/scp(x - 7)(x - 5)(x - 3)(x - 1).png\" alt=\"drawing\" width=\"400\"/></td>\n",
       "<td><img src=\"./figs/scpp(x - 7)(x - 5)(x - 3)(x - 1).png\" alt=\"drawing\" width=\"400\"/></td>\n",
       "</tr>\n",
       "</table>\n",
       "<br>local minimum: (1.764, -16.000), (6.236, -16.000)<br>local maximum = (4.000, 9.000), (9.000, 384.000)<br>inflection point: (2.709, -4.889), (5.291, -4.889)<br>As x → -∞, f(x) → ∞<br>At right endpoint x = 9.0, f(9.0) = 384.000000000000"
      ]
     },
     "metadata": {},
     "output_type": "display_data"
    }
   ],
   "source": [
    "summary(q(x), [0,9], \"(-∞,9]\", [\"q\", \"q′\", \"q′′\"], 400, marksize=15)"
   ]
  },
  {
   "cell_type": "code",
   "execution_count": 77,
   "metadata": {},
   "outputs": [
    {
     "data": {
      "text/markdown": [
       "y-intercept: 105.00<br><table>\n",
       "<tr>\n",
       "<td><img src=\"./figs/sc(x - 7)(x - 5)(x - 3)(x - 1).png\" alt=\"drawing\" width=\"400\"/></td>\n",
       "<td><img src=\"./figs/scp(x - 7)(x - 5)(x - 3)(x - 1).png\" alt=\"drawing\" width=\"400\"/></td>\n",
       "<td><img src=\"./figs/scpp(x - 7)(x - 5)(x - 3)(x - 1).png\" alt=\"drawing\" width=\"400\"/></td>\n",
       "</tr>\n",
       "</table>\n",
       "<br>local minimum: (1.764, -16.000), (6.236, -16.000)<br>local maximum = (-1.000, 384.000), (4.000, 9.000), (9.000, 384.000)<br>inflection point: (2.709, -4.889), (5.291, -4.889)<br>At left endpoint x = -1.0, f(-1.0) = 384.000000000000<br>At right endpoint x = 9.0, f(9.0) = 384.000000000000"
      ]
     },
     "metadata": {},
     "output_type": "display_data"
    }
   ],
   "source": [
    "summary(q(x), [0,9], \"[-1,9]\", [\"q\", \"q′\", \"q′′\"], 400, marksize=15)"
   ]
  },
  {
   "cell_type": "code",
   "execution_count": 78,
   "metadata": {},
   "outputs": [
    {
     "data": {
      "text/markdown": [
       "y-intercept: -0.33<br><table>\n",
       "<tr>\n",
       "<td><img src=\"./figs/sc(x + 1)_(x - 3).png\" alt=\"drawing\" width=\"400\"/></td>\n",
       "<td><img src=\"./figs/scp(x + 1)_(x - 3).png\" alt=\"drawing\" width=\"400\"/></td>\n",
       "<td><img src=\"./figs/scpp(x + 1)_(x - 3).png\" alt=\"drawing\" width=\"400\"/></td>\n",
       "</tr>\n",
       "</table>\n",
       "<br>local minimum: none<br>local maximum: none<br>inflection point: none<br>As x → -∞, f(x) → 1<br>As x → ∞, f(x) → 1"
      ]
     },
     "metadata": {},
     "output_type": "display_data"
    }
   ],
   "source": [
    "summary(r(x), [-3,4], \"(-∞,∞)\", [\"q\", \"q′\", \"q′′\"], 400, marksize=15, tickfontsize=30)"
   ]
  },
  {
   "cell_type": "code",
   "execution_count": 79,
   "metadata": {},
   "outputs": [
    {
     "data": {
      "text/markdown": [
       "y-intercept: -0.33<br><table>\n",
       "<tr>\n",
       "<td><img src=\"./figs/sc(x + 1)_(x - 3).png\" alt=\"drawing\" width=\"400\"/></td>\n",
       "<td><img src=\"./figs/scp(x + 1)_(x - 3).png\" alt=\"drawing\" width=\"400\"/></td>\n",
       "<td><img src=\"./figs/scpp(x + 1)_(x - 3).png\" alt=\"drawing\" width=\"400\"/></td>\n",
       "</tr>\n",
       "</table>\n",
       "<br>local minimum: none<br>local maximum: none<br>inflection point: none<br>As x → -∞, f(x) → 1<br>As x → ∞, f(x) → 1"
      ]
     },
     "metadata": {},
     "output_type": "display_data"
    }
   ],
   "source": [
    "summary(r(x), [-3,2], \"(-∞,∞)\", [\"q\", \"q′\", \"q′′\"], 400, marksize=15)"
   ]
  },
  {
   "cell_type": "markdown",
   "metadata": {},
   "source": [
    "<a id='clean_figs_folder_cell'></a>\n",
    "When changing input into summary for the same function I haven't yet figured out how to update the figures,\n",
    "so you will need to delete the old figures with the `clean_figs_folder` command."
   ]
  },
  {
   "cell_type": "code",
   "execution_count": 80,
   "metadata": {},
   "outputs": [],
   "source": [
    "#clean_figs_folder(\"all\")\n",
    "#clean_figs_folder(r)"
   ]
  },
  {
   "cell_type": "markdown",
   "metadata": {},
   "source": [
    "Now if we rerun the summary command:"
   ]
  },
  {
   "cell_type": "code",
   "execution_count": 81,
   "metadata": {},
   "outputs": [
    {
     "data": {
      "text/markdown": [
       "y-intercept: -0.33<br><table>\n",
       "<tr>\n",
       "<td><img src=\"./figs/sc(x + 1)_(x - 3).png\" alt=\"drawing\" width=\"400\"/></td>\n",
       "<td><img src=\"./figs/scp(x + 1)_(x - 3).png\" alt=\"drawing\" width=\"400\"/></td>\n",
       "<td><img src=\"./figs/scpp(x + 1)_(x - 3).png\" alt=\"drawing\" width=\"400\"/></td>\n",
       "</tr>\n",
       "</table>\n",
       "<br>local minimum: none<br>local maximum: none<br>inflection point: none<br>As x → -∞, f(x) → 1<br>As x → ∞, f(x) → 1"
      ]
     },
     "metadata": {},
     "output_type": "display_data"
    }
   ],
   "source": [
    "summary(r(x), [-3,2], \"(-∞,∞)\", [\"q\", \"q′\", \"q′′\"], 400, marksize=15)"
   ]
  },
  {
   "cell_type": "markdown",
   "metadata": {},
   "source": [
    "<a id='graph_f_and_derivative_cell'></a>\n",
    "The command `graph_f_and_derivative` graphs a function and it's derivative on the same graph. It can also graph them side-by-side but I need to work on some settings as it currently looks bad!"
   ]
  },
  {
   "cell_type": "code",
   "execution_count": 82,
   "metadata": {},
   "outputs": [
    {
     "data": {
      "image/svg+xml": [
       "<?xml version=\"1.0\" encoding=\"utf-8\"?>\n",
       "<svg xmlns=\"http://www.w3.org/2000/svg\" xmlns:xlink=\"http://www.w3.org/1999/xlink\" width=\"600\" height=\"400\" viewBox=\"0 0 2400 1600\">\n",
       "<defs>\n",
       "  <clipPath id=\"clip900\">\n",
       "    <rect x=\"0\" y=\"0\" width=\"2400\" height=\"1600\"/>\n",
       "  </clipPath>\n",
       "</defs>\n",
       "<path clip-path=\"url(#clip900)\" d=\"\n",
       "M0 1600 L2400 1600 L2400 0 L0 0  Z\n",
       "  \" fill=\"#ffffff\" fill-rule=\"evenodd\" fill-opacity=\"1\"/>\n",
       "<defs>\n",
       "  <clipPath id=\"clip901\">\n",
       "    <rect x=\"480\" y=\"0\" width=\"1681\" height=\"1600\"/>\n",
       "  </clipPath>\n",
       "</defs>\n",
       "<path clip-path=\"url(#clip900)\" d=\"\n",
       "M207.436 1486.45 L2352.76 1486.45 L2352.76 47.2441 L207.436 47.2441  Z\n",
       "  \" fill=\"#ffffff\" fill-rule=\"evenodd\" fill-opacity=\"1\"/>\n",
       "<defs>\n",
       "  <clipPath id=\"clip902\">\n",
       "    <rect x=\"207\" y=\"47\" width=\"2146\" height=\"1440\"/>\n",
       "  </clipPath>\n",
       "</defs>\n",
       "<polyline clip-path=\"url(#clip902)\" style=\"stroke:#000000; stroke-width:2; stroke-opacity:0.1; fill:none\" points=\"\n",
       "  268.152,1486.45 268.152,47.2441 \n",
       "  \"/>\n",
       "<polyline clip-path=\"url(#clip902)\" style=\"stroke:#000000; stroke-width:2; stroke-opacity:0.1; fill:none\" points=\"\n",
       "  774.124,1486.45 774.124,47.2441 \n",
       "  \"/>\n",
       "<polyline clip-path=\"url(#clip902)\" style=\"stroke:#000000; stroke-width:2; stroke-opacity:0.1; fill:none\" points=\"\n",
       "  1786.07,1486.45 1786.07,47.2441 \n",
       "  \"/>\n",
       "<polyline clip-path=\"url(#clip902)\" style=\"stroke:#000000; stroke-width:2; stroke-opacity:0.1; fill:none\" points=\"\n",
       "  2292.04,1486.45 2292.04,47.2441 \n",
       "  \"/>\n",
       "<polyline clip-path=\"url(#clip900)\" style=\"stroke:#000000; stroke-width:4; stroke-opacity:1; fill:none\" points=\"\n",
       "  207.436,766.846 2352.76,766.846 \n",
       "  \"/>\n",
       "<polyline clip-path=\"url(#clip900)\" style=\"stroke:#000000; stroke-width:4; stroke-opacity:1; fill:none\" points=\"\n",
       "  268.152,784.116 268.152,749.576 \n",
       "  \"/>\n",
       "<polyline clip-path=\"url(#clip900)\" style=\"stroke:#000000; stroke-width:4; stroke-opacity:1; fill:none\" points=\"\n",
       "  774.124,784.116 774.124,749.576 \n",
       "  \"/>\n",
       "<polyline clip-path=\"url(#clip900)\" style=\"stroke:#000000; stroke-width:4; stroke-opacity:1; fill:none\" points=\"\n",
       "  1786.07,784.116 1786.07,749.576 \n",
       "  \"/>\n",
       "<polyline clip-path=\"url(#clip900)\" style=\"stroke:#000000; stroke-width:4; stroke-opacity:1; fill:none\" points=\"\n",
       "  2292.04,784.116 2292.04,749.576 \n",
       "  \"/>\n",
       "<path clip-path=\"url(#clip900)\" d=\"M 0 0 M240.606 810.689 L270.282 810.689 L270.282 814.625 L240.606 814.625 L240.606 810.689 Z\" fill=\"#000000\" fill-rule=\"evenodd\" fill-opacity=\"1\" /><path clip-path=\"url(#clip900)\" d=\"M 0 0 M279.379 823.583 L295.699 823.583 L295.699 827.518 L273.754 827.518 L273.754 823.583 Q276.416 820.828 281 816.199 Q285.606 811.546 286.787 810.203 Q289.032 807.68 289.912 805.944 Q290.814 804.185 290.814 802.495 Q290.814 799.74 288.87 798.004 Q286.949 796.268 283.847 796.268 Q281.648 796.268 279.194 797.032 Q276.763 797.796 273.986 799.347 L273.986 794.625 Q276.81 793.49 279.263 792.912 Q281.717 792.333 283.754 792.333 Q289.124 792.333 292.319 795.018 Q295.513 797.703 295.513 802.194 Q295.513 804.324 294.703 806.245 Q293.916 808.143 291.81 810.736 Q291.231 811.407 288.129 814.625 Q285.027 817.819 279.379 823.583 Z\" fill=\"#000000\" fill-rule=\"evenodd\" fill-opacity=\"1\" /><path clip-path=\"url(#clip900)\" d=\"M 0 0 M746.393 810.689 L776.069 810.689 L776.069 814.625 L746.393 814.625 L746.393 810.689 Z\" fill=\"#000000\" fill-rule=\"evenodd\" fill-opacity=\"1\" /><path clip-path=\"url(#clip900)\" d=\"M 0 0 M781.948 823.583 L789.587 823.583 L789.587 797.217 L781.277 798.884 L781.277 794.625 L789.541 792.958 L794.217 792.958 L794.217 823.583 L801.855 823.583 L801.855 827.518 L781.948 827.518 L781.948 823.583 Z\" fill=\"#000000\" fill-rule=\"evenodd\" fill-opacity=\"1\" /><path clip-path=\"url(#clip900)\" d=\"M 0 0 M1776.45 823.583 L1784.09 823.583 L1784.09 797.217 L1775.78 798.884 L1775.78 794.625 L1784.04 792.958 L1788.72 792.958 L1788.72 823.583 L1796.36 823.583 L1796.36 827.518 L1776.45 827.518 L1776.45 823.583 Z\" fill=\"#000000\" fill-rule=\"evenodd\" fill-opacity=\"1\" /><path clip-path=\"url(#clip900)\" d=\"M 0 0 M2286.69 823.583 L2303.01 823.583 L2303.01 827.518 L2281.07 827.518 L2281.07 823.583 Q2283.73 820.828 2288.31 816.199 Q2292.92 811.546 2294.1 810.203 Q2296.34 807.68 2297.22 805.944 Q2298.13 804.185 2298.13 802.495 Q2298.13 799.74 2296.18 798.004 Q2294.26 796.268 2291.16 796.268 Q2288.96 796.268 2286.51 797.032 Q2284.08 797.796 2281.3 799.347 L2281.3 794.625 Q2284.12 793.49 2286.58 792.912 Q2289.03 792.333 2291.07 792.333 Q2296.44 792.333 2299.63 795.018 Q2302.83 797.703 2302.83 802.194 Q2302.83 804.324 2302.02 806.245 Q2301.23 808.143 2299.12 810.736 Q2298.54 811.407 2295.44 814.625 Q2292.34 817.819 2286.69 823.583 Z\" fill=\"#000000\" fill-rule=\"evenodd\" fill-opacity=\"1\" /><polyline clip-path=\"url(#clip902)\" style=\"stroke:#000000; stroke-width:2; stroke-opacity:0.1; fill:none\" points=\"\n",
       "  207.436,1445.72 2352.76,1445.72 \n",
       "  \"/>\n",
       "<polyline clip-path=\"url(#clip902)\" style=\"stroke:#000000; stroke-width:2; stroke-opacity:0.1; fill:none\" points=\"\n",
       "  207.436,1106.28 2352.76,1106.28 \n",
       "  \"/>\n",
       "<polyline clip-path=\"url(#clip902)\" style=\"stroke:#000000; stroke-width:2; stroke-opacity:0.1; fill:none\" points=\"\n",
       "  207.436,427.411 2352.76,427.411 \n",
       "  \"/>\n",
       "<polyline clip-path=\"url(#clip902)\" style=\"stroke:#000000; stroke-width:2; stroke-opacity:0.1; fill:none\" points=\"\n",
       "  207.436,87.9763 2352.76,87.9763 \n",
       "  \"/>\n",
       "<polyline clip-path=\"url(#clip900)\" style=\"stroke:#000000; stroke-width:4; stroke-opacity:1; fill:none\" points=\"\n",
       "  1280.1,1486.45 1280.1,47.2441 \n",
       "  \"/>\n",
       "<polyline clip-path=\"url(#clip900)\" style=\"stroke:#000000; stroke-width:4; stroke-opacity:1; fill:none\" points=\"\n",
       "  1254.35,1445.72 1305.84,1445.72 \n",
       "  \"/>\n",
       "<polyline clip-path=\"url(#clip900)\" style=\"stroke:#000000; stroke-width:4; stroke-opacity:1; fill:none\" points=\"\n",
       "  1254.35,1106.28 1305.84,1106.28 \n",
       "  \"/>\n",
       "<polyline clip-path=\"url(#clip900)\" style=\"stroke:#000000; stroke-width:4; stroke-opacity:1; fill:none\" points=\"\n",
       "  1254.35,427.411 1305.84,427.411 \n",
       "  \"/>\n",
       "<polyline clip-path=\"url(#clip900)\" style=\"stroke:#000000; stroke-width:4; stroke-opacity:1; fill:none\" points=\"\n",
       "  1254.35,87.9763 1305.84,87.9763 \n",
       "  \"/>\n",
       "<path clip-path=\"url(#clip900)\" d=\"M 0 0 M1186.92 1446.17 L1216.6 1446.17 L1216.6 1450.1 L1186.92 1450.1 L1186.92 1446.17 Z\" fill=\"#000000\" fill-rule=\"evenodd\" fill-opacity=\"1\" /><path clip-path=\"url(#clip900)\" d=\"M 0 0 M1234.51 1432.51 L1222.71 1450.96 L1234.51 1450.96 L1234.51 1432.51 M1233.29 1428.44 L1239.17 1428.44 L1239.17 1450.96 L1244.1 1450.96 L1244.1 1454.85 L1239.17 1454.85 L1239.17 1463 L1234.51 1463 L1234.51 1454.85 L1218.91 1454.85 L1218.91 1450.33 L1233.29 1428.44 Z\" fill=\"#000000\" fill-rule=\"evenodd\" fill-opacity=\"1\" /><path clip-path=\"url(#clip900)\" d=\"M 0 0 M1189 1106.73 L1218.68 1106.73 L1218.68 1110.67 L1189 1110.67 L1189 1106.73 Z\" fill=\"#000000\" fill-rule=\"evenodd\" fill-opacity=\"1\" /><path clip-path=\"url(#clip900)\" d=\"M 0 0 M1227.78 1119.63 L1244.1 1119.63 L1244.1 1123.56 L1222.15 1123.56 L1222.15 1119.63 Q1224.81 1116.87 1229.4 1112.24 Q1234 1107.59 1235.18 1106.25 Q1237.43 1103.72 1238.31 1101.99 Q1239.21 1100.23 1239.21 1098.54 Q1239.21 1095.78 1237.27 1094.05 Q1235.35 1092.31 1232.24 1092.31 Q1230.04 1092.31 1227.59 1093.07 Q1225.16 1093.84 1222.38 1095.39 L1222.38 1090.67 Q1225.21 1089.53 1227.66 1088.95 Q1230.11 1088.38 1232.15 1088.38 Q1237.52 1088.38 1240.72 1091.06 Q1243.91 1093.75 1243.91 1098.24 Q1243.91 1100.37 1243.1 1102.29 Q1242.31 1104.19 1240.21 1106.78 Q1239.63 1107.45 1236.53 1110.67 Q1233.42 1113.86 1227.78 1119.63 Z\" fill=\"#000000\" fill-rule=\"evenodd\" fill-opacity=\"1\" /><path clip-path=\"url(#clip900)\" d=\"M 0 0 M1227.78 440.756 L1244.1 440.756 L1244.1 444.691 L1222.15 444.691 L1222.15 440.756 Q1224.81 438.001 1229.4 433.372 Q1234 428.719 1235.18 427.376 Q1237.43 424.853 1238.31 423.117 Q1239.21 421.358 1239.21 419.668 Q1239.21 416.914 1237.27 415.177 Q1235.35 413.441 1232.24 413.441 Q1230.04 413.441 1227.59 414.205 Q1225.16 414.969 1222.38 416.52 L1222.38 411.798 Q1225.21 410.664 1227.66 410.085 Q1230.11 409.506 1232.15 409.506 Q1237.52 409.506 1240.72 412.191 Q1243.91 414.876 1243.91 419.367 Q1243.91 421.497 1243.1 423.418 Q1242.31 425.316 1240.21 427.909 Q1239.63 428.58 1236.53 431.798 Q1233.42 434.992 1227.78 440.756 Z\" fill=\"#000000\" fill-rule=\"evenodd\" fill-opacity=\"1\" /><path clip-path=\"url(#clip900)\" d=\"M 0 0 M1234.51 74.7703 L1222.71 93.2193 L1234.51 93.2193 L1234.51 74.7703 M1233.29 70.6963 L1239.17 70.6963 L1239.17 93.2193 L1244.1 93.2193 L1244.1 97.1082 L1239.17 97.1082 L1239.17 105.256 L1234.51 105.256 L1234.51 97.1082 L1218.91 97.1082 L1218.91 92.5943 L1233.29 70.6963 Z\" fill=\"#000000\" fill-rule=\"evenodd\" fill-opacity=\"1\" /><path clip-path=\"url(#clip900)\" d=\"M 0 0 M38.479 793.741 L43.3487 793.741 L43.3487 799.343 Q43.3487 802.494 44.6219 803.735 Q45.895 804.945 49.2052 804.945 L52.3562 804.945 L52.3562 795.301 L56.9077 795.301 L56.9077 804.945 L88.0042 804.945 L88.0042 810.833 L56.9077 810.833 L56.9077 816.435 L52.3562 816.435 L52.3562 810.833 L49.8736 810.833 Q43.9216 810.833 41.2162 808.064 Q38.479 805.295 38.479 799.279 L38.479 793.741 Z\" fill=\"#000000\" fill-rule=\"evenodd\" fill-opacity=\"1\" /><path clip-path=\"url(#clip900)\" d=\"M 0 0 M38.5426 773.53 Q45.8632 777.795 53.0246 779.864 Q60.186 781.933 67.5384 781.933 Q74.8908 781.933 82.1159 779.864 Q89.3091 777.763 96.5979 773.53 L96.5979 778.623 Q89.1182 783.397 81.8931 785.784 Q74.668 788.139 67.5384 788.139 Q60.4406 788.139 53.2474 785.784 Q46.0542 783.429 38.5426 778.623 L38.5426 773.53 Z\" fill=\"#000000\" fill-rule=\"evenodd\" fill-opacity=\"1\" /><path clip-path=\"url(#clip900)\" d=\"M 0 0 M52.3562 737.755 L69.7028 750.645 L88.0042 737.086 L88.0042 743.993 L73.9996 754.369 L88.0042 764.745 L88.0042 771.652 L69.3526 757.807 L52.3562 770.474 L52.3562 763.568 L65.0558 754.115 L52.3562 744.661 L52.3562 737.755 Z\" fill=\"#000000\" fill-rule=\"evenodd\" fill-opacity=\"1\" /><path clip-path=\"url(#clip900)\" d=\"M 0 0 M38.5426 731.866 L38.5426 726.774 Q46.0542 722 53.2474 719.644 Q60.4406 717.257 67.5384 717.257 Q74.668 717.257 81.8931 719.644 Q89.1182 722 96.5979 726.774 L96.5979 731.866 Q89.3091 727.633 82.1159 725.564 Q74.8908 723.464 67.5384 723.464 Q60.186 723.464 53.0246 725.564 Q45.8632 727.633 38.5426 731.866 Z\" fill=\"#000000\" fill-rule=\"evenodd\" fill-opacity=\"1\" /><polyline clip-path=\"url(#clip902)\" style=\"stroke:#000000; stroke-width:4; stroke-opacity:1; fill:none\" points=\"\n",
       "  268.152,87.9763 318.75,154.166 369.347,216.962 419.944,276.363 470.541,332.369 521.138,384.982 571.735,434.2 622.333,480.024 672.93,522.453 723.527,561.488 \n",
       "  774.124,597.129 824.721,629.375 875.318,658.227 925.916,683.684 976.513,705.748 1027.11,724.417 1077.71,739.691 1128.3,751.571 1178.9,760.057 1229.5,765.149 \n",
       "  1280.1,766.846 1330.69,765.149 1381.29,760.057 1431.89,751.571 1482.48,739.691 1533.08,724.417 1583.68,705.748 1634.28,683.684 1684.87,658.227 1735.47,629.375 \n",
       "  1786.07,597.129 1836.66,561.488 1887.26,522.453 1937.86,480.024 1988.46,434.2 2039.05,384.982 2089.65,332.369 2140.25,276.363 2190.84,216.962 2241.44,154.166 \n",
       "  2292.04,87.9763 \n",
       "  \"/>\n",
       "<polyline clip-path=\"url(#clip902)\" style=\"stroke:#e26f46; stroke-width:4; stroke-opacity:1; fill:none\" stroke-dasharray=\"16, 10\" points=\"\n",
       "  268.152,1445.72 318.75,1411.77 369.347,1377.83 419.944,1343.89 470.541,1309.94 521.138,1276 571.735,1242.05 622.333,1208.11 672.93,1174.17 723.527,1140.22 \n",
       "  774.124,1106.28 824.721,1072.34 875.318,1038.39 925.916,1004.45 976.513,970.507 1027.11,936.563 1077.71,902.62 1128.3,868.676 1178.9,834.733 1229.5,800.789 \n",
       "  1280.1,766.846 1330.69,732.902 1381.29,698.959 1431.89,665.016 1482.48,631.072 1533.08,597.129 1583.68,563.185 1634.28,529.242 1684.87,495.298 1735.47,461.355 \n",
       "  1786.07,427.411 1836.66,393.468 1887.26,359.524 1937.86,325.581 1988.46,291.637 2039.05,257.694 2089.65,223.75 2140.25,189.807 2190.84,155.863 2241.44,121.92 \n",
       "  2292.04,87.9763 \n",
       "  \"/>\n",
       "</svg>\n"
      ]
     },
     "execution_count": 82,
     "metadata": {},
     "output_type": "execute_result"
    }
   ],
   "source": [
    "f(x) = x^2\n",
    "lf=-2\n",
    "rt=2\n",
    "graph_f_and_derivative(lf:.1:rt, f(x), lf:rt, \"f(x)\")"
   ]
  },
  {
   "cell_type": "markdown",
   "metadata": {},
   "source": [
    "To make `graph_f_and_derivative` plot the function and its derivative side-by-side use the `format` argument and set it to the symbol `:dual`."
   ]
  },
  {
   "cell_type": "code",
   "execution_count": 83,
   "metadata": {},
   "outputs": [
    {
     "data": {
      "image/svg+xml": [
       "<?xml version=\"1.0\" encoding=\"utf-8\"?>\n",
       "<svg xmlns=\"http://www.w3.org/2000/svg\" xmlns:xlink=\"http://www.w3.org/1999/xlink\" width=\"600\" height=\"300\" viewBox=\"0 0 2400 1200\">\n",
       "<defs>\n",
       "  <clipPath id=\"clip940\">\n",
       "    <rect x=\"0\" y=\"0\" width=\"2400\" height=\"1200\"/>\n",
       "  </clipPath>\n",
       "</defs>\n",
       "<path clip-path=\"url(#clip940)\" d=\"\n",
       "M0 1200 L2400 1200 L2400 0 L0 0  Z\n",
       "  \" fill=\"#ffffff\" fill-rule=\"evenodd\" fill-opacity=\"1\"/>\n",
       "<defs>\n",
       "  <clipPath id=\"clip941\">\n",
       "    <rect x=\"480\" y=\"0\" width=\"1681\" height=\"1200\"/>\n",
       "  </clipPath>\n",
       "</defs>\n",
       "<path clip-path=\"url(#clip940)\" d=\"\n",
       "M163.565 1099.09 L1136.76 1099.09 L1136.76 47.2441 L163.565 47.2441  Z\n",
       "  \" fill=\"#ffffff\" fill-rule=\"evenodd\" fill-opacity=\"1\"/>\n",
       "<defs>\n",
       "  <clipPath id=\"clip942\">\n",
       "    <rect x=\"163\" y=\"47\" width=\"974\" height=\"1053\"/>\n",
       "  </clipPath>\n",
       "</defs>\n",
       "<polyline clip-path=\"url(#clip942)\" style=\"stroke:#000000; stroke-width:2; stroke-opacity:0.1; fill:none\" points=\"\n",
       "  191.108,1099.09 191.108,47.2441 \n",
       "  \"/>\n",
       "<polyline clip-path=\"url(#clip942)\" style=\"stroke:#000000; stroke-width:2; stroke-opacity:0.1; fill:none\" points=\"\n",
       "  420.636,1099.09 420.636,47.2441 \n",
       "  \"/>\n",
       "<polyline clip-path=\"url(#clip942)\" style=\"stroke:#000000; stroke-width:2; stroke-opacity:0.1; fill:none\" points=\"\n",
       "  879.69,1099.09 879.69,47.2441 \n",
       "  \"/>\n",
       "<polyline clip-path=\"url(#clip942)\" style=\"stroke:#000000; stroke-width:2; stroke-opacity:0.1; fill:none\" points=\"\n",
       "  1109.22,1099.09 1109.22,47.2441 \n",
       "  \"/>\n",
       "<polyline clip-path=\"url(#clip940)\" style=\"stroke:#000000; stroke-width:4; stroke-opacity:1; fill:none\" points=\"\n",
       "  163.565,1069.32 1136.76,1069.32 \n",
       "  \"/>\n",
       "<polyline clip-path=\"url(#clip940)\" style=\"stroke:#000000; stroke-width:4; stroke-opacity:1; fill:none\" points=\"\n",
       "  191.108,1081.94 191.108,1056.7 \n",
       "  \"/>\n",
       "<polyline clip-path=\"url(#clip940)\" style=\"stroke:#000000; stroke-width:4; stroke-opacity:1; fill:none\" points=\"\n",
       "  420.636,1081.94 420.636,1056.7 \n",
       "  \"/>\n",
       "<polyline clip-path=\"url(#clip940)\" style=\"stroke:#000000; stroke-width:4; stroke-opacity:1; fill:none\" points=\"\n",
       "  879.69,1081.94 879.69,1056.7 \n",
       "  \"/>\n",
       "<polyline clip-path=\"url(#clip940)\" style=\"stroke:#000000; stroke-width:4; stroke-opacity:1; fill:none\" points=\"\n",
       "  1109.22,1081.94 1109.22,1056.7 \n",
       "  \"/>\n",
       "<path clip-path=\"url(#clip940)\" d=\"M 0 0 M163.562 1113.16 L193.238 1113.16 L193.238 1117.1 L163.562 1117.1 L163.562 1113.16 Z\" fill=\"#000000\" fill-rule=\"evenodd\" fill-opacity=\"1\" /><path clip-path=\"url(#clip940)\" d=\"M 0 0 M202.335 1126.06 L218.655 1126.06 L218.655 1129.99 L196.71 1129.99 L196.71 1126.06 Q199.372 1123.3 203.956 1118.67 Q208.562 1114.02 209.743 1112.68 Q211.988 1110.15 212.868 1108.42 Q213.77 1106.66 213.77 1104.97 Q213.77 1102.21 211.826 1100.48 Q209.905 1098.74 206.803 1098.74 Q204.604 1098.74 202.15 1099.5 Q199.72 1100.27 196.942 1101.82 L196.942 1097.1 Q199.766 1095.96 202.22 1095.38 Q204.673 1094.81 206.71 1094.81 Q212.081 1094.81 215.275 1097.49 Q218.469 1100.18 218.469 1104.67 Q218.469 1106.8 217.659 1108.72 Q216.872 1110.62 214.766 1113.21 Q214.187 1113.88 211.085 1117.1 Q207.983 1120.29 202.335 1126.06 Z\" fill=\"#000000\" fill-rule=\"evenodd\" fill-opacity=\"1\" /><path clip-path=\"url(#clip940)\" d=\"M 0 0 M392.904 1113.16 L422.58 1113.16 L422.58 1117.1 L392.904 1117.1 L392.904 1113.16 Z\" fill=\"#000000\" fill-rule=\"evenodd\" fill-opacity=\"1\" /><path clip-path=\"url(#clip940)\" d=\"M 0 0 M428.46 1126.06 L436.099 1126.06 L436.099 1099.69 L427.788 1101.36 L427.788 1097.1 L436.052 1095.43 L440.728 1095.43 L440.728 1126.06 L448.367 1126.06 L448.367 1129.99 L428.46 1129.99 L428.46 1126.06 Z\" fill=\"#000000\" fill-rule=\"evenodd\" fill-opacity=\"1\" /><path clip-path=\"url(#clip940)\" d=\"M 0 0 M870.072 1126.06 L877.711 1126.06 L877.711 1099.69 L869.401 1101.36 L869.401 1097.1 L877.665 1095.43 L882.341 1095.43 L882.341 1126.06 L889.979 1126.06 L889.979 1129.99 L870.072 1129.99 L870.072 1126.06 Z\" fill=\"#000000\" fill-rule=\"evenodd\" fill-opacity=\"1\" /><path clip-path=\"url(#clip940)\" d=\"M 0 0 M1103.87 1126.06 L1120.19 1126.06 L1120.19 1129.99 L1098.25 1129.99 L1098.25 1126.06 Q1100.91 1123.3 1105.49 1118.67 Q1110.1 1114.02 1111.28 1112.68 Q1113.52 1110.15 1114.4 1108.42 Q1115.31 1106.66 1115.31 1104.97 Q1115.31 1102.21 1113.36 1100.48 Q1111.44 1098.74 1108.34 1098.74 Q1106.14 1098.74 1103.68 1099.5 Q1101.25 1100.27 1098.48 1101.82 L1098.48 1097.1 Q1101.3 1095.96 1103.75 1095.38 Q1106.21 1094.81 1108.25 1094.81 Q1113.62 1094.81 1116.81 1097.49 Q1120 1100.18 1120 1104.67 Q1120 1106.8 1119.19 1108.72 Q1118.41 1110.62 1116.3 1113.21 Q1115.72 1113.88 1112.62 1117.1 Q1109.52 1120.29 1103.87 1126.06 Z\" fill=\"#000000\" fill-rule=\"evenodd\" fill-opacity=\"1\" /><polyline clip-path=\"url(#clip942)\" style=\"stroke:#000000; stroke-width:2; stroke-opacity:0.1; fill:none\" points=\"\n",
       "  163.565,821.242 1136.76,821.242 \n",
       "  \"/>\n",
       "<polyline clip-path=\"url(#clip942)\" style=\"stroke:#000000; stroke-width:2; stroke-opacity:0.1; fill:none\" points=\"\n",
       "  163.565,573.166 1136.76,573.166 \n",
       "  \"/>\n",
       "<polyline clip-path=\"url(#clip942)\" style=\"stroke:#000000; stroke-width:2; stroke-opacity:0.1; fill:none\" points=\"\n",
       "  163.565,325.09 1136.76,325.09 \n",
       "  \"/>\n",
       "<polyline clip-path=\"url(#clip942)\" style=\"stroke:#000000; stroke-width:2; stroke-opacity:0.1; fill:none\" points=\"\n",
       "  163.565,77.0133 1136.76,77.0133 \n",
       "  \"/>\n",
       "<polyline clip-path=\"url(#clip940)\" style=\"stroke:#000000; stroke-width:4; stroke-opacity:1; fill:none\" points=\"\n",
       "  650.163,1099.09 650.163,47.2441 \n",
       "  \"/>\n",
       "<polyline clip-path=\"url(#clip940)\" style=\"stroke:#000000; stroke-width:4; stroke-opacity:1; fill:none\" points=\"\n",
       "  638.485,821.242 661.841,821.242 \n",
       "  \"/>\n",
       "<polyline clip-path=\"url(#clip940)\" style=\"stroke:#000000; stroke-width:4; stroke-opacity:1; fill:none\" points=\"\n",
       "  638.485,573.166 661.841,573.166 \n",
       "  \"/>\n",
       "<polyline clip-path=\"url(#clip940)\" style=\"stroke:#000000; stroke-width:4; stroke-opacity:1; fill:none\" points=\"\n",
       "  638.485,325.09 661.841,325.09 \n",
       "  \"/>\n",
       "<polyline clip-path=\"url(#clip940)\" style=\"stroke:#000000; stroke-width:4; stroke-opacity:1; fill:none\" points=\"\n",
       "  638.485,77.0133 661.841,77.0133 \n",
       "  \"/>\n",
       "<path clip-path=\"url(#clip940)\" d=\"M 0 0 M594.256 834.587 L601.894 834.587 L601.894 808.222 L593.584 809.888 L593.584 805.629 L601.848 803.962 L606.524 803.962 L606.524 834.587 L614.163 834.587 L614.163 838.522 L594.256 838.522 L594.256 834.587 Z\" fill=\"#000000\" fill-rule=\"evenodd\" fill-opacity=\"1\" /><path clip-path=\"url(#clip940)\" d=\"M 0 0 M597.844 586.511 L614.163 586.511 L614.163 590.446 L592.219 590.446 L592.219 586.511 Q594.881 583.756 599.464 579.127 Q604.07 574.474 605.251 573.131 Q607.496 570.608 608.376 568.872 Q609.279 567.113 609.279 565.423 Q609.279 562.668 607.334 560.932 Q605.413 559.196 602.311 559.196 Q600.112 559.196 597.658 559.96 Q595.228 560.724 592.45 562.275 L592.45 557.553 Q595.274 556.418 597.728 555.84 Q600.182 555.261 602.219 555.261 Q607.589 555.261 610.783 557.946 Q613.978 560.631 613.978 565.122 Q613.978 567.252 613.168 569.173 Q612.381 571.071 610.274 573.664 Q609.695 574.335 606.594 577.553 Q603.492 580.747 597.844 586.511 Z\" fill=\"#000000\" fill-rule=\"evenodd\" fill-opacity=\"1\" /><path clip-path=\"url(#clip940)\" d=\"M 0 0 M607.033 323.735 Q610.39 324.453 612.265 326.722 Q614.163 328.99 614.163 332.323 Q614.163 337.439 610.644 340.24 Q607.126 343.041 600.644 343.041 Q598.469 343.041 596.154 342.601 Q593.862 342.184 591.408 341.328 L591.408 336.814 Q593.353 337.948 595.668 338.527 Q597.982 339.106 600.506 339.106 Q604.904 339.106 607.195 337.37 Q609.51 335.634 609.51 332.323 Q609.51 329.268 607.357 327.555 Q605.228 325.819 601.408 325.819 L597.381 325.819 L597.381 321.976 L601.594 321.976 Q605.043 321.976 606.871 320.61 Q608.7 319.222 608.7 316.629 Q608.7 313.967 606.802 312.555 Q604.927 311.12 601.408 311.12 Q599.487 311.12 597.288 311.536 Q595.089 311.953 592.45 312.833 L592.45 308.666 Q595.112 307.925 597.427 307.555 Q599.765 307.185 601.825 307.185 Q607.149 307.185 610.251 309.615 Q613.353 312.023 613.353 316.143 Q613.353 319.013 611.709 321.004 Q610.066 322.972 607.033 323.735 Z\" fill=\"#000000\" fill-rule=\"evenodd\" fill-opacity=\"1\" /><path clip-path=\"url(#clip940)\" d=\"M 0 0 M604.58 63.8073 L592.774 82.2563 L604.58 82.2563 L604.58 63.8073 M603.353 59.7333 L609.232 59.7333 L609.232 82.2563 L614.163 82.2563 L614.163 86.1452 L609.232 86.1452 L609.232 94.2933 L604.58 94.2933 L604.58 86.1452 L588.978 86.1452 L588.978 81.6313 L603.353 59.7333 Z\" fill=\"#000000\" fill-rule=\"evenodd\" fill-opacity=\"1\" /><path clip-path=\"url(#clip940)\" d=\"M 0 0 M26.599 600.061 L31.4687 600.061 L31.4687 605.663 Q31.4687 608.814 32.7419 610.055 Q34.015 611.265 37.3252 611.265 L40.4762 611.265 L40.4762 601.621 L45.0277 601.621 L45.0277 611.265 L76.1242 611.265 L76.1242 617.153 L45.0277 617.153 L45.0277 622.755 L40.4762 622.755 L40.4762 617.153 L37.9936 617.153 Q32.0416 617.153 29.3362 614.384 Q26.599 611.615 26.599 605.599 L26.599 600.061 Z\" fill=\"#000000\" fill-rule=\"evenodd\" fill-opacity=\"1\" /><path clip-path=\"url(#clip940)\" d=\"M 0 0 M26.6626 579.85 Q33.9832 584.115 41.1446 586.184 Q48.306 588.253 55.6584 588.253 Q63.0108 588.253 70.2359 586.184 Q77.4291 584.083 84.7179 579.85 L84.7179 584.943 Q77.2382 589.717 70.0131 592.104 Q62.788 594.459 55.6584 594.459 Q48.5606 594.459 41.3674 592.104 Q34.1742 589.749 26.6626 584.943 L26.6626 579.85 Z\" fill=\"#000000\" fill-rule=\"evenodd\" fill-opacity=\"1\" /><path clip-path=\"url(#clip940)\" d=\"M 0 0 M40.4762 544.075 L57.8228 556.965 L76.1242 543.406 L76.1242 550.313 L62.1196 560.689 L76.1242 571.065 L76.1242 577.972 L57.4726 564.127 L40.4762 576.794 L40.4762 569.888 L53.1758 560.435 L40.4762 550.981 L40.4762 544.075 Z\" fill=\"#000000\" fill-rule=\"evenodd\" fill-opacity=\"1\" /><path clip-path=\"url(#clip940)\" d=\"M 0 0 M26.6626 538.186 L26.6626 533.094 Q34.1742 528.32 41.3674 525.964 Q48.5606 523.577 55.6584 523.577 Q62.788 523.577 70.0131 525.964 Q77.2382 528.32 84.7179 533.094 L84.7179 538.186 Q77.4291 533.953 70.2359 531.884 Q63.0108 529.784 55.6584 529.784 Q48.306 529.784 41.1446 531.884 Q33.9832 533.953 26.6626 538.186 Z\" fill=\"#000000\" fill-rule=\"evenodd\" fill-opacity=\"1\" /><polyline clip-path=\"url(#clip942)\" style=\"stroke:#000000; stroke-width:4; stroke-opacity:1; fill:none\" points=\"\n",
       "  191.108,77.0133 214.061,173.763 237.014,265.551 259.967,352.378 282.919,434.243 305.872,511.147 328.825,583.089 351.778,650.07 374.73,712.089 397.683,769.146 \n",
       "  420.636,821.242 443.588,868.377 466.541,910.55 489.494,947.761 512.447,980.011 535.399,1007.3 558.352,1029.63 581.305,1046.99 604.257,1059.4 627.21,1066.84 \n",
       "  650.163,1069.32 673.116,1066.84 696.068,1059.4 719.021,1046.99 741.974,1029.63 764.927,1007.3 787.879,980.011 810.832,947.761 833.785,910.55 856.737,868.377 \n",
       "  879.69,821.242 902.643,769.146 925.596,712.089 948.548,650.07 971.501,583.089 994.454,511.147 1017.41,434.243 1040.36,352.378 1063.31,265.551 1086.26,173.763 \n",
       "  1109.22,77.0133 \n",
       "  \"/>\n",
       "<path clip-path=\"url(#clip940)\" d=\"\n",
       "M1379.56 1099.09 L2352.76 1099.09 L2352.76 47.2441 L1379.56 47.2441  Z\n",
       "  \" fill=\"#ffffff\" fill-rule=\"evenodd\" fill-opacity=\"1\"/>\n",
       "<defs>\n",
       "  <clipPath id=\"clip943\">\n",
       "    <rect x=\"1379\" y=\"47\" width=\"974\" height=\"1053\"/>\n",
       "  </clipPath>\n",
       "</defs>\n",
       "<polyline clip-path=\"url(#clip943)\" style=\"stroke:#000000; stroke-width:2; stroke-opacity:0.1; fill:none\" points=\"\n",
       "  1407.1,1099.09 1407.1,47.2441 \n",
       "  \"/>\n",
       "<polyline clip-path=\"url(#clip943)\" style=\"stroke:#000000; stroke-width:2; stroke-opacity:0.1; fill:none\" points=\"\n",
       "  1636.63,1099.09 1636.63,47.2441 \n",
       "  \"/>\n",
       "<polyline clip-path=\"url(#clip943)\" style=\"stroke:#000000; stroke-width:2; stroke-opacity:0.1; fill:none\" points=\"\n",
       "  2095.69,1099.09 2095.69,47.2441 \n",
       "  \"/>\n",
       "<polyline clip-path=\"url(#clip943)\" style=\"stroke:#000000; stroke-width:2; stroke-opacity:0.1; fill:none\" points=\"\n",
       "  2325.21,1099.09 2325.21,47.2441 \n",
       "  \"/>\n",
       "<polyline clip-path=\"url(#clip940)\" style=\"stroke:#000000; stroke-width:4; stroke-opacity:1; fill:none\" points=\"\n",
       "  1379.56,573.166 2352.76,573.166 \n",
       "  \"/>\n",
       "<polyline clip-path=\"url(#clip940)\" style=\"stroke:#000000; stroke-width:4; stroke-opacity:1; fill:none\" points=\"\n",
       "  1407.1,585.788 1407.1,560.544 \n",
       "  \"/>\n",
       "<polyline clip-path=\"url(#clip940)\" style=\"stroke:#000000; stroke-width:4; stroke-opacity:1; fill:none\" points=\"\n",
       "  1636.63,585.788 1636.63,560.544 \n",
       "  \"/>\n",
       "<polyline clip-path=\"url(#clip940)\" style=\"stroke:#000000; stroke-width:4; stroke-opacity:1; fill:none\" points=\"\n",
       "  2095.69,585.788 2095.69,560.544 \n",
       "  \"/>\n",
       "<polyline clip-path=\"url(#clip940)\" style=\"stroke:#000000; stroke-width:4; stroke-opacity:1; fill:none\" points=\"\n",
       "  2325.21,585.788 2325.21,560.544 \n",
       "  \"/>\n",
       "<path clip-path=\"url(#clip940)\" d=\"M 0 0 M1379.56 617.009 L1409.23 617.009 L1409.23 620.945 L1379.56 620.945 L1379.56 617.009 Z\" fill=\"#000000\" fill-rule=\"evenodd\" fill-opacity=\"1\" /><path clip-path=\"url(#clip940)\" d=\"M 0 0 M1418.33 629.903 L1434.65 629.903 L1434.65 633.838 L1412.71 633.838 L1412.71 629.903 Q1415.37 627.148 1419.95 622.519 Q1424.56 617.866 1425.74 616.523 Q1427.98 614 1428.86 612.264 Q1429.77 610.505 1429.77 608.815 Q1429.77 606.06 1427.82 604.324 Q1425.9 602.588 1422.8 602.588 Q1420.6 602.588 1418.15 603.352 Q1415.71 604.116 1412.94 605.667 L1412.94 600.945 Q1415.76 599.81 1418.21 599.232 Q1420.67 598.653 1422.71 598.653 Q1428.08 598.653 1431.27 601.338 Q1434.46 604.023 1434.46 608.514 Q1434.46 610.644 1433.65 612.565 Q1432.87 614.463 1430.76 617.056 Q1430.18 617.727 1427.08 620.945 Q1423.98 624.139 1418.33 629.903 Z\" fill=\"#000000\" fill-rule=\"evenodd\" fill-opacity=\"1\" /><path clip-path=\"url(#clip940)\" d=\"M 0 0 M1608.9 617.009 L1638.58 617.009 L1638.58 620.945 L1608.9 620.945 L1608.9 617.009 Z\" fill=\"#000000\" fill-rule=\"evenodd\" fill-opacity=\"1\" /><path clip-path=\"url(#clip940)\" d=\"M 0 0 M1644.46 629.903 L1652.09 629.903 L1652.09 603.537 L1643.78 605.204 L1643.78 600.945 L1652.05 599.278 L1656.72 599.278 L1656.72 629.903 L1664.36 629.903 L1664.36 633.838 L1644.46 633.838 L1644.46 629.903 Z\" fill=\"#000000\" fill-rule=\"evenodd\" fill-opacity=\"1\" /><path clip-path=\"url(#clip940)\" d=\"M 0 0 M2086.07 629.903 L2093.71 629.903 L2093.71 603.537 L2085.4 605.204 L2085.4 600.945 L2093.66 599.278 L2098.34 599.278 L2098.34 629.903 L2105.97 629.903 L2105.97 633.838 L2086.07 633.838 L2086.07 629.903 Z\" fill=\"#000000\" fill-rule=\"evenodd\" fill-opacity=\"1\" /><path clip-path=\"url(#clip940)\" d=\"M 0 0 M2319.87 629.903 L2336.18 629.903 L2336.18 633.838 L2314.24 633.838 L2314.24 629.903 Q2316.9 627.148 2321.49 622.519 Q2326.09 617.866 2327.27 616.523 Q2329.52 614 2330.4 612.264 Q2331.3 610.505 2331.3 608.815 Q2331.3 606.06 2329.36 604.324 Q2327.43 602.588 2324.33 602.588 Q2322.13 602.588 2319.68 603.352 Q2317.25 604.116 2314.47 605.667 L2314.47 600.945 Q2317.3 599.81 2319.75 599.232 Q2322.2 598.653 2324.24 598.653 Q2329.61 598.653 2332.81 601.338 Q2336 604.023 2336 608.514 Q2336 610.644 2335.19 612.565 Q2334.4 614.463 2332.3 617.056 Q2331.72 617.727 2328.62 620.945 Q2325.51 624.139 2319.87 629.903 Z\" fill=\"#000000\" fill-rule=\"evenodd\" fill-opacity=\"1\" /><polyline clip-path=\"url(#clip943)\" style=\"stroke:#000000; stroke-width:2; stroke-opacity:0.1; fill:none\" points=\"\n",
       "  1379.56,1069.32 2352.76,1069.32 \n",
       "  \"/>\n",
       "<polyline clip-path=\"url(#clip943)\" style=\"stroke:#000000; stroke-width:2; stroke-opacity:0.1; fill:none\" points=\"\n",
       "  1379.56,821.242 2352.76,821.242 \n",
       "  \"/>\n",
       "<polyline clip-path=\"url(#clip943)\" style=\"stroke:#000000; stroke-width:2; stroke-opacity:0.1; fill:none\" points=\"\n",
       "  1379.56,325.09 2352.76,325.09 \n",
       "  \"/>\n",
       "<polyline clip-path=\"url(#clip943)\" style=\"stroke:#000000; stroke-width:2; stroke-opacity:0.1; fill:none\" points=\"\n",
       "  1379.56,77.0133 2352.76,77.0133 \n",
       "  \"/>\n",
       "<polyline clip-path=\"url(#clip940)\" style=\"stroke:#000000; stroke-width:4; stroke-opacity:1; fill:none\" points=\"\n",
       "  1866.16,1099.09 1866.16,47.2441 \n",
       "  \"/>\n",
       "<polyline clip-path=\"url(#clip940)\" style=\"stroke:#000000; stroke-width:4; stroke-opacity:1; fill:none\" points=\"\n",
       "  1854.48,1069.32 1877.84,1069.32 \n",
       "  \"/>\n",
       "<polyline clip-path=\"url(#clip940)\" style=\"stroke:#000000; stroke-width:4; stroke-opacity:1; fill:none\" points=\"\n",
       "  1854.48,821.242 1877.84,821.242 \n",
       "  \"/>\n",
       "<polyline clip-path=\"url(#clip940)\" style=\"stroke:#000000; stroke-width:4; stroke-opacity:1; fill:none\" points=\"\n",
       "  1854.48,325.09 1877.84,325.09 \n",
       "  \"/>\n",
       "<polyline clip-path=\"url(#clip940)\" style=\"stroke:#000000; stroke-width:4; stroke-opacity:1; fill:none\" points=\"\n",
       "  1854.48,77.0133 1877.84,77.0133 \n",
       "  \"/>\n",
       "<path clip-path=\"url(#clip940)\" d=\"M 0 0 M1772.98 1069.77 L1802.66 1069.77 L1802.66 1073.71 L1772.98 1073.71 L1772.98 1069.77 Z\" fill=\"#000000\" fill-rule=\"evenodd\" fill-opacity=\"1\" /><path clip-path=\"url(#clip940)\" d=\"M 0 0 M1820.57 1056.11 L1808.77 1074.56 L1820.57 1074.56 L1820.57 1056.11 M1819.35 1052.04 L1825.23 1052.04 L1825.23 1074.56 L1830.16 1074.56 L1830.16 1078.45 L1825.23 1078.45 L1825.23 1086.6 L1820.57 1086.6 L1820.57 1078.45 L1804.97 1078.45 L1804.97 1073.94 L1819.35 1052.04 Z\" fill=\"#000000\" fill-rule=\"evenodd\" fill-opacity=\"1\" /><path clip-path=\"url(#clip940)\" d=\"M 0 0 M1775.07 821.694 L1804.74 821.694 L1804.74 825.629 L1775.07 825.629 L1775.07 821.694 Z\" fill=\"#000000\" fill-rule=\"evenodd\" fill-opacity=\"1\" /><path clip-path=\"url(#clip940)\" d=\"M 0 0 M1813.84 834.587 L1830.16 834.587 L1830.16 838.522 L1808.21 838.522 L1808.21 834.587 Q1810.88 831.833 1815.46 827.203 Q1820.07 822.55 1821.25 821.208 Q1823.49 818.684 1824.37 816.948 Q1825.27 815.189 1825.27 813.499 Q1825.27 810.745 1823.33 809.009 Q1821.41 807.273 1818.31 807.273 Q1816.11 807.273 1813.65 808.036 Q1811.22 808.8 1808.45 810.351 L1808.45 805.629 Q1811.27 804.495 1813.72 803.916 Q1816.18 803.337 1818.21 803.337 Q1823.58 803.337 1826.78 806.023 Q1829.97 808.708 1829.97 813.198 Q1829.97 815.328 1829.16 817.249 Q1828.38 819.147 1826.27 821.74 Q1825.69 822.411 1822.59 825.629 Q1819.49 828.823 1813.84 834.587 Z\" fill=\"#000000\" fill-rule=\"evenodd\" fill-opacity=\"1\" /><path clip-path=\"url(#clip940)\" d=\"M 0 0 M1813.84 338.434 L1830.16 338.434 L1830.16 342.37 L1808.21 342.37 L1808.21 338.434 Q1810.88 335.68 1815.46 331.05 Q1820.07 326.397 1821.25 325.055 Q1823.49 322.532 1824.37 320.796 Q1825.27 319.036 1825.27 317.347 Q1825.27 314.592 1823.33 312.856 Q1821.41 311.12 1818.31 311.12 Q1816.11 311.12 1813.65 311.884 Q1811.22 312.648 1808.45 314.198 L1808.45 309.476 Q1811.27 308.342 1813.72 307.763 Q1816.18 307.185 1818.21 307.185 Q1823.58 307.185 1826.78 309.87 Q1829.97 312.555 1829.97 317.046 Q1829.97 319.175 1829.16 321.097 Q1828.38 322.995 1826.27 325.587 Q1825.69 326.259 1822.59 329.476 Q1819.49 332.671 1813.84 338.434 Z\" fill=\"#000000\" fill-rule=\"evenodd\" fill-opacity=\"1\" /><path clip-path=\"url(#clip940)\" d=\"M 0 0 M1820.57 63.8073 L1808.77 82.2563 L1820.57 82.2563 L1820.57 63.8073 M1819.35 59.7333 L1825.23 59.7333 L1825.23 82.2563 L1830.16 82.2563 L1830.16 86.1452 L1825.23 86.1452 L1825.23 94.2933 L1820.57 94.2933 L1820.57 86.1452 L1804.97 86.1452 L1804.97 81.6313 L1819.35 59.7333 Z\" fill=\"#000000\" fill-rule=\"evenodd\" fill-opacity=\"1\" /><path clip-path=\"url(#clip940)\" d=\"M 0 0 M1210.6 606.681 L1215.47 606.681 L1215.47 612.283 Q1215.47 615.434 1216.75 616.676 Q1218.02 617.885 1221.33 617.885 L1224.48 617.885 L1224.48 608.241 L1229.03 608.241 L1229.03 617.885 L1260.13 617.885 L1260.13 623.773 L1229.03 623.773 L1229.03 629.375 L1224.48 629.375 L1224.48 623.773 L1222 623.773 Q1216.05 623.773 1213.34 621.004 Q1210.6 618.235 1210.6 612.22 L1210.6 606.681 Z\" fill=\"#000000\" fill-rule=\"evenodd\" fill-opacity=\"1\" /><path clip-path=\"url(#clip940)\" d=\"M 0 0 M1224.48 605.408 L1212.61 599.902 L1212.61 593.441 L1224.48 602.639 L1224.48 605.408 Z\" fill=\"#000000\" fill-rule=\"evenodd\" fill-opacity=\"1\" /><path clip-path=\"url(#clip940)\" d=\"M 0 0 M1210.67 573.23 Q1217.99 577.495 1225.15 579.564 Q1232.31 581.632 1239.66 581.632 Q1247.02 581.632 1254.24 579.564 Q1261.43 577.463 1268.72 573.23 L1268.72 578.322 Q1261.24 583.096 1254.02 585.484 Q1246.79 587.839 1239.66 587.839 Q1232.57 587.839 1225.37 585.484 Q1218.18 583.128 1210.67 578.322 L1210.67 573.23 Z\" fill=\"#000000\" fill-rule=\"evenodd\" fill-opacity=\"1\" /><path clip-path=\"url(#clip940)\" d=\"M 0 0 M1224.48 537.454 L1241.83 550.345 L1260.13 536.786 L1260.13 543.693 L1246.12 554.069 L1260.13 564.445 L1260.13 571.352 L1241.48 557.506 L1224.48 570.174 L1224.48 563.267 L1237.18 553.814 L1224.48 544.361 L1224.48 537.454 Z\" fill=\"#000000\" fill-rule=\"evenodd\" fill-opacity=\"1\" /><path clip-path=\"url(#clip940)\" d=\"M 0 0 M1210.67 531.566 L1210.67 526.474 Q1218.18 521.699 1225.37 519.344 Q1232.57 516.957 1239.66 516.957 Q1246.79 516.957 1254.02 519.344 Q1261.24 521.699 1268.72 526.474 L1268.72 531.566 Q1261.43 527.333 1254.24 525.264 Q1247.02 523.163 1239.66 523.163 Q1232.31 523.163 1225.15 525.264 Q1217.99 527.333 1210.67 531.566 Z\" fill=\"#000000\" fill-rule=\"evenodd\" fill-opacity=\"1\" /><polyline clip-path=\"url(#clip943)\" style=\"stroke:#ff0000; stroke-width:4; stroke-opacity:1; fill:none\" stroke-dasharray=\"16, 10\" points=\"\n",
       "  1407.1,1069.32 1430.06,1044.51 1453.01,1019.7 1475.96,994.896 1498.91,970.088 1521.87,945.281 1544.82,920.473 1567.77,895.665 1590.73,870.858 1613.68,846.05 \n",
       "  1636.63,821.242 1659.58,796.435 1682.54,771.627 1705.49,746.819 1728.44,722.012 1751.39,697.204 1774.35,672.397 1797.3,647.589 1820.25,622.781 1843.21,597.974 \n",
       "  1866.16,573.166 1889.11,548.358 1912.06,523.551 1935.02,498.743 1957.97,473.935 1980.92,449.128 2003.87,424.32 2026.83,399.513 2049.78,374.705 2072.73,349.897 \n",
       "  2095.69,325.09 2118.64,300.282 2141.59,275.474 2164.54,250.667 2187.5,225.859 2210.45,201.051 2233.4,176.244 2256.35,151.436 2279.31,126.629 2302.26,101.821 \n",
       "  2325.21,77.0133 \n",
       "  \"/>\n",
       "</svg>\n"
      ]
     },
     "execution_count": 83,
     "metadata": {},
     "output_type": "execute_result"
    }
   ],
   "source": [
    "graph_f_and_derivative(lf:.1:rt, f(x), lf:rt, \"f(x)\", format=:dual)"
   ]
  },
  {
   "cell_type": "markdown",
   "metadata": {},
   "source": [
    "### Integration\n",
    "\n",
    "<a id='integrate_cell'></a>\n",
    "We can integrate functions as well:<br>\n",
    "$\\int f(x) dx = F(x)$\n",
    "using the `integrate` command.\n",
    "But note that it does not add the constant of integration:\n",
    "$$\\int x^2 dx = \\dfrac{x^3}{3} + C.$$"
   ]
  },
  {
   "cell_type": "code",
   "execution_count": 3,
   "metadata": {},
   "outputs": [
    {
     "data": {
      "text/latex": [
       "\\begin{equation*}C\\end{equation*}"
      ],
      "text/plain": [
       "C"
      ]
     },
     "execution_count": 3,
     "metadata": {},
     "output_type": "execute_result"
    }
   ],
   "source": [
    "C = Sym(\"C\")"
   ]
  },
  {
   "cell_type": "code",
   "execution_count": 71,
   "metadata": {},
   "outputs": [
    {
     "data": {
      "text/latex": [
       "\\begin{equation*}C + \\frac{x^{3}}{3}\\end{equation*}"
      ],
      "text/plain": [
       "     3\n",
       "    x \n",
       "C + --\n",
       "    3 "
      ]
     },
     "execution_count": 71,
     "metadata": {},
     "output_type": "execute_result"
    }
   ],
   "source": [
    "f(x) = x^2\n",
    "F = integrate(f(x), x)+C"
   ]
  },
  {
   "cell_type": "code",
   "execution_count": 72,
   "metadata": {},
   "outputs": [
    {
     "data": {
      "text/latex": [
       "\\begin{equation*}\\frac{x^{3}}{3} + 2\\end{equation*}"
      ],
      "text/plain": [
       " 3    \n",
       "x     \n",
       "-- + 2\n",
       "3     "
      ]
     },
     "execution_count": 72,
     "metadata": {},
     "output_type": "execute_result"
    }
   ],
   "source": [
    "F(2)"
   ]
  },
  {
   "cell_type": "markdown",
   "metadata": {},
   "source": [
    "Definite integration:<br>\n",
    "$\\int_a^b f(x) dx$"
   ]
  },
  {
   "cell_type": "code",
   "execution_count": 85,
   "metadata": {},
   "outputs": [
    {
     "data": {
      "text/latex": [
       "\\begin{equation*}\\frac{8}{3}\\end{equation*}"
      ],
      "text/plain": [
       "8/3"
      ]
     },
     "execution_count": 85,
     "metadata": {},
     "output_type": "execute_result"
    }
   ],
   "source": [
    "integrate(f(x), (x,0,2))"
   ]
  },
  {
   "cell_type": "markdown",
   "metadata": {},
   "source": [
    "# Experimental stuff below:"
   ]
  },
  {
   "cell_type": "markdown",
   "metadata": {},
   "source": [
    "Solve system of equs."
   ]
  },
  {
   "cell_type": "code",
   "execution_count": 86,
   "metadata": {},
   "outputs": [
    {
     "data": {
      "text/plain": [
       "Dict{Any,Any} with 3 entries:\n",
       "  x => 10/3\n",
       "  y => -35/3\n",
       "  z => 25/3"
      ]
     },
     "execution_count": 86,
     "metadata": {},
     "output_type": "execute_result"
    }
   ],
   "source": [
    "y = Sym(\"y\")\n",
    "z = Sym(\"z\")\n",
    "eq1 = Eq(x+y+z,0)\n",
    "eq2 = Eq(2x-y-z,10)\n",
    "eq3 = Eq(y+2z,5)\n",
    "solve([eq1, eq2, eq3], [x,y,z])"
   ]
  },
  {
   "cell_type": "markdown",
   "metadata": {},
   "source": [
    "Solve ode: Might make new function to make easier to use."
   ]
  },
  {
   "cell_type": "code",
   "execution_count": 65,
   "metadata": {},
   "outputs": [
    {
     "data": {
      "text/latex": [
       "\\begin{equation*}\\operatorname{f̂}{\\left(x \\right)} = C_{1} + x \\sin{\\left(x \\right)} + \\cos{\\left(x \\right)}\\end{equation*}"
      ],
      "text/plain": [
       "f̂(x) = C1 + x*sin(x) + cos(x)"
      ]
     },
     "execution_count": 65,
     "metadata": {},
     "output_type": "execute_result"
    }
   ],
   "source": [
    "f̂ = sympy.Function(\"f̂\")\n",
    "y = dsolve(sympy.Derivative(f̂(x),x)-x*cos(x), f̂(x))"
   ]
  },
  {
   "cell_type": "code",
   "execution_count": 66,
   "metadata": {},
   "outputs": [
    {
     "data": {
      "text/latex": [
       "\\begin{equation*}\\operatorname{f̂}{\\left(\\pi \\right)} = C_{1} - 1\\end{equation*}"
      ],
      "text/plain": [
       "f̂(pi) = C1 - 1"
      ]
     },
     "execution_count": 66,
     "metadata": {},
     "output_type": "execute_result"
    }
   ],
   "source": [
    "subs(y, x, pi)"
   ]
  },
  {
   "cell_type": "code",
   "execution_count": 68,
   "metadata": {},
   "outputs": [
    {
     "data": {
      "text/latex": [
       "\\begin{equation*}\\operatorname{f̂}{\\left(x \\right)}\\end{equation*}"
      ],
      "text/plain": [
       "f̂(x)"
      ]
     },
     "execution_count": 68,
     "metadata": {},
     "output_type": "execute_result"
    }
   ],
   "source": [
    "dsolve(sympy.Derivative(f̂(x),x)-x*cos(x), f̂(x))\n",
    "f̂(x)"
   ]
  },
  {
   "cell_type": "code",
   "execution_count": null,
   "metadata": {},
   "outputs": [],
   "source": []
  }
 ],
 "metadata": {
  "@webio": {
   "lastCommId": null,
   "lastKernelId": null
  },
  "kernelspec": {
   "display_name": "Julia 1.5.0",
   "language": "julia",
   "name": "julia-1.5"
  },
  "language_info": {
   "file_extension": ".jl",
   "mimetype": "application/julia",
   "name": "julia",
   "version": "1.5.0"
  }
 },
 "nbformat": 4,
 "nbformat_minor": 4
}
