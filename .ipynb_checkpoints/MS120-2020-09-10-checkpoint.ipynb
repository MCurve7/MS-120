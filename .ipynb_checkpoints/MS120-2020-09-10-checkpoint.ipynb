{
 "cells": [
  {
   "cell_type": "markdown",
   "metadata": {},
   "source": [
    "# MS 120 Lecture 2020-09-10"
   ]
  },
  {
   "cell_type": "code",
   "execution_count": null,
   "metadata": {},
   "outputs": [],
   "source": [
    "include(\"JSUMS120.jl\")"
   ]
  },
  {
   "cell_type": "code",
   "execution_count": null,
   "metadata": {},
   "outputs": [],
   "source": [
    "r(x) = (x+1)/(x-3)\n",
    "#r(x) = x^3\n",
    "lf = -3\n",
    "rt = 4\n",
    "s = signchart(r(x), [lf,rt], \"r\", tickfontsize=20);\n",
    "\n",
    "p = functionplot(lf:.1:rt, r(x), lf:rt, \"r(x)\")\n",
    "p;\n",
    "\n",
    "q(x) = (x - 1)*(x - 3)*(x - 5)*(x - 7)\n",
    "plot_function_sign_chart(q(x), (0,9), 0:9, labels = [\"q\", \"q′\", \"q′′\"]);\n",
    "\n",
    "f(x) = x^2*(x-2)\n",
    "summary(f(x), [-3,3], \"(-∞,∞)\", [\"f\", \"f′\", \"f′′\"], 400);\n",
    "\n",
    "f̅(x) = x^2; #f\\overbar + TAB\n",
    "limittable(f̅(x), 2, rows=3);"
   ]
  },
  {
   "cell_type": "markdown",
   "metadata": {},
   "source": [
    "# The above was run to complie the code before class began."
   ]
  },
  {
   "cell_type": "code",
   "execution_count": 3,
   "metadata": {},
   "outputs": [
    {
     "data": {
      "text/plain": [
       "f (generic function with 1 method)"
      ]
     },
     "execution_count": 3,
     "metadata": {},
     "output_type": "execute_result"
    }
   ],
   "source": []
  },
  {
   "cell_type": "code",
   "execution_count": null,
   "metadata": {},
   "outputs": [],
   "source": [
    "f(x) = x^2"
   ]
  },
  {
   "cell_type": "code",
   "execution_count": null,
   "metadata": {},
   "outputs": [],
   "source": [
    "lf = -2\n",
    "rt = 2\n",
    "graph_f_and_derivative(lf:.1:rt, f(x), lf:rt, \"f(x)\")"
   ]
  },
  {
   "cell_type": "code",
   "execution_count": null,
   "metadata": {},
   "outputs": [],
   "source": [
    "lf = -2\n",
    "rt = 2\n",
    "\n",
    "#f(x) = x^2-1\n",
    "#f(x) = (x+1)*(x-1)*(x-3)\n",
    "#f(x) = exp(x)\n",
    "\n",
    "lf = 0\n",
    "f(x) = sqrt(x)\n",
    "\n",
    "#f(x) = 1/(1+exp(-x))\n",
    "#f(x) = atan(x)\n",
    "#f(x) = erf(x)"
   ]
  }
 ],
 "metadata": {
  "@webio": {
   "lastCommId": null,
   "lastKernelId": null
  },
  "kernelspec": {
   "display_name": "Julia 1.5.0",
   "language": "julia",
   "name": "julia-1.5"
  },
  "language_info": {
   "file_extension": ".jl",
   "mimetype": "application/julia",
   "name": "julia",
   "version": "1.5.0"
  }
 },
 "nbformat": 4,
 "nbformat_minor": 4
}
